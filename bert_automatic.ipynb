{
 "cells": [
  {
   "cell_type": "markdown",
   "id": "e180ebcf-4a52-447e-b9c8-0b4a97b6ed39",
   "metadata": {},
   "source": [
    "# Practical classification with pre-trained BERT\n",
    "\n",
    "In this notebook I download pre-trained BERT model and fine-tune it with high-level HuggingFace tools.\n",
    "\n",
    "There is another notebook, doing the same with lower-level PyTorch tools only.\n",
    "\n",
    "## References:\n",
    "* https://huggingface.co/course/chapter3/4?fw=pt - HuggingFace transformers course reference"
   ]
  },
  {
   "cell_type": "code",
   "execution_count": null,
   "id": "b0ba3193-2e9a-456a-9f01-bc83f92895f7",
   "metadata": {},
   "outputs": [],
   "source": [
    "# minimal example of using a pre-trained model for classification\n",
    "import torch\n",
    "from transformers import AutoTokenizer, AutoModelForSequenceClassification\n",
    "\n",
    "\n",
    "checkpoint = \"bert-base-uncased\"\n",
    "tokenizer = AutoTokenizer.from_pretrained(checkpoint)\n",
    "model = AutoModelForSequenceClassification.from_pretrained(checkpoint)\n",
    "sequences = [\"I've been waiting for a HuggingFace course my whole life.\", \"So have I!\"]\n",
    "\n",
    "tokens = tokenizer(sequences, padding=True, truncation=True, return_tensors=\"pt\")\n",
    "output = model(**tokens)\n",
    "\n",
    "torch.nn.functional.softmax(output.logits, dim=1)"
   ]
  },
  {
   "cell_type": "code",
   "execution_count": 1,
   "id": "7e31ccf8-0fb6-4986-af3a-58dfc755889c",
   "metadata": {},
   "outputs": [
    {
     "data": {
      "text/html": [
       "<div>\n",
       "<style scoped>\n",
       "    .dataframe tbody tr th:only-of-type {\n",
       "        vertical-align: middle;\n",
       "    }\n",
       "\n",
       "    .dataframe tbody tr th {\n",
       "        vertical-align: top;\n",
       "    }\n",
       "\n",
       "    .dataframe thead th {\n",
       "        text-align: right;\n",
       "    }\n",
       "</style>\n",
       "<table border=\"1\" class=\"dataframe\">\n",
       "  <thead>\n",
       "    <tr style=\"text-align: right;\">\n",
       "      <th></th>\n",
       "      <th>#AUTHID</th>\n",
       "      <th>TEXT</th>\n",
       "      <th>cEXT</th>\n",
       "      <th>cNEU</th>\n",
       "      <th>cAGR</th>\n",
       "      <th>cCON</th>\n",
       "      <th>cOPN</th>\n",
       "    </tr>\n",
       "  </thead>\n",
       "  <tbody>\n",
       "    <tr>\n",
       "      <th>0</th>\n",
       "      <td>1997_504851.txt</td>\n",
       "      <td>Well, right now I just woke up from a mid-day ...</td>\n",
       "      <td>0</td>\n",
       "      <td>1</td>\n",
       "      <td>1</td>\n",
       "      <td>0</td>\n",
       "      <td>1</td>\n",
       "    </tr>\n",
       "    <tr>\n",
       "      <th>1</th>\n",
       "      <td>1997_605191.txt</td>\n",
       "      <td>Well, here we go with the stream of consciousn...</td>\n",
       "      <td>0</td>\n",
       "      <td>0</td>\n",
       "      <td>1</td>\n",
       "      <td>0</td>\n",
       "      <td>0</td>\n",
       "    </tr>\n",
       "    <tr>\n",
       "      <th>2</th>\n",
       "      <td>1997_687252.txt</td>\n",
       "      <td>An open keyboard and buttons to push. The thin...</td>\n",
       "      <td>0</td>\n",
       "      <td>1</td>\n",
       "      <td>0</td>\n",
       "      <td>1</td>\n",
       "      <td>1</td>\n",
       "    </tr>\n",
       "    <tr>\n",
       "      <th>3</th>\n",
       "      <td>1997_568848.txt</td>\n",
       "      <td>I can't believe it!  It's really happening!  M...</td>\n",
       "      <td>1</td>\n",
       "      <td>0</td>\n",
       "      <td>1</td>\n",
       "      <td>1</td>\n",
       "      <td>0</td>\n",
       "    </tr>\n",
       "    <tr>\n",
       "      <th>4</th>\n",
       "      <td>1997_688160.txt</td>\n",
       "      <td>Well, here I go with the good old stream of co...</td>\n",
       "      <td>1</td>\n",
       "      <td>0</td>\n",
       "      <td>1</td>\n",
       "      <td>0</td>\n",
       "      <td>1</td>\n",
       "    </tr>\n",
       "    <tr>\n",
       "      <th>...</th>\n",
       "      <td>...</td>\n",
       "      <td>...</td>\n",
       "      <td>...</td>\n",
       "      <td>...</td>\n",
       "      <td>...</td>\n",
       "      <td>...</td>\n",
       "      <td>...</td>\n",
       "    </tr>\n",
       "    <tr>\n",
       "      <th>2462</th>\n",
       "      <td>2004_493.txt</td>\n",
       "      <td>I'm home. wanted to go to bed but remembe...</td>\n",
       "      <td>0</td>\n",
       "      <td>1</td>\n",
       "      <td>0</td>\n",
       "      <td>1</td>\n",
       "      <td>0</td>\n",
       "    </tr>\n",
       "    <tr>\n",
       "      <th>2463</th>\n",
       "      <td>2004_494.txt</td>\n",
       "      <td>Stream of consiousnesssskdj. How do you s...</td>\n",
       "      <td>1</td>\n",
       "      <td>1</td>\n",
       "      <td>0</td>\n",
       "      <td>0</td>\n",
       "      <td>1</td>\n",
       "    </tr>\n",
       "    <tr>\n",
       "      <th>2464</th>\n",
       "      <td>2004_497.txt</td>\n",
       "      <td>It is Wednesday, December 8th and a lot has be...</td>\n",
       "      <td>0</td>\n",
       "      <td>0</td>\n",
       "      <td>1</td>\n",
       "      <td>0</td>\n",
       "      <td>0</td>\n",
       "    </tr>\n",
       "    <tr>\n",
       "      <th>2465</th>\n",
       "      <td>2004_498.txt</td>\n",
       "      <td>Man this week has been hellish. Anyways, now i...</td>\n",
       "      <td>0</td>\n",
       "      <td>1</td>\n",
       "      <td>0</td>\n",
       "      <td>0</td>\n",
       "      <td>1</td>\n",
       "    </tr>\n",
       "    <tr>\n",
       "      <th>2466</th>\n",
       "      <td>2004_499.txt</td>\n",
       "      <td>I have just gotten off the phone with brady. I...</td>\n",
       "      <td>0</td>\n",
       "      <td>1</td>\n",
       "      <td>1</td>\n",
       "      <td>0</td>\n",
       "      <td>1</td>\n",
       "    </tr>\n",
       "  </tbody>\n",
       "</table>\n",
       "<p>2467 rows × 7 columns</p>\n",
       "</div>"
      ],
      "text/plain": [
       "              #AUTHID                                               TEXT cEXT  \\\n",
       "0     1997_504851.txt  Well, right now I just woke up from a mid-day ...    0   \n",
       "1     1997_605191.txt  Well, here we go with the stream of consciousn...    0   \n",
       "2     1997_687252.txt  An open keyboard and buttons to push. The thin...    0   \n",
       "3     1997_568848.txt  I can't believe it!  It's really happening!  M...    1   \n",
       "4     1997_688160.txt  Well, here I go with the good old stream of co...    1   \n",
       "...               ...                                                ...  ...   \n",
       "2462     2004_493.txt       I'm home. wanted to go to bed but remembe...    0   \n",
       "2463     2004_494.txt       Stream of consiousnesssskdj. How do you s...    1   \n",
       "2464     2004_497.txt  It is Wednesday, December 8th and a lot has be...    0   \n",
       "2465     2004_498.txt  Man this week has been hellish. Anyways, now i...    0   \n",
       "2466     2004_499.txt  I have just gotten off the phone with brady. I...    0   \n",
       "\n",
       "     cNEU cAGR cCON cOPN  \n",
       "0       1    1    0    1  \n",
       "1       0    1    0    0  \n",
       "2       1    0    1    1  \n",
       "3       0    1    1    0  \n",
       "4       0    1    0    1  \n",
       "...   ...  ...  ...  ...  \n",
       "2462    1    0    1    0  \n",
       "2463    1    0    0    1  \n",
       "2464    0    1    0    0  \n",
       "2465    1    0    0    1  \n",
       "2466    1    1    0    1  \n",
       "\n",
       "[2467 rows x 7 columns]"
      ]
     },
     "execution_count": 1,
     "metadata": {},
     "output_type": "execute_result"
    }
   ],
   "source": [
    "import pandas as pd\n",
    "\n",
    "\n",
    "essays = pd.read_csv(\"./data/essays.csv\")\n",
    "\n",
    "essays.loc[essays['cEXT'] == 'n', 'cEXT'] = 0\n",
    "essays.loc[essays['cEXT'] == 'y', 'cEXT'] = 1\n",
    "\n",
    "essays.loc[essays['cNEU'] == 'n', 'cNEU'] = 0\n",
    "essays.loc[essays['cNEU'] == 'y', 'cNEU'] = 1\n",
    "\n",
    "essays.loc[essays['cAGR'] == 'n', 'cAGR'] = 0\n",
    "essays.loc[essays['cAGR'] == 'y', 'cAGR'] = 1\n",
    "\n",
    "essays.loc[essays['cCON'] == 'n', 'cCON'] = 0\n",
    "essays.loc[essays['cCON'] == 'y', 'cCON'] = 1\n",
    "\n",
    "essays.loc[essays['cOPN'] == 'n', 'cOPN'] = 0\n",
    "essays.loc[essays['cOPN'] == 'y', 'cOPN'] = 1\n",
    "\n",
    "essays.astype({'cEXT': 'int32', 'cNEU': 'int32', 'cAGR': 'int32', 'cCON': 'int32', 'cOPN': 'int32'}).dtypes\n",
    "\n",
    "essays"
   ]
  },
  {
   "cell_type": "code",
   "execution_count": 2,
   "id": "e6f278b6-6155-44e4-a4a5-9e153c68d7c3",
   "metadata": {},
   "outputs": [
    {
     "name": "stderr",
     "output_type": "stream",
     "text": [
      "/Users/burkov/Documents/Projects/personal/text2personality/venv/lib/python3.9/site-packages/tqdm/auto.py:22: TqdmWarning: IProgress not found. Please update jupyter and ipywidgets. See https://ipywidgets.readthedocs.io/en/stable/user_install.html\n",
      "  from .autonotebook import tqdm as notebook_tqdm\n",
      "100%|█████████████████████████████████████████████████| 309/309 [00:01<00:00, 236.43ba/s]"
     ]
    },
    {
     "name": "stdout",
     "output_type": "stream",
     "text": [
      "[101, 2157, 2085, 1045, 2572, 1999, 2026, 19568, 2282, 13400, 2013, 4280, 1998, 8225, 2005, 2019, 3944, 3561, 3262, 2007, 5702, 1012, 2026, 5551, 2024, 4909, 1996, 6919, 4165, 1997, 2990, 3779, 1010, 2990, 7361, 3771, 3401, 1004, 4913, 12351, 1010, 1998, 2036, 8292, 18622, 4542, 1006, 1037, 3409, 5297, 4438, 1007, 1012, 1045, 2064, 2025, 2360, 2008, 1045, 2572, 19773, 2505, 3391, 2138, 2026, 8254, 25581, 2024, 3772, 2039, 2044, 1037, 2208, 1997, 4715, 2197, 2305, 1012, 1045, 3984, 2045, 2003, 2074, 2242, 2055, 1996, 5568, 2091, 2011, 1996, 6053, 3501, 23497, 2008, 8769, 2039, 2026, 2010, 15464, 10586, 1012, 1045, 2572, 3110, 1037, 2210, 11480, 1998, 13233, 2157, 2085, 1012, 1045, 8271, 2039, 2012, 2184, 1024, 4002, 2023, 2851, 2074, 2004, 2026, 2034, 2465, 2001, 3225, 1012, 2023, 2465, 2003, 2235, 1998, 2200, 2172, 5270, 2241, 1010, 2061, 1045, 2071, 2025, 3432, 13558, 2009, 1012, 1045, 2018, 2000, 5481, 2041, 1996, 2341, 1998, 1045, 2903, 2008, 2023, 5481, 2038, 3303, 2033, 2000, 2514, 2004, 2295, 1999, 2679, 2035, 2154, 1012, 1996, 6911, 3310, 2013, 1996, 13720, 2000, 3926, 1037, 2622, 2005, 2008, 2465, 2004, 1037, 2765, 1997, 2026, 15849, 10559, 4691, 1012, 1045, 2113, 1996, 2934, 2001, 2025, 7098, 1998, 1045, 2572, 4452, 2026, 3694, 2097, 9015, 2004, 1037, 2765, 1012, 1045, 2215, 2000, 2562, 2026, 7022, 2039, 2061, 2008, 1045, 2097, 2022, 2583, 2000, 4089, 4651, 2000, 2151, 2082, 2138, 2157, 2085, 1045, 2079, 2025, 2903, 2008, 1045, 2097, 2022, 2583, 2000, 3013, 2009, 2005, 1019, 2086, 1999, 4294, 2082, 1012, 2005, 2085, 1045, 2572, 5462, 2000, 5131, 2023, 13609, 1998, 23208, 2477, 2013, 2045, 1012, 2026, 2568, 2074, 13289, 2067, 2000, 6825, 2465, 2651, 1012, 2852, 1012, 9502, 15878, 22626, 2428, 18748, 2033, 2043, 2002, 4081, 2008, 2028, 1997, 1996, 4602, 8135, 1997, 2035, 2051, 1998, 2008, 21244, 1998, 4676, 2024, 2035, 9861, 2015, 1998, 9530, 26949, 2039, 2011, 2256, 15850, 24423, 1012, 2002, 2056, 2008, 2703, 2387, 1037, 4432, 1997, 4828, 2044, 2002, 3062, 2006, 1996, 2346, 2000, 16094, 2138, 2002, 2763, 2718, 2030, 5591, 2010, 15850, 21833, 1012, 2092, 2703, 2387, 1037, 19709, 2422, 2008, 3303, 2032, 2000, 2991, 1998, 9707, 2002, 2001, 6397, 1010, 2029, 2052, 2025, 2022, 3303, 2011, 4053, 2000, 1996, 15850, 21833, 1012, 7297, 1010, 2060, 2111, 2018, 2363, 12018, 1997, 2054, 2001, 2000, 4148, 1998, 2000, 4374, 2703, 2046, 2037, 5014, 2004, 1037, 2765, 1997, 1996, 2824, 1012, 2045, 1045, 1005, 2310, 2056, 2026, 3538, 1012, 1045, 2074, 3651, 2008, 1996, 2189, 1045, 1005, 1049, 5962, 2000, 3084, 2033, 3335, 2026, 2814, 1012, 2028, 2003, 2170, 3531, 2272, 2000, 3731, 1998, 2009, 7566, 2055, 2667, 2131, 2362, 2007, 2214, 2814, 2004, 2023, 2711, 2003, 3048, 2006, 2007, 2037, 2219, 2166, 1012, 2009, 2038, 1996, 2168, 3466, 2006, 2033, 1012, 1045, 2215, 2026, 2814, 2000, 2272, 3942, 2033, 2006, 3721, 1010, 2021, 2005, 2070, 3114, 2009, 2052, 2514, 2066, 1037, 3357, 2067, 2005, 2033, 2000, 2175, 3942, 2068, 1012, 1996, 2060, 2299, 2003, 2028, 2013, 1996, 3017, 2621, 3409, 1045, 2499, 2012, 2005, 1996, 2627, 2093, 10945, 1012, 2009, 2074, 3138, 102]\n"
     ]
    },
    {
     "name": "stderr",
     "output_type": "stream",
     "text": [
      "\n"
     ]
    }
   ],
   "source": [
    "import torch\n",
    "from torch.utils.data import DataLoader, random_split, default_convert\n",
    "from transformers import AdamW, AutoTokenizer, BertForSequenceClassification\n",
    "from datasets import Dataset, DatasetDict\n",
    "\n",
    "\n",
    "# prepare dataset\n",
    "tokenizer = AutoTokenizer.from_pretrained(\"bert-base-uncased\")\n",
    "\n",
    "def tokenize_function(essays):\n",
    "    return tokenizer(essays[\"TEXT\"], padding=\"max_length\", truncation=True)  # , return_tensors=\"pt\")\n",
    "\n",
    "essays_dataset = Dataset.from_pandas(essays)\n",
    "tokenized_dataset = essays_dataset.map(tokenize_function, batched=True, batch_size=8)\n",
    "tokenized_dataset = tokenized_dataset.rename_column(\"TEXT\", \"text\")\n",
    "tokenized_dataset = tokenized_dataset.rename_column(\"cNEU\", \"labels\")\n",
    "tokenized_dataset = tokenized_dataset.remove_columns(['#AUTHID', 'text', 'cEXT', 'cAGR', 'cCON', 'cOPN'])\n",
    "\n",
    "train_dataset, validation_dataset = random_split(tokenized_dataset, [2000, len(tokenized_dataset) - 2000])\n",
    "\n",
    "ds = DatasetDict()\n",
    "ds['train'] = train_dataset\n",
    "ds['validation'] = validation_dataset\n",
    "\n",
    "# vocab = tokenizer.get_vocab()\n",
    "# ivocab = {v: k for k, v in vocab.items()}\n",
    "print(ds['train'][0]['input_ids'])\n",
    "\n",
    "train_dataloader = DataLoader(ds['train'], shuffle=True, batch_size=8)"
   ]
  },
  {
   "cell_type": "code",
   "execution_count": 3,
   "id": "87512d6c-0a7a-4f62-90fb-0885c5aaa1e6",
   "metadata": {},
   "outputs": [
    {
     "name": "stderr",
     "output_type": "stream",
     "text": [
      "Some weights of the model checkpoint at bert-base-uncased were not used when initializing BertForSequenceClassification: ['cls.predictions.transform.dense.bias', 'cls.predictions.bias', 'cls.predictions.decoder.weight', 'cls.predictions.transform.dense.weight', 'cls.seq_relationship.weight', 'cls.predictions.transform.LayerNorm.weight', 'cls.seq_relationship.bias', 'cls.predictions.transform.LayerNorm.bias']\n",
      "- This IS expected if you are initializing BertForSequenceClassification from the checkpoint of a model trained on another task or with another architecture (e.g. initializing a BertForSequenceClassification model from a BertForPreTraining model).\n",
      "- This IS NOT expected if you are initializing BertForSequenceClassification from the checkpoint of a model that you expect to be exactly identical (initializing a BertForSequenceClassification model from a BertForSequenceClassification model).\n",
      "Some weights of BertForSequenceClassification were not initialized from the model checkpoint at bert-base-uncased and are newly initialized: ['classifier.bias', 'classifier.weight']\n",
      "You should probably TRAIN this model on a down-stream task to be able to use it for predictions and inference.\n"
     ]
    },
    {
     "data": {
      "text/plain": [
       "BertForSequenceClassification(\n",
       "  (bert): BertModel(\n",
       "    (embeddings): BertEmbeddings(\n",
       "      (word_embeddings): Embedding(30522, 768, padding_idx=0)\n",
       "      (position_embeddings): Embedding(512, 768)\n",
       "      (token_type_embeddings): Embedding(2, 768)\n",
       "      (LayerNorm): LayerNorm((768,), eps=1e-12, elementwise_affine=True)\n",
       "      (dropout): Dropout(p=0.1, inplace=False)\n",
       "    )\n",
       "    (encoder): BertEncoder(\n",
       "      (layer): ModuleList(\n",
       "        (0): BertLayer(\n",
       "          (attention): BertAttention(\n",
       "            (self): BertSelfAttention(\n",
       "              (query): Linear(in_features=768, out_features=768, bias=True)\n",
       "              (key): Linear(in_features=768, out_features=768, bias=True)\n",
       "              (value): Linear(in_features=768, out_features=768, bias=True)\n",
       "              (dropout): Dropout(p=0.1, inplace=False)\n",
       "            )\n",
       "            (output): BertSelfOutput(\n",
       "              (dense): Linear(in_features=768, out_features=768, bias=True)\n",
       "              (LayerNorm): LayerNorm((768,), eps=1e-12, elementwise_affine=True)\n",
       "              (dropout): Dropout(p=0.1, inplace=False)\n",
       "            )\n",
       "          )\n",
       "          (intermediate): BertIntermediate(\n",
       "            (dense): Linear(in_features=768, out_features=3072, bias=True)\n",
       "            (intermediate_act_fn): GELUActivation()\n",
       "          )\n",
       "          (output): BertOutput(\n",
       "            (dense): Linear(in_features=3072, out_features=768, bias=True)\n",
       "            (LayerNorm): LayerNorm((768,), eps=1e-12, elementwise_affine=True)\n",
       "            (dropout): Dropout(p=0.1, inplace=False)\n",
       "          )\n",
       "        )\n",
       "        (1): BertLayer(\n",
       "          (attention): BertAttention(\n",
       "            (self): BertSelfAttention(\n",
       "              (query): Linear(in_features=768, out_features=768, bias=True)\n",
       "              (key): Linear(in_features=768, out_features=768, bias=True)\n",
       "              (value): Linear(in_features=768, out_features=768, bias=True)\n",
       "              (dropout): Dropout(p=0.1, inplace=False)\n",
       "            )\n",
       "            (output): BertSelfOutput(\n",
       "              (dense): Linear(in_features=768, out_features=768, bias=True)\n",
       "              (LayerNorm): LayerNorm((768,), eps=1e-12, elementwise_affine=True)\n",
       "              (dropout): Dropout(p=0.1, inplace=False)\n",
       "            )\n",
       "          )\n",
       "          (intermediate): BertIntermediate(\n",
       "            (dense): Linear(in_features=768, out_features=3072, bias=True)\n",
       "            (intermediate_act_fn): GELUActivation()\n",
       "          )\n",
       "          (output): BertOutput(\n",
       "            (dense): Linear(in_features=3072, out_features=768, bias=True)\n",
       "            (LayerNorm): LayerNorm((768,), eps=1e-12, elementwise_affine=True)\n",
       "            (dropout): Dropout(p=0.1, inplace=False)\n",
       "          )\n",
       "        )\n",
       "        (2): BertLayer(\n",
       "          (attention): BertAttention(\n",
       "            (self): BertSelfAttention(\n",
       "              (query): Linear(in_features=768, out_features=768, bias=True)\n",
       "              (key): Linear(in_features=768, out_features=768, bias=True)\n",
       "              (value): Linear(in_features=768, out_features=768, bias=True)\n",
       "              (dropout): Dropout(p=0.1, inplace=False)\n",
       "            )\n",
       "            (output): BertSelfOutput(\n",
       "              (dense): Linear(in_features=768, out_features=768, bias=True)\n",
       "              (LayerNorm): LayerNorm((768,), eps=1e-12, elementwise_affine=True)\n",
       "              (dropout): Dropout(p=0.1, inplace=False)\n",
       "            )\n",
       "          )\n",
       "          (intermediate): BertIntermediate(\n",
       "            (dense): Linear(in_features=768, out_features=3072, bias=True)\n",
       "            (intermediate_act_fn): GELUActivation()\n",
       "          )\n",
       "          (output): BertOutput(\n",
       "            (dense): Linear(in_features=3072, out_features=768, bias=True)\n",
       "            (LayerNorm): LayerNorm((768,), eps=1e-12, elementwise_affine=True)\n",
       "            (dropout): Dropout(p=0.1, inplace=False)\n",
       "          )\n",
       "        )\n",
       "        (3): BertLayer(\n",
       "          (attention): BertAttention(\n",
       "            (self): BertSelfAttention(\n",
       "              (query): Linear(in_features=768, out_features=768, bias=True)\n",
       "              (key): Linear(in_features=768, out_features=768, bias=True)\n",
       "              (value): Linear(in_features=768, out_features=768, bias=True)\n",
       "              (dropout): Dropout(p=0.1, inplace=False)\n",
       "            )\n",
       "            (output): BertSelfOutput(\n",
       "              (dense): Linear(in_features=768, out_features=768, bias=True)\n",
       "              (LayerNorm): LayerNorm((768,), eps=1e-12, elementwise_affine=True)\n",
       "              (dropout): Dropout(p=0.1, inplace=False)\n",
       "            )\n",
       "          )\n",
       "          (intermediate): BertIntermediate(\n",
       "            (dense): Linear(in_features=768, out_features=3072, bias=True)\n",
       "            (intermediate_act_fn): GELUActivation()\n",
       "          )\n",
       "          (output): BertOutput(\n",
       "            (dense): Linear(in_features=3072, out_features=768, bias=True)\n",
       "            (LayerNorm): LayerNorm((768,), eps=1e-12, elementwise_affine=True)\n",
       "            (dropout): Dropout(p=0.1, inplace=False)\n",
       "          )\n",
       "        )\n",
       "        (4): BertLayer(\n",
       "          (attention): BertAttention(\n",
       "            (self): BertSelfAttention(\n",
       "              (query): Linear(in_features=768, out_features=768, bias=True)\n",
       "              (key): Linear(in_features=768, out_features=768, bias=True)\n",
       "              (value): Linear(in_features=768, out_features=768, bias=True)\n",
       "              (dropout): Dropout(p=0.1, inplace=False)\n",
       "            )\n",
       "            (output): BertSelfOutput(\n",
       "              (dense): Linear(in_features=768, out_features=768, bias=True)\n",
       "              (LayerNorm): LayerNorm((768,), eps=1e-12, elementwise_affine=True)\n",
       "              (dropout): Dropout(p=0.1, inplace=False)\n",
       "            )\n",
       "          )\n",
       "          (intermediate): BertIntermediate(\n",
       "            (dense): Linear(in_features=768, out_features=3072, bias=True)\n",
       "            (intermediate_act_fn): GELUActivation()\n",
       "          )\n",
       "          (output): BertOutput(\n",
       "            (dense): Linear(in_features=3072, out_features=768, bias=True)\n",
       "            (LayerNorm): LayerNorm((768,), eps=1e-12, elementwise_affine=True)\n",
       "            (dropout): Dropout(p=0.1, inplace=False)\n",
       "          )\n",
       "        )\n",
       "        (5): BertLayer(\n",
       "          (attention): BertAttention(\n",
       "            (self): BertSelfAttention(\n",
       "              (query): Linear(in_features=768, out_features=768, bias=True)\n",
       "              (key): Linear(in_features=768, out_features=768, bias=True)\n",
       "              (value): Linear(in_features=768, out_features=768, bias=True)\n",
       "              (dropout): Dropout(p=0.1, inplace=False)\n",
       "            )\n",
       "            (output): BertSelfOutput(\n",
       "              (dense): Linear(in_features=768, out_features=768, bias=True)\n",
       "              (LayerNorm): LayerNorm((768,), eps=1e-12, elementwise_affine=True)\n",
       "              (dropout): Dropout(p=0.1, inplace=False)\n",
       "            )\n",
       "          )\n",
       "          (intermediate): BertIntermediate(\n",
       "            (dense): Linear(in_features=768, out_features=3072, bias=True)\n",
       "            (intermediate_act_fn): GELUActivation()\n",
       "          )\n",
       "          (output): BertOutput(\n",
       "            (dense): Linear(in_features=3072, out_features=768, bias=True)\n",
       "            (LayerNorm): LayerNorm((768,), eps=1e-12, elementwise_affine=True)\n",
       "            (dropout): Dropout(p=0.1, inplace=False)\n",
       "          )\n",
       "        )\n",
       "        (6): BertLayer(\n",
       "          (attention): BertAttention(\n",
       "            (self): BertSelfAttention(\n",
       "              (query): Linear(in_features=768, out_features=768, bias=True)\n",
       "              (key): Linear(in_features=768, out_features=768, bias=True)\n",
       "              (value): Linear(in_features=768, out_features=768, bias=True)\n",
       "              (dropout): Dropout(p=0.1, inplace=False)\n",
       "            )\n",
       "            (output): BertSelfOutput(\n",
       "              (dense): Linear(in_features=768, out_features=768, bias=True)\n",
       "              (LayerNorm): LayerNorm((768,), eps=1e-12, elementwise_affine=True)\n",
       "              (dropout): Dropout(p=0.1, inplace=False)\n",
       "            )\n",
       "          )\n",
       "          (intermediate): BertIntermediate(\n",
       "            (dense): Linear(in_features=768, out_features=3072, bias=True)\n",
       "            (intermediate_act_fn): GELUActivation()\n",
       "          )\n",
       "          (output): BertOutput(\n",
       "            (dense): Linear(in_features=3072, out_features=768, bias=True)\n",
       "            (LayerNorm): LayerNorm((768,), eps=1e-12, elementwise_affine=True)\n",
       "            (dropout): Dropout(p=0.1, inplace=False)\n",
       "          )\n",
       "        )\n",
       "        (7): BertLayer(\n",
       "          (attention): BertAttention(\n",
       "            (self): BertSelfAttention(\n",
       "              (query): Linear(in_features=768, out_features=768, bias=True)\n",
       "              (key): Linear(in_features=768, out_features=768, bias=True)\n",
       "              (value): Linear(in_features=768, out_features=768, bias=True)\n",
       "              (dropout): Dropout(p=0.1, inplace=False)\n",
       "            )\n",
       "            (output): BertSelfOutput(\n",
       "              (dense): Linear(in_features=768, out_features=768, bias=True)\n",
       "              (LayerNorm): LayerNorm((768,), eps=1e-12, elementwise_affine=True)\n",
       "              (dropout): Dropout(p=0.1, inplace=False)\n",
       "            )\n",
       "          )\n",
       "          (intermediate): BertIntermediate(\n",
       "            (dense): Linear(in_features=768, out_features=3072, bias=True)\n",
       "            (intermediate_act_fn): GELUActivation()\n",
       "          )\n",
       "          (output): BertOutput(\n",
       "            (dense): Linear(in_features=3072, out_features=768, bias=True)\n",
       "            (LayerNorm): LayerNorm((768,), eps=1e-12, elementwise_affine=True)\n",
       "            (dropout): Dropout(p=0.1, inplace=False)\n",
       "          )\n",
       "        )\n",
       "        (8): BertLayer(\n",
       "          (attention): BertAttention(\n",
       "            (self): BertSelfAttention(\n",
       "              (query): Linear(in_features=768, out_features=768, bias=True)\n",
       "              (key): Linear(in_features=768, out_features=768, bias=True)\n",
       "              (value): Linear(in_features=768, out_features=768, bias=True)\n",
       "              (dropout): Dropout(p=0.1, inplace=False)\n",
       "            )\n",
       "            (output): BertSelfOutput(\n",
       "              (dense): Linear(in_features=768, out_features=768, bias=True)\n",
       "              (LayerNorm): LayerNorm((768,), eps=1e-12, elementwise_affine=True)\n",
       "              (dropout): Dropout(p=0.1, inplace=False)\n",
       "            )\n",
       "          )\n",
       "          (intermediate): BertIntermediate(\n",
       "            (dense): Linear(in_features=768, out_features=3072, bias=True)\n",
       "            (intermediate_act_fn): GELUActivation()\n",
       "          )\n",
       "          (output): BertOutput(\n",
       "            (dense): Linear(in_features=3072, out_features=768, bias=True)\n",
       "            (LayerNorm): LayerNorm((768,), eps=1e-12, elementwise_affine=True)\n",
       "            (dropout): Dropout(p=0.1, inplace=False)\n",
       "          )\n",
       "        )\n",
       "        (9): BertLayer(\n",
       "          (attention): BertAttention(\n",
       "            (self): BertSelfAttention(\n",
       "              (query): Linear(in_features=768, out_features=768, bias=True)\n",
       "              (key): Linear(in_features=768, out_features=768, bias=True)\n",
       "              (value): Linear(in_features=768, out_features=768, bias=True)\n",
       "              (dropout): Dropout(p=0.1, inplace=False)\n",
       "            )\n",
       "            (output): BertSelfOutput(\n",
       "              (dense): Linear(in_features=768, out_features=768, bias=True)\n",
       "              (LayerNorm): LayerNorm((768,), eps=1e-12, elementwise_affine=True)\n",
       "              (dropout): Dropout(p=0.1, inplace=False)\n",
       "            )\n",
       "          )\n",
       "          (intermediate): BertIntermediate(\n",
       "            (dense): Linear(in_features=768, out_features=3072, bias=True)\n",
       "            (intermediate_act_fn): GELUActivation()\n",
       "          )\n",
       "          (output): BertOutput(\n",
       "            (dense): Linear(in_features=3072, out_features=768, bias=True)\n",
       "            (LayerNorm): LayerNorm((768,), eps=1e-12, elementwise_affine=True)\n",
       "            (dropout): Dropout(p=0.1, inplace=False)\n",
       "          )\n",
       "        )\n",
       "        (10): BertLayer(\n",
       "          (attention): BertAttention(\n",
       "            (self): BertSelfAttention(\n",
       "              (query): Linear(in_features=768, out_features=768, bias=True)\n",
       "              (key): Linear(in_features=768, out_features=768, bias=True)\n",
       "              (value): Linear(in_features=768, out_features=768, bias=True)\n",
       "              (dropout): Dropout(p=0.1, inplace=False)\n",
       "            )\n",
       "            (output): BertSelfOutput(\n",
       "              (dense): Linear(in_features=768, out_features=768, bias=True)\n",
       "              (LayerNorm): LayerNorm((768,), eps=1e-12, elementwise_affine=True)\n",
       "              (dropout): Dropout(p=0.1, inplace=False)\n",
       "            )\n",
       "          )\n",
       "          (intermediate): BertIntermediate(\n",
       "            (dense): Linear(in_features=768, out_features=3072, bias=True)\n",
       "            (intermediate_act_fn): GELUActivation()\n",
       "          )\n",
       "          (output): BertOutput(\n",
       "            (dense): Linear(in_features=3072, out_features=768, bias=True)\n",
       "            (LayerNorm): LayerNorm((768,), eps=1e-12, elementwise_affine=True)\n",
       "            (dropout): Dropout(p=0.1, inplace=False)\n",
       "          )\n",
       "        )\n",
       "        (11): BertLayer(\n",
       "          (attention): BertAttention(\n",
       "            (self): BertSelfAttention(\n",
       "              (query): Linear(in_features=768, out_features=768, bias=True)\n",
       "              (key): Linear(in_features=768, out_features=768, bias=True)\n",
       "              (value): Linear(in_features=768, out_features=768, bias=True)\n",
       "              (dropout): Dropout(p=0.1, inplace=False)\n",
       "            )\n",
       "            (output): BertSelfOutput(\n",
       "              (dense): Linear(in_features=768, out_features=768, bias=True)\n",
       "              (LayerNorm): LayerNorm((768,), eps=1e-12, elementwise_affine=True)\n",
       "              (dropout): Dropout(p=0.1, inplace=False)\n",
       "            )\n",
       "          )\n",
       "          (intermediate): BertIntermediate(\n",
       "            (dense): Linear(in_features=768, out_features=3072, bias=True)\n",
       "            (intermediate_act_fn): GELUActivation()\n",
       "          )\n",
       "          (output): BertOutput(\n",
       "            (dense): Linear(in_features=3072, out_features=768, bias=True)\n",
       "            (LayerNorm): LayerNorm((768,), eps=1e-12, elementwise_affine=True)\n",
       "            (dropout): Dropout(p=0.1, inplace=False)\n",
       "          )\n",
       "        )\n",
       "      )\n",
       "    )\n",
       "    (pooler): BertPooler(\n",
       "      (dense): Linear(in_features=768, out_features=768, bias=True)\n",
       "      (activation): Tanh()\n",
       "    )\n",
       "  )\n",
       "  (dropout): Dropout(p=0.1, inplace=False)\n",
       "  (classifier): Linear(in_features=768, out_features=2, bias=True)\n",
       ")"
      ]
     },
     "execution_count": 3,
     "metadata": {},
     "output_type": "execute_result"
    }
   ],
   "source": [
    "model = BertForSequenceClassification.from_pretrained(\"bert-base-uncased\", num_labels=2, output_attentions=True)\n",
    "\n",
    "# I'm running this on Apple Silicon. Activate Metal \"mps\" device, if available:\n",
    "if not torch.backends.mps.is_available():\n",
    "    if not torch.backends.mps.is_built():\n",
    "        print(\"MPS not available because the current PyTorch install was not \"\n",
    "              \"built with MPS enabled.\")\n",
    "    else:\n",
    "        print(\"MPS not available because the current MacOS version is not 12.3+ \"\n",
    "              \"and/or you do not have an MPS-enabled device on this machine.\")\n",
    "\n",
    "else:\n",
    "    mps_device = torch.device(\"mps\")\n",
    "\n",
    "\n",
    "torch.device(\"mps\")\n",
    "model.to(mps_device)\n",
    "\n",
    "model.train()"
   ]
  },
  {
   "cell_type": "code",
   "execution_count": 11,
   "id": "616261dd-21d7-4bba-86f4-ca4e9e67d3e2",
   "metadata": {},
   "outputs": [
    {
     "name": "stderr",
     "output_type": "stream",
     "text": [
      "\n",
      "100%|██████████████████████████████████████████████████| 250/250 [48:20<00:00, 11.60s/it]\u001b[A\n"
     ]
    },
    {
     "name": "stdout",
     "output_type": "stream",
     "text": [
      "Training loss: 0.69\n"
     ]
    },
    {
     "name": "stderr",
     "output_type": "stream",
     "text": [
      "\n",
      "  0%|▏                                                   | 1/250 [00:06<25:40,  6.19s/it]\u001b[A"
     ]
    },
    {
     "name": "stdout",
     "output_type": "stream",
     "text": [
      "Training loss: 0.72\n"
     ]
    },
    {
     "name": "stderr",
     "output_type": "stream",
     "text": [
      "\n",
      "  1%|▍                                                   | 2/250 [00:11<24:18,  5.88s/it]\u001b[A"
     ]
    },
    {
     "name": "stdout",
     "output_type": "stream",
     "text": [
      "Training loss: 0.67\n"
     ]
    },
    {
     "name": "stderr",
     "output_type": "stream",
     "text": [
      "\n",
      "  1%|▌                                                   | 3/250 [00:17<24:30,  5.95s/it]\u001b[A"
     ]
    },
    {
     "name": "stdout",
     "output_type": "stream",
     "text": [
      "Training loss: 0.68\n"
     ]
    },
    {
     "name": "stderr",
     "output_type": "stream",
     "text": [
      "\n",
      "  2%|▊                                                   | 4/250 [00:23<24:03,  5.87s/it]\u001b[A"
     ]
    },
    {
     "name": "stdout",
     "output_type": "stream",
     "text": [
      "Training loss: 0.73\n"
     ]
    },
    {
     "name": "stderr",
     "output_type": "stream",
     "text": [
      "\n",
      "  2%|█                                                   | 5/250 [00:29<23:32,  5.76s/it]\u001b[A"
     ]
    },
    {
     "name": "stdout",
     "output_type": "stream",
     "text": [
      "Training loss: 0.66\n"
     ]
    },
    {
     "name": "stderr",
     "output_type": "stream",
     "text": [
      "\n",
      "  2%|█▏                                                  | 6/250 [00:34<23:19,  5.74s/it]\u001b[A"
     ]
    },
    {
     "name": "stdout",
     "output_type": "stream",
     "text": [
      "Training loss: 0.71\n"
     ]
    },
    {
     "name": "stderr",
     "output_type": "stream",
     "text": [
      "\n",
      "  3%|█▍                                                  | 7/250 [00:40<23:06,  5.71s/it]\u001b[A"
     ]
    },
    {
     "name": "stdout",
     "output_type": "stream",
     "text": [
      "Training loss: 0.70\n"
     ]
    },
    {
     "name": "stderr",
     "output_type": "stream",
     "text": [
      "\n",
      "  3%|█▋                                                  | 8/250 [00:46<22:53,  5.67s/it]\u001b[A"
     ]
    },
    {
     "name": "stdout",
     "output_type": "stream",
     "text": [
      "Training loss: 0.68\n"
     ]
    },
    {
     "name": "stderr",
     "output_type": "stream",
     "text": [
      "\n",
      "  4%|█▊                                                  | 9/250 [00:51<22:45,  5.67s/it]\u001b[A"
     ]
    },
    {
     "name": "stdout",
     "output_type": "stream",
     "text": [
      "Training loss: 0.71\n"
     ]
    },
    {
     "name": "stderr",
     "output_type": "stream",
     "text": [
      "\n",
      "  4%|██                                                 | 10/250 [00:57<23:00,  5.75s/it]\u001b[A"
     ]
    },
    {
     "name": "stdout",
     "output_type": "stream",
     "text": [
      "Training loss: 0.67\n"
     ]
    },
    {
     "name": "stderr",
     "output_type": "stream",
     "text": [
      "\n",
      "  4%|██▏                                                | 11/250 [01:03<22:37,  5.68s/it]\u001b[A"
     ]
    },
    {
     "name": "stdout",
     "output_type": "stream",
     "text": [
      "Training loss: 0.73\n"
     ]
    },
    {
     "name": "stderr",
     "output_type": "stream",
     "text": [
      "\n",
      "  5%|██▍                                                | 12/250 [01:08<22:27,  5.66s/it]\u001b[A"
     ]
    },
    {
     "name": "stdout",
     "output_type": "stream",
     "text": [
      "Training loss: 0.65\n"
     ]
    },
    {
     "name": "stderr",
     "output_type": "stream",
     "text": [
      "\n",
      "  5%|██▋                                                | 13/250 [01:14<22:03,  5.58s/it]\u001b[A"
     ]
    },
    {
     "name": "stdout",
     "output_type": "stream",
     "text": [
      "Training loss: 0.72\n"
     ]
    },
    {
     "name": "stderr",
     "output_type": "stream",
     "text": [
      "\n",
      "  6%|██▊                                                | 14/250 [01:20<22:16,  5.66s/it]\u001b[A"
     ]
    },
    {
     "name": "stdout",
     "output_type": "stream",
     "text": [
      "Training loss: 0.74\n"
     ]
    },
    {
     "name": "stderr",
     "output_type": "stream",
     "text": [
      "\n",
      "  6%|███                                                | 15/250 [01:25<22:25,  5.72s/it]\u001b[A"
     ]
    },
    {
     "name": "stdout",
     "output_type": "stream",
     "text": [
      "Training loss: 0.72\n"
     ]
    },
    {
     "name": "stderr",
     "output_type": "stream",
     "text": [
      "\n",
      "  6%|███▎                                               | 16/250 [01:31<22:18,  5.72s/it]\u001b[A"
     ]
    },
    {
     "name": "stdout",
     "output_type": "stream",
     "text": [
      "Training loss: 0.74\n"
     ]
    },
    {
     "name": "stderr",
     "output_type": "stream",
     "text": [
      "\n",
      "  7%|███▍                                               | 17/250 [01:37<22:30,  5.80s/it]\u001b[A"
     ]
    },
    {
     "name": "stdout",
     "output_type": "stream",
     "text": [
      "Training loss: 0.69\n"
     ]
    },
    {
     "name": "stderr",
     "output_type": "stream",
     "text": [
      "\n",
      "  7%|███▋                                               | 18/250 [01:43<22:49,  5.90s/it]\u001b[A"
     ]
    },
    {
     "name": "stdout",
     "output_type": "stream",
     "text": [
      "Training loss: 0.69\n"
     ]
    },
    {
     "name": "stderr",
     "output_type": "stream",
     "text": [
      "\n",
      "  8%|███▉                                               | 19/250 [01:49<22:45,  5.91s/it]\u001b[A"
     ]
    },
    {
     "name": "stdout",
     "output_type": "stream",
     "text": [
      "Training loss: 0.69\n"
     ]
    },
    {
     "name": "stderr",
     "output_type": "stream",
     "text": [
      "\n",
      "  8%|████                                               | 20/250 [01:55<22:30,  5.87s/it]\u001b[A"
     ]
    },
    {
     "name": "stdout",
     "output_type": "stream",
     "text": [
      "Training loss: 0.71\n"
     ]
    },
    {
     "name": "stderr",
     "output_type": "stream",
     "text": [
      "\n",
      "  8%|████▎                                              | 21/250 [02:01<22:24,  5.87s/it]\u001b[A"
     ]
    },
    {
     "name": "stdout",
     "output_type": "stream",
     "text": [
      "Training loss: 0.69\n"
     ]
    },
    {
     "name": "stderr",
     "output_type": "stream",
     "text": [
      "\n",
      "  9%|████▍                                              | 22/250 [02:07<22:19,  5.88s/it]\u001b[A"
     ]
    },
    {
     "name": "stdout",
     "output_type": "stream",
     "text": [
      "Training loss: 0.70\n"
     ]
    },
    {
     "name": "stderr",
     "output_type": "stream",
     "text": [
      "\n",
      "  9%|████▋                                              | 23/250 [02:12<22:01,  5.82s/it]\u001b[A"
     ]
    },
    {
     "name": "stdout",
     "output_type": "stream",
     "text": [
      "Training loss: 0.72\n"
     ]
    },
    {
     "name": "stderr",
     "output_type": "stream",
     "text": [
      "\n",
      " 10%|████▉                                              | 24/250 [02:18<21:43,  5.77s/it]\u001b[A"
     ]
    },
    {
     "name": "stdout",
     "output_type": "stream",
     "text": [
      "Training loss: 0.70\n"
     ]
    },
    {
     "name": "stderr",
     "output_type": "stream",
     "text": [
      "\n",
      " 10%|█████                                              | 25/250 [02:24<21:45,  5.80s/it]\u001b[A"
     ]
    },
    {
     "name": "stdout",
     "output_type": "stream",
     "text": [
      "Training loss: 0.67\n"
     ]
    },
    {
     "name": "stderr",
     "output_type": "stream",
     "text": [
      "\n",
      " 10%|█████▎                                             | 26/250 [02:30<21:54,  5.87s/it]\u001b[A"
     ]
    },
    {
     "name": "stdout",
     "output_type": "stream",
     "text": [
      "Training loss: 0.70\n"
     ]
    },
    {
     "name": "stderr",
     "output_type": "stream",
     "text": [
      "\n",
      " 11%|█████▌                                             | 27/250 [02:36<21:36,  5.81s/it]\u001b[A"
     ]
    },
    {
     "name": "stdout",
     "output_type": "stream",
     "text": [
      "Training loss: 0.69\n"
     ]
    },
    {
     "name": "stderr",
     "output_type": "stream",
     "text": [
      "\n",
      " 11%|█████▋                                             | 28/250 [02:41<21:12,  5.73s/it]\u001b[A"
     ]
    },
    {
     "name": "stdout",
     "output_type": "stream",
     "text": [
      "Training loss: 0.68\n"
     ]
    },
    {
     "name": "stderr",
     "output_type": "stream",
     "text": [
      "\n",
      " 12%|█████▉                                             | 29/250 [02:47<21:05,  5.73s/it]\u001b[A"
     ]
    },
    {
     "name": "stdout",
     "output_type": "stream",
     "text": [
      "Training loss: 0.69\n"
     ]
    },
    {
     "name": "stderr",
     "output_type": "stream",
     "text": [
      "\n",
      " 12%|██████                                             | 30/250 [02:53<20:48,  5.67s/it]\u001b[A"
     ]
    },
    {
     "name": "stdout",
     "output_type": "stream",
     "text": [
      "Training loss: 0.74\n"
     ]
    },
    {
     "name": "stderr",
     "output_type": "stream",
     "text": [
      "\n",
      " 12%|██████▎                                            | 31/250 [02:58<20:40,  5.66s/it]\u001b[A"
     ]
    },
    {
     "name": "stdout",
     "output_type": "stream",
     "text": [
      "Training loss: 0.68\n"
     ]
    },
    {
     "name": "stderr",
     "output_type": "stream",
     "text": [
      "\n",
      " 13%|██████▌                                            | 32/250 [03:04<20:37,  5.68s/it]\u001b[A"
     ]
    },
    {
     "name": "stdout",
     "output_type": "stream",
     "text": [
      "Training loss: 0.74\n"
     ]
    },
    {
     "name": "stderr",
     "output_type": "stream",
     "text": [
      "\n",
      " 13%|██████▋                                            | 33/250 [03:10<20:30,  5.67s/it]\u001b[A"
     ]
    },
    {
     "name": "stdout",
     "output_type": "stream",
     "text": [
      "Training loss: 0.72\n"
     ]
    },
    {
     "name": "stderr",
     "output_type": "stream",
     "text": [
      "\n",
      " 14%|██████▉                                            | 34/250 [03:15<20:30,  5.70s/it]\u001b[A"
     ]
    },
    {
     "name": "stdout",
     "output_type": "stream",
     "text": [
      "Training loss: 0.67\n"
     ]
    },
    {
     "name": "stderr",
     "output_type": "stream",
     "text": [
      "\n",
      " 14%|███████▏                                           | 35/250 [03:21<20:14,  5.65s/it]\u001b[A"
     ]
    },
    {
     "name": "stdout",
     "output_type": "stream",
     "text": [
      "Training loss: 0.73\n"
     ]
    },
    {
     "name": "stderr",
     "output_type": "stream",
     "text": [
      "\n",
      " 14%|███████▎                                           | 36/250 [03:26<20:07,  5.64s/it]\u001b[A"
     ]
    },
    {
     "name": "stdout",
     "output_type": "stream",
     "text": [
      "Training loss: 0.68\n"
     ]
    },
    {
     "name": "stderr",
     "output_type": "stream",
     "text": [
      "\n",
      " 15%|███████▌                                           | 37/250 [03:32<20:07,  5.67s/it]\u001b[A"
     ]
    },
    {
     "name": "stdout",
     "output_type": "stream",
     "text": [
      "Training loss: 0.70\n"
     ]
    },
    {
     "name": "stderr",
     "output_type": "stream",
     "text": [
      "\n",
      " 15%|███████▊                                           | 38/250 [03:38<19:41,  5.58s/it]\u001b[A"
     ]
    },
    {
     "name": "stdout",
     "output_type": "stream",
     "text": [
      "Training loss: 0.70\n"
     ]
    },
    {
     "name": "stderr",
     "output_type": "stream",
     "text": [
      "\n",
      " 16%|███████▉                                           | 39/250 [03:43<19:47,  5.63s/it]\u001b[A"
     ]
    },
    {
     "name": "stdout",
     "output_type": "stream",
     "text": [
      "Training loss: 0.70\n"
     ]
    },
    {
     "name": "stderr",
     "output_type": "stream",
     "text": [
      "\n",
      " 16%|████████▏                                          | 40/250 [03:49<19:39,  5.62s/it]\u001b[A"
     ]
    },
    {
     "name": "stdout",
     "output_type": "stream",
     "text": [
      "Training loss: 0.69\n"
     ]
    },
    {
     "name": "stderr",
     "output_type": "stream",
     "text": [
      "\n",
      " 16%|████████▎                                          | 41/250 [03:55<19:47,  5.68s/it]\u001b[A"
     ]
    },
    {
     "name": "stdout",
     "output_type": "stream",
     "text": [
      "Training loss: 0.70\n"
     ]
    },
    {
     "name": "stderr",
     "output_type": "stream",
     "text": [
      "\n",
      " 17%|████████▌                                          | 42/250 [04:00<19:33,  5.64s/it]\u001b[A"
     ]
    },
    {
     "name": "stdout",
     "output_type": "stream",
     "text": [
      "Training loss: 0.68\n"
     ]
    },
    {
     "name": "stderr",
     "output_type": "stream",
     "text": [
      "\n",
      " 17%|████████▊                                          | 43/250 [04:06<19:19,  5.60s/it]\u001b[A"
     ]
    },
    {
     "name": "stdout",
     "output_type": "stream",
     "text": [
      "Training loss: 0.73\n"
     ]
    },
    {
     "name": "stderr",
     "output_type": "stream",
     "text": [
      "\n",
      " 18%|████████▉                                          | 44/250 [04:12<19:24,  5.65s/it]\u001b[A"
     ]
    },
    {
     "name": "stdout",
     "output_type": "stream",
     "text": [
      "Training loss: 0.69\n"
     ]
    },
    {
     "name": "stderr",
     "output_type": "stream",
     "text": [
      "\n",
      " 18%|█████████▏                                         | 45/250 [04:17<19:32,  5.72s/it]\u001b[A"
     ]
    },
    {
     "name": "stdout",
     "output_type": "stream",
     "text": [
      "Training loss: 0.70\n"
     ]
    },
    {
     "name": "stderr",
     "output_type": "stream",
     "text": [
      "\n",
      " 18%|█████████▍                                         | 46/250 [04:24<19:51,  5.84s/it]\u001b[A"
     ]
    },
    {
     "name": "stdout",
     "output_type": "stream",
     "text": [
      "Training loss: 0.68\n"
     ]
    },
    {
     "name": "stderr",
     "output_type": "stream",
     "text": [
      "\n",
      " 19%|█████████▌                                         | 47/250 [04:29<19:43,  5.83s/it]\u001b[A"
     ]
    },
    {
     "name": "stdout",
     "output_type": "stream",
     "text": [
      "Training loss: 0.70\n"
     ]
    },
    {
     "name": "stderr",
     "output_type": "stream",
     "text": [
      "\n",
      " 19%|█████████▊                                         | 48/250 [04:35<19:45,  5.87s/it]\u001b[A"
     ]
    },
    {
     "name": "stdout",
     "output_type": "stream",
     "text": [
      "Training loss: 0.71\n"
     ]
    },
    {
     "name": "stderr",
     "output_type": "stream",
     "text": [
      "\n",
      " 20%|█████████▉                                         | 49/250 [04:41<19:33,  5.84s/it]\u001b[A"
     ]
    },
    {
     "name": "stdout",
     "output_type": "stream",
     "text": [
      "Training loss: 0.70\n"
     ]
    },
    {
     "name": "stderr",
     "output_type": "stream",
     "text": [
      "\n",
      " 20%|██████████▏                                        | 50/250 [04:47<19:25,  5.83s/it]\u001b[A"
     ]
    },
    {
     "name": "stdout",
     "output_type": "stream",
     "text": [
      "Training loss: 0.72\n"
     ]
    },
    {
     "name": "stderr",
     "output_type": "stream",
     "text": [
      "\n",
      " 20%|██████████▍                                        | 51/250 [04:52<18:58,  5.72s/it]\u001b[A"
     ]
    },
    {
     "name": "stdout",
     "output_type": "stream",
     "text": [
      "Training loss: 0.67\n"
     ]
    },
    {
     "name": "stderr",
     "output_type": "stream",
     "text": [
      "\n",
      " 21%|██████████▌                                        | 52/250 [04:58<18:54,  5.73s/it]\u001b[A"
     ]
    },
    {
     "name": "stdout",
     "output_type": "stream",
     "text": [
      "Training loss: 0.66\n"
     ]
    },
    {
     "name": "stderr",
     "output_type": "stream",
     "text": [
      "\n",
      " 21%|██████████▊                                        | 53/250 [05:04<19:10,  5.84s/it]\u001b[A"
     ]
    },
    {
     "name": "stdout",
     "output_type": "stream",
     "text": [
      "Training loss: 0.71\n"
     ]
    },
    {
     "name": "stderr",
     "output_type": "stream",
     "text": [
      "\n",
      " 22%|███████████                                        | 54/250 [05:10<19:26,  5.95s/it]\u001b[A"
     ]
    },
    {
     "name": "stdout",
     "output_type": "stream",
     "text": [
      "Training loss: 0.64\n"
     ]
    },
    {
     "name": "stderr",
     "output_type": "stream",
     "text": [
      "\n",
      " 22%|███████████▏                                       | 55/250 [05:17<19:41,  6.06s/it]\u001b[A"
     ]
    },
    {
     "name": "stdout",
     "output_type": "stream",
     "text": [
      "Training loss: 0.74\n"
     ]
    },
    {
     "name": "stderr",
     "output_type": "stream",
     "text": [
      "\n",
      " 22%|███████████▍                                       | 56/250 [05:23<19:38,  6.08s/it]\u001b[A"
     ]
    },
    {
     "name": "stdout",
     "output_type": "stream",
     "text": [
      "Training loss: 0.71\n"
     ]
    },
    {
     "name": "stderr",
     "output_type": "stream",
     "text": [
      "\n",
      " 23%|███████████▋                                       | 57/250 [05:29<19:28,  6.06s/it]\u001b[A"
     ]
    },
    {
     "name": "stdout",
     "output_type": "stream",
     "text": [
      "Training loss: 0.64\n"
     ]
    },
    {
     "name": "stderr",
     "output_type": "stream",
     "text": [
      "\n",
      " 23%|███████████▊                                       | 58/250 [05:35<19:19,  6.04s/it]\u001b[A"
     ]
    },
    {
     "name": "stdout",
     "output_type": "stream",
     "text": [
      "Training loss: 0.67\n"
     ]
    },
    {
     "name": "stderr",
     "output_type": "stream",
     "text": [
      "\n",
      " 24%|████████████                                       | 59/250 [05:41<18:56,  5.95s/it]\u001b[A"
     ]
    },
    {
     "name": "stdout",
     "output_type": "stream",
     "text": [
      "Training loss: 0.69\n"
     ]
    },
    {
     "name": "stderr",
     "output_type": "stream",
     "text": [
      "\n",
      " 24%|████████████▏                                      | 60/250 [05:47<18:50,  5.95s/it]\u001b[A"
     ]
    },
    {
     "name": "stdout",
     "output_type": "stream",
     "text": [
      "Training loss: 0.79\n"
     ]
    },
    {
     "name": "stderr",
     "output_type": "stream",
     "text": [
      "\n",
      " 24%|████████████▍                                      | 61/250 [05:52<18:35,  5.90s/it]\u001b[A"
     ]
    },
    {
     "name": "stdout",
     "output_type": "stream",
     "text": [
      "Training loss: 0.69\n"
     ]
    },
    {
     "name": "stderr",
     "output_type": "stream",
     "text": [
      "\n",
      " 25%|████████████▋                                      | 62/250 [05:58<18:22,  5.87s/it]\u001b[A"
     ]
    },
    {
     "name": "stdout",
     "output_type": "stream",
     "text": [
      "Training loss: 0.65\n"
     ]
    },
    {
     "name": "stderr",
     "output_type": "stream",
     "text": [
      "\n",
      " 25%|████████████▊                                      | 63/250 [06:04<18:30,  5.94s/it]\u001b[A"
     ]
    },
    {
     "name": "stdout",
     "output_type": "stream",
     "text": [
      "Training loss: 0.72\n"
     ]
    },
    {
     "name": "stderr",
     "output_type": "stream",
     "text": [
      "\n",
      " 26%|█████████████                                      | 64/250 [06:10<18:22,  5.93s/it]\u001b[A"
     ]
    },
    {
     "name": "stdout",
     "output_type": "stream",
     "text": [
      "Training loss: 0.69\n"
     ]
    },
    {
     "name": "stderr",
     "output_type": "stream",
     "text": [
      "\n",
      " 26%|█████████████▎                                     | 65/250 [06:16<18:15,  5.92s/it]\u001b[A"
     ]
    },
    {
     "name": "stdout",
     "output_type": "stream",
     "text": [
      "Training loss: 0.67\n"
     ]
    },
    {
     "name": "stderr",
     "output_type": "stream",
     "text": [
      "\n",
      " 26%|█████████████▍                                     | 66/250 [06:22<17:59,  5.87s/it]\u001b[A"
     ]
    },
    {
     "name": "stdout",
     "output_type": "stream",
     "text": [
      "Training loss: 0.68\n"
     ]
    },
    {
     "name": "stderr",
     "output_type": "stream",
     "text": [
      "\n",
      " 27%|█████████████▋                                     | 67/250 [06:27<17:32,  5.75s/it]\u001b[A"
     ]
    },
    {
     "name": "stdout",
     "output_type": "stream",
     "text": [
      "Training loss: 0.72\n"
     ]
    },
    {
     "name": "stderr",
     "output_type": "stream",
     "text": [
      "\n",
      " 27%|█████████████▊                                     | 68/250 [06:33<17:17,  5.70s/it]\u001b[A"
     ]
    },
    {
     "name": "stdout",
     "output_type": "stream",
     "text": [
      "Training loss: 0.70\n"
     ]
    },
    {
     "name": "stderr",
     "output_type": "stream",
     "text": [
      "\n",
      " 28%|██████████████                                     | 69/250 [06:39<17:28,  5.80s/it]\u001b[A"
     ]
    },
    {
     "name": "stdout",
     "output_type": "stream",
     "text": [
      "Training loss: 0.67\n"
     ]
    },
    {
     "name": "stderr",
     "output_type": "stream",
     "text": [
      "\n",
      " 28%|██████████████▎                                    | 70/250 [06:44<17:10,  5.73s/it]\u001b[A"
     ]
    },
    {
     "name": "stdout",
     "output_type": "stream",
     "text": [
      "Training loss: 0.66\n"
     ]
    },
    {
     "name": "stderr",
     "output_type": "stream",
     "text": [
      "\n",
      " 28%|██████████████▍                                    | 71/250 [06:50<16:53,  5.66s/it]\u001b[A"
     ]
    },
    {
     "name": "stdout",
     "output_type": "stream",
     "text": [
      "Training loss: 0.69\n"
     ]
    },
    {
     "name": "stderr",
     "output_type": "stream",
     "text": [
      "\n",
      " 29%|██████████████▋                                    | 72/250 [06:56<16:53,  5.69s/it]\u001b[A"
     ]
    },
    {
     "name": "stdout",
     "output_type": "stream",
     "text": [
      "Training loss: 0.71\n"
     ]
    },
    {
     "name": "stderr",
     "output_type": "stream",
     "text": [
      "\n",
      " 29%|██████████████▉                                    | 73/250 [07:01<16:46,  5.69s/it]\u001b[A"
     ]
    },
    {
     "name": "stdout",
     "output_type": "stream",
     "text": [
      "Training loss: 0.70\n"
     ]
    },
    {
     "name": "stderr",
     "output_type": "stream",
     "text": [
      "\n",
      " 30%|███████████████                                    | 74/250 [07:07<16:47,  5.72s/it]\u001b[A"
     ]
    },
    {
     "name": "stdout",
     "output_type": "stream",
     "text": [
      "Training loss: 0.72\n"
     ]
    },
    {
     "name": "stderr",
     "output_type": "stream",
     "text": [
      "\n",
      " 30%|███████████████▎                                   | 75/250 [07:13<16:27,  5.64s/it]\u001b[A"
     ]
    },
    {
     "name": "stdout",
     "output_type": "stream",
     "text": [
      "Training loss: 0.65\n"
     ]
    },
    {
     "name": "stderr",
     "output_type": "stream",
     "text": [
      "\n",
      " 30%|███████████████▌                                   | 76/250 [07:18<16:12,  5.59s/it]\u001b[A"
     ]
    },
    {
     "name": "stdout",
     "output_type": "stream",
     "text": [
      "Training loss: 0.70\n"
     ]
    },
    {
     "name": "stderr",
     "output_type": "stream",
     "text": [
      "\n",
      " 31%|███████████████▋                                   | 77/250 [07:23<15:54,  5.52s/it]\u001b[A"
     ]
    },
    {
     "name": "stdout",
     "output_type": "stream",
     "text": [
      "Training loss: 0.70\n"
     ]
    },
    {
     "name": "stderr",
     "output_type": "stream",
     "text": [
      "\n",
      " 31%|███████████████▉                                   | 78/250 [07:29<16:00,  5.58s/it]\u001b[A"
     ]
    },
    {
     "name": "stdout",
     "output_type": "stream",
     "text": [
      "Training loss: 0.68\n"
     ]
    },
    {
     "name": "stderr",
     "output_type": "stream",
     "text": [
      "\n",
      " 32%|████████████████                                   | 79/250 [07:35<16:04,  5.64s/it]\u001b[A"
     ]
    },
    {
     "name": "stdout",
     "output_type": "stream",
     "text": [
      "Training loss: 0.69\n"
     ]
    },
    {
     "name": "stderr",
     "output_type": "stream",
     "text": [
      "\n",
      " 32%|████████████████▎                                  | 80/250 [07:41<16:16,  5.74s/it]\u001b[A"
     ]
    },
    {
     "name": "stdout",
     "output_type": "stream",
     "text": [
      "Training loss: 0.68\n"
     ]
    },
    {
     "name": "stderr",
     "output_type": "stream",
     "text": [
      "\n",
      " 32%|████████████████▌                                  | 81/250 [07:47<16:16,  5.78s/it]\u001b[A"
     ]
    },
    {
     "name": "stdout",
     "output_type": "stream",
     "text": [
      "Training loss: 0.68\n"
     ]
    },
    {
     "name": "stderr",
     "output_type": "stream",
     "text": [
      "\n",
      " 33%|████████████████▋                                  | 82/250 [07:52<15:54,  5.68s/it]\u001b[A"
     ]
    },
    {
     "name": "stdout",
     "output_type": "stream",
     "text": [
      "Training loss: 0.68\n"
     ]
    },
    {
     "name": "stderr",
     "output_type": "stream",
     "text": [
      "\n",
      " 33%|████████████████▉                                  | 83/250 [07:58<15:50,  5.69s/it]\u001b[A"
     ]
    },
    {
     "name": "stdout",
     "output_type": "stream",
     "text": [
      "Training loss: 0.72\n"
     ]
    },
    {
     "name": "stderr",
     "output_type": "stream",
     "text": [
      "\n",
      " 34%|█████████████████▏                                 | 84/250 [08:04<15:55,  5.75s/it]\u001b[A"
     ]
    },
    {
     "name": "stdout",
     "output_type": "stream",
     "text": [
      "Training loss: 0.69\n"
     ]
    },
    {
     "name": "stderr",
     "output_type": "stream",
     "text": [
      "\n",
      " 34%|█████████████████▎                                 | 85/250 [08:10<15:50,  5.76s/it]\u001b[A"
     ]
    },
    {
     "name": "stdout",
     "output_type": "stream",
     "text": [
      "Training loss: 0.68\n"
     ]
    },
    {
     "name": "stderr",
     "output_type": "stream",
     "text": [
      "\n",
      " 34%|█████████████████▌                                 | 86/250 [08:16<16:24,  6.00s/it]\u001b[A"
     ]
    },
    {
     "name": "stdout",
     "output_type": "stream",
     "text": [
      "Training loss: 0.69\n"
     ]
    },
    {
     "name": "stderr",
     "output_type": "stream",
     "text": [
      "\n",
      " 35%|█████████████████▋                                 | 87/250 [08:22<16:14,  5.98s/it]\u001b[A"
     ]
    },
    {
     "name": "stdout",
     "output_type": "stream",
     "text": [
      "Training loss: 0.71\n"
     ]
    },
    {
     "name": "stderr",
     "output_type": "stream",
     "text": [
      "\n",
      " 35%|█████████████████▉                                 | 88/250 [08:28<16:10,  5.99s/it]\u001b[A"
     ]
    },
    {
     "name": "stdout",
     "output_type": "stream",
     "text": [
      "Training loss: 0.74\n"
     ]
    },
    {
     "name": "stderr",
     "output_type": "stream",
     "text": [
      "\n",
      " 36%|██████████████████▏                                | 89/250 [08:34<15:56,  5.94s/it]\u001b[A"
     ]
    },
    {
     "name": "stdout",
     "output_type": "stream",
     "text": [
      "Training loss: 0.72\n"
     ]
    },
    {
     "name": "stderr",
     "output_type": "stream",
     "text": [
      "\n",
      " 36%|██████████████████▎                                | 90/250 [08:40<15:41,  5.89s/it]\u001b[A"
     ]
    },
    {
     "name": "stdout",
     "output_type": "stream",
     "text": [
      "Training loss: 0.71\n"
     ]
    },
    {
     "name": "stderr",
     "output_type": "stream",
     "text": [
      "\n",
      " 36%|██████████████████▌                                | 91/250 [08:45<15:29,  5.85s/it]\u001b[A"
     ]
    },
    {
     "name": "stdout",
     "output_type": "stream",
     "text": [
      "Training loss: 0.69\n"
     ]
    },
    {
     "name": "stderr",
     "output_type": "stream",
     "text": [
      "\n",
      " 37%|██████████████████▊                                | 92/250 [08:51<15:17,  5.80s/it]\u001b[A"
     ]
    },
    {
     "name": "stdout",
     "output_type": "stream",
     "text": [
      "Training loss: 0.68\n"
     ]
    },
    {
     "name": "stderr",
     "output_type": "stream",
     "text": [
      "\n",
      " 37%|██████████████████▉                                | 93/250 [08:57<14:51,  5.68s/it]\u001b[A"
     ]
    },
    {
     "name": "stdout",
     "output_type": "stream",
     "text": [
      "Training loss: 0.70\n"
     ]
    },
    {
     "name": "stderr",
     "output_type": "stream",
     "text": [
      "\n",
      " 38%|███████████████████▏                               | 94/250 [09:02<14:41,  5.65s/it]\u001b[A"
     ]
    },
    {
     "name": "stdout",
     "output_type": "stream",
     "text": [
      "Training loss: 0.68\n"
     ]
    },
    {
     "name": "stderr",
     "output_type": "stream",
     "text": [
      "\n",
      " 38%|███████████████████▍                               | 95/250 [09:08<14:26,  5.59s/it]\u001b[A"
     ]
    },
    {
     "name": "stdout",
     "output_type": "stream",
     "text": [
      "Training loss: 0.65\n"
     ]
    },
    {
     "name": "stderr",
     "output_type": "stream",
     "text": [
      "\n",
      " 38%|███████████████████▌                               | 96/250 [09:13<14:20,  5.58s/it]\u001b[A"
     ]
    },
    {
     "name": "stdout",
     "output_type": "stream",
     "text": [
      "Training loss: 0.68\n"
     ]
    },
    {
     "name": "stderr",
     "output_type": "stream",
     "text": [
      "\n",
      " 39%|███████████████████▊                               | 97/250 [09:19<14:10,  5.56s/it]\u001b[A"
     ]
    },
    {
     "name": "stdout",
     "output_type": "stream",
     "text": [
      "Training loss: 0.69\n"
     ]
    },
    {
     "name": "stderr",
     "output_type": "stream",
     "text": [
      "\n",
      " 39%|███████████████████▉                               | 98/250 [09:25<14:21,  5.67s/it]\u001b[A"
     ]
    },
    {
     "name": "stdout",
     "output_type": "stream",
     "text": [
      "Training loss: 0.63\n"
     ]
    },
    {
     "name": "stderr",
     "output_type": "stream",
     "text": [
      "\n",
      " 40%|████████████████████▏                              | 99/250 [09:30<14:18,  5.69s/it]\u001b[A"
     ]
    },
    {
     "name": "stdout",
     "output_type": "stream",
     "text": [
      "Training loss: 0.67\n"
     ]
    },
    {
     "name": "stderr",
     "output_type": "stream",
     "text": [
      "\n",
      " 40%|████████████████████                              | 100/250 [09:36<14:17,  5.72s/it]\u001b[A"
     ]
    },
    {
     "name": "stdout",
     "output_type": "stream",
     "text": [
      "Training loss: 0.79\n"
     ]
    },
    {
     "name": "stderr",
     "output_type": "stream",
     "text": [
      "\n",
      " 40%|████████████████████▏                             | 101/250 [09:42<14:29,  5.83s/it]\u001b[A"
     ]
    },
    {
     "name": "stdout",
     "output_type": "stream",
     "text": [
      "Training loss: 0.72\n"
     ]
    },
    {
     "name": "stderr",
     "output_type": "stream",
     "text": [
      "\n",
      " 41%|████████████████████▍                             | 102/250 [09:48<14:20,  5.82s/it]\u001b[A"
     ]
    },
    {
     "name": "stdout",
     "output_type": "stream",
     "text": [
      "Training loss: 0.68\n"
     ]
    },
    {
     "name": "stderr",
     "output_type": "stream",
     "text": [
      "\n",
      " 41%|████████████████████▌                             | 103/250 [09:54<14:02,  5.73s/it]\u001b[A"
     ]
    },
    {
     "name": "stdout",
     "output_type": "stream",
     "text": [
      "Training loss: 0.76\n"
     ]
    },
    {
     "name": "stderr",
     "output_type": "stream",
     "text": [
      "\n",
      " 42%|████████████████████▊                             | 104/250 [09:59<13:53,  5.71s/it]\u001b[A"
     ]
    },
    {
     "name": "stdout",
     "output_type": "stream",
     "text": [
      "Training loss: 0.69\n"
     ]
    },
    {
     "name": "stderr",
     "output_type": "stream",
     "text": [
      "\n",
      " 42%|█████████████████████                             | 105/250 [10:05<13:31,  5.59s/it]\u001b[A"
     ]
    },
    {
     "name": "stdout",
     "output_type": "stream",
     "text": [
      "Training loss: 0.75\n"
     ]
    },
    {
     "name": "stderr",
     "output_type": "stream",
     "text": [
      "\n",
      " 42%|█████████████████████▏                            | 106/250 [10:10<13:27,  5.61s/it]\u001b[A"
     ]
    },
    {
     "name": "stdout",
     "output_type": "stream",
     "text": [
      "Training loss: 0.77\n"
     ]
    },
    {
     "name": "stderr",
     "output_type": "stream",
     "text": [
      "\n",
      " 43%|█████████████████████▍                            | 107/250 [10:16<13:19,  5.59s/it]\u001b[A"
     ]
    },
    {
     "name": "stdout",
     "output_type": "stream",
     "text": [
      "Training loss: 0.80\n"
     ]
    },
    {
     "name": "stderr",
     "output_type": "stream",
     "text": [
      "\n",
      " 43%|█████████████████████▌                            | 108/250 [10:21<13:14,  5.59s/it]\u001b[A"
     ]
    },
    {
     "name": "stdout",
     "output_type": "stream",
     "text": [
      "Training loss: 0.68\n"
     ]
    },
    {
     "name": "stderr",
     "output_type": "stream",
     "text": [
      "\n",
      " 44%|█████████████████████▊                            | 109/250 [10:27<13:19,  5.67s/it]\u001b[A"
     ]
    },
    {
     "name": "stdout",
     "output_type": "stream",
     "text": [
      "Training loss: 0.75\n"
     ]
    },
    {
     "name": "stderr",
     "output_type": "stream",
     "text": [
      "\n",
      " 44%|██████████████████████                            | 110/250 [10:33<13:28,  5.78s/it]\u001b[A"
     ]
    },
    {
     "name": "stdout",
     "output_type": "stream",
     "text": [
      "Training loss: 0.69\n"
     ]
    },
    {
     "name": "stderr",
     "output_type": "stream",
     "text": [
      "\n",
      " 44%|██████████████████████▏                           | 111/250 [10:40<13:48,  5.96s/it]\u001b[A"
     ]
    },
    {
     "name": "stdout",
     "output_type": "stream",
     "text": [
      "Training loss: 0.71\n"
     ]
    },
    {
     "name": "stderr",
     "output_type": "stream",
     "text": [
      "\n",
      " 45%|██████████████████████▍                           | 112/250 [10:45<13:36,  5.92s/it]\u001b[A"
     ]
    },
    {
     "name": "stdout",
     "output_type": "stream",
     "text": [
      "Training loss: 0.71\n"
     ]
    },
    {
     "name": "stderr",
     "output_type": "stream",
     "text": [
      "\n",
      " 45%|██████████████████████▌                           | 113/250 [10:51<13:26,  5.89s/it]\u001b[A"
     ]
    },
    {
     "name": "stdout",
     "output_type": "stream",
     "text": [
      "Training loss: 0.67\n"
     ]
    },
    {
     "name": "stderr",
     "output_type": "stream",
     "text": [
      "\n",
      " 46%|██████████████████████▊                           | 114/250 [10:57<13:14,  5.84s/it]\u001b[A"
     ]
    },
    {
     "name": "stdout",
     "output_type": "stream",
     "text": [
      "Training loss: 0.69\n"
     ]
    },
    {
     "name": "stderr",
     "output_type": "stream",
     "text": [
      "\n",
      " 46%|███████████████████████                           | 115/250 [11:03<13:21,  5.94s/it]\u001b[A"
     ]
    },
    {
     "name": "stdout",
     "output_type": "stream",
     "text": [
      "Training loss: 0.72\n"
     ]
    },
    {
     "name": "stderr",
     "output_type": "stream",
     "text": [
      "\n",
      " 46%|███████████████████████▏                          | 116/250 [11:09<13:00,  5.82s/it]\u001b[A"
     ]
    },
    {
     "name": "stdout",
     "output_type": "stream",
     "text": [
      "Training loss: 0.71\n"
     ]
    },
    {
     "name": "stderr",
     "output_type": "stream",
     "text": [
      "\n",
      " 47%|███████████████████████▍                          | 117/250 [11:14<12:47,  5.77s/it]\u001b[A"
     ]
    },
    {
     "name": "stdout",
     "output_type": "stream",
     "text": [
      "Training loss: 0.71\n"
     ]
    },
    {
     "name": "stderr",
     "output_type": "stream",
     "text": [
      "\n",
      " 47%|███████████████████████▌                          | 118/250 [11:20<12:37,  5.74s/it]\u001b[A"
     ]
    },
    {
     "name": "stdout",
     "output_type": "stream",
     "text": [
      "Training loss: 0.67\n"
     ]
    },
    {
     "name": "stderr",
     "output_type": "stream",
     "text": [
      "\n",
      " 48%|███████████████████████▊                          | 119/250 [11:26<12:36,  5.78s/it]\u001b[A"
     ]
    },
    {
     "name": "stdout",
     "output_type": "stream",
     "text": [
      "Training loss: 0.66\n"
     ]
    },
    {
     "name": "stderr",
     "output_type": "stream",
     "text": [
      "\n",
      " 48%|████████████████████████                          | 120/250 [11:32<12:30,  5.77s/it]\u001b[A"
     ]
    },
    {
     "name": "stdout",
     "output_type": "stream",
     "text": [
      "Training loss: 0.71\n"
     ]
    },
    {
     "name": "stderr",
     "output_type": "stream",
     "text": [
      "\n",
      " 48%|████████████████████████▏                         | 121/250 [11:37<12:18,  5.72s/it]\u001b[A"
     ]
    },
    {
     "name": "stdout",
     "output_type": "stream",
     "text": [
      "Training loss: 0.73\n"
     ]
    },
    {
     "name": "stderr",
     "output_type": "stream",
     "text": [
      "\n",
      " 49%|████████████████████████▍                         | 122/250 [11:43<12:16,  5.75s/it]\u001b[A"
     ]
    },
    {
     "name": "stdout",
     "output_type": "stream",
     "text": [
      "Training loss: 0.70\n"
     ]
    },
    {
     "name": "stderr",
     "output_type": "stream",
     "text": [
      "\n",
      " 49%|████████████████████████▌                         | 123/250 [11:49<12:23,  5.85s/it]\u001b[A"
     ]
    },
    {
     "name": "stdout",
     "output_type": "stream",
     "text": [
      "Training loss: 0.70\n"
     ]
    },
    {
     "name": "stderr",
     "output_type": "stream",
     "text": [
      "\n",
      " 50%|████████████████████████▊                         | 124/250 [11:55<12:03,  5.74s/it]\u001b[A"
     ]
    },
    {
     "name": "stdout",
     "output_type": "stream",
     "text": [
      "Training loss: 0.65\n"
     ]
    },
    {
     "name": "stderr",
     "output_type": "stream",
     "text": [
      "\n",
      " 50%|█████████████████████████                         | 125/250 [12:00<11:57,  5.74s/it]\u001b[A"
     ]
    },
    {
     "name": "stdout",
     "output_type": "stream",
     "text": [
      "Training loss: 0.69\n"
     ]
    },
    {
     "name": "stderr",
     "output_type": "stream",
     "text": [
      "\n",
      " 50%|█████████████████████████▏                        | 126/250 [12:06<11:49,  5.72s/it]\u001b[A"
     ]
    },
    {
     "name": "stdout",
     "output_type": "stream",
     "text": [
      "Training loss: 0.71\n"
     ]
    },
    {
     "name": "stderr",
     "output_type": "stream",
     "text": [
      "\n",
      " 51%|█████████████████████████▍                        | 127/250 [12:12<11:47,  5.75s/it]\u001b[A"
     ]
    },
    {
     "name": "stdout",
     "output_type": "stream",
     "text": [
      "Training loss: 0.63\n"
     ]
    },
    {
     "name": "stderr",
     "output_type": "stream",
     "text": [
      "\n",
      " 51%|█████████████████████████▌                        | 128/250 [12:17<11:33,  5.68s/it]\u001b[A"
     ]
    },
    {
     "name": "stdout",
     "output_type": "stream",
     "text": [
      "Training loss: 0.69\n"
     ]
    },
    {
     "name": "stderr",
     "output_type": "stream",
     "text": [
      "\n",
      " 52%|█████████████████████████▊                        | 129/250 [12:23<11:34,  5.74s/it]\u001b[A"
     ]
    },
    {
     "name": "stdout",
     "output_type": "stream",
     "text": [
      "Training loss: 0.70\n"
     ]
    },
    {
     "name": "stderr",
     "output_type": "stream",
     "text": [
      "\n",
      " 52%|██████████████████████████                        | 130/250 [12:29<11:19,  5.67s/it]\u001b[A"
     ]
    },
    {
     "name": "stdout",
     "output_type": "stream",
     "text": [
      "Training loss: 0.66\n"
     ]
    },
    {
     "name": "stderr",
     "output_type": "stream",
     "text": [
      "\n",
      " 52%|██████████████████████████▏                       | 131/250 [12:34<11:10,  5.63s/it]\u001b[A"
     ]
    },
    {
     "name": "stdout",
     "output_type": "stream",
     "text": [
      "Training loss: 0.72\n"
     ]
    },
    {
     "name": "stderr",
     "output_type": "stream",
     "text": [
      "\n",
      " 53%|██████████████████████████▍                       | 132/250 [12:40<11:04,  5.63s/it]\u001b[A"
     ]
    },
    {
     "name": "stdout",
     "output_type": "stream",
     "text": [
      "Training loss: 0.65\n"
     ]
    },
    {
     "name": "stderr",
     "output_type": "stream",
     "text": [
      "\n",
      " 53%|██████████████████████████▌                       | 133/250 [12:45<10:55,  5.60s/it]\u001b[A"
     ]
    },
    {
     "name": "stdout",
     "output_type": "stream",
     "text": [
      "Training loss: 0.74\n"
     ]
    },
    {
     "name": "stderr",
     "output_type": "stream",
     "text": [
      "\n",
      " 54%|██████████████████████████▊                       | 134/250 [12:51<10:52,  5.62s/it]\u001b[A"
     ]
    },
    {
     "name": "stdout",
     "output_type": "stream",
     "text": [
      "Training loss: 0.68\n"
     ]
    },
    {
     "name": "stderr",
     "output_type": "stream",
     "text": [
      "\n",
      " 54%|███████████████████████████                       | 135/250 [12:57<10:50,  5.65s/it]\u001b[A"
     ]
    },
    {
     "name": "stdout",
     "output_type": "stream",
     "text": [
      "Training loss: 0.74\n"
     ]
    },
    {
     "name": "stderr",
     "output_type": "stream",
     "text": [
      "\n",
      " 54%|███████████████████████████▏                      | 136/250 [13:03<10:54,  5.74s/it]\u001b[A"
     ]
    },
    {
     "name": "stdout",
     "output_type": "stream",
     "text": [
      "Training loss: 0.77\n"
     ]
    },
    {
     "name": "stderr",
     "output_type": "stream",
     "text": [
      "\n",
      " 55%|███████████████████████████▍                      | 137/250 [13:08<10:45,  5.71s/it]\u001b[A"
     ]
    },
    {
     "name": "stdout",
     "output_type": "stream",
     "text": [
      "Training loss: 0.73\n"
     ]
    },
    {
     "name": "stderr",
     "output_type": "stream",
     "text": [
      "\n",
      " 55%|███████████████████████████▌                      | 138/250 [13:14<10:32,  5.65s/it]\u001b[A"
     ]
    },
    {
     "name": "stdout",
     "output_type": "stream",
     "text": [
      "Training loss: 0.67\n"
     ]
    },
    {
     "name": "stderr",
     "output_type": "stream",
     "text": [
      "\n",
      " 56%|███████████████████████████▊                      | 139/250 [13:20<10:27,  5.65s/it]\u001b[A"
     ]
    },
    {
     "name": "stdout",
     "output_type": "stream",
     "text": [
      "Training loss: 0.68\n"
     ]
    },
    {
     "name": "stderr",
     "output_type": "stream",
     "text": [
      "\n",
      " 56%|████████████████████████████                      | 140/250 [13:25<10:27,  5.70s/it]\u001b[A"
     ]
    },
    {
     "name": "stdout",
     "output_type": "stream",
     "text": [
      "Training loss: 0.79\n"
     ]
    },
    {
     "name": "stderr",
     "output_type": "stream",
     "text": [
      "\n",
      " 56%|████████████████████████████▏                     | 141/250 [13:31<10:26,  5.75s/it]\u001b[A"
     ]
    },
    {
     "name": "stdout",
     "output_type": "stream",
     "text": [
      "Training loss: 0.69\n"
     ]
    },
    {
     "name": "stderr",
     "output_type": "stream",
     "text": [
      "\n",
      " 57%|████████████████████████████▍                     | 142/250 [13:37<10:21,  5.76s/it]\u001b[A"
     ]
    },
    {
     "name": "stdout",
     "output_type": "stream",
     "text": [
      "Training loss: 0.69\n"
     ]
    },
    {
     "name": "stderr",
     "output_type": "stream",
     "text": [
      "\n",
      " 57%|████████████████████████████▌                     | 143/250 [13:43<10:18,  5.78s/it]\u001b[A"
     ]
    },
    {
     "name": "stdout",
     "output_type": "stream",
     "text": [
      "Training loss: 0.70\n"
     ]
    },
    {
     "name": "stderr",
     "output_type": "stream",
     "text": [
      "\n",
      " 58%|████████████████████████████▊                     | 144/250 [13:48<10:02,  5.68s/it]\u001b[A"
     ]
    },
    {
     "name": "stdout",
     "output_type": "stream",
     "text": [
      "Training loss: 0.65\n"
     ]
    },
    {
     "name": "stderr",
     "output_type": "stream",
     "text": [
      "\n",
      " 58%|████████████████████████████▉                     | 145/250 [13:54<09:55,  5.67s/it]\u001b[A"
     ]
    },
    {
     "name": "stdout",
     "output_type": "stream",
     "text": [
      "Training loss: 0.67\n"
     ]
    },
    {
     "name": "stderr",
     "output_type": "stream",
     "text": [
      "\n",
      " 58%|█████████████████████████████▏                    | 146/250 [14:00<09:49,  5.67s/it]\u001b[A"
     ]
    },
    {
     "name": "stdout",
     "output_type": "stream",
     "text": [
      "Training loss: 0.70\n"
     ]
    },
    {
     "name": "stderr",
     "output_type": "stream",
     "text": [
      "\n",
      " 59%|█████████████████████████████▍                    | 147/250 [14:06<09:52,  5.76s/it]\u001b[A"
     ]
    },
    {
     "name": "stdout",
     "output_type": "stream",
     "text": [
      "Training loss: 0.72\n"
     ]
    },
    {
     "name": "stderr",
     "output_type": "stream",
     "text": [
      "\n",
      " 59%|█████████████████████████████▌                    | 148/250 [14:11<09:51,  5.80s/it]\u001b[A"
     ]
    },
    {
     "name": "stdout",
     "output_type": "stream",
     "text": [
      "Training loss: 0.72\n"
     ]
    },
    {
     "name": "stderr",
     "output_type": "stream",
     "text": [
      "\n",
      " 60%|█████████████████████████████▊                    | 149/250 [14:18<10:00,  5.94s/it]\u001b[A"
     ]
    },
    {
     "name": "stdout",
     "output_type": "stream",
     "text": [
      "Training loss: 0.67\n"
     ]
    },
    {
     "name": "stderr",
     "output_type": "stream",
     "text": [
      "\n",
      " 60%|██████████████████████████████                    | 150/250 [14:24<09:59,  5.99s/it]\u001b[A"
     ]
    },
    {
     "name": "stdout",
     "output_type": "stream",
     "text": [
      "Training loss: 0.71\n"
     ]
    },
    {
     "name": "stderr",
     "output_type": "stream",
     "text": [
      "\n",
      " 60%|██████████████████████████████▏                   | 151/250 [14:30<09:47,  5.93s/it]\u001b[A"
     ]
    },
    {
     "name": "stdout",
     "output_type": "stream",
     "text": [
      "Training loss: 0.71\n"
     ]
    },
    {
     "name": "stderr",
     "output_type": "stream",
     "text": [
      "\n",
      " 61%|██████████████████████████████▍                   | 152/250 [14:36<09:38,  5.91s/it]\u001b[A"
     ]
    },
    {
     "name": "stdout",
     "output_type": "stream",
     "text": [
      "Training loss: 0.70\n"
     ]
    },
    {
     "name": "stderr",
     "output_type": "stream",
     "text": [
      "\n",
      " 61%|██████████████████████████████▌                   | 153/250 [14:42<09:37,  5.96s/it]\u001b[A"
     ]
    },
    {
     "name": "stdout",
     "output_type": "stream",
     "text": [
      "Training loss: 0.72\n"
     ]
    },
    {
     "name": "stderr",
     "output_type": "stream",
     "text": [
      "\n",
      " 62%|██████████████████████████████▊                   | 154/250 [14:47<09:30,  5.94s/it]\u001b[A"
     ]
    },
    {
     "name": "stdout",
     "output_type": "stream",
     "text": [
      "Training loss: 0.69\n"
     ]
    },
    {
     "name": "stderr",
     "output_type": "stream",
     "text": [
      "\n",
      " 62%|███████████████████████████████                   | 155/250 [14:54<09:30,  6.01s/it]\u001b[A"
     ]
    },
    {
     "name": "stdout",
     "output_type": "stream",
     "text": [
      "Training loss: 0.68\n"
     ]
    },
    {
     "name": "stderr",
     "output_type": "stream",
     "text": [
      "\n",
      " 62%|███████████████████████████████▏                  | 156/250 [15:00<09:28,  6.05s/it]\u001b[A"
     ]
    },
    {
     "name": "stdout",
     "output_type": "stream",
     "text": [
      "Training loss: 0.67\n"
     ]
    },
    {
     "name": "stderr",
     "output_type": "stream",
     "text": [
      "\n",
      " 63%|███████████████████████████████▍                  | 157/250 [15:05<09:11,  5.93s/it]\u001b[A"
     ]
    },
    {
     "name": "stdout",
     "output_type": "stream",
     "text": [
      "Training loss: 0.71\n"
     ]
    },
    {
     "name": "stderr",
     "output_type": "stream",
     "text": [
      "\n",
      " 63%|███████████████████████████████▌                  | 158/250 [15:11<09:00,  5.88s/it]\u001b[A"
     ]
    },
    {
     "name": "stdout",
     "output_type": "stream",
     "text": [
      "Training loss: 0.73\n"
     ]
    },
    {
     "name": "stderr",
     "output_type": "stream",
     "text": [
      "\n",
      " 64%|███████████████████████████████▊                  | 159/250 [15:17<08:50,  5.83s/it]\u001b[A"
     ]
    },
    {
     "name": "stdout",
     "output_type": "stream",
     "text": [
      "Training loss: 0.72\n"
     ]
    },
    {
     "name": "stderr",
     "output_type": "stream",
     "text": [
      "\n",
      " 64%|████████████████████████████████                  | 160/250 [15:23<08:40,  5.78s/it]\u001b[A"
     ]
    },
    {
     "name": "stdout",
     "output_type": "stream",
     "text": [
      "Training loss: 0.71\n"
     ]
    },
    {
     "name": "stderr",
     "output_type": "stream",
     "text": [
      "\n",
      " 64%|████████████████████████████████▏                 | 161/250 [15:29<08:38,  5.82s/it]\u001b[A"
     ]
    },
    {
     "name": "stdout",
     "output_type": "stream",
     "text": [
      "Training loss: 0.66\n"
     ]
    },
    {
     "name": "stderr",
     "output_type": "stream",
     "text": [
      "\n",
      " 65%|████████████████████████████████▍                 | 162/250 [15:34<08:34,  5.85s/it]\u001b[A"
     ]
    },
    {
     "name": "stdout",
     "output_type": "stream",
     "text": [
      "Training loss: 0.67\n"
     ]
    },
    {
     "name": "stderr",
     "output_type": "stream",
     "text": [
      "\n",
      " 65%|████████████████████████████████▌                 | 163/250 [15:40<08:33,  5.90s/it]\u001b[A"
     ]
    },
    {
     "name": "stdout",
     "output_type": "stream",
     "text": [
      "Training loss: 0.70\n"
     ]
    },
    {
     "name": "stderr",
     "output_type": "stream",
     "text": [
      "\n",
      " 66%|████████████████████████████████▊                 | 164/250 [15:46<08:24,  5.86s/it]\u001b[A"
     ]
    },
    {
     "name": "stdout",
     "output_type": "stream",
     "text": [
      "Training loss: 0.68\n"
     ]
    },
    {
     "name": "stderr",
     "output_type": "stream",
     "text": [
      "\n",
      " 66%|█████████████████████████████████                 | 165/250 [15:52<08:10,  5.77s/it]\u001b[A"
     ]
    },
    {
     "name": "stdout",
     "output_type": "stream",
     "text": [
      "Training loss: 0.70\n"
     ]
    },
    {
     "name": "stderr",
     "output_type": "stream",
     "text": [
      "\n",
      " 66%|█████████████████████████████████▏                | 166/250 [15:57<07:59,  5.70s/it]\u001b[A"
     ]
    },
    {
     "name": "stdout",
     "output_type": "stream",
     "text": [
      "Training loss: 0.71\n"
     ]
    },
    {
     "name": "stderr",
     "output_type": "stream",
     "text": [
      "\n",
      " 67%|█████████████████████████████████▍                | 167/250 [16:03<07:53,  5.70s/it]\u001b[A"
     ]
    },
    {
     "name": "stdout",
     "output_type": "stream",
     "text": [
      "Training loss: 0.68\n"
     ]
    },
    {
     "name": "stderr",
     "output_type": "stream",
     "text": [
      "\n",
      " 67%|█████████████████████████████████▌                | 168/250 [16:09<07:44,  5.67s/it]\u001b[A"
     ]
    },
    {
     "name": "stdout",
     "output_type": "stream",
     "text": [
      "Training loss: 0.71\n"
     ]
    },
    {
     "name": "stderr",
     "output_type": "stream",
     "text": [
      "\n",
      " 68%|█████████████████████████████████▊                | 169/250 [16:15<07:46,  5.75s/it]\u001b[A"
     ]
    },
    {
     "name": "stdout",
     "output_type": "stream",
     "text": [
      "Training loss: 0.68\n"
     ]
    },
    {
     "name": "stderr",
     "output_type": "stream",
     "text": [
      "\n",
      " 68%|██████████████████████████████████                | 170/250 [16:20<07:36,  5.71s/it]\u001b[A"
     ]
    },
    {
     "name": "stdout",
     "output_type": "stream",
     "text": [
      "Training loss: 0.65\n"
     ]
    },
    {
     "name": "stderr",
     "output_type": "stream",
     "text": [
      "\n",
      " 68%|██████████████████████████████████▏               | 171/250 [16:26<07:32,  5.73s/it]\u001b[A"
     ]
    },
    {
     "name": "stdout",
     "output_type": "stream",
     "text": [
      "Training loss: 0.70\n"
     ]
    },
    {
     "name": "stderr",
     "output_type": "stream",
     "text": [
      "\n",
      " 69%|██████████████████████████████████▍               | 172/250 [16:32<07:24,  5.70s/it]\u001b[A"
     ]
    },
    {
     "name": "stdout",
     "output_type": "stream",
     "text": [
      "Training loss: 0.70\n"
     ]
    },
    {
     "name": "stderr",
     "output_type": "stream",
     "text": [
      "\n",
      " 69%|██████████████████████████████████▌               | 173/250 [16:37<07:20,  5.72s/it]\u001b[A"
     ]
    },
    {
     "name": "stdout",
     "output_type": "stream",
     "text": [
      "Training loss: 0.67\n"
     ]
    },
    {
     "name": "stderr",
     "output_type": "stream",
     "text": [
      "\n",
      " 70%|██████████████████████████████████▊               | 174/250 [16:43<07:13,  5.70s/it]\u001b[A"
     ]
    },
    {
     "name": "stdout",
     "output_type": "stream",
     "text": [
      "Training loss: 0.70\n"
     ]
    },
    {
     "name": "stderr",
     "output_type": "stream",
     "text": [
      "\n",
      " 70%|███████████████████████████████████               | 175/250 [16:49<07:05,  5.67s/it]\u001b[A"
     ]
    },
    {
     "name": "stdout",
     "output_type": "stream",
     "text": [
      "Training loss: 0.70\n"
     ]
    },
    {
     "name": "stderr",
     "output_type": "stream",
     "text": [
      "\n",
      " 70%|███████████████████████████████████▏              | 176/250 [16:54<06:55,  5.62s/it]\u001b[A"
     ]
    },
    {
     "name": "stdout",
     "output_type": "stream",
     "text": [
      "Training loss: 0.71\n"
     ]
    },
    {
     "name": "stderr",
     "output_type": "stream",
     "text": [
      "\n",
      " 71%|███████████████████████████████████▍              | 177/250 [17:00<06:53,  5.67s/it]\u001b[A"
     ]
    },
    {
     "name": "stdout",
     "output_type": "stream",
     "text": [
      "Training loss: 0.67\n"
     ]
    },
    {
     "name": "stderr",
     "output_type": "stream",
     "text": [
      "\n",
      " 71%|███████████████████████████████████▌              | 178/250 [17:06<06:50,  5.70s/it]\u001b[A"
     ]
    },
    {
     "name": "stdout",
     "output_type": "stream",
     "text": [
      "Training loss: 0.70\n"
     ]
    },
    {
     "name": "stderr",
     "output_type": "stream",
     "text": [
      "\n",
      " 72%|███████████████████████████████████▊              | 179/250 [17:11<06:46,  5.73s/it]\u001b[A"
     ]
    },
    {
     "name": "stdout",
     "output_type": "stream",
     "text": [
      "Training loss: 0.70\n"
     ]
    },
    {
     "name": "stderr",
     "output_type": "stream",
     "text": [
      "\n",
      " 72%|████████████████████████████████████              | 180/250 [17:17<06:38,  5.69s/it]\u001b[A"
     ]
    },
    {
     "name": "stdout",
     "output_type": "stream",
     "text": [
      "Training loss: 0.68\n"
     ]
    },
    {
     "name": "stderr",
     "output_type": "stream",
     "text": [
      "\n",
      " 72%|████████████████████████████████████▏             | 181/250 [17:23<06:35,  5.73s/it]\u001b[A"
     ]
    },
    {
     "name": "stdout",
     "output_type": "stream",
     "text": [
      "Training loss: 0.73\n"
     ]
    },
    {
     "name": "stderr",
     "output_type": "stream",
     "text": [
      "\n",
      " 73%|████████████████████████████████████▍             | 182/250 [17:29<06:30,  5.75s/it]\u001b[A"
     ]
    },
    {
     "name": "stdout",
     "output_type": "stream",
     "text": [
      "Training loss: 0.67\n"
     ]
    },
    {
     "name": "stderr",
     "output_type": "stream",
     "text": [
      "\n",
      " 73%|████████████████████████████████████▌             | 183/250 [17:34<06:25,  5.76s/it]\u001b[A"
     ]
    },
    {
     "name": "stdout",
     "output_type": "stream",
     "text": [
      "Training loss: 0.70\n"
     ]
    },
    {
     "name": "stderr",
     "output_type": "stream",
     "text": [
      "\n",
      " 74%|████████████████████████████████████▊             | 184/250 [17:40<06:22,  5.79s/it]\u001b[A"
     ]
    },
    {
     "name": "stdout",
     "output_type": "stream",
     "text": [
      "Training loss: 0.71\n"
     ]
    },
    {
     "name": "stderr",
     "output_type": "stream",
     "text": [
      "\n",
      " 74%|█████████████████████████████████████             | 185/250 [17:46<06:18,  5.82s/it]\u001b[A"
     ]
    },
    {
     "name": "stdout",
     "output_type": "stream",
     "text": [
      "Training loss: 0.70\n"
     ]
    },
    {
     "name": "stderr",
     "output_type": "stream",
     "text": [
      "\n",
      " 74%|█████████████████████████████████████▏            | 186/250 [17:52<06:10,  5.79s/it]\u001b[A"
     ]
    },
    {
     "name": "stdout",
     "output_type": "stream",
     "text": [
      "Training loss: 0.69\n"
     ]
    },
    {
     "name": "stderr",
     "output_type": "stream",
     "text": [
      "\n",
      " 75%|█████████████████████████████████████▍            | 187/250 [17:58<06:04,  5.78s/it]\u001b[A"
     ]
    },
    {
     "name": "stdout",
     "output_type": "stream",
     "text": [
      "Training loss: 0.70\n"
     ]
    },
    {
     "name": "stderr",
     "output_type": "stream",
     "text": [
      "\n",
      " 75%|█████████████████████████████████████▌            | 188/250 [18:03<05:54,  5.71s/it]\u001b[A"
     ]
    },
    {
     "name": "stdout",
     "output_type": "stream",
     "text": [
      "Training loss: 0.68\n"
     ]
    },
    {
     "name": "stderr",
     "output_type": "stream",
     "text": [
      "\n",
      " 76%|█████████████████████████████████████▊            | 189/250 [18:09<05:48,  5.72s/it]\u001b[A"
     ]
    },
    {
     "name": "stdout",
     "output_type": "stream",
     "text": [
      "Training loss: 0.71\n"
     ]
    },
    {
     "name": "stderr",
     "output_type": "stream",
     "text": [
      "\n",
      " 76%|██████████████████████████████████████            | 190/250 [18:15<05:41,  5.69s/it]\u001b[A"
     ]
    },
    {
     "name": "stdout",
     "output_type": "stream",
     "text": [
      "Training loss: 0.69\n"
     ]
    },
    {
     "name": "stderr",
     "output_type": "stream",
     "text": [
      "\n",
      " 76%|██████████████████████████████████████▏           | 191/250 [18:20<05:37,  5.72s/it]\u001b[A"
     ]
    },
    {
     "name": "stdout",
     "output_type": "stream",
     "text": [
      "Training loss: 0.71\n"
     ]
    },
    {
     "name": "stderr",
     "output_type": "stream",
     "text": [
      "\n",
      " 77%|██████████████████████████████████████▍           | 192/250 [18:26<05:30,  5.70s/it]\u001b[A"
     ]
    },
    {
     "name": "stdout",
     "output_type": "stream",
     "text": [
      "Training loss: 0.70\n"
     ]
    },
    {
     "name": "stderr",
     "output_type": "stream",
     "text": [
      "\n",
      " 77%|██████████████████████████████████████▌           | 193/250 [18:32<05:26,  5.73s/it]\u001b[A"
     ]
    },
    {
     "name": "stdout",
     "output_type": "stream",
     "text": [
      "Training loss: 0.72\n"
     ]
    },
    {
     "name": "stderr",
     "output_type": "stream",
     "text": [
      "\n",
      " 78%|██████████████████████████████████████▊           | 194/250 [18:38<05:23,  5.77s/it]\u001b[A"
     ]
    },
    {
     "name": "stdout",
     "output_type": "stream",
     "text": [
      "Training loss: 0.69\n"
     ]
    },
    {
     "name": "stderr",
     "output_type": "stream",
     "text": [
      "\n",
      " 78%|███████████████████████████████████████           | 195/250 [18:43<05:14,  5.72s/it]\u001b[A"
     ]
    },
    {
     "name": "stdout",
     "output_type": "stream",
     "text": [
      "Training loss: 0.75\n"
     ]
    },
    {
     "name": "stderr",
     "output_type": "stream",
     "text": [
      "\n",
      " 78%|███████████████████████████████████████▏          | 196/250 [18:49<05:07,  5.69s/it]\u001b[A"
     ]
    },
    {
     "name": "stdout",
     "output_type": "stream",
     "text": [
      "Training loss: 0.69\n"
     ]
    },
    {
     "name": "stderr",
     "output_type": "stream",
     "text": [
      "\n",
      " 79%|███████████████████████████████████████▍          | 197/250 [18:55<05:02,  5.71s/it]\u001b[A"
     ]
    },
    {
     "name": "stdout",
     "output_type": "stream",
     "text": [
      "Training loss: 0.67\n"
     ]
    },
    {
     "name": "stderr",
     "output_type": "stream",
     "text": [
      "\n",
      " 79%|███████████████████████████████████████▌          | 198/250 [19:00<04:55,  5.68s/it]\u001b[A"
     ]
    },
    {
     "name": "stdout",
     "output_type": "stream",
     "text": [
      "Training loss: 0.70\n"
     ]
    },
    {
     "name": "stderr",
     "output_type": "stream",
     "text": [
      "\n",
      " 80%|███████████████████████████████████████▊          | 199/250 [19:06<04:52,  5.73s/it]\u001b[A"
     ]
    },
    {
     "name": "stdout",
     "output_type": "stream",
     "text": [
      "Training loss: 0.70\n"
     ]
    },
    {
     "name": "stderr",
     "output_type": "stream",
     "text": [
      "\n",
      " 80%|████████████████████████████████████████          | 200/250 [19:12<04:43,  5.67s/it]\u001b[A"
     ]
    },
    {
     "name": "stdout",
     "output_type": "stream",
     "text": [
      "Training loss: 0.70\n"
     ]
    },
    {
     "name": "stderr",
     "output_type": "stream",
     "text": [
      "\n",
      " 80%|████████████████████████████████████████▏         | 201/250 [19:17<04:38,  5.68s/it]\u001b[A"
     ]
    },
    {
     "name": "stdout",
     "output_type": "stream",
     "text": [
      "Training loss: 0.68\n"
     ]
    },
    {
     "name": "stderr",
     "output_type": "stream",
     "text": [
      "\n",
      " 81%|████████████████████████████████████████▍         | 202/250 [19:23<04:33,  5.70s/it]\u001b[A"
     ]
    },
    {
     "name": "stdout",
     "output_type": "stream",
     "text": [
      "Training loss: 0.70\n"
     ]
    },
    {
     "name": "stderr",
     "output_type": "stream",
     "text": [
      "\n",
      " 81%|████████████████████████████████████████▌         | 203/250 [19:29<04:33,  5.81s/it]\u001b[A"
     ]
    },
    {
     "name": "stdout",
     "output_type": "stream",
     "text": [
      "Training loss: 0.69\n"
     ]
    },
    {
     "name": "stderr",
     "output_type": "stream",
     "text": [
      "\n",
      " 82%|████████████████████████████████████████▊         | 204/250 [19:35<04:26,  5.79s/it]\u001b[A"
     ]
    },
    {
     "name": "stdout",
     "output_type": "stream",
     "text": [
      "Training loss: 0.70\n"
     ]
    },
    {
     "name": "stderr",
     "output_type": "stream",
     "text": [
      "\n",
      " 82%|█████████████████████████████████████████         | 205/250 [19:41<04:25,  5.89s/it]\u001b[A"
     ]
    },
    {
     "name": "stdout",
     "output_type": "stream",
     "text": [
      "Training loss: 0.70\n"
     ]
    },
    {
     "name": "stderr",
     "output_type": "stream",
     "text": [
      "\n",
      " 82%|█████████████████████████████████████████▏        | 206/250 [19:47<04:19,  5.91s/it]\u001b[A"
     ]
    },
    {
     "name": "stdout",
     "output_type": "stream",
     "text": [
      "Training loss: 0.70\n"
     ]
    },
    {
     "name": "stderr",
     "output_type": "stream",
     "text": [
      "\n",
      " 83%|█████████████████████████████████████████▍        | 207/250 [19:53<04:11,  5.84s/it]\u001b[A"
     ]
    },
    {
     "name": "stdout",
     "output_type": "stream",
     "text": [
      "Training loss: 0.70\n"
     ]
    },
    {
     "name": "stderr",
     "output_type": "stream",
     "text": [
      "\n",
      " 83%|█████████████████████████████████████████▌        | 208/250 [19:58<04:01,  5.74s/it]\u001b[A"
     ]
    },
    {
     "name": "stdout",
     "output_type": "stream",
     "text": [
      "Training loss: 0.69\n"
     ]
    },
    {
     "name": "stderr",
     "output_type": "stream",
     "text": [
      "\n",
      " 84%|█████████████████████████████████████████▊        | 209/250 [20:04<03:54,  5.71s/it]\u001b[A"
     ]
    },
    {
     "name": "stdout",
     "output_type": "stream",
     "text": [
      "Training loss: 0.68\n"
     ]
    },
    {
     "name": "stderr",
     "output_type": "stream",
     "text": [
      "\n",
      " 84%|██████████████████████████████████████████        | 210/250 [20:10<03:49,  5.73s/it]\u001b[A"
     ]
    },
    {
     "name": "stdout",
     "output_type": "stream",
     "text": [
      "Training loss: 0.72\n"
     ]
    },
    {
     "name": "stderr",
     "output_type": "stream",
     "text": [
      "\n",
      " 84%|██████████████████████████████████████████▏       | 211/250 [20:15<03:42,  5.71s/it]\u001b[A"
     ]
    },
    {
     "name": "stdout",
     "output_type": "stream",
     "text": [
      "Training loss: 0.66\n"
     ]
    },
    {
     "name": "stderr",
     "output_type": "stream",
     "text": [
      "\n",
      " 85%|██████████████████████████████████████████▍       | 212/250 [20:21<03:38,  5.75s/it]\u001b[A"
     ]
    },
    {
     "name": "stdout",
     "output_type": "stream",
     "text": [
      "Training loss: 0.73\n"
     ]
    },
    {
     "name": "stderr",
     "output_type": "stream",
     "text": [
      "\n",
      " 85%|██████████████████████████████████████████▌       | 213/250 [20:27<03:36,  5.84s/it]\u001b[A"
     ]
    },
    {
     "name": "stdout",
     "output_type": "stream",
     "text": [
      "Training loss: 0.68\n"
     ]
    },
    {
     "name": "stderr",
     "output_type": "stream",
     "text": [
      "\n",
      " 86%|██████████████████████████████████████████▊       | 214/250 [20:33<03:29,  5.81s/it]\u001b[A"
     ]
    },
    {
     "name": "stdout",
     "output_type": "stream",
     "text": [
      "Training loss: 0.67\n"
     ]
    },
    {
     "name": "stderr",
     "output_type": "stream",
     "text": [
      "\n",
      " 86%|███████████████████████████████████████████       | 215/250 [20:39<03:22,  5.78s/it]\u001b[A"
     ]
    },
    {
     "name": "stdout",
     "output_type": "stream",
     "text": [
      "Training loss: 0.69\n"
     ]
    },
    {
     "name": "stderr",
     "output_type": "stream",
     "text": [
      "\n",
      " 86%|███████████████████████████████████████████▏      | 216/250 [20:44<03:14,  5.72s/it]\u001b[A"
     ]
    },
    {
     "name": "stdout",
     "output_type": "stream",
     "text": [
      "Training loss: 0.72\n"
     ]
    },
    {
     "name": "stderr",
     "output_type": "stream",
     "text": [
      "\n",
      " 87%|███████████████████████████████████████████▍      | 217/250 [20:50<03:06,  5.66s/it]\u001b[A"
     ]
    },
    {
     "name": "stdout",
     "output_type": "stream",
     "text": [
      "Training loss: 0.70\n"
     ]
    },
    {
     "name": "stderr",
     "output_type": "stream",
     "text": [
      "\n",
      " 87%|███████████████████████████████████████████▌      | 218/250 [20:55<03:01,  5.68s/it]\u001b[A"
     ]
    },
    {
     "name": "stdout",
     "output_type": "stream",
     "text": [
      "Training loss: 0.68\n"
     ]
    },
    {
     "name": "stderr",
     "output_type": "stream",
     "text": [
      "\n",
      " 88%|███████████████████████████████████████████▊      | 219/250 [21:01<02:55,  5.67s/it]\u001b[A"
     ]
    },
    {
     "name": "stdout",
     "output_type": "stream",
     "text": [
      "Training loss: 0.70\n"
     ]
    },
    {
     "name": "stderr",
     "output_type": "stream",
     "text": [
      "\n",
      " 88%|████████████████████████████████████████████      | 220/250 [21:07<02:47,  5.60s/it]\u001b[A"
     ]
    },
    {
     "name": "stdout",
     "output_type": "stream",
     "text": [
      "Training loss: 0.69\n"
     ]
    },
    {
     "name": "stderr",
     "output_type": "stream",
     "text": [
      "\n",
      " 88%|████████████████████████████████████████████▏     | 221/250 [21:12<02:43,  5.65s/it]\u001b[A"
     ]
    },
    {
     "name": "stdout",
     "output_type": "stream",
     "text": [
      "Training loss: 0.70\n"
     ]
    },
    {
     "name": "stderr",
     "output_type": "stream",
     "text": [
      "\n",
      " 89%|████████████████████████████████████████████▍     | 222/250 [21:18<02:39,  5.68s/it]\u001b[A"
     ]
    },
    {
     "name": "stdout",
     "output_type": "stream",
     "text": [
      "Training loss: 0.70\n"
     ]
    },
    {
     "name": "stderr",
     "output_type": "stream",
     "text": [
      "\n",
      " 89%|████████████████████████████████████████████▌     | 223/250 [21:24<02:33,  5.69s/it]\u001b[A"
     ]
    },
    {
     "name": "stdout",
     "output_type": "stream",
     "text": [
      "Training loss: 0.71\n"
     ]
    },
    {
     "name": "stderr",
     "output_type": "stream",
     "text": [
      "\n",
      " 90%|████████████████████████████████████████████▊     | 224/250 [21:30<02:28,  5.71s/it]\u001b[A"
     ]
    },
    {
     "name": "stdout",
     "output_type": "stream",
     "text": [
      "Training loss: 0.67\n"
     ]
    },
    {
     "name": "stderr",
     "output_type": "stream",
     "text": [
      "\n",
      " 90%|█████████████████████████████████████████████     | 225/250 [21:35<02:24,  5.77s/it]\u001b[A"
     ]
    },
    {
     "name": "stdout",
     "output_type": "stream",
     "text": [
      "Training loss: 0.69\n"
     ]
    },
    {
     "name": "stderr",
     "output_type": "stream",
     "text": [
      "\n",
      " 90%|█████████████████████████████████████████████▏    | 226/250 [21:41<02:18,  5.77s/it]\u001b[A"
     ]
    },
    {
     "name": "stdout",
     "output_type": "stream",
     "text": [
      "Training loss: 0.67\n"
     ]
    },
    {
     "name": "stderr",
     "output_type": "stream",
     "text": [
      "\n",
      " 91%|█████████████████████████████████████████████▍    | 227/250 [21:47<02:13,  5.79s/it]\u001b[A"
     ]
    },
    {
     "name": "stdout",
     "output_type": "stream",
     "text": [
      "Training loss: 0.68\n"
     ]
    },
    {
     "name": "stderr",
     "output_type": "stream",
     "text": [
      "\n",
      " 91%|█████████████████████████████████████████████▌    | 228/250 [21:53<02:06,  5.74s/it]\u001b[A"
     ]
    },
    {
     "name": "stdout",
     "output_type": "stream",
     "text": [
      "Training loss: 0.70\n"
     ]
    },
    {
     "name": "stderr",
     "output_type": "stream",
     "text": [
      "\n",
      " 92%|█████████████████████████████████████████████▊    | 229/250 [21:58<02:00,  5.73s/it]\u001b[A"
     ]
    },
    {
     "name": "stdout",
     "output_type": "stream",
     "text": [
      "Training loss: 0.70\n"
     ]
    },
    {
     "name": "stderr",
     "output_type": "stream",
     "text": [
      "\n",
      " 92%|██████████████████████████████████████████████    | 230/250 [22:04<01:54,  5.70s/it]\u001b[A"
     ]
    },
    {
     "name": "stdout",
     "output_type": "stream",
     "text": [
      "Training loss: 0.67\n"
     ]
    },
    {
     "name": "stderr",
     "output_type": "stream",
     "text": [
      "\n",
      " 92%|██████████████████████████████████████████████▏   | 231/250 [22:10<01:47,  5.67s/it]\u001b[A"
     ]
    },
    {
     "name": "stdout",
     "output_type": "stream",
     "text": [
      "Training loss: 0.70\n"
     ]
    },
    {
     "name": "stderr",
     "output_type": "stream",
     "text": [
      "\n",
      " 93%|██████████████████████████████████████████████▍   | 232/250 [22:15<01:42,  5.69s/it]\u001b[A"
     ]
    },
    {
     "name": "stdout",
     "output_type": "stream",
     "text": [
      "Training loss: 0.70\n"
     ]
    },
    {
     "name": "stderr",
     "output_type": "stream",
     "text": [
      "\n",
      " 93%|██████████████████████████████████████████████▌   | 233/250 [22:21<01:36,  5.65s/it]\u001b[A"
     ]
    },
    {
     "name": "stdout",
     "output_type": "stream",
     "text": [
      "Training loss: 0.70\n"
     ]
    },
    {
     "name": "stderr",
     "output_type": "stream",
     "text": [
      "\n",
      " 94%|██████████████████████████████████████████████▊   | 234/250 [22:26<01:30,  5.63s/it]\u001b[A"
     ]
    },
    {
     "name": "stdout",
     "output_type": "stream",
     "text": [
      "Training loss: 0.68\n"
     ]
    },
    {
     "name": "stderr",
     "output_type": "stream",
     "text": [
      "\n",
      " 94%|███████████████████████████████████████████████   | 235/250 [22:32<01:24,  5.63s/it]\u001b[A"
     ]
    },
    {
     "name": "stdout",
     "output_type": "stream",
     "text": [
      "Training loss: 0.67\n"
     ]
    },
    {
     "name": "stderr",
     "output_type": "stream",
     "text": [
      "\n",
      " 94%|███████████████████████████████████████████████▏  | 236/250 [22:38<01:18,  5.64s/it]\u001b[A"
     ]
    },
    {
     "name": "stdout",
     "output_type": "stream",
     "text": [
      "Training loss: 0.69\n"
     ]
    },
    {
     "name": "stderr",
     "output_type": "stream",
     "text": [
      "\n",
      " 95%|███████████████████████████████████████████████▍  | 237/250 [22:44<01:13,  5.68s/it]\u001b[A"
     ]
    },
    {
     "name": "stdout",
     "output_type": "stream",
     "text": [
      "Training loss: 0.72\n"
     ]
    },
    {
     "name": "stderr",
     "output_type": "stream",
     "text": [
      "\n",
      " 95%|███████████████████████████████████████████████▌  | 238/250 [22:49<01:07,  5.59s/it]\u001b[A"
     ]
    },
    {
     "name": "stdout",
     "output_type": "stream",
     "text": [
      "Training loss: 0.71\n"
     ]
    },
    {
     "name": "stderr",
     "output_type": "stream",
     "text": [
      "\n",
      " 96%|███████████████████████████████████████████████▊  | 239/250 [22:55<01:01,  5.63s/it]\u001b[A"
     ]
    },
    {
     "name": "stdout",
     "output_type": "stream",
     "text": [
      "Training loss: 0.68\n"
     ]
    },
    {
     "name": "stderr",
     "output_type": "stream",
     "text": [
      "\n",
      " 96%|████████████████████████████████████████████████  | 240/250 [23:00<00:55,  5.58s/it]\u001b[A"
     ]
    },
    {
     "name": "stdout",
     "output_type": "stream",
     "text": [
      "Training loss: 0.70\n"
     ]
    },
    {
     "name": "stderr",
     "output_type": "stream",
     "text": [
      "\n",
      " 96%|████████████████████████████████████████████████▏ | 241/250 [23:06<00:50,  5.62s/it]\u001b[A"
     ]
    },
    {
     "name": "stdout",
     "output_type": "stream",
     "text": [
      "Training loss: 0.69\n"
     ]
    },
    {
     "name": "stderr",
     "output_type": "stream",
     "text": [
      "\n",
      " 97%|████████████████████████████████████████████████▍ | 242/250 [23:11<00:44,  5.57s/it]\u001b[A"
     ]
    },
    {
     "name": "stdout",
     "output_type": "stream",
     "text": [
      "Training loss: 0.70\n"
     ]
    },
    {
     "name": "stderr",
     "output_type": "stream",
     "text": [
      "\n",
      " 97%|████████████████████████████████████████████████▌ | 243/250 [23:17<00:39,  5.64s/it]\u001b[A"
     ]
    },
    {
     "name": "stdout",
     "output_type": "stream",
     "text": [
      "Training loss: 0.67\n"
     ]
    },
    {
     "name": "stderr",
     "output_type": "stream",
     "text": [
      "\n",
      " 98%|████████████████████████████████████████████████▊ | 244/250 [23:23<00:34,  5.69s/it]\u001b[A"
     ]
    },
    {
     "name": "stdout",
     "output_type": "stream",
     "text": [
      "Training loss: 0.70\n"
     ]
    },
    {
     "name": "stderr",
     "output_type": "stream",
     "text": [
      "\n",
      " 98%|█████████████████████████████████████████████████ | 245/250 [23:29<00:28,  5.72s/it]\u001b[A"
     ]
    },
    {
     "name": "stdout",
     "output_type": "stream",
     "text": [
      "Training loss: 0.70\n"
     ]
    },
    {
     "name": "stderr",
     "output_type": "stream",
     "text": [
      "\n",
      " 98%|█████████████████████████████████████████████████▏| 246/250 [23:35<00:23,  5.76s/it]\u001b[A"
     ]
    },
    {
     "name": "stdout",
     "output_type": "stream",
     "text": [
      "Training loss: 0.69\n"
     ]
    },
    {
     "name": "stderr",
     "output_type": "stream",
     "text": [
      "\n",
      " 99%|█████████████████████████████████████████████████▍| 247/250 [23:40<00:17,  5.71s/it]\u001b[A"
     ]
    },
    {
     "name": "stdout",
     "output_type": "stream",
     "text": [
      "Training loss: 0.71\n"
     ]
    },
    {
     "name": "stderr",
     "output_type": "stream",
     "text": [
      "\n",
      " 99%|█████████████████████████████████████████████████▌| 248/250 [23:46<00:11,  5.66s/it]\u001b[A"
     ]
    },
    {
     "name": "stdout",
     "output_type": "stream",
     "text": [
      "Training loss: 0.72\n"
     ]
    },
    {
     "name": "stderr",
     "output_type": "stream",
     "text": [
      "\n",
      "100%|█████████████████████████████████████████████████▊| 249/250 [23:51<00:05,  5.67s/it]\u001b[A"
     ]
    },
    {
     "name": "stdout",
     "output_type": "stream",
     "text": [
      "Training loss: 0.71\n"
     ]
    },
    {
     "name": "stderr",
     "output_type": "stream",
     "text": [
      "\n",
      "100%|██████████████████████████████████████████████████| 250/250 [23:57<00:00,  5.67s/it]\u001b[A"
     ]
    }
   ],
   "source": [
    "from transformers import get_scheduler\n",
    "from tqdm.auto import tqdm\n",
    "from torch.optim import AdamW\n",
    "\n",
    "\n",
    "# parameters\n",
    "num_epochs = 1  # 3\n",
    "num_training_steps = num_epochs * len(train_dataloader)\n",
    "\n",
    "cross_entropy_loss = torch.nn.CrossEntropyLoss().to(mps_device)\n",
    "\n",
    "optimizer = AdamW(model.parameters(), lr=5e-5)\n",
    "lr_scheduler = get_scheduler(\n",
    "    \"linear\",\n",
    "    optimizer=optimizer,\n",
    "    num_warmup_steps=0,\n",
    "    num_training_steps=num_training_steps,\n",
    ")\n",
    "\n",
    "\n",
    "# test on one batch\n",
    "# batch = next(iter(train_dataloader))\n",
    "\n",
    "# labels = batch[\"labels\"]\n",
    "# del batch[\"labels\"]\n",
    "\n",
    "# batch = {k: torch.transpose(torch.stack(default_convert(v)), 0, 1) for k, v in batch.items()}\n",
    "# batch = {k: v.to(mps_device) for k, v in batch.items()}\n",
    "\n",
    "# output = model(**batch)\n",
    "# labels.to(mps_device)\n",
    "# mps_labels = torch.as_tensor(labels, device=mps_device)\n",
    "\n",
    "# loss = cross_entropy_loss(output.logits, mps_labels)\n",
    "# loss.backward()\n",
    "\n",
    "\n",
    "# progress bar\n",
    "progress_bar = tqdm(range(num_training_steps))\n",
    "\n",
    "# training\n",
    "for epoch in range(num_epochs):\n",
    "    for batch in train_dataloader:\n",
    "        labels = batch[\"labels\"].to(mps_device)\n",
    "        mps_labels = torch.as_tensor(labels, device=mps_device)\n",
    "        del batch[\"labels\"]\n",
    "        \n",
    "        batch = {k: torch.transpose(torch.stack(default_convert(v)), 0, 1) for k, v in batch.items()}\n",
    "        batch = {k: v.to(mps_device) for k, v in batch.items()}\n",
    "\n",
    "        outputs = model(**batch, labels=mps_labels)\n",
    "        loss, logits = outputs[:2]\n",
    "\n",
    "        # loss = cross_entropy_loss(output.logits, mps_labels)\n",
    "        print(\"Training loss: {0:.2f}\".format(loss))\n",
    "        loss.backward()        \n",
    "\n",
    "        optimizer.step()\n",
    "        lr_scheduler.step()\n",
    "        optimizer.zero_grad()\n",
    "        progress_bar.update(1)"
   ]
  },
  {
   "cell_type": "code",
   "execution_count": 14,
   "id": "ae48a77d-033f-43df-9ef8-825082a3bdd8",
   "metadata": {},
   "outputs": [
    {
     "name": "stdout",
     "output_type": "stream",
     "text": [
      "outputs = SequenceClassifierOutput(loss=None, logits=tensor([[0.1740, 0.1375],\n",
      "        [0.1741, 0.1376],\n",
      "        [0.1743, 0.1378],\n",
      "        [0.1740, 0.1377],\n",
      "        [0.1741, 0.1377],\n",
      "        [0.1743, 0.1377],\n",
      "        [0.1741, 0.1377],\n",
      "        [0.1743, 0.1379]], device='mps:0', grad_fn=<MpsLinearBackward0>), hidden_states=None, attentions=None)\n",
      "outputs = tensor([0.4522, 0.5478], device='mps:0', grad_fn=<SoftmaxBackward0>)\n",
      "label = 0\n",
      "outputs = tensor([0.4769, 0.5231], device='mps:0', grad_fn=<SoftmaxBackward0>)\n",
      "label = 1\n",
      "outputs = tensor([0.3628, 0.6372], device='mps:0', grad_fn=<SoftmaxBackward0>)\n",
      "label = 0\n",
      "outputs = tensor([0.4993, 0.5007], device='mps:0', grad_fn=<SoftmaxBackward0>)\n",
      "label = 0\n",
      "outputs = tensor([0.5464, 0.4536], device='mps:0', grad_fn=<SoftmaxBackward0>)\n",
      "label = 0\n",
      "outputs = tensor([0.4529, 0.5471], device='mps:0', grad_fn=<SoftmaxBackward0>)\n",
      "label = 1\n",
      "outputs = tensor([0.5302, 0.4698], device='mps:0', grad_fn=<SoftmaxBackward0>)\n",
      "label = 1\n",
      "outputs = tensor([0.4415, 0.5585], device='mps:0', grad_fn=<SoftmaxBackward0>)\n",
      "label = 0\n"
     ]
    },
    {
     "name": "stderr",
     "output_type": "stream",
     "text": [
      "/var/folders/v5/07d7bzx52nx37_jlxbw4yq6h0000gn/T/ipykernel_40112/1537677781.py:17: UserWarning: Implicit dimension choice for softmax has been deprecated. Change the call to include dim=X as an argument.\n",
      "  print(f\"outputs = {softmax(item)}\")\n"
     ]
    }
   ],
   "source": [
    "model.eval()\n",
    "\n",
    "# test on one batch\n",
    "batch = next(iter(train_dataloader))\n",
    "\n",
    "labels = batch[\"labels\"]\n",
    "# del batch[\"labels\"]\n",
    "\n",
    "batch = {k: torch.transpose(torch.stack(default_convert(v)), 0, 1) for k, v in batch.items()}\n",
    "batch = {k: v.to(mps_device) for k, v in batch.items()}\n",
    "\n",
    "outputs = model(**batch)\n",
    "print(f\"outputs = {outputs}\")\n",
    "\n",
    "for index, item in enumerate(output.logits):\n",
    "    softmax = torch.nn.Softmax()\n",
    "    print(f\"outputs = {softmax(item)}\")\n",
    "    print(f\"label = {labels[index]}\")\n",
    "\n",
    "# labels.to(mps_device)\n",
    "# mps_labels = torch.as_tensor(labels, device=mps_device)\n",
    "\n",
    "# loss = cross_entropy_loss(output.logits, mps_labels)\n",
    "# loss.backward()"
   ]
  },
  {
   "cell_type": "code",
   "execution_count": 12,
   "id": "f173b397-1a5e-41d1-8e7e-71b0dc85e61a",
   "metadata": {},
   "outputs": [],
   "source": [
    "from datasets import load_metric\n",
    "\n",
    "\n",
    "metric = load_metric('accuracy')\n",
    "\n",
    "def compute_metrics(eval_pred):\n",
    "    predictions, labels = eval_pred\n",
    "    predictions = np.argmax(predictions, axis=1)\n",
    "    return metric.compute(predictions=predictions, references=labels)"
   ]
  },
  {
   "cell_type": "code",
   "execution_count": 14,
   "id": "8eb062ff-ce7d-4f03-9699-1e7652dab72c",
   "metadata": {},
   "outputs": [
    {
     "data": {
      "text/plain": [
       "{'accuracy': 0.5182012847965739}"
      ]
     },
     "execution_count": 14,
     "metadata": {},
     "output_type": "execute_result"
    }
   ],
   "source": [
    "from datasets import load_metric\n",
    "\n",
    "\n",
    "validation_dataloader = DataLoader(ds['validation'], shuffle=True, batch_size=8)\n",
    "\n",
    "metric = load_metric(\"accuracy\")\n",
    "model.eval()\n",
    "for batch in validation_dataloader:\n",
    "    labels = batch[\"labels\"]\n",
    "    mps_labels = torch.as_tensor(labels, device=mps_device)\n",
    "    del batch[\"labels\"]\n",
    "\n",
    "    batch = {k: torch.transpose(torch.stack(default_convert(v)), 0, 1) for k, v in batch.items()}\n",
    "    batch = {k: v.to(mps_device) for k, v in batch.items()}\n",
    "    \n",
    "    with torch.no_grad():\n",
    "        outputs = model(**batch)\n",
    "\n",
    "    logits = outputs.logits\n",
    "    softmax = torch.nn.Softmax()\n",
    "    # for index, item in enumerate(logits):\n",
    "        # print(f\"probabilities = {softmax(item)}\")\n",
    "        # print(f\"label = {labels[index]}\")\n",
    "    predictions = torch.argmax(logits, dim=-1)\n",
    "    metric.add_batch(predictions=predictions, references=mps_labels)\n",
    "\n",
    "metric.compute()"
   ]
  },
  {
   "cell_type": "code",
   "execution_count": 21,
   "id": "b3018a55-9078-4235-bf8d-b9d9ff09f3a3",
   "metadata": {},
   "outputs": [
    {
     "data": {
      "text/html": [
       "<script src=\"https://cdnjs.cloudflare.com/ajax/libs/require.js/2.3.6/require.min.js\"></script>"
      ],
      "text/plain": [
       "<IPython.core.display.HTML object>"
      ]
     },
     "metadata": {},
     "output_type": "display_data"
    },
    {
     "data": {
      "text/html": [
       "      \n",
       "        <div id=\"bertviz-52379d474f474d0dad513dedfa91494b\" style=\"font-family:'Helvetica Neue', Helvetica, Arial, sans-serif;\">\n",
       "            <span style=\"user-select:none\">\n",
       "                Layer: <select id=\"layer\"></select>\n",
       "                \n",
       "            </span>\n",
       "            <div id='vis'></div>\n",
       "        </div>\n",
       "    "
      ],
      "text/plain": [
       "<IPython.core.display.HTML object>"
      ]
     },
     "metadata": {},
     "output_type": "display_data"
    },
    {
     "data": {
      "application/javascript": [
       "/**\n",
       " * @fileoverview Transformer Visualization D3 javascript code.\n",
       " *\n",
       " *\n",
       " *  Based on: https://github.com/tensorflow/tensor2tensor/blob/master/tensor2tensor/visualization/attention.js\n",
       " *\n",
       " * Change log:\n",
       " *\n",
       " * 12/19/18  Jesse Vig   Assorted cleanup. Changed orientation of attention matrices.\n",
       " * 12/29/20  Jesse Vig   Significant refactor.\n",
       " * 12/31/20  Jesse Vig   Support multiple visualizations in single notebook.\n",
       " * 02/06/21  Jesse Vig   Move require config from separate jupyter notebook step\n",
       " * 05/03/21  Jesse Vig   Adjust height of visualization dynamically\n",
       " * 07/25/21  Jesse Vig   Support layer filtering\n",
       " * 03/23/22  Daniel SC   Update requirement URLs for d3 and jQuery (source of bug not allowing end result to be displayed on browsers)\n",
       " **/\n",
       "\n",
       "require.config({\n",
       "  paths: {\n",
       "      d3: 'https://cdnjs.cloudflare.com/ajax/libs/d3/5.7.0/d3.min',\n",
       "    jquery: 'https://cdnjs.cloudflare.com/ajax/libs/jquery/2.0.0/jquery.min',\n",
       "  }\n",
       "});\n",
       "\n",
       "requirejs(['jquery', 'd3'], function ($, d3) {\n",
       "\n",
       "    const params = {\"attention\": [{\"name\": null, \"attn\": [[[[0.08360593765974045, 0.15054702758789062, 0.062036678194999695, 0.05964788421988487, 0.136638343334198, 0.14048507809638977, 0.15047316253185272, 0.32767707109451294], [0.0, 0.17461077868938446, 0.09698797762393951, 0.11986201256513596, 0.11578305810689926, 0.2071886956691742, 0.1397026628255844, 0.14649313688278198], [0.15190760791301727, 0.0834633931517601, 0.16059410572052002, 0.0, 0.0, 0.0902724340558052, 0.1963585913181305, 0.15021196007728577], [0.06713995337486267, 0.18366849422454834, 0.21067163348197937, 0.07246986031532288, 0.07058823108673096, 0.0, 0.09821724146604538, 0.2238914519548416], [0.15408410131931305, 0.12337455153465271, 0.12298686057329178, 0.10086522996425629, 0.23933938145637512, 0.11303266137838364, 0.11887434124946594, 0.13855406641960144], [0.08113845437765121, 0.19167731702327728, 0.0, 0.11003759503364563, 0.10860423743724823, 0.17114318907260895, 0.1811313033103943, 0.15283676981925964], [0.04263724014163017, 0.04974108561873436, 0.29652202129364014, 0.281318336725235, 0.0352080799639225, 0.047330304980278015, 0.09850861877202988, 0.259845495223999], [0.08001866191625595, 0.2175314873456955, 0.05201370641589165, 0.045129287987947464, 0.06905709207057953, 0.23309241235256195, 0.19510707259178162, 0.21916146576404572]], [[0.9798688292503357, 0.015208112075924873, 0.027407705783843994, 0.0014927363954484463, 0.06279825419187546, 0.0, 0.00403459882363677, 0.005405355244874954], [0.0, 0.1436428427696228, 0.09980091452598572, 0.13856913149356842, 0.17346663773059845, 0.0, 0.14810287952423096, 0.11935606598854065], [0.45546939969062805, 0.1255161613225937, 0.04296015575528145, 0.05483178049325943, 0.09682171046733856, 0.15642759203910828, 0.06784430146217346, 0.11124008148908615], [0.14015570282936096, 0.040384441614151, 0.15622442960739136, 0.08334250003099442, 0.0635564923286438, 0.03172663226723671, 0.3229601979255676, 0.272760808467865], [0.013430372811853886, 0.07370279729366302, 0.21794430911540985, 0.3446243405342102, 0.039191361516714096, 0.08535043895244598, 0.21008051931858063, 0.12678706645965576], [0.13141274452209473, 0.13909925520420074, 0.0, 0.15861687064170837, 0.14442846179008484, 0.1271955519914627, 0.13195939362049103, 0.15403276681900024], [0.5737846493721008, 0.03902195766568184, 0.09290359169244766, 0.02124095894396305, 0.09389350563287735, 0.037957821041345596, 0.03748597577214241, 0.2148226648569107], [0.271633505821228, 0.19283252954483032, 0.0, 0.033927589654922485, 0.0, 0.17903360724449158, 0.05923909321427345, 0.06592945754528046]], [[0.788337230682373, 0.07283079624176025, 0.02207471989095211, 0.0, 0.04838509112596512, 0.02966229058802128, 0.04811897873878479, 0.09286703169345856], [0.8006682395935059, 0.19122834503650665, 0.020225826650857925, 0.029252786189317703, 0.02360059879720211, 0.03435221686959267, 0.00534299248829484, 0.006440105382353067], [0.3645724356174469, 0.5622857213020325, 0.013122253119945526, 0.0, 0.053340114653110504, 0.0, 0.0, 0.011028897948563099], [0.7583982944488525, 0.04919520020484924, 0.21394126117229462, 0.001449307193979621, 0.01563982479274273, 0.010898841544985771, 0.003666528267785907, 0.0], [0.07742588222026825, 0.0724068284034729, 0.030861349776387215, 0.7292301654815674, 0.09431544691324234, 0.049663957208395004, 0.005969609133899212, 0.051237959414720535], [0.44415873289108276, 0.0351218581199646, 0.011141922324895859, 0.0, 0.38462164998054504, 0.09315819293260574, 0.015646444633603096, 0.1079411581158638], [0.38124823570251465, 0.013421738520264626, 0.022343631833791733, 0.040819890797138214, 0.16391967236995697, 0.4157675802707672, 0.021411579102277756, 0.05217883735895157], [0.4513692855834961, 0.01657642424106598, 0.0019812018144875765, 0.005113854072988033, 0.01501947920769453, 0.06327017396688461, 0.3786754310131073, 0.17910534143447876]], [[0.6551442742347717, 0.048115383833646774, 0.05615865811705589, 0.0480743870139122, 0.0, 0.03397674113512039, 0.0, 0.06969801336526871], [0.24531559646129608, 0.26750892400741577, 0.25048360228538513, 0.2750299870967865, 0.022132908925414085, 0.017211174592375755, 0.024874314665794373, 0.008554666303098202], [0.42812973260879517, 0.5137022733688354, 0.12785476446151733, 0.012218582443892956, 0.004277179948985577, 0.004293871112167835, 0.01832396723330021, 0.0023108082823455334], [0.24021729826927185, 0.16819384694099426, 0.0, 0.05536535754799843, 0.006237936671823263, 0.004041244275867939, 0.006879100576043129, 0.009006937965750694], [0.002080668695271015, 0.056309111416339874, 0.17178304493427277, 0.0, 0.0, 0.009520894847810268, 0.0065050311386585236, 0.0026337681338191032], [0.007828154601156712, 0.021521849557757378, 0.08402761071920395, 0.7940396666526794, 0.14799173176288605, 0.036468490958213806, 0.012611343525350094, 0.0066222925670444965], [0.32716846466064453, 0.01318355556577444, 0.041718319058418274, 0.058553580194711685, 0.301911324262619, 0.28091663122177124, 0.06600156426429749, 0.021657830104231834], [0.22026093304157257, 0.017092596739530563, 0.026463903486728668, 0.03410324454307556, 0.04209550470113754, 0.3502444922924042, 0.34603726863861084, 0.07481325417757034]], [[0.4456714391708374, 0.048810869455337524, 0.09760193526744843, 0.08017995953559875, 0.15684042870998383, 0.05129728838801384, 0.08034222573041916, 0.15036706626415253], [0.06478758156299591, 0.0, 0.0543895922601223, 0.0, 0.0955226793885231, 0.2282603681087494, 0.10797084867954254, 0.0], [0.22130316495895386, 0.0869939997792244, 0.0, 0.28853943943977356, 0.19558806717395782, 0.07716372609138489, 0.15524788200855255, 0.04457148164510727], [0.25761809945106506, 0.05692216008901596, 0.08973664790391922, 0.060417212545871735, 0.27071934938430786, 0.05206167697906494, 0.0, 0.1997019648551941], [0.06488972157239914, 0.22497136890888214, 0.09391915053129196, 0.20277145504951477, 0.060423437505960464, 0.16194215416908264, 0.12274299561977386, 0.17945091426372528], [0.0724901482462883, 0.2667897641658783, 0.0, 0.1391042023897171, 0.09898366779088974, 0.21287530660629272, 0.12220396846532822, 0.15164805948734283], [0.723919153213501, 0.06453931331634521, 0.09124571830034256, 0.06067180633544922, 0.062121570110321045, 0.05362452566623688, 0.023401159793138504, 0.0315878689289093], [0.06129646301269531, 0.004551530349999666, 0.0, 0.021183213219046593, 0.015704192221164703, 0.01172061450779438, 0.01224496029317379, 0.979197084903717]], [[0.6262102723121643, 0.12868016958236694, 0.04590747132897377, 0.008278987370431423, 0.0, 0.10438019782304764, 0.10855624824762344, 0.042601753026247025], [0.47467541694641113, 0.08918555080890656, 0.053343527019023895, 0.06529084593057632, 0.14223314821720123, 0.0780225545167923, 0.05890359729528427, 0.14945654571056366], [0.0, 0.0594961903989315, 0.030430259183049202, 0.34629788994789124, 0.04142780229449272, 0.1039307564496994, 0.08613013476133347, 0.06699427962303162], [0.12362036854028702, 0.11144642531871796, 0.0781252384185791, 0.08467535674571991, 0.06409724056720734, 0.10396773368120193, 0.4602826237678528, 0.08489619195461273], [0.0555323101580143, 0.05456536263227463, 0.2634766697883606, 0.12726448476314545, 0.07124575227499008, 0.03756006062030792, 0.3350529670715332, 0.1664135754108429], [0.5349240899085999, 0.06981893628835678, 0.06358460336923599, 0.04831772670149803, 0.11636380106210709, 0.0425267368555069, 0.05057845264673233, 0.18499667942523956], [0.19210855662822723, 0.056822728365659714, 0.2233308106660843, 0.1294577568769455, 0.1332254707813263, 0.09029221534729004, 0.139227494597435, 0.1466461420059204], [0.0, 0.07183393090963364, 0.03018857352435589, 0.008706746622920036, 0.07110397517681122, 0.06383722275495529, 0.034302983433008194, 0.09118285775184631]], [[0.0, 0.5267074704170227, 0.005699042696505785, 0.0, 0.002657631877809763, 0.0, 0.010059117339551449, 0.0028759564738720655], [0.08828943222761154, 0.07561095058917999, 0.136051744222641, 0.32667088508605957, 0.17367689311504364, 0.08888823539018631, 0.12778066098690033, 0.09414232522249222], [0.17199820280075073, 0.019169161096215248, 0.3665558993816376, 0.18985052406787872, 0.06466302275657654, 0.019017396494746208, 0.177676260471344, 0.0], [0.052180878818035126, 0.018982913345098495, 0.07304032891988754, 0.48094621300697327, 0.10662350803613663, 0.025598229840397835, 0.2503996789455414, 0.10333940386772156], [0.04715382680296898, 0.06778272986412048, 0.09648530185222626, 0.33932018280029297, 0.16757582128047943, 0.06978629529476166, 0.14958705008029938, 0.17341996729373932], [0.11737795174121857, 0.06336477398872375, 0.12389788031578064, 0.0, 0.11615525186061859, 0.07975780218839645, 0.0, 0.0], [0.021597815677523613, 0.01654200069606304, 0.09041298180818558, 0.29819220304489136, 0.0, 0.01977146975696087, 0.4855312705039978, 0.0670866072177887], [0.2555500864982605, 0.048604950308799744, 0.09479217976331711, 0.26720207929611206, 0.08743758499622345, 0.04219742491841316, 0.0, 0.22353753447532654]], [[0.7275248169898987, 0.0, 0.013727575540542603, 0.004139124881476164, 0.004842051770538092, 0.0001415926672052592, 0.023192988708615303, 0.3374113142490387], [0.6416152715682983, 0.04145989939570427, 0.05282360315322876, 0.020880170166492462, 0.0, 0.042224373668432236, 0.11212031543254852, 0.14998728036880493], [0.23250186443328857, 0.01527185644954443, 0.0, 0.13733556866645813, 0.084971122443676, 0.020146634429693222, 0.19900785386562347, 0.16173414885997772], [0.07884864509105682, 0.01812148466706276, 0.18206080794334412, 0.049336690455675125, 0.11287007480859756, 0.0294285137206316, 0.11962194740772247, 0.0], [0.13186632096767426, 0.345655620098114, 0.032581862062215805, 0.05253423750400543, 0.0878576710820198, 0.3052075207233429, 0.08416140824556351, 0.0712464302778244], [0.577150821685791, 0.0328877829015255, 0.057674068957567215, 0.021044570952653885, 0.0373983196914196, 0.027471046894788742, 0.09759221225976944, 0.25989246368408203], [0.19481460750102997, 0.02227780595421791, 0.1704825758934021, 0.0, 0.0653706043958664, 0.026380270719528198, 0.0762546956539154, 0.4657021760940552], [0.4438451826572418, 0.14717663824558258, 0.04538432136178017, 0.046017006039619446, 0.03650536760687828, 0.0, 0.16889682412147522, 0.0803351104259491]], [[0.48708099126815796, 0.21111319959163666, 0.057849932461977005, 0.031066320836544037, 0.016133848577737808, 0.17252402007579803, 0.1185871884226799, 0.016755681484937668], [0.008994264528155327, 0.09089352190494537, 0.09375554323196411, 0.27579936385154724, 0.24840697646141052, 0.16196878254413605, 0.07272139191627502, 0.1585712730884552], [0.07061278820037842, 0.08262646943330765, 0.087040476500988, 0.19763782620429993, 0.13222938776016235, 0.14543242752552032, 0.24101947247982025, 0.15451237559318542], [0.04430761560797691, 0.04157594218850136, 0.1502675712108612, 0.14541365206241608, 0.1162104532122612, 0.076487235724926, 0.23890987038612366, 0.29793882369995117], [0.007558187935501337, 0.04037760570645332, 0.13026677072048187, 0.30213117599487305, 0.04685217887163162, 0.06402044743299484, 0.0, 0.3031938374042511], [0.006952402647584677, 0.0, 0.09810750186443329, 0.14933103322982788, 0.13159728050231934, 0.0, 0.08843791484832764, 0.45163941383361816], [0.10639550536870956, 0.15544603765010834, 0.1487041860818863, 0.16173776984214783, 0.0, 0.0, 0.09122417867183685, 0.15057556331157684], [0.20525601506233215, 0.30343306064605713, 0.04493292048573494, 0.03784230351448059, 0.050104908645153046, 0.3541563153266907, 0.0, 0.04299682378768921]], [[0.28073152899742126, 0.08020688593387604, 0.0, 0.21148312091827393, 0.11714206635951996, 0.07616578042507172, 0.1090756431221962, 0.0], [0.5430837869644165, 0.0, 0.09364815801382065, 0.09200558811426163, 0.05183032155036926, 0.07374937832355499, 0.0618455708026886, 0.14611142873764038], [0.07962625473737717, 0.013257533311843872, 0.8153469562530518, 0.0, 0.034169070422649384, 0.029248496517539024, 0.02294476516544819, 0.10586855560541153], [0.2518693208694458, 0.03527712821960449, 0.016715601086616516, 0.0, 0.02547639049589634, 0.05144377797842026, 0.2655811309814453, 0.122571662068367], [0.3376370072364807, 0.059948571026325226, 0.20582053065299988, 0.11639472097158432, 0.04669041931629181, 0.04348348081111908, 0.11834236979484558, 0.1827940195798874], [0.0, 0.12187202274799347, 0.0, 0.0, 0.05378025770187378, 0.05535286292433739, 0.06725533306598663, 0.13875442743301392], [0.0, 0.11905111372470856, 0.09389811009168625, 0.22837506234645844, 0.030586743727326393, 0.07487936317920685, 0.4257670044898987, 0.03385669365525246], [0.6955131888389587, 0.04196758568286896, 0.07675714790821075, 0.09237801283597946, 0.05431072786450386, 0.04188841953873634, 0.07498003542423248, 0.03331603482365608]], [[0.7062903046607971, 0.07978719472885132, 0.0868731215596199, 0.044193875044584274, 0.03558092936873436, 0.04470698907971382, 0.06698399782180786, 0.04669475555419922], [0.004582599271088839, 0.07595709711313248, 0.7817226648330688, 0.16717128455638885, 0.0552537702023983, 0.009543636813759804, 0.006810824852436781, 0.0], [0.040330227464437485, 0.1666790395975113, 0.05918097868561745, 0.4410310685634613, 0.0, 0.09285794198513031, 0.02465146780014038, 0.01801687851548195], [0.0037345446180552244, 0.0, 0.04011891037225723, 0.03799186646938324, 0.8264963626861572, 0.12697096168994904, 0.012990286573767662, 0.03335286304354668], [0.008668140508234501, 0.012047505006194115, 0.06636404991149902, 0.10596030205488205, 0.07484392821788788, 0.3745550811290741, 0.40613818168640137, 0.06253401935100555], [0.00449019018560648, 0.0026340940967202187, 0.009003779850900173, 0.0, 0.033207979053258896, 0.052289556711912155, 0.728208065032959, 0.26721516251564026], [0.0, 0.0025782871525734663, 0.0894361361861229, 0.0038263623137027025, 0.013914627023041248, 0.03284084051847458, 0.00937263946980238, 0.9330140948295593], [0.4249690771102905, 0.0, 0.007680105045437813, 0.016607407480478287, 0.016647944226861, 0.0, 0.07537791132926941, 0.5151631832122803]], [[0.9509786367416382, 0.09567614644765854, 0.0008281132322736084, 0.002697075717151165, 0.0034989207051694393, 0.04173629730939865, 0.005494187586009502, 0.010201779194176197], [0.8822218775749207, 0.07396943867206573, 0.0, 0.021952413022518158, 0.039368320256471634, 0.03159119933843613, 0.01664806716144085, 0.03359611704945564], [0.14943668246269226, 0.29997092485427856, 0.014099360443651676, 0.023359334096312523, 0.15057484805583954, 0.11197563260793686, 0.0, 0.28924012184143066], [0.4489588141441345, 0.07746569812297821, 0.06838474422693253, 0.014044019393622875, 0.041498906910419464, 0.03588997572660446, 0.11359494179487228, 0.31127411127090454], [0.030728962272405624, 0.08251044154167175, 0.36338624358177185, 0.1196659505367279, 0.11733376234769821, 0.13943280279636383, 0.06179249286651611, 0.19626042246818542], [0.7519896030426025, 0.06588267534971237, 0.003665273543447256, 0.019608372822403908, 0.04901117458939552, 0.04459566995501518, 0.027843361720442772, 0.14851514995098114], [0.20120671391487122, 0.053338050842285156, 0.038831304758787155, 0.02676391415297985, 0.03391355276107788, 0.12986335158348083, 0.00806593056768179, 0.6191284656524658], [0.8157002925872803, 0.0387016236782074, 0.0, 0.012317739427089691, 0.0, 0.10459841042757034, 0.0, 0.09536806493997574]]], [[[0.3321011960506439, 0.07587987184524536, 0.10801899433135986, 0.020606713369488716, 0.0, 0.09192338585853577, 0.21248067915439606, 0.11396763473749161], [0.16998326778411865, 0.0932965874671936, 0.19898511469364166, 0.07649917155504227, 0.11601920425891876, 0.08287661522626877, 0.21483294665813446, 0.0], [0.24812544882297516, 0.13237608969211578, 0.051094360649585724, 0.02482166513800621, 0.06097564473748207, 0.0944536104798317, 0.018694208934903145, 0.48057007789611816], [0.37013566493988037, 0.06328582763671875, 0.015121638774871826, 0.017948966473340988, 0.0, 0.05821041762828827, 0.018761083483695984, 0.23301522433757782], [0.4260824918746948, 0.16969387233257294, 0.027094559744000435, 0.028591962531208992, 0.04085255041718483, 0.07569219917058945, 0.046574126929044724, 0.2965294420719147], [0.2798813283443451, 0.08732887357473373, 0.0, 0.0190468467772007, 0.04217570275068283, 0.0, 0.16805709898471832, 0.32136428356170654], [0.17881134152412415, 0.12946905195713043, 0.042092710733413696, 0.015780579298734665, 0.0, 0.13785181939601898, 0.024814125150442123, 0.5171108245849609], [0.3798047602176666, 0.053151749074459076, 0.07254070043563843, 0.05294528976082802, 0.3208017945289612, 0.0, 0.13070328533649445, 0.0]], [[0.8110078573226929, 0.06024211272597313, 0.0, 0.017831845209002495, 0.018314875662326813, 0.04046125337481499, 0.020493071526288986, 0.1292179822921753], [0.22673314809799194, 0.049558814615011215, 0.7338168621063232, 0.0668739378452301, 0.00340905855409801, 0.0, 0.005836127325892448, 0.0], [0.5104020237922668, 0.0, 0.041221778839826584, 0.2674018144607544, 0.01970607042312622, 0.08211145550012589, 0.009685557335615158, 0.060934461653232574], [0.22769662737846375, 0.026790538802742958, 0.004007484298199415, 0.02927953563630581, 0.69413822889328, 0.09577561914920807, 0.0036942411679774523, 0.029728952795267105], [0.3244176208972931, 0.01875101588666439, 0.015521125867962837, 0.008129299618303776, 0.02778167650103569, 0.6566641926765442, 0.03227170184254646, 0.02757447399199009], [0.3091486692428589, 0.008775743655860424, 0.0, 0.014169041067361832, 0.008995048701763153, 0.08060964941978455, 0.4815215766429901, 0.20092818140983582], [0.3757706582546234, 0.016607480123639107, 0.01902977004647255, 0.0007891131099313498, 0.0020845653489232063, 0.011520858854055405, 0.0, 0.668969452381134], [0.946313738822937, 0.00028797000413760543, 0.0013496479950845242, 0.003880441887304187, 0.0026547734159976244, 0.0, 0.004171715117990971, 0.148115336894989]], [[0.8610717058181763, 0.0, 0.02754421904683113, 0.018931178376078606, 0.018902942538261414, 0.04328436776995659, 0.020116951316595078, 0.08380904048681259], [0.30659598112106323, 0.04043712094426155, 0.0, 0.05121955648064613, 0.0290174949914217, 0.05526813119649887, 0.022541755810379982, 0.5874283909797668], [0.1683458387851715, 0.07715748250484467, 0.015361905097961426, 0.0924641415476799, 0.02745157852768898, 0.09208905696868896, 0.07870542258024216, 0.5595358610153198], [0.12258783727884293, 0.0049420315772295, 0.0038678369019180536, 0.009646818973124027, 0.006492641754448414, 0.016781549900770187, 0.0019155391491949558, 0.9448769092559814], [0.5631005764007568, 0.03025832585990429, 0.0070391506887972355, 0.01245569996535778, 0.013866613619029522, 0.04148607701063156, 0.014055225998163223, 0.4288495182991028], [0.3888186812400818, 0.07518628239631653, 0.02570470981299877, 0.13094483315944672, 0.04689517617225647, 0.08341582864522934, 0.01576256938278675, 0.344383180141449], [0.2969001531600952, 0.0, 0.017489422112703323, 0.0405462421476841, 0.031051823869347572, 0.12425841391086578, 0.019029997289180756, 0.5033534169197083], [0.469657301902771, 0.022924501448869705, 0.05465329810976982, 0.11397231370210648, 0.015106000937521458, 0.04417568817734718, 0.009419936686754227, 0.3812021315097809]], [[0.8778953552246094, 0.0, 0.0034062969498336315, 0.0, 0.0215778611600399, 0.08176223933696747, 0.017314601689577103, 0.04652021825313568], [0.6986979246139526, 0.05177343636751175, 0.029343964532017708, 0.058418262749910355, 0.06158008053898811, 0.05581893026828766, 0.11015826463699341, 0.04532039910554886], [0.0, 0.03696359321475029, 0.13592399656772614, 0.0, 0.04446830227971077, 0.017091454938054085, 0.47828546166419983, 0.12813246250152588], [0.2949725389480591, 0.06321881711483002, 0.16045384109020233, 0.04381907358765602, 0.03296433761715889, 0.047740545123815536, 0.4242183566093445, 0.04372361674904823], [0.6189851760864258, 0.05714869499206543, 0.04481564462184906, 0.08458888530731201, 0.02267340011894703, 0.04600023478269577, 0.175028994679451, 0.06187015771865845], [0.8297351002693176, 0.05701234191656113, 0.016647549346089363, 0.03839606046676636, 0.023701872676610947, 0.0, 0.0, 0.059162355959415436], [0.29064372181892395, 0.0, 0.25476008653640747, 0.1458076536655426, 0.12711095809936523, 0.01706109009683132, 0.2345493882894516, 0.015895003452897072], [0.9443122148513794, 0.022505082190036774, 0.0047091273590922356, 0.011126847937703133, 0.04722587391734123, 0.03725188598036766, 0.025753403082489967, 0.01822667010128498]], [[0.8004788160324097, 0.06088150665163994, 0.014819769188761711, 0.018344508484005928, 0.05631135776638985, 0.0709381178021431, 0.024649886414408684, 0.06468725949525833], [1.065313696861267, 0.03620707243680954, 0.0009033319656737149, 0.0016316684195771813, 0.005622836295515299, 0.0007785019115544856, 0.000637649733107537, 1.6426474758191034e-05], [0.6560710072517395, 0.43827834725379944, 0.0031901695765554905, 0.000754169886931777, 0.001196547644212842, 0.0009180321358144283, 0.00716353626921773, 0.003539394587278366], [0.5378198623657227, 0.24637643992900848, 0.1188126727938652, 0.058476772159338, 0.008274603635072708, 0.015341521240770817, 0.0019061127677559853, 0.0], [0.0, 0.014077960513532162, 0.0031812305096536875, 0.0, 0.014546570368111134, 0.022683558985590935, 0.00024571589892730117, 0.00788865052163601], [0.30060669779777527, 0.007832617498934269, 0.002746537560597062, 0.0384027436375618, 0.6415974497795105, 0.10417778789997101, 0.0, 0.01235110778361559], [0.8959951400756836, 0.0, 0.000575970159843564, 0.002307598013430834, 0.0, 0.13042452931404114, 0.01704665832221508, 0.01419511903077364], [0.8342796564102173, 0.0023554665967822075, 0.00017048424342647195, 0.0006997670279815793, 0.006041860673576593, 0.038653239607810974, 0.022650469094514847, 0.2062603086233139]], [[0.8961157202720642, 0.0, 0.008976276032626629, 0.017474230378866196, 0.008382569067180157, 0.017266469076275826, 0.0, 0.13604383170604706], [0.13833637535572052, 0.0, 0.03296748548746109, 0.07326415926218033, 0.03481309115886688, 0.10681235790252686, 0.055612605065107346, 0.5782744288444519], [0.7552042007446289, 0.08096634596586227, 0.008932719938457012, 0.007518039550632238, 0.010881095193326473, 0.06340637803077698, 0.020013397559523582, 0.16418899595737457], [0.2582308053970337, 0.04555200785398483, 0.01241872739046812, 0.0, 0.05536344274878502, 0.06514235585927963, 0.100853331387043, 0.554085373878479], [0.5234040021896362, 0.061635952442884445, 0.0068574221804738045, 0.02408059686422348, 0.018607551231980324, 0.0759715735912323, 0.0625639408826828, 0.3379901349544525], [0.26451003551483154, 0.16265957057476044, 0.03763851895928383, 0.07944868505001068, 0.04358770325779915, 0.1425865739583969, 0.0468105785548687, 0.3338695466518402], [0.3219008147716522, 0.0, 0.05258985608816147, 0.0648779645562172, 0.09377632290124893, 0.0, 0.025599315762519836, 0.17604316771030426], [0.6516667008399963, 0.04750964790582657, 0.0, 0.040452487766742706, 0.02035861276090145, 0.045588359236717224, 0.0, 0.24560321867465973]], [[0.9218379855155945, 0.012152490206062794, 0.012682393193244934, 0.010335392318665981, 0.012039417400956154, 0.016777655109763145, 0.03468136116862297, 0.09060452878475189], [0.855278730392456, 0.04041849449276924, 0.04921620339155197, 0.10026338696479797, 0.028683079406619072, 0.0012271860614418983, 0.0, 0.03419392183423042], [0.9564790725708008, 0.0654366984963417, 0.0052930861711502075, 0.007883929647505283, 0.023877985775470734, 0.03274178504943848, 0.007179140113294125, 0.012219558469951153], [0.9570918083190918, 0.02379903942346573, 0.003243566956371069, 0.005917578935623169, 0.006658054422587156, 0.042067911475896835, 0.037464436143636703, 0.0], [0.0, 0.014208631590008736, 0.007934204302728176, 0.02009546011686325, 0.0046319132670760155, 0.01912236027419567, 0.0526442751288414, 0.0], [0.3066125214099884, 0.0001215374722960405, 0.008336062543094158, 0.06335446238517761, 0.008703951723873615, 0.0065704830922186375, 0.015550339594483376, 0.7018618583679199], [0.0, 0.00024488114286214113, 0.0020412164740264416, 0.01860222965478897, 0.027384892106056213, 0.011046242900192738, 0.009989846497774124, 0.10984445363283157], [0.821290910243988, 0.0009797773091122508, 0.0, 0.00306070689111948, 0.02963973581790924, 0.051145900040864944, 0.06641802936792374, 0.13769447803497314]], [[0.9877899289131165, 0.018032388761639595, 0.008813660591840744, 0.009935222566127777, 0.008759818971157074, 0.016615796834230423, 0.0, 0.05584987998008728], [0.46670374274253845, 0.1271374523639679, 0.04919135570526123, 0.04118390753865242, 0.0, 0.0, 0.06096085533499718, 0.21296755969524384], [0.23221321403980255, 0.13519984483718872, 0.0, 0.16860128939151764, 0.04385482147336006, 0.09891778230667114, 0.12915955483913422, 0.2287234365940094], [0.39483383297920227, 0.1848670393228531, 0.0733330100774765, 0.018550027161836624, 0.036581456661224365, 0.14794912934303284, 0.05439583957195282, 0.20060092210769653], [0.5648287534713745, 0.12684504687786102, 0.047085151076316833, 0.02833601087331772, 0.012710543349385262, 0.0796273872256279, 0.046712540090084076, 0.20496578514575958], [0.380037397146225, 0.14629563689231873, 0.0525277778506279, 0.08678560703992844, 0.041538845747709274, 0.09131480008363724, 0.07187797874212265, 0.2407331019639969], [0.311676025390625, 0.0, 0.03016071766614914, 0.07353662699460983, 0.03756195306777954, 0.15261700749397278, 0.03208307549357414, 0.28423991799354553], [0.8375117182731628, 0.05606364831328392, 0.0, 0.02534450590610504, 0.03358622267842293, 0.0, 0.021467475220561028, 0.07285813242197037]], [[0.49793532490730286, 0.09874431043863297, 0.05636950582265854, 0.06196869537234306, 0.07113880664110184, 0.05951916426420212, 0.05060255900025368, 0.2148328423500061], [0.23386910557746887, 0.13919313251972198, 0.08351149410009384, 0.0, 0.028539173305034637, 0.06572968512773514, 0.06900495290756226, 0.43941637873649597], [0.28300800919532776, 0.1026800349354744, 0.002275202190503478, 0.2756430208683014, 0.07950259000062943, 0.088328517973423, 0.19144780933856964, 0.08822596073150635], [0.6435406804084778, 0.06122121214866638, 0.012454495765268803, 0.004263508133590221, 0.008639504201710224, 0.053676992654800415, 0.032338835299015045, 0.2949759066104889], [0.5810544490814209, 0.04357433319091797, 0.011870934627950191, 0.13513031601905823, 0.011284985579550266, 0.030974745750427246, 0.06713990867137909, 0.2300814688205719], [0.5738363265991211, 0.06827174872159958, 0.04056979715824127, 0.05721518397331238, 0.017540035769343376, 0.03362652659416199, 0.02807854861021042, 0.2919729948043823], [0.0, 0.12356904149055481, 0.09600222110748291, 0.12141969799995422, 0.040128424763679504, 0.09498179703950882, 0.014773105271160603, 0.10691578686237335], [0.17912448942661285, 0.1605663299560547, 0.07313603907823563, 0.12960638105869293, 0.1718832403421402, 0.12691375613212585, 0.07337383925914764, 0.19650714099407196]], [[0.4459751844406128, 0.1228339895606041, 0.0615503303706646, 0.0591200552880764, 0.07104683667421341, 0.08593519032001495, 0.06298664212226868, 0.20166295766830444], [0.4055212438106537, 0.10251352190971375, 0.07460303604602814, 0.06528957188129425, 0.03925659507513046, 0.0815536305308342, 0.09273677319288254, 0.24963675439357758], [0.3919354975223541, 0.06328359246253967, 0.005456882994621992, 0.09711615741252899, 0.041827086359262466, 0.06559733301401138, 0.061631880700588226, 0.38426268100738525], [0.0, 0.043898824602365494, 0.16376817226409912, 0.0012912156525999308, 0.027363227680325508, 0.0, 0.02254807949066162, 0.158989816904068], [0.631937563419342, 0.0709695890545845, 0.0, 0.023133818060159683, 0.012489245273172855, 0.05136186629533768, 0.07426489144563675, 0.158919557929039], [0.5102744698524475, 0.09212223440408707, 0.04473225027322769, 0.09240130335092545, 0.03520912677049637, 0.05037715658545494, 0.04714588448405266, 0.0], [0.4807083010673523, 0.043141722679138184, 0.1666577011346817, 0.04788024351000786, 0.03184865042567253, 0.03156125172972679, 0.007244356442242861, 0.30206894874572754], [0.17926421761512756, 0.126299649477005, 0.0, 0.08311889320611954, 0.14461055397987366, 0.0, 0.1455404907464981, 0.1976735144853592]], [[0.8904160261154175, 0.028803527355194092, 0.010453885421156883, 0.01319928839802742, 0.02310464344918728, 0.0, 0.01315784826874733, 0.09817497432231903], [0.9013006687164307, 0.043144967406988144, 0.02753080055117607, 0.014905030839145184, 0.024784481152892113, 0.0, 0.007362553384155035, 0.044384390115737915], [0.0, 0.14304663240909576, 0.01277044229209423, 0.028841199353337288, 0.045729272067546844, 0.12349560111761093, 0.04801928997039795, 0.03446025028824806], [0.0, 0.39988964796066284, 0.05751686543226242, 0.015958525240421295, 0.09155648946762085, 0.21451938152313232, 0.04595773667097092, 0.12230920791625977], [0.1593964844942093, 0.19919754564762115, 0.1613251119852066, 0.13384296000003815, 0.0, 0.0709371417760849, 0.1899205595254898, 0.16818371415138245], [0.3872748017311096, 0.0, 0.06282908469438553, 0.0639653354883194, 0.043246179819107056, 0.09670597314834595, 0.022044116631150246, 0.18181851506233215], [0.3806116282939911, 0.11989434063434601, 0.0, 0.1742137372493744, 0.17790359258651733, 0.15161357820034027, 0.011562468484044075, 0.04987594857811928], [0.9498259425163269, 0.017025014385581017, 0.004030770622193813, 0.01156981848180294, 0.011703397147357464, 0.03530236333608627, 0.008307010866701603, 0.07334686070680618]], [[0.6479260921478271, 0.1002911627292633, 0.012465037405490875, 0.027399498969316483, 0.044010307639837265, 0.0, 0.011439350433647633, 0.0], [0.341278076171875, 0.06488189846277237, 0.020541490986943245, 0.042973026633262634, 0.0, 0.20394788682460785, 0.0222686268389225, 0.2361321598291397], [0.38582509756088257, 0.03953973948955536, 0.5277588963508606, 0.0023657556157559156, 0.0, 0.027318941429257393, 0.0, 0.11712291836738586], [0.10907961428165436, 0.047707121819257736, 0.005705952178686857, 0.7949250936508179, 0.016312530264258385, 0.0069458517245948315, 0.037494510412216187, 0.09294049441814423], [0.25442618131637573, 0.12065383791923523, 0.005875452887266874, 0.019494473934173584, 0.5330731868743896, 0.017775140702724457, 0.0, 0.14934319257736206], [0.43022358417510986, 0.0, 0.011823342181742191, 0.023790594190359116, 0.03650756925344467, 0.024390600621700287, 0.005371644627302885, 0.13553474843502045], [0.2047356516122818, 0.0, 0.015413518063724041, 0.2117607146501541, 0.015481119975447655, 0.01019815169274807, 0.5085386633872986, 0.052863288670778275], [0.45749610662460327, 0.148177370429039, 0.07122468948364258, 0.1900905966758728, 0.059459809213876724, 0.061052944511175156, 0.02906210906803608, 0.09454748034477234]]], [[[1.0824497938156128, 0.0010056415339931846, 0.0005113818915560842, 0.0016936144093051553, 0.0009150804835371673, 0.001303392113186419, 0.00019642655388452113, 0.02303585223853588], [6.600870983675122e-05, 0.0002170940861105919, 1.1107131242752075, 0.00010853369894903153, 8.743236179498126e-08, 3.505701613448764e-07, 4.772593001689529e-06, 1.1850019063786021e-06], [0.00014210653898771852, 5.828667326568393e-07, 7.79813781264238e-05, 1.1108553409576416, 3.299420131952502e-05, 1.1894201179529773e-07, 1.2654680858759093e-08, 2.1359162474254845e-06], [0.00657456973567605, 0.00021044000459369272, 0.00017105595907196403, 0.005042493809014559, 1.0987833738327026, 0.00022986951807979494, 0.0, 9.89059844869189e-05], [0.0017396172042936087, 0.0, 8.768367479206063e-06, 4.5098145164956804e-06, 9.527237853035331e-05, 1.1086944341659546, 0.0, 9.539988241158426e-05], [0.0024862312711775303, 3.60113176611776e-06, 1.8666314645088278e-06, 1.2023781891912222e-05, 4.540305781119969e-06, 0.0011505763977766037, 1.1061348915100098, 0.0013175130588933825], [0.022687574848532677, 9.166291420115158e-06, 0.00023498102382291108, 1.5907253327895887e-05, 8.218945595217519e-07, 2.0509501155174803e-06, 8.444867125945166e-05, 1.088076114654541], [1.0898348093032837, 2.0728001004499674e-07, 0.00012676107871811837, 0.0008386139525100589, 4.441139753907919e-05, 1.042818621499464e-05, 5.60285002393357e-07, 0.02025531977415085]], [[0.7483757734298706, 0.06006685644388199, 0.015437324531376362, 0.02551736682653427, 0.028725435957312584, 0.05120144039392471, 0.012784677557647228, 0.0], [0.0, 0.043416500091552734, 0.019815504550933838, 0.00909853633493185, 0.009039032272994518, 0.006642111577093601, 0.003921964671462774, 0.049868058413267136], [0.34641754627227783, 0.5264638066291809, 0.008365013636648655, 0.006391247734427452, 0.024866858497262, 0.03936683014035225, 0.00847929809242487, 0.15076054632663727], [0.7786487340927124, 0.15195538103580475, 0.00229532434605062, 0.0, 0.0783921331167221, 0.0, 0.003144659800454974, 0.07743414491415024], [0.4627940356731415, 0.14731799066066742, 0.007015477865934372, 0.2920786440372467, 0.0, 0.0, 0.002867679810151458, 0.13467712700366974], [0.773463249206543, 0.034476835280656815, 0.017800800502300262, 0.032915614545345306, 0.027408553287386894, 0.052987027913331985, 0.019374940544366837, 0.15268424153327942], [0.6207945942878723, 0.10078013688325882, 0.0, 0.001288130646571517, 0.07078301906585693, 0.20391985774040222, 0.0004991772584617138, 0.10738389194011688], [0.9102020859718323, 0.007491336204111576, 0.0020730860996991396, 0.0, 0.002432693727314472, 0.00924624316394329, 0.003232806921005249, 0.17413708567619324]], [[0.7239909172058105, 0.030518583953380585, 0.036528080701828, 0.0, 0.01943551003932953, 0.030052928254008293, 0.11375903338193893, 0.09584825485944748], [0.9323334693908691, 0.013763675466179848, 0.05084839463233948, 0.01339587103575468, 0.006086814682930708, 0.00926942564547062, 0.03386203199625015, 0.05155154690146446], [0.6234313249588013, 0.08340905606746674, 0.0026454415637999773, 0.018081942573189735, 0.0, 0.09541964530944824, 0.018634958192706108, 0.24087046086788177], [0.0, 0.01608433946967125, 0.007382350042462349, 0.004091213922947645, 0.005659850779920816, 0.015571187250316143, 0.007168764714151621, 0.0], [1.0653420686721802, 0.004191407933831215, 0.00858247745782137, 0.003295082366093993, 0.0009913814719766378, 0.003237187396734953, 0.004475701134651899, 0.020996056497097015], [0.8383012413978577, 0.0, 0.05821157991886139, 0.03915133327245712, 0.010587302036583424, 0.013742602430284023, 0.052483998239040375, 0.0812300592660904], [0.6932570934295654, 0.03323840722441673, 0.0647808313369751, 0.13301831483840942, 0.052321482449769974, 0.03144920989871025, 0.008827708661556244, 0.09421814233064651], [0.6119877099990845, 0.04528219252824783, 0.04372647404670715, 0.05526968091726303, 0.028211262077093124, 0.04208244010806084, 0.09071414172649384, 0.19383728504180908]], [[0.6960198879241943, 0.05066332593560219, 0.04553714394569397, 0.0463879257440567, 0.025840964168310165, 0.04255986586213112, 0.03546028584241867, 0.16864171624183655], [0.0, 0.0790703147649765, 0.044555094093084335, 0.09779075533151627, 0.04577598348259926, 0.08563228696584702, 0.11114263534545898, 0.2778316140174866], [0.5850973725318909, 0.08605124056339264, 0.005504440050572157, 0.08426545560359955, 0.015157272107899189, 0.0, 0.035518329590559006, 0.2361806184053421], [0.6707350015640259, 0.0, 0.00803946889936924, 0.018726233392953873, 0.01570376195013523, 0.024908283725380898, 0.0, 0.32079386711120605], [0.7295259833335876, 0.03926226124167442, 0.015190145932137966, 0.06626935303211212, 0.0, 0.035623885691165924, 0.04857713729143143, 0.16635607182979584], [0.36407068371772766, 0.06347346305847168, 0.06194653734564781, 0.12341751903295517, 0.0405040979385376, 0.060917723923921585, 0.15359827876091003, 0.24318288266658783], [0.5058928728103638, 0.11701985448598862, 0.025552542880177498, 0.040822915732860565, 0.0416099950671196, 0.10974903404712677, 0.006309720687568188, 0.264154314994812], [0.8682457804679871, 0.027425503358244896, 0.02108880691230297, 0.02202722057700157, 0.008807986043393612, 0.02148437313735485, 0.030427992343902588, 0.11160340160131454]], [[0.7823021411895752, 0.044158823788166046, 0.014803961850702763, 0.018420478329062462, 0.018622394651174545, 0.0494246706366539, 0.0, 0.15889312326908112], [0.4810510277748108, 0.17886614799499512, 0.018318286165595055, 0.04645587131381035, 0.024085571989417076, 0.09031231701374054, 0.017195656895637512, 0.2548263370990753], [0.8442266583442688, 0.05060024932026863, 0.0, 0.029668400064110756, 0.012559046968817711, 0.021624786779284477, 0.01354474201798439, 0.0], [0.8812968134880066, 0.01095446664839983, 0.026151882484555244, 0.03943438455462456, 0.020204899832606316, 0.010440933518111706, 0.026969242841005325, 0.09565865248441696], [0.0, 0.018221883103251457, 0.010507369413971901, 0.22846673429012299, 0.07961274683475494, 0.02559882588684559, 0.07800806313753128, 0.1208643987774849], [0.4239843785762787, 0.1713426560163498, 0.029761821031570435, 0.08306144922971725, 0.03312040865421295, 0.12593050301074982, 0.02287249267101288, 0.22103752195835114], [0.5922450423240662, 0.07287649065256119, 0.014202393591403961, 0.02613472193479538, 0.0641709715127945, 0.08496175706386566, 0.06939904391765594, 0.18712082505226135], [0.655154824256897, 0.10743286460638046, 0.0, 0.004039672669023275, 0.005556817632168531, 0.09637501090765, 0.009890442714095116, 0.22401826083660126]], [[0.5572175979614258, 0.029420945793390274, 0.1370815634727478, 0.019350290298461914, 0.017509974539279938, 0.0, 0.20618118345737457, 0.0], [0.12235122174024582, 0.0925867035984993, 0.3856606185436249, 0.09353315085172653, 0.05683515593409538, 0.0736023336648941, 0.23119308054447174, 0.055349044501781464], [0.5247923135757446, 0.0, 0.00958971306681633, 0.042903315275907516, 0.027914712205529213, 0.12365029007196426, 0.00500578572973609, 0.0], [0.6638320684432983, 0.06715525686740875, 0.018072552978992462, 0.03936568647623062, 0.023740803822875023, 0.08212842792272568, 0.036746878176927567, 0.18006952106952667], [0.0, 0.14726676046848297, 0.05933518335223198, 0.0, 0.12261033058166504, 0.1203019991517067, 0.05526909604668617, 0.168021559715271], [0.0, 0.032958392053842545, 0.17470481991767883, 0.027280151844024658, 0.036074232310056686, 0.07670201361179352, 0.5059100985527039, 0.10025095194578171], [0.4961962401866913, 0.042573947459459305, 0.06207287311553955, 0.017163798213005066, 0.00801508966833353, 0.05666600167751312, 0.2308768630027771, 0.1975463330745697], [0.0, 0.026747971773147583, 0.16203108429908752, 0.0, 0.022109339013695717, 0.04893580824136734, 0.15838982164859772, 0.07626554369926453]], [[0.2126944214105606, 0.12288389354944229, 0.04171277955174446, 0.0917930081486702, 0.13312485814094543, 0.11553327739238739, 0.09387566894292831, 0.29949328303337097], [0.12093061208724976, 0.46663030982017517, 0.008407744579017162, 0.02497672289609909, 0.0, 0.33051982522010803, 0.0036727716214954853, 0.14500583708286285], [0.2721477746963501, 0.03738538548350334, 0.5006401538848877, 0.0020560689736157656, 0.00643830094486475, 0.049275223165750504, 0.011006292887032032, 0.2321620136499405], [0.33032840490341187, 0.06088278815150261, 0.0031022110488265753, 0.3597509562969208, 0.01549316756427288, 0.06788428872823715, 0.06835018843412399, 0.20531915128231049], [0.12149662524461746, 0.015744095668196678, 0.0014437088975682855, 0.0, 0.8565530776977539, 0.010232526808977127, 0.0007211905322037637, 0.10106486827135086], [0.1297139823436737, 0.581941545009613, 0.0029167747125029564, 0.017354849725961685, 0.008172874338924885, 0.2057979702949524, 0.0034358068369328976, 0.16177725791931152], [0.31954827904701233, 0.01826501078903675, 0.0023233150132000446, 0.0857662484049797, 0.001958298496901989, 0.02102237567305565, 0.41530030965805054, 0.2469273805618286], [0.3615134656429291, 0.0779142677783966, 0.031023697927594185, 0.05070250481367111, 0.0422145314514637, 0.07324148714542389, 0.10258804261684418, 0.37191319465637207]], [[0.8901054263114929, 0.029337501153349876, 0.012085742317140102, 0.033768296241760254, 0.013885742984712124, 0.017463652417063713, 0.020776359364390373, 0.0936884731054306], [0.48677361011505127, 0.20109419524669647, 0.05407486483454704, 0.048032309859991074, 0.033278267830610275, 0.0, 0.060509078204631805, 0.1412498652935028], [0.34462296962738037, 0.21850258111953735, 0.008664514869451523, 0.07419474422931671, 0.04188920557498932, 0.12350832670927048, 0.10423300415277481, 0.19549579918384552], [0.595928966999054, 0.0686822459101677, 0.04738239198923111, 0.052429042756557465, 0.011924363672733307, 0.05259865149855614, 0.19615928828716278, 0.08600620925426483], [0.7861832976341248, 0.03492559865117073, 0.01945999637246132, 0.08279202878475189, 0.00903734378516674, 0.019201533868908882, 0.09894954413175583, 0.06056182458996773], [0.0, 0.16525587439537048, 0.05740475282073021, 0.0953371673822403, 0.033372439444065094, 0.08411925286054611, 0.11500487476587296, 0.0], [0.39501309394836426, 0.08389542996883392, 0.11587949097156525, 0.20458269119262695, 0.06286545842885971, 0.0, 0.02904357761144638, 0.1588306576013565], [1.0261341333389282, 0.011869043111801147, 0.00217828550375998, 0.0032547451555728912, 0.004635603167116642, 0.004100415855646133, 0.002754911547526717, 0.05618398264050484]], [[0.818852424621582, 0.0, 0.00963168777525425, 0.01697920449078083, 0.014026736840605736, 0.037312086671590805, 0.024933885782957077, 0.1500358134508133], [0.3934307396411896, 0.20336204767227173, 0.01751347817480564, 0.0437912791967392, 0.06198003888130188, 0.19620129466056824, 0.06994107365608215, 0.12489127367734909], [0.5656622648239136, 0.06823383271694183, 0.009924410842359066, 0.016903214156627655, 0.06748339533805847, 0.09598404169082642, 0.1010526567697525, 0.1858673393726349], [0.5718226432800293, 0.12230098992586136, 0.00540704233571887, 0.09097519516944885, 0.023379985243082047, 0.06442022323608398, 0.009041784331202507, 0.2237633764743805], [0.8936929702758789, 0.03449774533510208, 0.0005911479820497334, 0.0026178518310189247, 0.013836387544870377, 0.037483878433704376, 0.005592728033661842, 0.0], [0.5323962569236755, 0.1719973087310791, 0.004339412786066532, 0.025653915479779243, 0.05163447931408882, 0.15814414620399475, 0.03959623724222183, 0.12734942138195038], [0.7947401404380798, 0.08900315314531326, 0.01000483613461256, 0.018922559916973114, 0.024784957990050316, 0.0, 0.016661042347550392, 0.08478545397520065], [0.8139081001281738, 0.04466303437948227, 0.010413002222776413, 0.013415375724434853, 0.011316616088151932, 0.038124822080135345, 0.010454629547894001, 0.16881556808948517]], [[0.0, 0.03277021646499634, 0.012149705551564693, 0.007850411348044872, 0.011953826062381268, 0.011253958567976952, 0.005715734325349331, 0.2420634925365448], [4.622268534149043e-05, 0.0004916596226394176, 1.1104965209960938, 6.726237188559026e-05, 1.1056493320893424e-07, 4.341882231528871e-07, 5.774528744950658e-06, 3.140054104733281e-06], [0.0, 0.0, 2.743810364336241e-05, 0.0, 8.644824265502393e-05, 3.324441024687985e-07, 2.405371368752185e-08, 5.34051969225402e-06], [0.006487338803708553, 0.00018885955796577036, 6.970472895773128e-05, 0.002923238556832075, 1.1007260084152222, 0.0006002826848998666, 1.3404146557149943e-06, 0.00011437816283432767], [0.0012918865540996194, 3.645454489742406e-05, 8.2385704445187e-06, 1.5281491414498305e-06, 4.846629235544242e-05, 1.1095391511917114, 0.00011640974116744474, 6.896093691466376e-05], [0.003790697082877159, 3.5999971714772983e-06, 1.8672130863706116e-06, 3.0609417080995627e-06, 0.0, 0.0005963409203104675, 1.1050527095794678, 0.0016606502467766404], [0.009920784272253513, 9.688761565485038e-06, 0.00010477442992851138, 7.336742555708042e-07, 7.111570710094384e-08, 1.0003863053498208e-06, 9.840809070738032e-05, 1.1009756326675415], [1.102583646774292, 8.63444782339684e-08, 2.218204281234648e-05, 0.0017447432037442923, 6.819940608693287e-05, 4.617651029548142e-06, 1.1340471246512607e-06, 0.006686602719128132]], [[0.7975144386291504, 0.0, 0.038540471345186234, 0.014210003428161144, 0.01626517064869404, 0.02690732479095459, 0.01893088035285473, 0.1675962656736374], [0.6060886383056641, 0.057316914200782776, 0.05869051814079285, 0.017661141231656075, 0.03186185285449028, 0.05279020592570305, 0.0436609722673893, 0.24304097890853882], [0.07525759190320969, 0.0, 0.0, 0.039341047406196594, 0.054184842854738235, 0.07337124645709991, 0.49526599049568176, 0.06968659162521362], [0.45066121220588684, 0.10132070630788803, 0.11111496388912201, 0.05969124287366867, 0.028459582477808, 0.11406053602695465, 0.1450505256652832, 0.1007523387670517], [0.7644674777984619, 0.05000728368759155, 0.04807904362678528, 0.04135264456272125, 0.0116455452516675, 0.04697570204734802, 0.07002826780080795, 0.0], [0.0, 0.06790520995855331, 0.07277173548936844, 0.03132401034235954, 0.05258052796125412, 0.06324874609708786, 0.0, 0.15924933552742004], [0.34699028730392456, 0.09424547106027603, 0.04055142030119896, 0.11940549314022064, 0.04285763204097748, 0.12493465095758438, 0.10814105719327927, 0.2339850813150406], [0.9552380442619324, 0.026627562940120697, 0.020514648407697678, 0.007301670033484697, 0.0, 0.019018497318029404, 0.007910354062914848, 0.06033237650990486]], [[1.0371325016021729, 0.010141701437532902, 0.001420366344973445, 0.004509655758738518, 0.0019629362504929304, 0.009097435511648655, 0.0020180323626846075, 0.044828493148088455], [0.0, 0.0754631906747818, 0.11013530194759369, 0.22681502997875214, 0.05628051608800888, 0.08733955025672913, 0.05349260941147804, 0.12635542452335358], [0.6869009137153625, 0.10667486488819122, 0.02593512274324894, 0.0703698918223381, 0.05516686663031578, 0.0, 0.04484289139509201, 0.0518338643014431], [0.43329885601997375, 0.07294035702943802, 0.025132901966571808, 0.07554711401462555, 0.019956402480602264, 0.1001671701669693, 0.0, 0.19625474512577057], [0.0, 0.04518411308526993, 0.05886027216911316, 0.09276226907968521, 0.018886884674429893, 0.06408599764108658, 0.14318564534187317, 0.17977775633335114], [0.464503675699234, 0.0, 0.06627102196216583, 0.13411489129066467, 0.0402216911315918, 0.06608229130506516, 0.08415514975786209, 0.20380444824695587], [0.9148638844490051, 0.05167783796787262, 0.005991322919726372, 0.03513859957456589, 0.010538718663156033, 0.03374044969677925, 0.004600761458277702, 0.05455968156456947], [1.0978913307189941, 0.002598628867417574, 0.0003326239238958806, 0.00042584448237903416, 0.00035804943763650954, 0.002545333933085203, 0.00024828151799738407, 0.0067110187374055386]]], [[[0.42832842469215393, 0.013213034719228745, 0.0015244833193719387, 0.0033068647608160973, 0.0024783725384622812, 0.013212650083005428, 0.0, 0.6454630494117737], [0.13381269574165344, 0.4291224777698517, 2.0287719962652773e-05, 0.0005150727811269462, 0.0013934433227404952, 0.0, 0.0003690134035423398, 0.22166545689105988], [0.4023529291152954, 0.00269126333296299, 0.0, 0.0002480011899024248, 0.00016103035886771977, 0.002590880496427417, 0.001925259013660252, 0.4946765601634979], [0.3527606129646301, 0.008423267863690853, 0.0, 0.253902792930603, 0.0, 0.0, 0.0013387642102316022, 0.49140605330467224], [0.5026758909225464, 0.0, 5.961794522590935e-05, 0.00018899804854299873, 0.08250788599252701, 0.0022345599718391895, 3.4412038075970486e-05, 0.513562023639679], [0.3184562027454376, 0.35424119234085083, 1.2762839105562307e-05, 0.00021284710965119302, 0.0004383909108582884, 0.061148665845394135, 5.74603327549994e-05, 0.37654373049736023], [0.27260956168174744, 0.00025994464522227645, 9.709776350064203e-05, 0.0, 9.50358844420407e-06, 8.202053140848875e-05, 0.0, 0.3199297785758972], [0.3439071476459503, 0.008237497881054878, 0.0024248119443655014, 0.004208841826766729, 0.005711471661925316, 0.01033893320709467, 0.003468295792117715, 0.7328141331672668]], [[0.40155380964279175, 0.028011547401547432, 0.04015504941344261, 0.033072371035814285, 0.011361172422766685, 0.0, 0.06225580349564552, 0.5033356547355652], [0.2660246193408966, 0.13421444594860077, 0.09343356639146805, 0.035958461463451385, 0.0343436673283577, 0.10882576555013657, 0.0748865157365799, 0.3634241819381714], [0.5342053771018982, 0.1361021101474762, 0.019404888153076172, 0.05040133744478226, 0.02053944207727909, 0.08374308049678802, 0.0829448401927948, 0.18377016484737396], [0.4034684896469116, 0.07899032533168793, 0.11622528731822968, 0.05281741917133331, 0.06493979692459106, 0.08526602387428284, 0.060676563531160355, 0.24872729182243347], [0.19697925448417664, 0.03914107382297516, 0.08084143698215485, 0.1663496494293213, 0.08007610589265823, 0.045822445303201675, 0.24287629127502441, 0.25902482867240906], [0.19529271125793457, 0.06523366272449493, 0.08442762494087219, 0.045617468655109406, 0.0, 0.06531025469303131, 0.1282157599925995, 0.472464919090271], [0.02995072305202484, 0.007371858693659306, 0.0, 0.008156922645866871, 0.002668525092303753, 0.010482660494744778, 0.005921844393014908, 1.0358518362045288], [0.4914117157459259, 0.009418832138180733, 0.0, 0.0012956307036802173, 0.0029555002693086863, 0.008475796319544315, 0.02104375883936882, 0.5724058747291565]], [[0.07986142486333847, 0.14556977152824402, 0.238068088889122, 0.1116928979754448, 0.1036558672785759, 0.0, 0.14947958290576935, 0.16189885139465332], [0.21130035817623138, 0.439713716506958, 0.006780063733458519, 0.011503207497298717, 0.027046827599406242, 0.24654705822467804, 0.0, 0.15919725596904755], [0.5441867709159851, 0.11338715255260468, 0.01875855028629303, 0.026310697197914124, 0.01807282119989395, 0.11725494265556335, 0.010107814334332943, 0.2630324363708496], [0.47252777218818665, 0.1184312254190445, 0.0, 0.0, 0.02190275490283966, 0.10113518685102463, 0.0, 0.372599720954895], [0.3558923006057739, 0.05775606632232666, 0.0, 0.008868434466421604, 0.2909393608570099, 0.13961200416088104, 0.003988189622759819, 0.2503634989261627], [0.19061279296875, 0.4551317095756531, 0.004013353027403355, 0.006120119709521532, 0.014983794651925564, 0.26193466782569885, 0.004873126745223999, 0.1734415590763092], [0.44149014353752136, 0.09772450476884842, 0.0350806750357151, 0.0, 0.03285722807049751, 0.0, 0.007899015210568905, 0.3990621566772461], [0.15633524954319, 0.0231463760137558, 0.023894216865301132, 0.01249254122376442, 0.019546005874872208, 0.021245431154966354, 0.0, 0.8345533609390259]], [[0.43113815784454346, 0.01790890283882618, 0.023568548262119293, 0.03404754772782326, 0.022031687200069427, 0.0, 0.03358924761414528, 0.5210999846458435], [0.06940589845180511, 0.0, 0.20399460196495056, 0.3967075049877167, 0.1742059737443924, 0.09231268614530563, 0.07177066057920456, 0.05605895072221756], [0.14552155137062073, 0.08405981212854385, 0.015381528064608574, 0.2857690751552582, 0.0980621874332428, 0.2603539526462555, 0.06654299795627594, 0.15542003512382507], [0.05055953189730644, 0.019958753138780594, 0.032566070556640625, 0.038364287465810776, 0.0854756161570549, 0.5549949407577515, 0.20717017352581024, 0.12202173471450806], [0.0, 0.0, 0.029533524066209793, 0.041956473141908646, 0.041463274508714676, 0.140358105301857, 0.3656320571899414, 0.22308558225631714], [0.2949744462966919, 0.011734269559383392, 0.023317284882068634, 0.048704326152801514, 0.039997950196266174, 0.07108958065509796, 0.2911790907382965, 0.3301142156124115], [0.3860074579715729, 0.005828255321830511, 0.018723081797361374, 0.0080612413585186, 0.008730369620025158, 0.016978373751044273, 0.0018319517839699984, 0.6649503707885742], [0.29853692650794983, 0.004300667904317379, 0.0024488624185323715, 0.0017742929048836231, 0.0016250957269221544, 0.002866113558411598, 0.0012067996431142092, 0.7983524799346924]], [[0.12058980762958527, 0.021727219223976135, 0.08153258264064789, 0.0325782485306263, 0.02951226383447647, 0.02010021172463894, 0.06724715977907181, 0.7378236651420593], [0.10422725975513458, 0.08012627065181732, 0.1675427407026291, 0.13496550917625427, 0.0493563748896122, 0.0, 0.1271459013223648, 0.0], [0.03829357028007507, 0.049900077283382416, 0.11385589092969894, 0.1530415117740631, 0.09316857159137726, 0.033619560301303864, 0.20674799382686615, 0.42248404026031494], [0.23178279399871826, 0.037881627678871155, 0.0, 0.034189239144325256, 0.04087435454130173, 0.05314895138144493, 0.24813491106033325, 0.4302864074707031], [0.12890200316905975, 0.07643198221921921, 0.0, 0.0, 0.017896750941872597, 0.045218680053949356, 0.03747330233454704, 0.6627054214477539], [0.1060565933585167, 0.0, 0.12301833927631378, 0.19633859395980835, 0.04195098951458931, 0.04153377562761307, 0.21269375085830688, 0.3157701790332794], [0.02158515341579914, 0.12962330877780914, 0.0, 0.0, 0.06449463218450546, 0.11133058369159698, 0.12144321948289871, 0.07778526842594147], [0.7781292200088501, 0.002867670962586999, 0.0, 0.00036870388430543244, 0.0019676517695188522, 0.006640601437538862, 0.0309616606682539, 0.2875458598136902]], [[0.8112622499465942, 0.03855425864458084, 0.01678379252552986, 0.010070448741316795, 0.02983652986586094, 0.04190954566001892, 0.12329266220331192, 0.0], [0.9685662388801575, 0.07326958328485489, 0.00142670888453722, 0.00017291231779381633, 0.007563232909888029, 0.0017903679981827736, 0.015662090852856636, 0.04265999794006348], [0.3657720386981964, 0.7208117246627808, 0.0010553700849413872, 0.00037200810038484633, 0.0036683815997093916, 0.0005109187914058566, 0.01324906200170517, 0.0056717609986662865], [0.20940053462982178, 0.0, 0.7134068608283997, 0.019749196246266365, 0.0015095812268555164, 0.009904719889163971, 0.002174016321077943, 0.05057171359658241], [0.0013223449932411313, 4.70885461254511e-05, 0.001921935472637415, 1.1061846017837524, 0.00014194505638442934, 0.00045230332762002945, 5.0941703193529975e-06, 0.0010358747094869614], [0.21007098257541656, 0.0005696280859410763, 0.0009333553025498986, 0.003121555782854557, 0.839798629283905, 0.039488986134529114, 0.010441469959914684, 0.0], [0.264217734336853, 0.0016431306721642613, 0.0018507641507312655, 0.002244757255539298, 0.01470027957111597, 0.8032946586608887, 0.009692543186247349, 0.013467332348227501], [0.9841650724411011, 0.0, 0.009045190177857876, 0.00711869029328227, 0.00830165110528469, 0.028425147756934166, 0.032820750027894974, 0.01970762014389038]], [[0.11381689459085464, 0.082962267100811, 0.3039495646953583, 0.12948527932167053, 0.03338659927248955, 0.07540925592184067, 0.11233062297105789, 0.2597707211971283], [0.33203116059303284, 0.21891991794109344, 0.03183221444487572, 0.01986066997051239, 0.0, 0.1102384552359581, 0.04363207891583443, 0.33309611678123474], [0.5272504091262817, 0.07134240865707397, 0.03567187115550041, 0.01322169043123722, 0.024264346808195114, 0.04896383732557297, 0.01673762872815132, 0.37365907430648804], [0.4888075590133667, 0.09092052280902863, 0.01191221084445715, 0.013211177662014961, 0.03949792683124542, 0.05982328951358795, 0.01570521853864193, 0.39123326539993286], [0.5013214349746704, 0.08961817622184753, 0.0, 0.01298697479069233, 0.058354150503873825, 0.061835143715143204, 0.012657326646149158, 0.0], [0.3641268014907837, 0.14282289147377014, 0.018916670233011246, 0.019810663536190987, 0.0, 0.08723506331443787, 0.05170755460858345, 0.3898507356643677], [0.5052745342254639, 0.06305913627147675, 0.0, 0.010648992843925953, 0.05540678650140762, 0.025708414614200592, 0.0033753737807273865, 0.406757116317749], [0.32282137870788574, 0.013135125860571861, 0.01862156018614769, 0.011218179017305374, 0.02420063130557537, 0.0, 0.04587656632065773, 0.6571462750434875]], [[0.0, 0.07062895596027374, 0.06188305467367172, 0.09624157845973969, 0.03910739719867706, 0.0381690189242363, 0.021831104531884193, 0.24594852328300476], [0.2821815609931946, 0.0, 0.09702861309051514, 0.0, 0.11469954997301102, 0.0647323727607727, 0.17980225384235382, 0.17886687815189362], [0.6070157289505005, 0.012578483670949936, 0.00613461434841156, 0.06424552947282791, 0.029086364433169365, 0.0, 0.042346686124801636, 0.33747342228889465], [0.5682015419006348, 0.04951006546616554, 0.026686979457736015, 0.06937094777822495, 0.07454246282577515, 0.04654523357748985, 0.03123139776289463, 0.24502253532409668], [0.4008265435695648, 0.08536825329065323, 0.0, 0.06933923810720444, 0.11567899584770203, 0.08909358084201813, 0.048130668699741364, 0.2868480980396271], [0.3661714196205139, 0.0861157551407814, 0.0848708376288414, 0.09365978091955185, 0.12018692493438721, 0.11144718527793884, 0.07135576754808426, 0.1773035079240799], [0.5300869345664978, 0.08315084874629974, 0.02434886246919632, 0.052431002259254456, 0.10537458956241608, 0.03910258039832115, 0.025808893144130707, 0.25080743432044983], [0.4836746156215668, 0.0, 0.007385353557765484, 0.022818738594651222, 0.0, 0.01593322865664959, 0.00854240171611309, 0.5497577786445618]], [[0.6408531069755554, 0.012829775922000408, 0.021315911784768105, 0.03667520359158516, 0.006824450567364693, 0.01266712136566639, 0.021077962592244148, 0.35886773467063904], [0.3099018335342407, 0.0, 0.05491965264081955, 0.23277981579303741, 0.06214740127325058, 0.06721623241901398, 0.051180992275476456, 0.2828802168369293], [0.08795175701379776, 0.03460414707660675, 0.4670989513397217, 0.08610326051712036, 0.03750890493392944, 0.01856318861246109, 0.08529345691204071, 0.29398754239082336], [0.137004554271698, 0.055125877261161804, 0.09399699419736862, 0.06884156167507172, 0.053176067769527435, 0.0, 0.10056659579277039, 0.5572225451469421], [0.3054559826850891, 0.03471033275127411, 0.022566167637705803, 0.18504607677459717, 0.0, 0.030010055750608444, 0.08746591210365295, 0.42254021763801575], [0.22029425203800201, 0.05014597624540329, 0.0, 0.3055158853530884, 0.06374352425336838, 0.04512421041727066, 0.0788053423166275, 0.3248923122882843], [0.20379935204982758, 0.0, 0.0316133089363575, 0.13047920167446136, 0.063481904566288, 0.03724013268947601, 0.08662361651659012, 0.5189510583877563], [0.7615800499916077, 0.00599284702911973, 0.03454018384218216, 0.0, 0.0, 0.006672507151961327, 0.006903780158609152, 0.28773415088653564]], [[0.7896692752838135, 0.01571119762957096, 0.015586803667247295, 0.02490190416574478, 0.0, 0.013124310411512852, 0.028914684429764748, 0.20520228147506714], [0.0064162942580878735, 0.0, 0.0, 0.004705157596617937, 0.00020096515072509646, 0.0005407901480793953, 0.0038806528318673372, 0.016798969358205795], [0.45553821325302124, 0.024749867618083954, 0.0559573769569397, 0.24950949847698212, 0.012796862982213497, 0.03080524317920208, 0.0, 0.2767258584499359], [0.0, 0.003666514763608575, 0.020611219108104706, 0.006563269533216953, 0.180675208568573, 0.1646984964609146, 0.026888340711593628, 0.3005135953426361], [0.0, 0.001413528574630618, 0.03875270485877991, 0.0018486729823052883, 0.0009142054477706552, 0.4854358732700348, 0.0, 0.0], [0.18485715985298157, 0.00228738016448915, 0.04091964289546013, 0.002586025046184659, 0.0042813727632164955, 0.04761140048503876, 0.7160281538963318, 0.0], [1.0810997486114502, 6.302967813098803e-05, 4.137721043662168e-05, 2.2266523956204765e-05, 5.55117912881542e-06, 4.3315751099726185e-05, 0.00017005552945192903, 0.029665878042578697], [1.0270529985427856, 0.008489521220326424, 0.001517520984634757, 0.0035777452867478132, 0.007272572256624699, 0.007605699356645346, 0.003018335672095418, 0.05257689580321312]], [[0.0, 0.0192533191293478, 0.02597728930413723, 0.01673387736082077, 0.0, 0.017419977113604546, 0.024867551401257515, 0.6675211787223816], [0.10835570842027664, 0.036026790738105774, 0.423689603805542, 0.0818706527352333, 0.03528115898370743, 0.035664428025484085, 0.15501146018505096, 0.23521138727664948], [0.2643994987010956, 0.0, 0.08334612101316452, 0.04834960401058197, 0.0022709949407726526, 0.0, 0.13173812627792358, 0.5596668720245361], [0.2246415764093399, 0.024925706908106804, 0.19305431842803955, 0.0, 0.023141883313655853, 0.02694622427225113, 0.44129300117492676, 0.1109171137213707], [0.056774452328681946, 0.028418434783816338, 0.047369442880153656, 0.0, 0.0039701699279248714, 0.022739790380001068, 0.8603893518447876, 0.023507025092840195], [0.11027336120605469, 0.03962871804833412, 0.15768347680568695, 0.09335529804229736, 0.02916826121509075, 0.05794050171971321, 0.4333406090736389, 0.18972086906433105], [0.23222887516021729, 0.04012276977300644, 0.04271480813622475, 0.145613893866539, 0.023761870339512825, 0.02661929838359356, 0.01764971762895584, 0.5823999047279358], [0.29739344120025635, 0.0028964541852474213, 0.00050429004477337, 0.0019501515198498964, 0.0019255809020251036, 0.002472011372447014, 0.002462050411850214, 0.8015072345733643]], [[0.6579221487045288, 0.02478019706904888, 0.013841000385582447, 0.03208216652274132, 0.017031550407409668, 0.024142909795045853, 0.03494488075375557, 0.30636635422706604], [0.5891499519348145, 0.0, 0.0, 0.060859598219394684, 0.024688690900802612, 0.020244460552930832, 0.00820737611502409, 0.32680442929267883], [0.35747241973876953, 0.2704746723175049, 0.02251807227730751, 0.027496691793203354, 0.02318763919174671, 0.009695274755358696, 0.055397436022758484, 0.34486904740333557], [0.20355910062789917, 0.16728805005550385, 0.19497032463550568, 0.08868654072284698, 0.0139248576015234, 0.01777929626405239, 0.08256833255290985, 0.34233465790748596], [0.10544802248477936, 0.15035676956176758, 0.1520300656557083, 0.531804084777832, 0.009216900914907455, 0.024332787841558456, 0.02311648055911064, 0.11480606347322464], [0.015713421627879143, 0.015127059072256088, 0.06172292307019234, 0.8183075785636902, 0.07884342223405838, 0.02836373820900917, 0.015253271907567978, 0.0777798593044281], [0.13133464753627777, 0.00995033048093319, 0.11228027939796448, 0.18637247383594513, 0.0, 0.07823849469423294, 0.05679725110530853, 0.4586808383464813], [0.8387285470962524, 0.009821096435189247, 0.003736441256478429, 0.005492506083101034, 0.003243011888116598, 0.0076573374681174755, 0.010992687195539474, 0.2314395010471344]]], [[[0.16866114735603333, 0.0, 0.005290097091346979, 0.0013467303942888975, 0.0026180336717516184, 0.00911332480609417, 0.018750717863440514, 0.9014321565628052], [0.0, 0.027140317484736443, 0.334408164024353, 0.0, 0.019702279940247536, 0.038160182535648346, 0.0, 0.3441942036151886], [0.006368051283061504, 0.0, 0.07717549800872803, 0.027980586513876915, 0.007145908661186695, 0.016764983534812927, 0.3858262896537781, 0.5798464417457581], [0.02101881615817547, 0.042474374175071716, 0.11458901315927505, 0.04689941182732582, 0.05640533193945885, 0.08673546463251114, 0.09049233049154282, 0.6524965167045593], [0.005848221015185118, 0.009219755418598652, 0.09266865998506546, 0.762161374092102, 0.003582228673622012, 0.012977633625268936, 0.06706167012453079, 0.1575915813446045], [0.008504579775035381, 0.015323862433433533, 0.5060452818870544, 0.14244523644447327, 0.047839440405368805, 0.03469773381948471, 0.1419091522693634, 0.21434591710567474], [0.06845222413539886, 0.11691685765981674, 0.05368952825665474, 0.036843717098236084, 0.04175141081213951, 0.1457565575838089, 0.030933324247598648, 0.6167675852775574], [0.12957501411437988, 0.0029028512071818113, 0.0003698508662637323, 0.0009436809341423213, 0.00033369718585163355, 0.0029704810585826635, 0.025457115843892097, 0.9485585689544678]], [[0.7011572122573853, 0.013270668685436249, 0.14139148592948914, 0.04433555528521538, 0.006725509651005268, 0.041076187044382095, 0.0, 0.0016475534066557884], [0.0030483498703688383, 0.3520953357219696, 0.10565812885761261, 0.1167643740773201, 0.0, 0.14897722005844116, 0.17544355988502502, 0.14609235525131226], [0.0035934438928961754, 0.34435614943504333, 0.04215285927057266, 0.10815124958753586, 0.055588170886039734, 0.2545468509197235, 0.007334064692258835, 0.2953883409500122], [0.0004490006249397993, 0.35665857791900635, 0.060672320425510406, 0.06873635202646255, 0.07406661659479141, 0.1470814049243927, 0.01596646197140217, 0.38748037815093994], [0.005932689644396305, 0.5895274877548218, 0.0, 0.04330563545227051, 0.07153767347335815, 0.0, 0.01740831695497036, 0.17169466614723206], [0.002591923112049699, 0.5040575861930847, 0.09019316732883453, 0.0727415457367897, 0.0, 0.1444537192583084, 0.027289457619190216, 0.17756889760494232], [0.0, 0.08961865305900574, 0.20599614083766937, 0.2267376333475113, 0.09817297011613846, 0.17044608294963837, 0.0, 0.24379666149616241], [0.07677202671766281, 0.04632763937115669, 0.03543170541524887, 0.11686690896749496, 0.034741099923849106, 0.05494881421327591, 0.026447005569934845, 0.7195760607719421]], [[0.03695973753929138, 0.0, 0.1526675522327423, 0.0, 0.0445873886346817, 0.09511026740074158, 0.30257448554039, 0.05523743852972984], [0.3944321274757385, 0.0669889822602272, 0.03281431272625923, 0.03913009911775589, 0.058613333851099014, 0.06458738446235657, 0.0, 0.33791518211364746], [0.08852483332157135, 0.02506001852452755, 0.001186617068015039, 0.006648798938840628, 0.03997347503900528, 0.02273620292544365, 0.017153574153780937, 0.9098275899887085], [0.06692266464233398, 0.036891281604766846, 0.037405289709568024, 0.04097607359290123, 0.07613815367221832, 0.030134281143546104, 0.010629610158503056, 0.8120138049125671], [0.0, 0.03815436735749245, 0.01565537042915821, 0.010378881357610226, 0.06629624962806702, 0.03249436989426613, 0.011529390700161457, 0.8521720767021179], [0.3132810890674591, 0.04738721624016762, 0.022280683740973473, 0.013434967957437038, 0.061611101031303406, 0.0, 0.04239228367805481, 0.5773518681526184], [0.1280975490808487, 0.0, 0.05018185079097748, 0.011541583575308323, 0.04576690122485161, 0.0, 0.002000326057896018, 0.8475863933563232], [0.1051982194185257, 0.015151260420680046, 0.016042083501815796, 0.0036022874992340803, 0.01003654021769762, 0.016108034178614616, 0.0, 0.9384929537773132]], [[0.031058628112077713, 0.011462290771305561, 0.035806797444820404, 0.019426636397838593, 0.012188605964183807, 0.03358466178178787, 0.07341399043798447, 0.8941695690155029], [0.05610528588294983, 0.6112414002418518, 0.003184530884027481, 0.0006168477702885866, 0.0016857277369126678, 0.07807104289531708, 0.002233666367828846, 0.35797274112701416], [0.011204899288713932, 6.656258483417332e-05, 0.4743708074092865, 0.0010063970694318414, 1.962016904144548e-05, 0.0003380811831448227, 0.0007505866815336049, 0.6233542561531067], [0.0194878950715065, 8.07725518825464e-05, 0.0008798951166681945, 0.4376039206981659, 0.0005178339197300375, 0.0, 0.0031355784740298986, 0.6490370631217957], [0.0, 0.00025081250350922346, 3.594510781113058e-05, 0.0012569332029670477, 0.6425840854644775, 0.00020451776799745858, 9.303921979153529e-05, 0.437576562166214], [0.07160903513431549, 0.09321653842926025, 0.008991319686174393, 0.008098548278212547, 0.0, 0.1253831535577774, 0.001669874181970954, 0.7993386387825012], [0.03714492544531822, 0.0008793282322585583, 0.024071145802736282, 0.0022446680814027786, 4.8323145165340975e-05, 0.0004684340092353523, 0.5358105301856995, 0.5104438066482544], [0.006375371944159269, 0.0009703673422336578, 0.0014919161330908537, 0.0020081112161278725, 0.0004966399865224957, 0.0009106738143600523, 0.0008074138895608485, 1.0980507135391235]], [[0.0, 0.019739670678973198, 0.008662744425237179, 0.06033777818083763, 0.013412662781774998, 0.024884013459086418, 0.032758548855781555, 0.5869936943054199], [0.05326145887374878, 0.058291155844926834, 0.23343095183372498, 0.33835750818252563, 0.0881430134177208, 0.04195280000567436, 0.07233830541372299, 0.22533604502677917], [0.06704086810350418, 0.05492466315627098, 0.018466070294380188, 0.17262588441371918, 0.09221360832452774, 0.0, 0.03779909759759903, 0.5907422304153442], [0.018726510927081108, 0.06125526875257492, 0.010825303383171558, 0.08682111650705338, 0.18268634378910065, 0.0, 0.012920268811285496, 0.5698764324188232], [0.011416122317314148, 0.04889627918601036, 0.018876858055591583, 0.33090895414352417, 0.07675091177225113, 0.07720237970352173, 0.03322884067893028, 0.5138307213783264], [0.019207945093512535, 0.044011760503053665, 0.09932462871074677, 0.36572927236557007, 0.09840872138738632, 0.07343399524688721, 0.06658380478620529, 0.3444110155105591], [0.018355775624513626, 0.03418224677443504, 0.030893485993146896, 0.10384828597307205, 0.06539168953895569, 0.054670851677656174, 0.01718158647418022, 0.7865873575210571], [0.0012827444588765502, 0.00037796510150656104, 0.0005813276511617005, 0.002218532608821988, 0.0006179711781442165, 0.0005513096693903208, 0.0, 1.1042685508728027]], [[0.04043864831328392, 0.003691112855449319, 0.009224586188793182, 0.011227263137698174, 0.008227521553635597, 0.0037063476629555225, 0.012944655492901802, 1.021651029586792], [0.02628936991095543, 0.011761194095015526, 0.63937908411026, 0.22924134135246277, 0.0653437152504921, 0.013427527621388435, 0.03599485382437706, 0.08967410773038864], [0.0, 0.006232967600226402, 0.06196673586964607, 0.027740895748138428, 0.10153628885746002, 0.07206486910581589, 0.04905330389738083, 0.767322838306427], [0.036269236356019974, 0.0, 0.005843936465680599, 0.040868427604436874, 0.35866838693618774, 0.16198691725730896, 0.2456692010164261, 0.0], [0.17930608987808228, 0.002728012390434742, 0.0, 0.011820788495242596, 0.007992742583155632, 0.0, 0.7464528679847717, 0.09683500230312347], [0.0, 0.002074524527415633, 0.015411424450576305, 0.009967774152755737, 0.03506442904472351, 0.0, 0.2057574987411499, 0.6482490301132202], [0.011562362313270569, 0.0, 0.00014961458509787917, 0.0019487730460241437, 0.0049968138337135315, 0.0, 0.0006230907165445387, 1.0904115438461304], [0.0070754773914813995, 0.0004056763427797705, 0.0009011838119477034, 0.001371315331198275, 0.0015781739493831992, 0.0008059026440605521, 0.0018958195578306913, 1.0970776081085205]], [[0.028924256563186646, 0.003421788802370429, 0.007084385026246309, 0.012009596452116966, 0.0036964972969144583, 0.007355451118201017, 0.03398223966360092, 1.0146369934082031], [0.01246646512299776, 0.026569155976176262, 0.04391928389668465, 0.06583300977945328, 0.03457356244325638, 0.04294249787926674, 0.16704897582530975, 0.0], [0.017774254083633423, 0.0, 0.06720093637704849, 0.159634068608284, 0.05273763835430145, 0.07371215522289276, 0.22363121807575226, 0.4301724433898926], [0.029967840760946274, 0.13071294128894806, 0.031429145485162735, 0.03266499191522598, 0.03735563904047012, 0.18044966459274292, 0.11616696417331696, 0.5523639917373657], [0.04246767982840538, 0.06406980752944946, 0.0615103505551815, 0.20994818210601807, 0.014901732094585896, 0.0622461773455143, 0.10798964649438858, 0.5479776263237], [0.0, 0.032229892909526825, 0.02571015991270542, 0.05928179621696472, 0.06434699147939682, 0.049786198884248734, 0.02804107964038849, 0.8410927057266235], [0.0, 0.08639773726463318, 0.016276489943265915, 0.1515582948923111, 0.07818454504013062, 0.19734379649162292, 0.009767291136085987, 0.5452720522880554], [0.004297227133065462, 0.0014205826446413994, 0.0021497905254364014, 0.0014733202988281846, 0.00048421407700516284, 0.0, 0.0, 1.0977646112442017]], [[0.04784918203949928, 0.005513072945177555, 0.007919729687273502, 0.0, 0.011831040494143963, 0.021519677713513374, 0.015236343257129192, 0.9906492233276367], [0.0527399443089962, 0.02960212342441082, 0.06613616645336151, 0.06770212203264236, 0.07907340675592422, 0.002522533293813467, 0.038443051278591156, 0.7748917937278748], [0.03194599226117134, 0.0, 0.019581502303481102, 0.0, 0.007125763688236475, 0.001633556210435927, 0.004842711612582207, 0.9596282243728638], [0.03071376122534275, 0.0, 0.05608881637454033, 0.02579442784190178, 0.006156750023365021, 0.0, 0.019288528710603714, 0.9670116305351257], [0.07398766279220581, 0.0024387259036302567, 0.020778167992830276, 0.0, 0.004792568273842335, 0.0, 0.07792285084724426, 0.23362046480178833], [0.05328737199306488, 0.0013387325452640653, 0.022635215893387794, 0.09408742934465408, 0.17867253720760345, 0.023379895836114883, 0.07608799636363983, 0.6616220474243164], [0.13861677050590515, 0.024235349148511887, 0.002003028988838196, 0.0163296889513731, 0.032396163791418076, 0.2881816625595093, 0.0, 0.5693026185035706], [0.0073952148668468, 0.0024125827476382256, 0.0, 0.0017111116321757436, 0.003188992151990533, 0.0, 0.001647505909204483, 1.089280128479004]], [[0.18639224767684937, 0.008834500797092915, 0.01783447153866291, 0.012186715379357338, 0.01682352088391781, 0.008519007824361324, 0.007892308756709099, 0.8526284098625183], [0.12541455030441284, 0.0, 0.0, 0.10004440695047379, 0.12647084891796112, 0.22184723615646362, 0.17456001043319702, 0.0], [0.07128147780895233, 0.08720780909061432, 0.01690526120364666, 0.049327701330184937, 0.015570863150060177, 0.08142995834350586, 0.010092555545270443, 0.7792954444885254], [0.0934072732925415, 0.0, 0.021353665739297867, 0.08943315595388412, 0.0, 0.03730593994259834, 0.09837435185909271, 0.6977547407150269], [0.11132983863353729, 0.022048400714993477, 0.006592221092432737, 0.11179035156965256, 0.014404909685254097, 0.04273479804396629, 0.031264957040548325, 0.7709456086158752], [0.06312105804681778, 0.020515697076916695, 0.0, 0.033173445612192154, 0.01935948245227337, 0.05958054959774017, 0.030589427798986435, 0.8767483830451965], [0.01897512562572956, 0.014595418237149715, 0.005497323349118233, 0.006620870437473059, 0.00741924624890089, 0.006316539831459522, 0.0003571407578419894, 0.0], [0.010282270610332489, 0.004610506352037191, 0.016255149617791176, 0.005891272332519293, 0.003973247949033976, 0.004623928107321262, 0.011914308182895184, 1.053560495376587]], [[0.05325213074684143, 0.04792162403464317, 0.05827627703547478, 0.05759964510798454, 0.08653750270605087, 0.05072132125496864, 0.011177794076502323, 0.745624840259552], [0.29488348960876465, 0.11738268285989761, 0.015995971858501434, 0.0347878560423851, 0.006371650379151106, 0.11643902212381363, 0.03650376573204994, 0.48874664306640625], [0.2106236219406128, 0.007799352053552866, 0.0024955125991255045, 0.034777507185935974, 0.015636412426829338, 0.013877327553927898, 0.034522175788879395, 0.0], [0.2279864251613617, 0.02456185221672058, 0.11480610817670822, 0.11834564059972763, 0.03539520502090454, 0.07078734040260315, 0.0, 0.41421958804130554], [0.12939755618572235, 0.011742650531232357, 0.02633879892528057, 0.04999806359410286, 0.12449406832456589, 0.08671853691339493, 0.15222817659378052, 0.5301933288574219], [0.0, 0.09544957429170609, 0.011505215428769588, 0.10224051773548126, 0.06115352734923363, 0.12715506553649902, 0.0, 0.46539556980133057], [0.11170598119497299, 0.09963066130876541, 0.04556047171354294, 0.06685546785593033, 0.04290967062115669, 0.02497631497681141, 0.015210086479783058, 0.7042624950408936], [0.03347165510058403, 0.0, 0.004786862060427666, 0.005586393643170595, 0.010405144654214382, 0.005234813783317804, 0.010845751501619816, 1.0367116928100586]], [[0.0349101684987545, 0.0, 0.0, 0.01834287866950035, 0.011742684058845043, 0.018981244415044785, 0.027115149423480034, 0.0], [0.08907760679721832, 0.0716388151049614, 0.06386745721101761, 0.049730006605386734, 0.009987767785787582, 0.007062308490276337, 0.041185975074768066, 0.7785612940788269], [0.08609307557344437, 0.08334456384181976, 0.028222139924764633, 0.013998787850141525, 0.009359882213175297, 0.001885459292680025, 0.036389634013175964, 0.8518176078796387], [0.05927494540810585, 0.18999101221561432, 0.466837614774704, 0.07614155858755112, 0.025664206594228745, 0.0027547269128262997, 0.02241673693060875, 0.26803046464920044], [0.05206512659788132, 0.07444740831851959, 0.47742316126823425, 0.3173101246356964, 0.02437315508723259, 0.011017068289220333, 0.050674211233854294, 0.10380090773105621], [0.1292065531015396, 0.09441564977169037, 0.1415778547525406, 0.36411336064338684, 0.05053357407450676, 0.026938721537590027, 0.06751716136932373, 0.23680825531482697], [0.0412127822637558, 0.0773094892501831, 0.16888730227947235, 0.40306538343429565, 0.056690335273742676, 0.06424345076084137, 0.008093578740954399, 0.29160892963409424], [0.0114324064925313, 0.004444463178515434, 0.003704229835420847, 0.002442082390189171, 0.002435103990137577, 0.00625665532425046, 0.0, 0.0]], [[0.1995191127061844, 0.13959893584251404, 0.031752798706293106, 0.033318910747766495, 0.009771857410669327, 0.004925943445414305, 0.06465166807174683, 0.6275720596313477], [0.13163994252681732, 0.021860435605049133, 0.6516090631484985, 0.013141267001628876, 0.0011426853016018867, 0.00048511780914850533, 0.0521991103887558, 0.239033505320549], [0.04403240233659744, 0.005698030348867178, 0.007846041582524776, 0.0, 0.02322588674724102, 0.008151903748512268, 0.01635672338306904, 0.7804604768753052], [0.017227862030267715, 0.0015061466256156564, 0.0018768480513244867, 0.006888912990689278, 0.0, 0.06743545085191727, 0.0016567811835557222, 0.0], [0.013443400152027607, 0.0009678639471530914, 0.003973788116127253, 0.00025667715817689896, 0.0, 0.7179543972015381, 0.1806797832250595, 0.18742994964122772], [0.049858130514621735, 0.000807152537163347, 0.003190090646967292, 0.00027828142629005015, 0.0, 0.019791198894381523, 0.816778302192688, 0.2152831256389618], [0.005307940766215324, 0.008214367553591728, 0.0009500231826677918, 0.0004467065155040473, 0.0001140744352596812, 0.002286647679284215, 0.0, 1.0926144123077393], [0.019769007340073586, 0.01259659230709076, 0.006271149031817913, 0.011376742273569107, 0.006848551332950592, 0.00985697191208601, 0.007859093137085438, 1.0365331172943115]]], [[[0.06750671565532684, 0.09089003503322601, 0.06768175959587097, 0.0684664249420166, 0.0, 0.01936911605298519, 0.03757846727967262, 0.730368971824646], [0.06653077155351639, 0.03565323352813721, 0.36726799607276917, 0.15895558893680573, 0.0, 0.011407383717596531, 0.0, 0.37025022506713867], [0.043277960270643234, 0.01744312420487404, 0.03534310311079025, 0.06028229743242264, 0.08132171630859375, 0.05434639751911163, 0.06977055221796036, 0.0], [0.027649495750665665, 0.004111488349735737, 0.0448409803211689, 0.016447558999061584, 0.033829860389232635, 0.4153023958206177, 0.06821831315755844, 0.0], [0.006658707745373249, 0.000488867808599025, 0.012951528653502464, 0.005936228204518557, 0.029701659455895424, 0.7132600545883179, 0.15834729373455048, 0.18376675248146057], [0.03024972788989544, 0.0020961479749530554, 0.010345176793634892, 0.00901525653898716, 0.07274191826581955, 0.11327414959669113, 0.4441215991973877, 0.42926719784736633], [0.061417292803525925, 0.030966851860284805, 0.012012828141450882, 0.03669058904051781, 0.05503317713737488, 0.06240854039788246, 0.033388640731573105, 0.8191933035850525], [0.02488795854151249, 0.004251862410455942, 0.010088136419653893, 0.007252820767462254, 0.0046714795753359795, 0.005941631272435188, 0.01615832932293415, 0.0]], [[0.027889108285307884, 0.0027468784246593714, 0.004996886942535639, 0.005348279606550932, 0.0021655315067619085, 0.048841651529073715, 0.016929209232330322, 1.002193570137024], [0.0, 0.01679961569607258, 0.007430561818182468, 0.0, 0.001959298737347126, 0.007014432922005653, 0.007564912550151348, 1.0505226850509644], [0.007535863202065229, 0.05209130421280861, 0.006065303925424814, 0.008804688230156898, 0.044267166405916214, 0.0035749811213463545, 0.0015577333979308605, 0.9872140884399414], [0.013166926801204681, 0.004631860181689262, 0.02647121623158455, 0.009544960223138332, 0.001707698218524456, 0.007645987439900637, 0.0, 1.0459237098693848], [0.06011105701327324, 0.005678877700120211, 0.004710827954113483, 0.0, 0.02044522576034069, 0.13141973316669464, 0.0045942035503685474, 0.1611611396074295], [0.024620862677693367, 0.001483420142903924, 0.006799002643674612, 0.07059362530708313, 0.32679682970046997, 0.02261611819267273, 0.0, 0.0], [0.021419888362288475, 0.0017898653168231249, 0.005943835247308016, 0.017867721617221832, 0.0046638320200145245, 0.5014678835868835, 0.07038353383541107, 0.48757460713386536], [0.0, 0.0008170352084562182, 0.0, 0.0018526067724451423, 0.0013100149808451533, 0.005380570888519287, 0.0009080150630325079, 1.0923349857330322]], [[0.10130685567855835, 0.05250097066164017, 0.012172400020062923, 0.009817183949053288, 0.02102603018283844, 0.01112294476479292, 0.03455672040581703, 0.8686080574989319], [0.10538125783205032, 0.0, 0.11932709068059921, 0.0910930410027504, 0.07852741330862045, 0.10711604356765747, 0.17555563151836395, 0.23862086236476898], [0.05741991475224495, 0.09061125665903091, 0.024576373398303986, 0.02443045750260353, 0.03263447433710098, 0.028115078806877136, 0.023755092173814774, 0.82956862449646], [0.03456892445683479, 0.2095206081867218, 0.07413473725318909, 0.0609179250895977, 0.0, 0.09088855981826782, 0.06033266335725784, 0.5303264260292053], [0.0, 0.09998509287834167, 0.10829070210456848, 0.1042373776435852, 0.0, 0.06610332429409027, 0.06920954585075378, 0.5819804668426514], [0.0, 0.1936151683330536, 0.08679287880659103, 0.07706819474697113, 0.06044294685125351, 0.1753147691488266, 0.050242770463228226, 0.4306607246398926], [0.22731994092464447, 0.33353471755981445, 0.053407784551382065, 0.0, 0.03336324542760849, 0.07800616323947906, 0.007586425635963678, 0.36218029260635376], [0.045178499072790146, 0.008804644457995892, 0.0019118312047794461, 0.0007776826387271285, 0.0024385422002524137, 0.0, 0.001199058722704649, 1.0488616228103638]], [[0.014554452151060104, 0.11876720935106277, 0.1665920466184616, 0.0, 0.05142028257250786, 0.0, 0.060352157801389694, 0.39458948373794556], [0.030281325802206993, 0.047111038118600845, 0.05389929562807083, 0.0700555369257927, 0.01847052201628685, 0.027628662064671516, 0.03228987380862236, 0.8313749432563782], [0.060395412147045135, 0.05626240745186806, 0.03027925454080105, 0.05155787989497185, 0.008569377474486828, 0.006806846708059311, 0.019486673176288605, 0.8777532577514648], [0.029171891510486603, 0.14147686958312988, 0.08904674649238586, 0.054735392332077026, 0.02558060735464096, 0.03251936286687851, 0.0, 0.6559486985206604], [0.07819616794586182, 0.11289733648300171, 0.12117280811071396, 0.2998078763484955, 0.008858194574713707, 0.07712151110172272, 0.11855758726596832, 0.2944997549057007], [0.12602460384368896, 0.12636414170265198, 0.09332647919654846, 0.04237464442849159, 0.02085116133093834, 0.03657974302768707, 0.10931727290153503, 0.5562731623649597], [0.11072190850973129, 0.16163815557956696, 0.08353544026613235, 0.17050214111804962, 0.0979476198554039, 0.07959054410457611, 0.05158069357275963, 0.3555946350097656], [0.009544545784592628, 0.0, 0.005010668188333511, 0.004027163609862328, 0.0022184259723871946, 0.003937838599085808, 0.00878889299929142, 1.075282335281372]], [[0.03484685719013214, 0.13794919848442078, 0.13427262008190155, 0.14015555381774902, 0.05312547832727432, 0.025897745043039322, 0.06048488989472389, 0.5243789553642273], [0.2429424673318863, 0.18519914150238037, 0.08220416307449341, 0.0552690252661705, 0.013847792521119118, 0.0, 0.11948701739311218, 0.37162426114082336], [0.09293410927057266, 0.15012367069721222, 0.011539247818291187, 0.020723404362797737, 0.0, 0.01882164366543293, 0.21677613258361816, 0.5942825078964233], [0.16257506608963013, 0.03387448564171791, 0.019396822899580002, 0.04197423905134201, 0.025245314463973045, 0.048708003014326096, 0.08177360147237778, 0.6975635886192322], [0.06404869258403778, 0.0, 0.0302140973508358, 0.13115359842777252, 0.0, 0.07377956062555313, 0.30851760506629944, 0.4431917667388916], [0.0, 0.04829893633723259, 0.021637577563524246, 0.03526589274406433, 0.0, 0.0, 0.20389816164970398, 0.5258223414421082], [0.048040661960840225, 0.052421968430280685, 0.05837271735072136, 0.11360358446836472, 0.12641257047653198, 0.06530001759529114, 0.012094860896468163, 0.6348648071289062], [0.016167884692549706, 0.0037954829167574644, 0.008936437778174877, 0.0, 0.00852420087903738, 0.008764210157096386, 0.030450688675045967, 1.0256167650222778]], [[0.03791998326778412, 0.012920007109642029, 0.005465108435600996, 0.009854542091488838, 0.0037001047749072313, 0.019951142370700836, 0.037561483681201935, 0.0], [0.06667245924472809, 0.4117766320705414, 0.04553930461406708, 0.016832267865538597, 0.012744778767228127, 0.06534399837255478, 0.019060730934143066, 0.4731409251689911], [0.05009913071990013, 0.029530350118875504, 0.0, 0.0029291987884789705, 0.0008895341889001429, 0.00583637086674571, 0.0035861770156770945, 1.0042670965194702], [0.04432355612516403, 0.0014691840624436736, 0.004831475671380758, 0.0255524180829525, 0.010651128366589546, 0.012524668127298355, 0.06093405559659004, 0.9508247375488281], [0.07647705078125, 0.0015625727828592062, 0.005097388289868832, 0.0, 0.05923272296786308, 0.027101358398795128, 0.029944315552711487, 0.9039431810379028], [0.04719516634941101, 0.0076768044382333755, 0.010875179432332516, 0.008193143643438816, 0.01990625262260437, 0.13156923651695251, 0.02156970091164112, 0.8641257286071777], [0.03533409535884857, 0.011335431598126888, 0.002954646944999695, 0.018158458173274994, 0.00825490802526474, 0.0840873047709465, 0.20520761609077454, 0.7457787990570068], [0.009631351567804813, 0.0008300363551825285, 0.002248733537271619, 0.00262460601516068, 0.0005498885875567794, 0.001937752473168075, 0.004214313812553883, 1.0890744924545288]], [[0.027582870796322823, 0.0074981991201639175, 0.006657959893345833, 0.009049253538250923, 0.011421243660151958, 0.06858909130096436, 0.0, 0.9696837663650513], [0.019877344369888306, 0.007304769475013018, 0.0039122262969613075, 0.007409754209220409, 0.005278094671666622, 0.004681902937591076, 0.0009702231036499143, 1.0616767406463623], [0.0160466767847538, 0.10446465015411377, 0.0, 0.004489379469305277, 0.0022030137479305267, 0.003262071404606104, 0.0008982428698800504, 0.9759716391563416], [0.020915981382131577, 0.009000131860375404, 0.10006164759397507, 0.02721799910068512, 0.005134600680321455, 0.009015250951051712, 0.004323710221797228, 0.9354418516159058], [0.016189957037568092, 0.0023253215476870537, 0.013592854142189026, 0.0, 0.00026380704366602004, 0.0, 0.003975601401180029, 0.03982241079211235], [0.06440944969654083, 0.004847113508731127, 0.014591830782592297, 0.0, 0.01506589725613594, 0.0398724265396595, 0.007475891150534153, 0.8847178816795349], [0.02667597122490406, 0.0017783072544261813, 0.0016188040608540177, 0.00841171108186245, 0.07606443762779236, 0.5339773893356323, 0.0, 0.4558221399784088], [0.02578255720436573, 0.0, 0.0047335135750472546, 0.003362152725458145, 0.007892808876931667, 0.03583044558763504, 0.008290501311421394, 1.0090315341949463]], [[0.05773011967539787, 0.012106245383620262, 0.038704920560121536, 0.1508575975894928, 0.01432562805712223, 0.04095268249511719, 0.1323777139186859, 0.6640563011169434], [0.027882616966962814, 0.005996251478791237, 0.1333402842283249, 0.16615860164165497, 0.01675467938184738, 0.02722322940826416, 0.03447876498103142, 0.0], [0.005290810018777847, 0.0006778172682970762, 0.0025937657337635756, 0.0033344090916216373, 0.0, 0.00359541573561728, 0.0026582947466522455, 1.0915899276733398], [0.036361489444971085, 0.0033893578220158815, 0.02546088397502899, 0.0, 0.03683462738990784, 0.035241056233644485, 0.0, 0.0], [0.12637652456760406, 0.001112867845222354, 0.011300135403871536, 0.032235633581876755, 0.06495603919029236, 0.04766059294342995, 0.5903976559638977, 0.23707181215286255], [0.057300083339214325, 0.0, 0.015421709977090359, 0.014359072782099247, 0.01483870204538107, 0.04828011244535446, 0.303933709859848, 0.0], [0.00870197732001543, 0.0002678445598576218, 0.0, 0.014433621428906918, 0.0, 0.008988280780613422, 0.004674660973250866, 1.0728899240493774], [0.0049364580772817135, 0.0003015991242136806, 0.0007976575288921595, 0.002290284726768732, 0.0006880928413011134, 0.0, 0.002813653787598014, 0.0]], [[0.07582049816846848, 0.036958251148462296, 0.06243477389216423, 0.08338845521211624, 0.06231425330042839, 0.10101965069770813, 0.043565113097429276, 0.6456101536750793], [0.03518972173333168, 0.06704668700695038, 0.13227498531341553, 0.12673279643058777, 0.06977741420269012, 0.2800079882144928, 0.2747141420841217, 0.12536753714084625], [0.0422394759953022, 0.04563691094517708, 0.08251075446605682, 0.07062701135873795, 0.07542295008897781, 0.2329654097557068, 0.19471979141235352, 0.3669888377189636], [0.02752239629626274, 0.02168574184179306, 0.0599401518702507, 0.02805618941783905, 0.056398168206214905, 0.19769375026226044, 0.38133761286735535, 0.338477224111557], [0.04039490222930908, 0.006798109970986843, 0.02141948603093624, 0.018995439633727074, 0.016273507848381996, 0.030002331361174583, 0.08882948756217957, 0.8883978128433228], [0.019815891981124878, 0.005433513317257166, 0.014083639718592167, 0.016100430861115456, 0.012337105348706245, 0.021316254511475563, 0.04622354358434677, 0.9758007526397705], [0.02798491157591343, 0.006164046004414558, 0.01029231771826744, 0.026916267350316048, 0.042231485247612, 0.0, 0.022463468834757805, 0.0], [0.0, 0.00039429275784641504, 0.0012056113919243217, 0.0008770064450800419, 0.0009578799363225698, 0.0020781224593520164, 0.004612383432686329, 1.0877739191055298]], [[0.0, 0.08955369144678116, 0.09987520426511765, 0.006561443209648132, 0.014181654900312424, 0.0075634075328707695, 0.1658654808998108, 0.0], [0.0, 0.0, 0.9858617186546326, 0.01928888075053692, 0.001116680447012186, 0.0009509220835752785, 0.008050444535911083, 0.07617606222629547], [0.010033356957137585, 0.0014582006260752678, 0.011018247343599796, 0.8544755578041077, 0.0, 0.0020787103567272425, 0.010478860698640347, 0.21331441402435303], [0.024347469210624695, 0.0008352302247658372, 0.0046306634321808815, 0.0, 0.0, 0.05110793933272362, 0.03499086946249008, 0.702183723449707], [0.0012723533436655998, 0.0014245838392525911, 0.09743894636631012, 0.0, 0.008179363794624805, 0.9069554209709167, 0.062240395694971085, 0.03175333887338638], [0.009419497102499008, 0.000421060249209404, 0.0, 0.002573086880147457, 0.0, 0.019887210801243782, 0.9340648055076599, 0.09886057674884796], [0.014501151628792286, 0.000138670060550794, 0.0005101013230159879, 6.50432994007133e-05, 6.753984052920714e-05, 0.0003265563864260912, 0.0007421347545459867, 1.0947599411010742], [0.399928480386734, 0.006563998758792877, 0.01601479761302471, 0.0, 0.008846251294016838, 0.012651443481445312, 0.01665680482983589, 0.6471283435821533]], [[0.028818178921937943, 0.023364601656794548, 0.09641136229038239, 0.055166568607091904, 0.06797022372484207, 0.1284749060869217, 0.19285717606544495, 0.5180481672286987], [0.2707339823246002, 0.046365849673748016, 0.056130632758140564, 0.031484924256801605, 0.011840869672596455, 0.004466669168323278, 0.024391967803239822, 0.6656962037086487], [0.1295703947544098, 0.28955626487731934, 0.0772753655910492, 0.08935873210430145, 0.0, 0.016418015584349632, 0.006116453558206558, 0.4689715802669525], [0.02952711470425129, 0.14696447551250458, 0.4904811382293701, 0.04999871179461479, 0.0, 0.005455185193568468, 0.007952363230288029, 0.0], [0.09241549670696259, 0.030278807505965233, 0.34086090326309204, 0.40825340151786804, 0.013867497444152832, 0.040449321269989014, 0.04304160922765732, 0.1419442594051361], [0.0, 0.003993505146354437, 0.054056622087955475, 0.3240053951740265, 0.2151549905538559, 0.026134870946407318, 0.042121607810258865, 0.4300384521484375], [0.03166479989886284, 0.006542968098074198, 0.011069362051784992, 0.10525327920913696, 0.22193990647792816, 0.6071856021881104, 0.0, 0.11682724207639694], [0.01624288409948349, 0.008085116744041443, 0.0052900309674441814, 0.003955962136387825, 0.01082752738147974, 0.00924235675483942, 0.0, 1.0473062992095947]], [[0.03809477761387825, 0.01024070754647255, 0.00402301037684083, 0.061374712735414505, 0.009539762511849403, 0.011320545338094234, 0.0, 0.8999036550521851], [0.0429886095225811, 0.023415561765432358, 0.018996326252818108, 0.8142083883285522, 0.028672417625784874, 0.04515561833977699, 0.0513358972966671, 0.08633840829133987], [0.06994008272886276, 0.02455817721784115, 0.03690421208739281, 0.30093035101890564, 0.014594364911317825, 0.03328585997223854, 0.04276213422417641, 0.5881360173225403], [0.027762459591031075, 0.0, 0.0022032943088561296, 0.012077266350388527, 0.22654153406620026, 0.0073441737331449986, 0.03930554538965225, 0.7881021499633789], [0.011363212950527668, 0.0029483051039278507, 0.0021626718807965517, 0.0, 0.002319646766409278, 0.0, 0.02069695107638836, 1.060935139656067], [0.01604117453098297, 0.005148901138454676, 0.002224645344540477, 0.002251537051051855, 0.013403530232608318, 0.008691621944308281, 0.030255047604441643, 1.0330947637557983], [0.023463720455765724, 0.005843923892825842, 0.0, 0.0, 0.038343288004398346, 0.007674472872167826, 0.02012757956981659, 1.0018240213394165], [0.014174828305840492, 0.0069814748130738735, 0.0, 0.007643542718142271, 0.010177792981266975, 0.004258177243173122, 0.011605772189795971, 1.0496891736984253]]], [[[0.004936080891638994, 0.7643686532974243, 0.05390902981162071, 0.13176767528057098, 0.023027842864394188, 0.06021792069077492, 0.05809836834669113, 0.014785620383918285], [0.005889741703867912, 0.19874757528305054, 0.07271607220172882, 0.010862324386835098, 0.0019276731181889772, 0.006693665869534016, 0.003774059936404228, 0.8105000853538513], [0.0017811966827139258, 0.05467056483030319, 0.05204181373119354, 0.0, 0.0018575676949694753, 0.008779801428318024, 0.0036652295384556055, 0.9852870106697083], [0.0020600883290171623, 0.017525624483823776, 0.0, 0.04058756306767464, 0.060570817440748215, 0.03693849965929985, 0.01630243845283985, 0.9219750761985779], [0.0, 0.008834651671350002, 0.007074941415339708, 0.011422291398048401, 0.04201526567339897, 0.03160401061177254, 0.0, 0.9942795634269714], [0.004178056959062815, 0.024727385491132736, 0.011394883506000042, 0.00568855507299304, 0.016155622899532318, 0.15234196186065674, 0.05104554072022438, 0.8455790877342224], [0.001977217383682728, 0.0, 0.007432956714183092, 0.012210843153297901, 0.011825948022305965, 0.05557969957590103, 0.0, 0.9326335191726685], [0.004813623148947954, 0.002050838666036725, 0.0028577980119735003, 0.0, 0.0009138399036601186, 0.0025683364365249872, 0.0, 1.0906230211257935]], [[0.04747118055820465, 0.09091852605342865, 0.057320524007081985, 0.1565939038991928, 0.06572885811328888, 0.09650135785341263, 0.44750168919563293, 0.14907513558864594], [0.03784656152129173, 0.03915698453783989, 0.019434722140431404, 0.0, 0.11691676080226898, 0.18340443074703217, 0.4747457504272461, 0.21246379613876343], [0.014765482395887375, 0.0, 0.011673451401293278, 0.01985677145421505, 0.0704093649983406, 0.08479862660169601, 0.08686169236898422, 0.7969552278518677], [0.09001988172531128, 0.14535348117351532, 0.0914061963558197, 0.019926993176341057, 0.026409072801470757, 0.053066693246364594, 0.0847792699933052, 0.6001495718955994], [0.0439513735473156, 0.2155992090702057, 0.11387860029935837, 0.01624210737645626, 0.02515549026429653, 0.03926851972937584, 0.04694727808237076, 0.6100686192512512], [0.06793799996376038, 0.3210931122303009, 0.11516616493463516, 0.030421869829297066, 0.022813769057393074, 0.03970532491803169, 0.04839698597788811, 0.4655758738517761], [0.022503066807985306, 0.3426501750946045, 0.06950254738330841, 0.12675832211971283, 0.06646458059549332, 0.0797041580080986, 0.027150047942996025, 0.3763783872127533], [0.00981273502111435, 0.005779307335615158, 0.006203433033078909, 0.008035932667553425, 0.004501168616116047, 0.007159009110182524, 0.0023575634695589542, 1.067262053489685]], [[0.00841796025633812, 0.1278553158044815, 0.0, 0.12854556739330292, 0.12415051460266113, 0.0918247327208519, 0.2045448124408722, 0.11561868339776993], [0.11495994031429291, 0.05558939278125763, 0.02284425124526024, 0.011869991198182106, 0.00450063357129693, 0.007537013851106167, 0.019053975120186806, 0.8747560381889343], [0.02919449470937252, 0.050991240888834, 0.06503213196992874, 0.02225290611386299, 0.04822181165218353, 0.009541095234453678, 0.007829939015209675, 0.878047525882721], [0.0, 0.026897426694631577, 0.019596967846155167, 0.022953476756811142, 0.03284090757369995, 0.011393769644200802, 0.014917563647031784, 0.0], [0.10593511164188385, 0.14044877886772156, 0.09173830598592758, 0.07536796480417252, 0.04011312499642372, 0.02768254466354847, 0.0, 0.5983343124389648], [0.1868317723274231, 0.18195635080337524, 0.19335494935512543, 0.025150340050458908, 0.013075487688183784, 0.05291515961289406, 0.05802131071686745, 0.3998057544231415], [0.0, 0.017882389947772026, 0.02675054967403412, 0.03798392415046692, 0.01826466992497444, 0.04794837161898613, 0.01670411229133606, 0.0], [0.026323875412344933, 0.0, 0.006331371609121561, 0.010235883295536041, 0.0, 0.012786529958248138, 0.028778493404388428, 1.0049325227737427]], [[0.025479165837168694, 0.002011817181482911, 0.0017153426306322217, 0.003680442227050662, 0.0022559701465070248, 0.020879775285720825, 0.0005916120717301965, 1.0544971227645874], [0.0626101940870285, 0.027659468352794647, 0.016741005703806877, 0.018815111368894577, 0.002283797599375248, 0.002085254527628422, 0.004222240298986435, 0.0], [0.01622152328491211, 0.03875546157360077, 0.026042502373456955, 0.004553449340164661, 0.0, 0.0004530860169325024, 0.0038660727441310883, 1.0102607011795044], [0.003675365587696433, 0.002332885516807437, 0.010725150816142559, 0.019657813012599945, 0.022820554673671722, 0.0, 0.0, 1.0272449254989624], [0.0016217310912907124, 0.002205252181738615, 0.008377602323889732, 0.8091643452644348, 0.03582024201750755, 0.046356044709682465, 0.0026601976715028286, 0.0], [0.002174920402467251, 0.0010326032061129808, 0.012317614629864693, 0.08487585932016373, 0.0, 0.013003538362681866, 0.040075864642858505, 0.29108625650405884], [0.061545390635728836, 0.002931544790044427, 0.021035896614193916, 0.01620393805205822, 0.08535723388195038, 0.035725466907024384, 0.04582197964191437, 0.8424897193908691], [0.07507675886154175, 0.005501085426658392, 0.003696613246574998, 0.007646666839718819, 0.00922137126326561, 0.016225023195147514, 0.004605667199939489, 0.9891380071640015]], [[0.01339767873287201, 0.0, 0.1301930695772171, 0.0632626861333847, 0.1948947161436081, 0.0, 0.017702369019389153, 0.0], [0.010400868952274323, 0.02392352744936943, 0.0775054544210434, 0.039668917655944824, 0.015492366626858711, 0.009102821350097656, 0.0, 0.9188225865364075], [0.0023875494953244925, 0.0, 0.007767207454890013, 0.007476399652659893, 0.004399192985147238, 0.0010410236427560449, 0.0035803501959890127, 1.0745655298233032], [0.0, 0.11342647671699524, 0.25183287262916565, 0.026609180495142937, 0.05883857235312462, 0.005479839630424976, 0.0008175976690836251, 0.0], [0.006563330069184303, 0.06649191677570343, 0.0, 0.6299986839294434, 0.013065454550087452, 0.0, 0.0204872265458107, 0.24374409019947052], [0.015227561816573143, 0.0090888487175107, 0.0, 0.24004897475242615, 0.0829387828707695, 0.03265836462378502, 0.05160675570368767, 0.540566623210907], [0.007838073186576366, 0.04201599955558777, 0.0571712963283062, 0.15446250140666962, 0.1683211773633957, 0.031338613480329514, 0.0038720553275197744, 0.6460914611816406], [0.0031204274855554104, 0.0024022990837693214, 0.007941708900034428, 0.0043940357863903046, 0.007595026399940252, 0.0022421274334192276, 0.0010590155143290758, 1.0823564529418945]], [[0.14215867221355438, 0.059491921216249466, 0.025779113173484802, 0.043766431510448456, 0.0986996442079544, 0.23928652703762054, 0.18637967109680176, 0.31554916501045227], [0.020901838317513466, 0.03146257996559143, 0.2855457365512848, 0.2053665816783905, 0.05795484781265259, 0.0293156448751688, 0.024320559576153755, 0.45624348521232605], [0.008852660655975342, 0.0064443619921803474, 0.005341182462871075, 0.10272248089313507, 0.050103917717933655, 0.017088355496525764, 0.025738311931490898, 0.8948198556900024], [0.023161642253398895, 0.03003750927746296, 0.04322534799575806, 0.05814395472407341, 0.2226732075214386, 0.0, 0.10451717674732208, 0.5589650273323059], [0.02013363502919674, 0.002654958050698042, 0.04249117150902748, 0.5809329152107239, 0.019282527267932892, 0.015417058020830154, 0.22941537201404572, 0.2007836103439331], [0.03057972900569439, 0.0018552446272224188, 0.07767753303050995, 0.15866948664188385, 0.07738758623600006, 0.019762877374887466, 0.41574859619140625, 0.32943016290664673], [0.009348610416054726, 0.001366034266538918, 0.0, 0.00673750089481473, 0.0, 0.0055207847617566586, 0.006862130481749773, 1.051300048828125], [0.0026984941214323044, 0.0007616694201715291, 0.0012263278476893902, 0.0, 0.0020429971627891064, 0.0011717976303771138, 0.0021763015538454056, 1.0988574028015137]], [[0.033192943781614304, 0.3300144672393799, 0.09327252954244614, 0.017096271738409996, 0.010041061788797379, 0.018238617107272148, 0.014677328988909721, 0.5945780277252197], [0.006573177408427, 0.10061328858137131, 0.2494167685508728, 0.09152501076459885, 0.03533566743135452, 0.02114509418606758, 0.0, 0.0], [0.0467953234910965, 0.010550224222242832, 0.007403775118291378, 0.12122976779937744, 0.0, 0.012673137709498405, 0.014454042539000511, 0.8630992770195007], [0.027801288291811943, 0.03617183491587639, 0.0, 0.01429278589785099, 0.20364445447921753, 0.14406821131706238, 0.031579840928316116, 0.0], [0.011311568319797516, 0.0037368827033787966, 0.015125993639230728, 0.007910065352916718, 0.0, 0.22126610577106476, 0.23821941018104553, 0.5743862390518188], [0.0, 0.002463417826220393, 0.004927822854369879, 0.011762600392103195, 0.010229967534542084, 0.013088483363389969, 0.5219666957855225, 0.2879706919193268], [0.014945976436138153, 0.0071533601731061935, 0.0007465279195457697, 0.0015880080172792077, 0.0006562999915331602, 0.004171391483396292, 0.0, 1.075058937072754], [0.011322658509016037, 0.0, 0.00550310080870986, 0.005447917152196169, 0.008847471326589584, 0.0, 0.009376654401421547, 1.0465723276138306]], [[0.03530488908290863, 0.021744070574641228, 0.03939887508749962, 0.0, 0.008492931723594666, 0.018669912591576576, 0.16460496187210083, 0.8075209259986877], [0.012006673030555248, 0.02926633693277836, 0.10971713811159134, 0.03891642019152641, 0.13472546637058258, 0.11699150502681732, 0.5374045372009277, 0.13208311796188354], [0.006010471843183041, 0.013181736692786217, 0.08479147404432297, 0.03776143118739128, 0.06186049431562424, 0.033749792724847794, 0.15489338338375092, 0.7188623547554016], [0.00788778718560934, 0.0, 0.061134546995162964, 0.033297669142484665, 0.06378474831581116, 0.0, 0.18198080360889435, 0.6909973621368408], [0.014888938516378403, 0.030454250052571297, 0.09080711752176285, 0.03268475830554962, 0.07321047782897949, 0.042504820972681046, 0.18215493857860565, 0.6444058418273926], [0.0258181169629097, 0.06817793101072311, 0.2592063546180725, 0.0, 0.0481615848839283, 0.03273937106132507, 0.3939584493637085, 0.0], [0.006055302452296019, 0.026546448469161987, 0.23361672461032867, 0.018635736778378487, 0.03199106454849243, 0.014810535125434399, 0.01930118538439274, 0.7601541876792908], [0.008515546098351479, 0.00674023013561964, 0.00820840522646904, 0.006450548302382231, 0.0, 0.005040585529059172, 0.014353670179843903, 1.055290937423706]], [[0.047238755971193314, 0.05123363807797432, 0.004980392288416624, 0.018115676939487457, 0.029932744801044464, 0.04101298376917839, 0.057776037603616714, 0.8608210682868958], [0.5836673974990845, 0.06016179546713829, 0.020632456988096237, 0.023038484156131744, 0.0, 0.012870353646576405, 0.012299580499529839, 0.3901638984680176], [0.1680411994457245, 0.0897330567240715, 0.056744497269392014, 0.023314403370022774, 0.011664527468383312, 0.018512224778532982, 0.0, 0.7297281622886658], [0.17400075495243073, 0.03539024665951729, 0.008167642168700695, 0.025682760402560234, 0.01256000529974699, 0.0, 0.009352774359285831, 0.8278552293777466], [0.1702444702386856, 0.01913795992732048, 0.0, 0.05133270472288132, 0.1507422924041748, 0.0, 0.03837032616138458, 0.5820934176445007], [0.0, 0.03659328445792198, 0.003948122728615999, 0.01829862967133522, 0.11072326451539993, 0.2292453497648239, 0.038904041051864624, 0.3568630516529083], [0.4363865256309509, 0.0, 0.0020251544192433357, 0.002415027702227235, 0.009431140497326851, 0.03362838178873062, 0.0, 0.5867417454719543], [0.04827561229467392, 0.02527138777077198, 0.04231526330113411, 0.017170686274766922, 0.0, 0.021643538028001785, 0.0, 0.916610062122345]], [[0.03353654965758324, 0.0, 0.00995437428355217, 0.009328887797892094, 0.045210376381874084, 0.02331216260790825, 0.06269654631614685, 0.9051877856254578], [0.21392740309238434, 0.043872982263565063, 0.01664951629936695, 0.009563511237502098, 0.0018525189952924848, 0.0015154907014220953, 0.0332987941801548, 0.7904309630393982], [0.1515280157327652, 0.2699073851108551, 0.06774631887674332, 0.047472890466451645, 0.021087050437927246, 0.009508884511888027, 0.038396067917346954, 0.5054646730422974], [0.11854634433984756, 0.11394816637039185, 0.03422604501247406, 0.029376545920968056, 0.009272068738937378, 0.0, 0.043694205582141876, 0.0], [0.15224768221378326, 0.12690138816833496, 0.07480662316083908, 0.23567701876163483, 0.10469655692577362, 0.05773400515317917, 0.07285277545452118, 0.0], [0.009425757452845573, 0.004191751591861248, 0.018102893605828285, 0.19686013460159302, 0.695774495601654, 0.04433524236083031, 0.09869427978992462, 0.04372652247548103], [0.005057597532868385, 0.004109100438654423, 0.0, 0.08010991662740707, 0.6578766703605652, 0.09295748174190521, 0.1100066602230072, 0.11510239541530609], [0.023618139326572418, 0.017178351059556007, 0.0038075188640505075, 0.012668260373175144, 0.01315443404018879, 0.009150913916528225, 0.017440490424633026, 1.0140931606292725]], [[0.013245608657598495, 0.03209060803055763, 0.0584900863468647, 0.16331754624843597, 0.042420271784067154, 0.04844357818365097, 0.010794054716825485, 0.7423093914985657], [0.004431209061294794, 0.010712596587836742, 0.06293423473834991, 0.0032011219300329685, 0.000521194888278842, 0.0019353596726432443, 0.0026824739761650562, 1.0246930122375488], [0.004329425282776356, 0.017893780022859573, 0.048440102487802505, 0.0073483907617628574, 0.001351017621345818, 0.0, 0.0024149962700903416, 1.0275523662567139], [0.02322123572230339, 0.09197408705949783, 0.05771517753601074, 0.01524487417191267, 0.005937894340604544, 0.0, 0.014923789538443089, 0.8944329619407654], [0.06340920180082321, 0.07412205636501312, 0.1652691513299942, 0.4144055247306824, 0.03335028141736984, 0.05494657903909683, 0.14088697731494904, 0.16472139954566956], [0.054109666496515274, 0.05247114971280098, 0.3147507309913635, 0.0701562687754631, 0.07955332845449448, 0.032655756920576096, 0.14020173251628876, 0.3672124743461609], [0.010699894279241562, 0.0031285493168979883, 0.02511899173259735, 0.024198921397328377, 0.08604197204113007, 0.029339434579014778, 0.024205464869737625, 0.908378005027771], [0.007886046543717384, 0.00966713111847639, 0.009652984328567982, 0.008383655920624733, 0.0059339446015655994, 0.012685630470514297, 0.010529524646699429, 1.0463721752166748]], [[0.007529362570494413, 0.03395593538880348, 0.08753514289855957, 0.054587870836257935, 0.09439525753259659, 0.0, 0.0, 0.23218251764774323], [0.6586962342262268, 0.04136962816119194, 0.0, 0.0028917209710925817, 0.0006934611592441797, 0.0004726404440589249, 0.005376251880079508, 0.3988713324069977], [0.06903587281703949, 0.8018301725387573, 0.02360295131802559, 0.0054618376307189465, 0.00082239048788324, 0.0029887082055211067, 0.0, 0.1933230757713318], [0.01699231006205082, 0.006660211365669966, 0.915538489818573, 0.029369937255978584, 0.004178147297352552, 0.0027098264545202255, 0.003410780569538474, 0.13225151598453522], [0.006080111488699913, 0.0012552740518003702, 0.037714891135692596, 1.0422980785369873, 0.004592488054186106, 0.004340858664363623, 0.003617749083787203, 0.011211610399186611], [0.04088262841105461, 0.008494089357554913, 0.008459524251520634, 0.01363164372742176, 0.3435688316822052, 0.04730667546391487, 0.0, 0.6171925663948059], [0.0046563902869820595, 0.004612274933606386, 0.0014354611048474908, 0.009167615324258804, 0.014937875792384148, 0.6533169150352478, 0.020075084641575813, 0.0], [0.0, 0.0, 0.009292904287576675, 0.006860840599983931, 0.0, 0.02844281867146492, 0.01369166374206543, 1.0194692611694336]]], [[[0.0017612747615203261, 0.25845304131507874, 0.014729844406247139, 0.16707812249660492, 0.03045506961643696, 0.04693305864930153, 0.018691401928663254, 0.5730093717575073], [0.010487365536391735, 0.0, 0.007195852696895599, 0.0, 0.01907784305512905, 0.03779451176524162, 0.0, 0.8738520741462708], [0.017178315669298172, 0.0, 0.017424456775188446, 0.0, 0.013088129460811615, 0.02289322391152382, 0.018670879304409027, 0.6463461518287659], [0.03140443563461304, 0.3198310434818268, 0.012041635811328888, 0.018190938979387283, 0.013817962259054184, 0.027271095663309097, 0.04438791796565056, 0.6441662311553955], [0.031169846653938293, 0.6776411533355713, 0.02236034907400608, 0.11266864836215973, 0.0, 0.01923852041363716, 0.050096750259399414, 0.18606460094451904], [0.01789538562297821, 0.5044969320297241, 0.009492063894867897, 0.22452031075954437, 0.018519088625907898, 0.018994150683283806, 0.06438937038183212, 0.2528039515018463], [0.006724142003804445, 0.23015446960926056, 0.0029518939554691315, 0.06826828420162201, 0.015515363775193691, 0.026678042486310005, 0.009572622366249561, 0.7512463927268982], [0.01438314188271761, 0.021484430879354477, 0.0, 0.008615905418992043, 0.004559173248708248, 0.008585920557379723, 0.012458490207791328, 1.0393450260162354]], [[0.11098472028970718, 0.12118224799633026, 0.05840034782886505, 0.19599099457263947, 0.03348055109381676, 0.055844735354185104, 0.058901187032461166, 0.4763263761997223], [0.024653062224388123, 0.11574236303567886, 0.04129757359623909, 0.4067370891571045, 0.12861540913581848, 0.1706668883562088, 0.07464005798101425, 0.14875882863998413], [0.027123989537358284, 0.044133711606264114, 0.013819309882819653, 0.1614193469285965, 0.1207863837480545, 0.06361011415719986, 0.024156169965863228, 0.6560620665550232], [0.02071949653327465, 0.03806927055120468, 0.015104422345757484, 0.06287785619497299, 0.15404973924160004, 0.0, 0.18391801416873932, 0.5167739987373352], [0.005544055253267288, 0.006019344553351402, 0.018066365271806717, 0.01354860421270132, 0.0, 0.0565670020878315, 0.4783638119697571, 0.5132474303245544], [0.0069855316542088985, 0.009333519265055656, 0.007783735636621714, 0.008512280881404877, 0.006264010909944773, 0.017845889553427696, 0.15595704317092896, 0.8984291553497314], [0.019421882927417755, 0.0, 0.005863856989890337, 0.02341277524828911, 0.016363374888896942, 0.018692314624786377, 0.024331487715244293, 0.977266252040863], [0.006027371622622013, 0.00496124429628253, 0.0016584331169724464, 0.008909197524189949, 0.0050005982629954815, 0.005000036209821701, 0.006002695765346289, 1.0735517740249634]], [[0.05630882456898689, 0.3230934143066406, 0.0, 0.013965437188744545, 0.0, 0.032347992062568665, 0.009443789720535278, 0.6379159092903137], [0.021196680143475533, 0.12810198962688446, 0.24959729611873627, 0.34383323788642883, 0.0519825741648674, 0.02585926465690136, 0.01430219504982233, 0.27623793482780457], [0.04298979416489601, 0.04908101633191109, 0.01956494152545929, 0.4779109060764313, 0.0, 0.05758680775761604, 0.04526010900735855, 0.33065512776374817], [0.02366616390645504, 0.04567672312259674, 0.013713953085243702, 0.053002968430519104, 0.18713738024234772, 0.0, 0.016634466126561165, 0.6136294603347778], [0.012698533944785595, 0.010018127970397472, 0.0013354604598134756, 0.007598413620144129, 0.029521020129323006, 0.1836952120065689, 0.0, 0.825639009475708], [0.017365282401442528, 0.008337956853210926, 0.009420633316040039, 0.02065962925553322, 0.024960894137620926, 0.014302540570497513, 0.6689885258674622, 0.34707579016685486], [0.03388972207903862, 0.0, 0.0022514304146170616, 0.021435223519802094, 0.0, 0.056503571569919586, 0.0, 0.7938417196273804], [0.0, 0.0, 0.0, 0.017325513064861298, 0.0, 0.019544243812561035, 0.015039016492664814, 1.0010528564453125]], [[0.029411738738417625, 0.005084414966404438, 0.0007532922318205237, 0.002142991404980421, 0.0029161558486521244, 0.00652692886069417, 0.005938665941357613, 1.0583369731903076], [0.0234838780015707, 0.014929582364857197, 0.00959031656384468, 0.03380642086267471, 0.0028009985107928514, 0.003800461068749428, 0.009117401205003262, 1.0135819911956787], [0.00928354449570179, 0.008602160029113293, 0.0030030403286218643, 0.0, 0.0, 0.0002697901800274849, 0.006082209292799234, 1.0583895444869995], [0.010069211944937706, 0.040442246943712234, 0.0068811457604169846, 0.022433508187532425, 0.0013661265838891268, 0.004151816479861736, 0.005206755828112364, 1.0205602645874023], [0.0059759533032774925, 0.022765032947063446, 0.00883404165506363, 0.0, 0.009930838830769062, 0.011678404174745083, 0.018823187798261642, 0.532121479511261], [0.00828174501657486, 0.009747211821377277, 0.0, 0.0, 0.049369338899850845, 0.02500196360051632, 0.0891161561012268, 0.0], [0.024515915662050247, 0.0, 0.0064294529147446156, 0.021616768091917038, 0.0, 0.010794525034725666, 0.025640398263931274, 0.9882432222366333], [0.08088316768407822, 0.012763133272528648, 0.0034547001123428345, 0.015422663651406765, 0.005492398049682379, 0.005633399356156588, 0.02408617176115513, 0.0]], [[0.0009363783174194396, 0.03824903815984726, 0.004283323884010315, 0.010196634568274021, 0.03127337247133255, 0.04026868939399719, 0.0034384196624159813, 0.0], [0.10626405477523804, 0.009366510435938835, 0.0015102169709280133, 0.0025977843906730413, 0.0024360930547118187, 0.001006626756861806, 0.13268713653087616, 0.8552428483963013], [0.008879048749804497, 0.645419716835022, 0.002411054912954569, 0.0033337438944727182, 0.008256145752966404, 0.010779292322695255, 0.016604876145720482, 0.41542723774909973], [0.012570168823003769, 0.049641817808151245, 0.4702017903327942, 0.05202015861868858, 0.0018628706457093358, 0.0071951355785131454, 0.014196693897247314, 0.5034225583076477], [0.0, 0.04057956859469414, 0.02418724074959755, 0.6065157055854797, 0.021634556353092194, 0.012424709275364876, 0.11329928785562515, 0.25375622510910034], [0.0019808944780379534, 0.0017490496393293142, 0.0003168610273860395, 0.006369251292198896, 1.0723464488983154, 0.00946958176791668, 0.00666464539244771, 0.01221432350575924], [0.0037143195513635874, 0.006926931440830231, 0.0021866904571652412, 0.0033943490125238895, 0.035656630992889404, 0.8799901604652405, 0.011610753834247589, 0.1676313281059265], [0.007898430339992046, 0.0, 0.0027324010152369738, 0.005946668796241283, 0.006442432291805744, 0.0, 0.012426793575286865, 1.0398401021957397]], [[0.1044849157333374, 0.02591225877404213, 0.024729814380407333, 0.09617428481578827, 0.025103650987148285, 0.03136425465345383, 0.0582084022462368, 0.7451335787773132], [0.04493619501590729, 0.0870429128408432, 0.1527550220489502, 0.0, 0.06383027136325836, 0.12390463799238205, 0.23106707632541656, 0.2241562306880951], [0.0, 0.03335512429475784, 0.05855360999703407, 0.03148675709962845, 0.0, 0.057796694338321686, 0.3654424846172333, 0.5061804056167603], [0.07971729338169098, 0.0493580624461174, 0.15567626059055328, 0.0, 0.05310492217540741, 0.08986490964889526, 0.0, 0.5400769114494324], [0.075523242354393, 0.029072247445583344, 0.3123917281627655, 0.1257835328578949, 0.02057502791285515, 0.018661823123693466, 0.3232317864894867, 0.20587173104286194], [0.02338920533657074, 0.046690333634614944, 0.24166667461395264, 0.1478486955165863, 0.0, 0.035455550998449326, 0.47030067443847656, 0.0911717489361763], [0.04747971147298813, 0.026337267830967903, 0.09203674644231796, 0.05816318467259407, 0.023137204349040985, 0.01886250264942646, 0.28804832696914673, 0.5570462346076965], [0.009948454797267914, 0.0022618223447352648, 0.003266956191509962, 0.004915640223771334, 0.0015072006499394774, 0.0, 0.013968734070658684, 1.0740044116973877]], [[0.06372464448213577, 0.016097955405712128, 0.005676570348441601, 0.025312194600701332, 0.03219479322433472, 0.0530051663517952, 0.07001087069511414, 0.8450890183448792], [0.0346098430454731, 0.027485020458698273, 0.005834100302308798, 0.04150742292404175, 0.05545071139931679, 0.0, 0.009748050011694431, 0.8930124640464783], [0.024416523054242134, 0.0, 0.0, 0.033416956663131714, 0.029031410813331604, 0.0, 0.010868319310247898, 0.9807024002075195], [0.0200953409075737, 0.016353147104382515, 0.006994324270635843, 0.032878343015909195, 0.07583242654800415, 0.039122361689805984, 0.009938000701367855, 0.9098972678184509], [0.006439296994358301, 0.00041408970719203353, 0.001567165250889957, 0.010502360761165619, 0.02312430925667286, 0.018319714814424515, 0.09664954990148544, 0.9540947079658508], [0.007145802490413189, 0.002457119058817625, 0.0020730546675622463, 0.0, 0.033889275044202805, 0.04169666767120361, 0.13191938400268555, 0.8798612356185913], [0.016820155084133148, 0.0023572826758027077, 0.00162589515093714, 0.004293268546462059, 0.0037747102323919535, 0.008961583487689495, 0.05140053108334541, 1.0218777656555176], [0.08426667004823685, 0.0, 0.004119809716939926, 0.007526072207838297, 0.007440059911459684, 0.009449445642530918, 0.028555216267704964, 0.9602195620536804]], [[0.01949000358581543, 0.008931363001465797, 0.006553635001182556, 0.0021530576050281525, 0.007495142985135317, 0.015931375324726105, 0.8047351837158203, 0.24582143127918243], [0.034273967146873474, 0.026469318196177483, 0.0011435773922130466, 0.01301957480609417, 0.009751327335834503, 0.01300442311912775, 0.0018993347184732556, 1.0115495920181274], [0.006928115617483854, 0.09112496674060822, 0.0, 0.013480393216013908, 0.013565829023718834, 0.0035664106253534555, 0.0006096450961194932, 0.9803241491317749], [0.0038335765711963177, 0.006036743056029081, 0.004009787458926439, 0.002631339943036437, 0.0019888661336153746, 0.014635961502790451, 0.001528589054942131, 1.076446294784546], [0.005739234387874603, 0.004136268515139818, 0.0005055492511019111, 0.0, 0.014062919653952122, 0.0, 0.003333244239911437, 0.0], [0.015151902101933956, 0.01723380573093891, 0.01837836019694805, 0.05906767025589943, 0.16116665303707123, 0.016380615532398224, 0.1492859125137329, 0.6744464039802551], [0.01581915095448494, 0.0050431061536073685, 0.0018690215656533837, 0.007036300376057625, 0.023377861827611923, 0.04826350510120392, 0.061148177832365036, 0.9485540390014648], [0.014609466306865215, 0.009641104377806187, 0.004691026639193296, 0.007876445539295673, 0.006353787146508694, 0.014298385940492153, 0.010696337558329105, 0.0]], [[0.1513931155204773, 0.0, 0.012019823305308819, 0.05787661299109459, 0.03337034210562706, 0.05149499326944351, 0.3914121687412262, 0.3342269957065582], [0.3298340141773224, 0.1013282760977745, 0.013387085869908333, 0.1676148921251297, 0.1635826826095581, 0.0506022684276104, 0.20905357599258423, 0.07570832222700119], [0.27732065320014954, 0.071989506483078, 0.022746166214346886, 0.21148274838924408, 0.20415057241916656, 0.07663363963365555, 0.08183508366346359, 0.16495290398597717], [0.4308021664619446, 0.06299076229333878, 0.005956363398581743, 0.047821637243032455, 0.03876597806811333, 0.04572403430938721, 0.19253107905387878, 0.2865191698074341], [0.2885063886642456, 0.0423610620200634, 0.007110659498721361, 0.024501435458660126, 0.019110074266791344, 0.0, 0.1637129783630371, 0.5394271016120911], [0.07092784345149994, 0.03644423931837082, 0.0022555089090019464, 0.010848834179341793, 0.00838881079107523, 0.03577043488621712, 0.208376944065094, 0.7380985617637634], [0.015742134302854538, 0.027025269344449043, 0.00730132358148694, 0.006213929038494825, 0.01331410463899374, 0.051876168698072433, 0.0, 0.9289706349372864], [0.01783149689435959, 0.008271546103060246, 0.002596284495666623, 0.00943826325237751, 0.006321591325104237, 0.009173610247671604, 0.01695871725678444, 1.0405195951461792]], [[0.009785119444131851, 0.008628267794847488, 0.003973782528191805, 0.02075570449233055, 0.004537494387477636, 0.010063252411782742, 0.017532825469970703, 1.035834550857544], [0.09180713444948196, 0.07174019515514374, 0.00553534273058176, 0.02832775190472603, 0.012140708975493908, 0.0038732648827135563, 0.03943004086613655, 0.8582568168640137], [0.06061482056975365, 0.13656435906887054, 0.030968232080340385, 0.03134110942482948, 0.014629609882831573, 0.006118799559772015, 0.03203526884317398, 0.7988389134407043], [0.0, 0.09482230246067047, 0.0038000247441232204, 0.017953600734472275, 0.003532103728502989, 0.005382872652262449, 0.04322535917162895, 0.0], [0.058808229863643646, 0.03517622500658035, 0.01815429888665676, 0.1951981633901596, 0.05287853255867958, 0.012462828308343887, 0.09506729990243912, 0.6433655619621277], [0.01667194440960884, 0.0053023393265903, 0.014612519182264805, 0.2321106344461441, 0.5666753649711609, 0.038420408964157104, 0.08194329589605331, 0.0], [0.01647902838885784, 0.008292159996926785, 0.015502200461924076, 0.06794766336679459, 0.2512885332107544, 0.0, 0.0299519170075655, 0.0], [0.01848725415766239, 0.015522397123277187, 0.004446840845048428, 0.014658906497061253, 0.006693436298519373, 0.011890276335179806, 0.019317544996738434, 1.0200945138931274]], [[0.02197388745844364, 0.09409115463495255, 0.12289419770240784, 0.03000548481941223, 0.11789833754301071, 0.0612545944750309, 0.008061962202191353, 0.6549314856529236], [0.024639641866087914, 0.01479498390108347, 0.7971475124359131, 0.04368529096245766, 0.0, 0.03934250771999359, 0.016431033611297607, 0.12755563855171204], [0.009367710910737514, 0.008288106881082058, 0.0, 0.039196379482746124, 0.08818273991346359, 0.04970211908221245, 0.007949448190629482, 0.8938739895820618], [0.016924623399972916, 0.02076997607946396, 0.0, 0.028742019087076187, 0.24275358021259308, 0.0, 0.06874220818281174, 0.3644314110279083], [0.006518981885164976, 0.001917748712003231, 0.048966601490974426, 0.011526874266564846, 0.0, 0.17927485704421997, 0.7622056007385254, 0.07066109776496887], [0.012025193311274052, 0.0023246717173606157, 0.028861675411462784, 0.005499355960637331, 0.009037450887262821, 0.07066848874092102, 0.7591953873634338, 0.22349898517131805], [0.0197855643928051, 0.005243998486548662, 0.010084240697324276, 0.01253063790500164, 0.013609190471470356, 0.026292331516742706, 0.0, 1.000954508781433], [0.016128383576869965, 0.009759821929037571, 0.006985185667872429, 0.006546385586261749, 0.006270264741033316, 0.01454685814678669, 0.01595352590084076, 1.0349208116531372]], [[0.018197940662503242, 0.006896939594298601, 0.0023214539978653193, 0.002032259479165077, 0.0, 0.0, 0.9881672263145447, 0.05577750504016876], [0.029165534302592278, 0.020372046157717705, 0.02941492386162281, 0.005621111486107111, 0.0030594917479902506, 0.003156499471515417, 0.0, 1.0143541097640991], [0.0, 0.07841064035892487, 0.0, 0.0048136720433831215, 0.00027726878761313856, 0.0018044437747448683, 0.008379125967621803, 0.0], [0.0, 0.03451179340481758, 0.04833603277802467, 0.03718843683600426, 0.0021963990293443203, 0.00781737919896841, 0.0025443234480917454, 0.9748696684837341], [0.004946778528392315, 0.011839020065963268, 0.14602500200271606, 0.27215898036956787, 0.014261938631534576, 0.010545734316110611, 0.001328792655840516, 0.6500049829483032], [0.008902065455913544, 0.01727205514907837, 0.029178548604249954, 0.01861790008842945, 0.02201063372194767, 0.015581178478896618, 0.01774701289832592, 0.9818017482757568], [0.0009584311628714204, 0.003488624468445778, 0.0033532921224832535, 0.004826081916689873, 0.001571881934069097, 0.036242637783288956, 0.028467761352658272, 1.0322024822235107], [0.011501681990921497, 0.007095348555594683, 0.004261259455233812, 0.007686540950089693, 0.0, 0.011991739273071289, 0.02473563328385353, 1.0411715507507324]]], [[[0.12653908133506775, 0.04013197496533394, 0.041912518441677094, 0.21603108942508698, 0.016755901277065277, 0.017401956021785736, 0.0, 0.6190648674964905], [0.19770580530166626, 0.1481962949037552, 0.10438425838947296, 0.10866250842809677, 0.06824567914009094, 0.07155109941959381, 0.011252235621213913, 0.40111327171325684], [0.27554890513420105, 0.04409419000148773, 0.10756023228168488, 0.010983298532664776, 0.012971299700438976, 0.030386412516236305, 0.013138322159647942, 0.616428554058075], [0.2974991798400879, 0.05589454248547554, 0.0171814002096653, 0.06941763311624527, 0.07980504631996155, 0.12719768285751343, 0.08636102825403214, 0.37775465846061707], [0.08919885009527206, 0.01244064699858427, 0.02045625075697899, 0.0, 0.08036557585000992, 0.07440592348575592, 0.20494939386844635, 0.5958494544029236], [0.02771533653140068, 0.002647866029292345, 0.0023243273608386517, 0.015706026926636696, 0.01723933033645153, 0.046845801174640656, 0.04778289049863815, 0.9508496522903442], [0.04051446542143822, 0.0012393830111250281, 0.0018025542376562953, 0.011290314607322216, 0.006987733766436577, 0.009707518853247166, 0.00861603394150734, 1.030953288078308], [0.02931024879217148, 0.004946306347846985, 0.005723117850720882, 0.0050743212923407555, 0.003434434300288558, 0.005206358153373003, 0.005691035650670528, 1.0517253875732422]], [[0.04789814352989197, 0.046421777456998825, 0.0, 0.05389126017689705, 0.03303491696715355, 0.07761634141206741, 0.013537731021642685, 0.7544288039207458], [0.13153257966041565, 0.0, 0.014283712953329086, 0.004452642519026995, 0.0, 0.0, 0.02041180059313774, 0.8987579941749573], [0.04701438173651695, 0.0374138243496418, 0.06140798330307007, 0.012014440260827541, 0.0071647511795163155, 0.018400797620415688, 0.037527669221162796, 0.8901673555374146], [0.04514719918370247, 0.009927826002240181, 0.007039426825940609, 0.0, 0.009050274267792702, 0.012644254602491856, 0.03472186252474785, 0.9858081340789795], [0.017216410487890244, 0.02012702263891697, 0.0, 0.010252376087009907, 0.032307449728250504, 0.0, 0.06007072702050209, 0.9009388089179993], [0.06943196058273315, 0.014287763275206089, 0.00868212804198265, 0.00423857569694519, 0.012817765586078167, 0.06996376067399979, 0.12385231256484985, 0.8078368306159973], [0.055567122995853424, 0.01760311983525753, 0.04150695726275444, 0.013324976898729801, 0.009775098413228989, 0.048502445220947266, 0.029525959864258766, 0.8953055739402771], [0.031569864600896835, 0.02446618676185608, 0.026485634967684746, 0.02380220964550972, 0.02087881974875927, 0.046202126890420914, 0.09698932617902756, 0.8407170176506042]], [[0.0, 0.9742295145988464, 0.0069176023826003075, 0.003338816575706005, 0.007837683893740177, 0.004788883030414581, 0.0, 0.10325784236192703], [0.006130626425147057, 0.046972207725048065, 0.6060032248497009, 0.013959452509880066, 0.002495904453098774, 0.001497383345849812, 0.00084677804261446, 0.43320557475090027], [0.0238837618380785, 0.013487122021615505, 0.010927007533609867, 0.03691684454679489, 0.0029427886474877596, 0.00234605954028666, 0.0012150302063673735, 1.019392490386963], [0.013168403878808022, 0.06977947056293488, 0.0014033515471965075, 0.02125225029885769, 0.18256521224975586, 0.0, 0.008534419350326061, 0.759449303150177], [0.0035093147307634354, 0.03049844317138195, 0.0006030424265190959, 0.0040722740814089775, 0.02403176575899124, 0.15734721720218658, 0.003514693584293127, 0.0], [0.012090918608009815, 0.012096974067389965, 0.01464519090950489, 0.010599048808217049, 0.0, 0.03188825398683548, 0.3933697044849396, 0.6302627921104431], [0.05623443052172661, 0.0, 0.01603732258081436, 0.00924621894955635, 0.0071717300452291965, 0.01791257970035076, 0.09173911064863205, 0.8436243534088135], [0.0, 0.018262285739183426, 0.0068695442751049995, 0.01049038115888834, 0.00788273848593235, 0.0, 0.014106497168540955, 1.0223826169967651]], [[0.0, 0.024269767105579376, 0.010674414224922657, 0.04715094715356827, 0.01713772676885128, 0.011419177986681461, 0.0, 0.0], [0.02113095298409462, 0.0878870040178299, 0.021199094131588936, 0.0, 0.011051556095480919, 0.03833697736263275, 0.05611398443579674, 0.7596483826637268], [0.0, 0.0306546613574028, 0.4798201620578766, 0.019665846601128578, 0.002641181694343686, 0.011547683738172054, 0.026383591815829277, 0.5222761631011963], [0.03534141182899475, 0.04642290249466896, 0.04042883962392807, 0.0, 0.011130734346807003, 0.01998673938214779, 0.21506236493587494, 0.6772997379302979], [0.015627944841980934, 0.024161215871572495, 0.0, 0.043757468461990356, 0.02486344613134861, 0.02923530526459217, 0.1969515085220337, 0.766557514667511], [0.03235533460974693, 0.022081075236201286, 0.013234333135187626, 0.04933728650212288, 0.014359040185809135, 0.06185748055577278, 0.5730159878730774, 0.34487074613571167], [0.009470478631556034, 0.0188139621168375, 0.12074088305234909, 0.12377862632274628, 0.026055356487631798, 0.04482211917638779, 0.021293364465236664, 0.7461364269256592], [0.0, 0.01231619156897068, 0.008202435448765755, 0.006621038541197777, 0.004576965235173702, 0.007030834909528494, 0.021181296557188034, 1.0244659185409546]], [[0.0, 0.16901345551013947, 0.08080587536096573, 0.29685744643211365, 0.15132957696914673, 0.04873974621295929, 0.0372697189450264, 0.3225627839565277], [0.004469172563403845, 0.0, 0.10022733360528946, 0.04229149967432022, 0.015290109440684319, 0.008810726925730705, 0.0020495771896094084, 0.6617048978805542], [0.003561298595741391, 0.017252635210752487, 0.04621928185224533, 0.008197170682251453, 0.006848960183560848, 0.007126145996153355, 0.005633338820189238, 1.0162723064422607], [0.0, 0.10743547976016998, 0.0, 0.03249937668442726, 0.011502849869430065, 0.019021695479750633, 0.007447447162121534, 0.8868408799171448], [0.00855966005474329, 0.07141551375389099, 0.1607520431280136, 0.10253646969795227, 0.019692817702889442, 0.01922718994319439, 0.035959139466285706, 0.6929682493209839], [0.014560123905539513, 0.08490847051143646, 0.0, 0.04983878508210182, 0.008920113556087017, 0.07283499091863632, 0.04227592796087265, 0.7871538400650024], [0.0, 0.1006813794374466, 0.0, 0.19643369317054749, 0.06907906383275986, 0.10162690281867981, 0.014577948488295078, 0.5612408518791199], [0.01718713343143463, 0.014101092703640461, 0.010474255308508873, 0.0, 0.004699466750025749, 0.013815921731293201, 0.023085249587893486, 1.0169517993927002]], [[0.03661094605922699, 0.6135048866271973, 0.02562156692147255, 0.2260921448469162, 0.0049142721109092236, 0.0030068717896938324, 0.011103912256658077, 0.19025658071041107], [0.0079522505402565, 0.17480485141277313, 0.14264388382434845, 0.2732588052749634, 0.005749856121838093, 0.003947146236896515, 0.005336298607289791, 0.4974181056022644], [0.005468450486660004, 0.0245064590126276, 0.013029246591031551, 0.027228251099586487, 0.002190080238506198, 0.0033149849623441696, 0.005320993717759848, 1.030052661895752], [0.014491367153823376, 0.10047609359025955, 0.0, 0.170524001121521, 0.07086435705423355, 0.014536493457853794, 0.0, 0.6651448607444763], [0.0073890783824026585, 0.0044325063936412334, 0.06164534389972687, 0.015195408836007118, 0.0, 0.10089056938886642, 0.47836530208587646, 0.42564284801483154], [0.007210188079625368, 0.008723613806068897, 0.037257879972457886, 0.015744822099804878, 0.005548278801143169, 0.06734287738800049, 0.24477411806583405, 0.7245094180107117], [0.0, 0.05643993243575096, 0.04153302311897278, 0.03544950857758522, 0.002824223367497325, 0.026715904474258423, 0.017973192036151886, 0.9029173851013184], [0.013997127301990986, 0.0, 0.012070110999047756, 0.016846545040607452, 0.0, 0.008027971722185612, 0.015164515003561974, 1.021605372428894]], [[0.008146509528160095, 0.03940374776721001, 0.0012629543198272586, 0.01627102494239807, 0.038641851395368576, 0.035635195672512054, 0.039598893374204636, 0.9321510791778564], [0.11876752227544785, 0.06583679467439651, 0.0074776760302484035, 0.0, 0.004335743375122547, 0.0014747664099559188, 0.024813003838062286, 0.8715702295303345], [0.02127629518508911, 0.11308638006448746, 0.0034855473786592484, 0.005618273746222258, 0.004614236764609814, 0.004478069022297859, 0.010698683559894562, 0.947853684425354], [0.010643735527992249, 0.05990453064441681, 0.0, 0.0235992893576622, 0.0015989223029464483, 0.004420412704348564, 0.0038266617339104414, 0.9927606582641602], [0.009278791956603527, 0.04223693534731865, 0.006927694194018841, 0.10458160191774368, 0.007408106233924627, 0.0056222123093903065, 0.0015300814993679523, 0.9335256814956665], [0.03682195395231247, 0.0253961943089962, 0.005285532679408789, 0.040672849863767624, 0.13117162883281708, 0.03547896817326546, 0.07332246750593185, 0.7629615664482117], [0.006315980106592178, 0.0, 0.0014771873829886317, 0.04794472083449364, 0.31355294585227966, 0.0, 0.06120987609028816, 0.5865618586540222], [0.012967155314981937, 0.0245035532861948, 0.003934742417186499, 0.013859216123819351, 0.01338257547467947, 0.015904109925031662, 0.009015503339469433, 1.0175442695617676]], [[0.04855769872665405, 0.21540537476539612, 0.0, 0.15733811259269714, 0.055745191872119904, 0.047533415257930756, 0.07235216349363327, 0.0], [0.030755329877138138, 0.04238718003034592, 0.15215305984020233, 0.04836800694465637, 0.04277970269322395, 0.0, 0.05376441404223442, 0.6493821740150452], [0.0, 0.012301908805966377, 0.0, 0.00648608710616827, 0.003105759620666504, 0.0201424453407526, 0.011529222130775452, 1.019288420677185], [0.02215401642024517, 0.06895263493061066, 0.10015178471803665, 0.04915372654795647, 0.04541105777025223, 0.05445345491170883, 0.05108362436294556, 0.7197508215904236], [0.015176413580775261, 0.0, 0.06895953416824341, 0.047131601721048355, 0.05488167330622673, 0.03454810753464699, 0.0, 0.8259496688842773], [0.013084952719509602, 0.13423112034797668, 0.1690317541360855, 0.11442237347364426, 0.07087767124176025, 0.06663811951875687, 0.051683031022548676, 0.49114224314689636], [0.02670379914343357, 0.03969261422753334, 0.07458112388849258, 0.054401151835918427, 0.0, 0.03346329182386398, 0.034876056015491486, 0.8197263479232788], [0.010949309915304184, 0.0, 0.03076758049428463, 0.023688947781920433, 0.010877967812120914, 0.017384370788931847, 0.006285347510129213, 0.9901679158210754]], [[0.03350279480218887, 0.07096985727548599, 0.0214995127171278, 0.07413606345653534, 0.04779898375272751, 0.04285978153347969, 0.16419608891010284, 0.6561480164527893], [0.027541764080524445, 0.3225196897983551, 0.08318182826042175, 0.0, 0.11542558670043945, 0.17112170159816742, 0.09912323951721191, 0.0], [0.052749186754226685, 0.12216945737600327, 0.07399531453847885, 0.053433049470186234, 0.07795459032058716, 0.06774768233299255, 0.06484639644622803, 0.598215639591217], [0.03577400743961334, 0.15105769038200378, 0.0, 0.1813889592885971, 0.1918562948703766, 0.13019128143787384, 0.07193552702665329, 0.2621408998966217], [0.01989387907087803, 0.05287311226129532, 0.0, 0.05690702423453331, 0.1346580982208252, 0.1223912239074707, 0.053321655839681625, 0.6341155171394348], [0.027539417147636414, 0.07182493060827255, 0.03003198653459549, 0.07132750749588013, 0.09461211413145065, 0.14336879551410675, 0.1695113629102707, 0.5028949975967407], [0.007087583187967539, 0.02335222251713276, 0.022535201162099838, 0.015130847692489624, 0.042170606553554535, 0.04038787633180618, 0.041924428194761276, 0.0], [0.015055705793201923, 0.006857613101601601, 0.003935231361538172, 0.006258965935558081, 0.0026181889697909355, 0.007151402533054352, 0.011132284067571163, 0.0]], [[0.041039180010557175, 0.029052188619971275, 0.013826514594256878, 0.034932445734739304, 0.04583669453859329, 0.04407745972275734, 0.018328770995140076, 0.8840180039405823], [0.08425237983465195, 0.05688096210360527, 0.028821313753724098, 0.24924056231975555, 0.0, 0.041281815618276596, 0.08321454375982285, 0.40568047761917114], [0.08383674919605255, 0.07058386504650116, 0.07072018086910248, 0.28348904848098755, 0.36374324560165405, 0.046990230679512024, 0.06582552939653397, 0.12592245638370514], [0.19382497668266296, 0.06836347281932831, 0.08913924545049667, 0.1277070790529251, 0.13920262455940247, 0.03352872654795647, 0.1335885375738144, 0.3257565200328827], [0.16979160904884338, 0.07532590627670288, 0.07920133322477341, 0.07122263312339783, 0.022155018523335457, 0.10835530608892441, 0.20996208488941193, 0.37509727478027344], [0.05302773788571358, 0.051657117903232574, 0.0, 0.025278428569436073, 0.006551331840455532, 0.05505812540650368, 0.16806049644947052, 0.7232381701469421], [0.0, 0.011153699830174446, 0.004864056594669819, 0.005723572801798582, 0.004985992796719074, 0.027854762971401215, 0.0028586669359356165, 1.0452576875686646], [0.018897851929068565, 0.01574973203241825, 0.010704888962209225, 0.014919624663889408, 0.0, 0.01586821675300598, 0.02066253125667572, 0.999592125415802]], [[0.034046731889247894, 0.0, 0.002665651263669133, 0.013569812290370464, 0.010018828324973583, 0.003253140253946185, 0.0, 1.0239237546920776], [0.026774676516652107, 0.2509024441242218, 0.3390060365200043, 0.16813869774341583, 0.08898501098155975, 0.0036128561478108168, 0.02154344879090786, 0.21214808523654938], [0.013544999994337559, 0.03938692808151245, 0.0, 0.11281510442495346, 0.0299100112169981, 0.002578876679763198, 0.0052810898050665855, 0.8713523745536804], [0.018214022740721703, 0.19302567839622498, 0.6244629621505737, 0.0, 0.05090121552348137, 0.0050360653549432755, 0.011014933697879314, 0.12691695988178253], [0.019331619143486023, 0.2055196762084961, 0.7192073464393616, 0.10014211386442184, 0.011800999753177166, 0.0009663908858783543, 0.01378400344401598, 0.04035908356308937], [0.04487353563308716, 0.011795525439083576, 0.0265777800232172, 0.02889415994286537, 0.01434791088104248, 0.005226204637438059, 0.027721427381038666, 0.9516745805740356], [0.03278883919119835, 0.037079885601997375, 0.02515547350049019, 0.05619415268301964, 0.0, 0.03100176528096199, 0.042314138263463974, 0.8286440968513489], [0.0, 0.01170293614268303, 0.008227610029280186, 0.014915271662175655, 0.005978092551231384, 0.0, 0.0056265732273459435, 1.052950382232666]], [[0.07618097215890884, 0.0018746163696050644, 0.002154631307348609, 0.0071822525933384895, 0.0, 0.007363945711404085, 0.012320649810135365, 0.999596893787384], [0.059877052903175354, 0.07551388442516327, 0.043572571128606796, 0.085085429251194, 0.01003963127732277, 0.02728334255516529, 0.07326317578554153, 0.7364760637283325], [0.09232978522777557, 0.16624155640602112, 0.04800720512866974, 0.0798259824514389, 0.01752936840057373, 0.045058511197566986, 0.10827047377824783, 0.5538482666015625], [0.1362827867269516, 0.07559026777744293, 0.03925778716802597, 0.03967325761914253, 0.007833166979253292, 0.030353514477610588, 0.10404936969280243, 0.6780709624290466], [0.17842742800712585, 0.10316462814807892, 0.03353111073374748, 0.4034004807472229, 0.01137508824467659, 0.024525530636310577, 0.12736402451992035, 0.2293228656053543], [0.05884533375501633, 0.03594096004962921, 0.01730009913444519, 0.21953795850276947, 0.1158282682299614, 0.05403726547956467, 0.10839209705591202, 0.5012291669845581], [0.02395336888730526, 0.006146405357867479, 0.01317556481808424, 0.0782933235168457, 0.17809011042118073, 0.07862421870231628, 0.04754677787423134, 0.6852814555168152], [0.020116029307246208, 0.008764964528381824, 0.012173831462860107, 0.016606394201517105, 0.011578272096812725, 0.02398316189646721, 0.024912530556321144, 0.9929760694503784]]], [[[0.054010551422834396, 0.058326516300439835, 0.030297229066491127, 0.0, 0.02740103006362915, 0.0327090322971344, 0.04319502040743828, 0.8047890663146973], [0.01037668064236641, 0.07918708771467209, 0.42948293685913086, 0.0, 0.005223427899181843, 0.003710848977789283, 0.01064214762300253, 0.5561806559562683], [0.003787317778915167, 0.01179217454046011, 0.444905161857605, 0.00680554797872901, 0.0015216321917250752, 0.0007279875571839511, 0.008467966690659523, 0.6331034898757935], [0.005356554873287678, 0.019332299008965492, 0.19699451327323914, 0.08541414141654968, 0.0, 0.0039020150434225798, 0.008505518548190594, 0.781764030456543], [0.007664547301828861, 0.007212875876575708, 0.405511736869812, 0.06257269531488419, 0.0, 0.007400564383715391, 0.0, 0.5310114622116089], [0.002848733216524124, 0.0, 0.05382721126079559, 0.005124042741954327, 0.004101092461496592, 0.04623587802052498, 0.14553603529930115, 0.8495497703552246], [0.019388873130083084, 0.009579505771398544, 0.08198364078998566, 0.01057631429284811, 0.007070652674883604, 0.014510479755699635, 0.0626763179898262, 0.9053254127502441], [0.00131935381796211, 0.04449240118265152, 0.057666175067424774, 0.0, 0.00457202922552824, 0.017872394993901253, 0.005529077723622322, 0.9617264866828918]], [[0.18428994715213776, 0.04564671963453293, 0.020124828442931175, 0.026124177500605583, 0.02255779504776001, 0.027006644755601883, 0.038957733660936356, 0.7464032769203186], [0.0, 0.07680060714483261, 0.04866928607225418, 0.014768590219318867, 0.0048601338639855385, 0.03234555572271347, 0.006998470518738031, 0.6095412969589233], [0.04654167965054512, 0.05496621131896973, 0.04461732506752014, 0.00834362581372261, 0.0032424437813460827, 0.020490169525146484, 0.007373162545263767, 0.9255364537239075], [0.15477891266345978, 0.0, 0.0, 0.0, 0.035363174974918365, 0.08496300876140594, 0.0538201779127121, 0.5223565697669983], [0.10784204304218292, 0.10947838425636292, 0.16386541724205017, 0.06105046719312668, 0.04321444034576416, 0.14206521213054657, 0.2806072533130646, 0.2029879093170166], [0.0, 0.0336323007941246, 0.012106174603104591, 0.004485779441893101, 0.0016970676369965076, 0.0, 0.0, 0.9128168225288391], [0.3085861802101135, 0.046596821397542953, 0.04452032968401909, 0.01625189371407032, 0.005986379459500313, 0.06966927647590637, 0.003826011437922716, 0.6156741976737976], [0.07707386463880539, 0.04760398343205452, 0.01797451078891754, 0.013742097653448582, 0.005280984099954367, 0.031717367470264435, 0.019384324550628662, 0.8983340263366699]], [[0.09344977140426636, 0.02810620702803135, 0.006524563301354647, 0.0, 0.02158457785844803, 0.015913015231490135, 0.03779919818043709, 0.7715315222740173], [0.06522631645202637, 0.15335571765899658, 0.02405458688735962, 0.0, 0.015225731767714024, 0.08359429985284805, 0.06377072632312775, 0.5537533760070801], [0.0387897714972496, 0.0340891070663929, 0.01695692352950573, 0.024741236120462418, 0.015070807188749313, 0.05540461838245392, 0.0, 0.8504031896591187], [0.2939208745956421, 0.07447490096092224, 0.029757386073470116, 0.025732016190886497, 0.010434371419250965, 0.07832659035921097, 0.0764572024345398, 0.5220078229904175], [0.28085434436798096, 0.11465732008218765, 0.048972755670547485, 0.10041932016611099, 0.02573559060692787, 0.0682809129357338, 0.04489600285887718, 0.0], [0.138894721865654, 0.22098590433597565, 0.046114932745695114, 0.17363722622394562, 0.012006651610136032, 0.030492575839161873, 0.04765981435775757, 0.4413192868232727], [0.10492491722106934, 0.06580917537212372, 0.12269478291273117, 0.12035097926855087, 0.06398775428533554, 0.1684206873178482, 0.05853673070669174, 0.4063860774040222], [0.014829933643341064, 0.07928991317749023, 0.05821273848414421, 0.23643742501735687, 0.012558254413306713, 0.03477359935641289, 0.087808758020401, 0.5872005224227905]], [[0.04369773343205452, 0.01265686471015215, 0.004075187724083662, 0.07267460227012634, 0.0, 0.050361424684524536, 0.18407279253005981, 0.7044975757598877], [0.09330269694328308, 0.011274456977844238, 0.0, 0.07735396176576614, 0.020244484767317772, 0.004123292863368988, 0.018023692071437836, 0.8817970752716064], [0.07768596708774567, 0.24780426919460297, 0.042587462812662125, 0.34563449025154114, 0.031831614673137665, 0.0, 0.009494475089013577, 0.33868932723999023], [0.10083099454641342, 0.024251047521829605, 0.003177289618179202, 0.0, 0.011971947737038136, 0.01402666512876749, 0.015814021229743958, 0.0], [0.20000608265399933, 0.0483504943549633, 0.002710033440962434, 0.29886215925216675, 0.11075831949710846, 0.024759775027632713, 0.032160259783267975, 0.3935040533542633], [0.05726613104343414, 0.008850314654409885, 0.0, 0.08906050771474838, 0.25845834612846375, 0.030756769701838493, 0.18354928493499756, 0.47997891902923584], [0.03190742805600166, 0.015958430245518684, 0.012986864894628525, 0.06263142824172974, 0.2946445345878601, 0.1496855765581131, 0.07766108214855194, 0.4656357765197754], [0.11685748398303986, 0.05133313685655594, 0.0, 0.0526992492377758, 0.028360849246382713, 0.05600906163454056, 0.0, 0.671075701713562]], [[0.0, 0.0, 0.012003603391349316, 0.04535780847072601, 0.025244152173399925, 0.031751327216625214, 0.013810666278004646, 0.8379913568496704], [0.018064042553305626, 0.27645358443260193, 0.10592816770076752, 0.11048787832260132, 0.008121654391288757, 0.04517628997564316, 0.019604533910751343, 0.5272751450538635], [0.0019139032810926437, 0.03868238255381584, 0.02337254211306572, 0.03082285076379776, 0.008745959959924221, 0.011840149760246277, 0.0017772226128727198, 0.0], [0.014881146140396595, 0.17906150221824646, 0.05583931878209114, 0.062191642820835114, 0.014631999656558037, 0.07337480783462524, 0.0, 0.0], [0.0, 0.09189986437559128, 0.0, 0.07667624950408936, 0.036045171320438385, 0.07452322542667389, 0.007578224875032902, 0.794281005859375], [0.009799930267035961, 0.11609039455652237, 0.028949568048119545, 0.17494267225265503, 0.019302355125546455, 0.04486173763871193, 0.01584787666797638, 0.7013166546821594], [0.027559302747249603, 0.028394635766744614, 0.03625398874282837, 0.16056589782238007, 0.061028193682432175, 0.07028841972351074, 0.03620344400405884, 0.6908172965049744], [0.05142967030405998, 0.0848478376865387, 0.0, 0.07361046224832535, 0.018466636538505554, 0.0, 0.05943623185157776, 0.7628132700920105]], [[0.010551073588430882, 0.005870644934475422, 0.0059135411866009235, 0.02131696417927742, 0.031549014151096344, 0.004088745918124914, 0.0, 1.0129867792129517], [0.004098773468285799, 0.08891064673662186, 0.4079252779483795, 0.20515823364257812, 0.0776647999882698, 0.05313326045870781, 0.06993260234594345, 0.20428764820098877], [0.0033755283802747726, 0.011855828575789928, 0.06723146885633469, 0.0, 0.026817072182893753, 0.015591694973409176, 0.1056608259677887, 0.864140510559082], [0.005558901000767946, 0.04030977934598923, 0.11812925338745117, 0.06069520488381386, 0.044549066573381424, 0.027610987424850464, 0.11434268951416016, 0.6999154090881348], [0.0044930255971848965, 0.059333380311727524, 0.21645081043243408, 0.09455322474241257, 0.0, 0.05023340880870819, 0.0, 0.34444841742515564], [0.00566801568493247, 0.04209500923752785, 0.3468146324157715, 0.04528851434588432, 0.03146817162632942, 0.05597652122378349, 0.35534459352493286, 0.22845567762851715], [0.003985346294939518, 0.022100530564785004, 0.12961333990097046, 0.05458623543381691, 0.07811862975358963, 0.06904013454914093, 0.07532434910535812, 0.6783427000045776], [0.014996265061199665, 0.17951051890850067, 0.17053435742855072, 0.0, 0.025402134284377098, 0.06547203660011292, 0.0, 0.0]], [[0.36321863532066345, 0.043152399361133575, 0.008195685222744942, 0.008935859426856041, 0.007778475992381573, 0.0, 0.0, 0.6268486380577087], [0.6208633780479431, 0.0, 0.006446732673794031, 0.007308474276214838, 0.0024274911265820265, 0.004847228527069092, 0.015035939402878284, 0.29368412494659424], [0.06559459865093231, 0.0, 0.22951865196228027, 0.0345594547688961, 0.026570169255137444, 0.018473666161298752, 0.036667708307504654, 0.6519338488578796], [0.34971678256988525, 0.006536866072565317, 0.007319759111851454, 0.23519134521484375, 0.0, 0.012764154933393002, 0.00894173327833414, 0.44244199991226196], [0.16900590062141418, 0.002125890925526619, 0.0, 0.06724586337804794, 0.3307948112487793, 0.015490644611418247, 0.01623936928808689, 0.0], [0.1867954283952713, 0.004659946076571941, 0.0, 0.0, 0.013516625389456749, 0.2063819020986557, 0.0, 0.6480391621589661], [0.021496744826436043, 0.007266666274517775, 0.00444789370521903, 0.008440852165222168, 0.02070458047091961, 0.08386590331792831, 0.08122216165065765, 0.8836663365364075], [0.08333791047334671, 0.025781556963920593, 0.011956669390201569, 0.019146544858813286, 0.013511663302779198, 0.026874426752328873, 0.034078244119882584, 0.8964241743087769]], [[0.0, 0.027238477021455765, 0.0, 0.0, 0.04344964772462845, 0.0, 0.007424808572977781, 0.8268569707870483], [0.011405556462705135, 0.05008310452103615, 0.17446187138557434, 0.23296768963336945, 0.05153258144855499, 0.008638660423457623, 0.026377210393548012, 0.5556445121765137], [0.004218793474137783, 0.009978687390685081, 0.0, 0.056874945759773254, 0.010887901298701763, 0.003737487131729722, 0.016012834385037422, 0.952164351940155], [0.009968852624297142, 0.022605348378419876, 0.10930584371089935, 0.18450795114040375, 0.05062445253133774, 0.030404221266508102, 0.05603307858109474, 0.6476614475250244], [0.004064860753715038, 0.005920982453972101, 0.03879404813051224, 0.11817996203899384, 0.048896994441747665, 0.029949698597192764, 0.7078953385353088, 0.15740923583507538], [0.005326267797499895, 0.01083403266966343, 0.2316882163286209, 0.19004175066947937, 0.10118378698825836, 0.014944691210985184, 0.0, 0.3465140461921692], [0.008834459818899632, 0.0, 0.15587811172008514, 0.17289844155311584, 0.04102370887994766, 0.023797757923603058, 0.03873607888817787, 0.6000694632530212], [0.006409619003534317, 0.011327225714921951, 0.026215072721242905, 0.02071414887905121, 0.006221490912139416, 0.006725290324538946, 0.01840965822339058, 0.0]], [[0.0348842479288578, 0.0, 0.08730494230985641, 0.13796131312847137, 0.15947099030017853, 0.06914985924959183, 0.24681498110294342, 0.2640601396560669], [0.04312388226389885, 0.2060871571302414, 0.23740804195404053, 0.08659429103136063, 0.07719370722770691, 0.029984015971422195, 0.097153440117836, 0.33356669545173645], [0.027030330151319504, 0.04090190678834915, 0.48154860734939575, 0.08272359520196915, 0.15664798021316528, 0.022901393473148346, 0.0, 0.0], [0.0, 0.05898077040910721, 0.0, 0.0, 0.1324794739484787, 0.028287548571825027, 0.0, 0.4873351752758026], [0.024308212101459503, 0.029801560565829277, 0.2152269184589386, 0.08364091068506241, 0.26585203409194946, 0.02340681105852127, 0.0, 0.26581400632858276], [0.1355072408914566, 0.025473156943917274, 0.030778972432017326, 0.0, 0.06756618618965149, 0.07871855795383453, 0.39689236879348755, 0.32222065329551697], [0.0, 0.0, 0.13907690346240997, 0.044975586235523224, 0.06365752220153809, 0.02475191280245781, 0.08331713080406189, 0.6645062565803528], [0.17991234362125397, 0.11442892998456955, 0.0690794512629509, 0.10548902302980423, 0.05170551687479019, 0.11403394490480423, 0.1626911610364914, 0.3137708008289337]], [[0.0668635442852974, 0.01495896466076374, 0.013238077983260155, 0.04636542871594429, 0.029678212478756905, 0.03709189221262932, 0.07350507378578186, 0.8294100761413574], [0.12127368897199631, 0.010564853437244892, 0.009217586368322372, 0.05092040076851845, 0.027663005515933037, 0.0, 0.07983249425888062, 0.7999669313430786], [0.0, 0.07919251173734665, 0.019595667719841003, 0.032279789447784424, 0.020936423912644386, 0.034452762454748154, 0.008830315433442593, 0.8697941899299622], [0.03910111263394356, 0.0222978126257658, 0.03979816287755966, 0.056365516036748886, 0.05006370693445206, 0.019319072365760803, 0.011112040840089321, 0.8730537295341492], [0.0, 0.007929808460175991, 0.004927769303321838, 0.05882954224944115, 0.04065307229757309, 0.011995144188404083, 0.0046695442870259285, 0.9605080485343933], [0.0278688482940197, 0.02183598279953003, 0.0023703156039118767, 0.03278808295726776, 0.08053267747163773, 0.048175960779190063, 0.029397105798125267, 0.8681422472000122], [0.026642320677638054, 0.009763957932591438, 0.01198915857821703, 0.025752617046236992, 0.03541167452931404, 0.07985891401767731, 0.0469900444149971, 0.0], [0.04727203771471977, 0.040702421218156815, 0.021067602559924126, 0.0, 0.02088165283203125, 0.040154919028282166, 0.03042779304087162, 0.8809564113616943]], [[0.06420554965734482, 0.05134081840515137, 0.034272678196430206, 0.11261837184429169, 0.14625917375087738, 0.0, 0.04269598424434662, 0.6358858942985535], [0.13260100781917572, 0.262099027633667, 0.14427830278873444, 0.0996207669377327, 0.032406285405159, 0.06496619433164597, 0.09782490879297256, 0.2773147225379944], [0.041400741785764694, 0.04255865514278412, 0.016733285039663315, 0.02465772069990635, 0.01611371897161007, 0.0324639193713665, 0.0325261689722538, 0.9046569466590881], [0.05576212331652641, 0.0, 0.0749519020318985, 0.0653814896941185, 0.03186869993805885, 0.055591881275177, 0.053401801735162735, 0.6589831709861755], [0.0, 0.09437167644500732, 0.11545213311910629, 0.0518631748855114, 0.03389076888561249, 0.052844904363155365, 0.03785471245646477, 0.5647767782211304], [0.08168015629053116, 0.09637536853551865, 0.13915754854679108, 0.05246834084391594, 0.01164207048714161, 0.03615473210811615, 0.07445935904979706, 0.619173526763916], [0.013357861898839474, 0.029506944119930267, 0.008292355574667454, 0.038597479462623596, 0.0077664959244430065, 0.017771326005458832, 0.009424111805856228, 0.9863945841789246], [0.047262292355298996, 0.08106967061758041, 0.1090521365404129, 0.09218155592679977, 0.028468269854784012, 0.045912597328424454, 0.05589732900261879, 0.6512673497200012]], [[0.20257461071014404, 0.05458623543381691, 0.033610694110393524, 0.09524296224117279, 0.06195373833179474, 0.05311200022697449, 0.06329157203435898, 0.5467393398284912], [0.16860240697860718, 0.0081165237352252, 0.00808838289231062, 0.023893944919109344, 0.056588176637887955, 0.04052809998393059, 0.10274010896682739, 0.7025535106658936], [0.05281951278448105, 0.0034212989266961813, 0.00027447525644674897, 0.0028337242547422647, 0.009841707535088062, 0.013041251339018345, 0.022686410695314407, 1.0061928033828735], [0.0, 0.02210029400885105, 0.003195042023435235, 0.0033307988196611404, 0.01986951194703579, 0.022646140307188034, 0.052461035549640656, 0.8389266133308411], [0.11951051652431488, 0.018123937770724297, 0.00622141407802701, 0.00981310848146677, 0.005087700206786394, 0.05024275183677673, 0.10726172477006912, 0.7948500514030457], [0.3768253028392792, 0.0, 0.009276109747588634, 0.01680045947432518, 0.047101084142923355, 0.042534634470939636, 0.15984000265598297, 0.43070006370544434], [0.0809195414185524, 0.010066984221339226, 0.0054415808990597725, 0.009060461074113846, 0.01349457073956728, 0.03793763369321823, 0.004258131142705679, 0.9499322772026062], [0.18495531380176544, 0.15064232051372528, 0.09873125702142715, 0.1315029412508011, 0.0705236941576004, 0.10263073444366455, 0.18234027922153473, 0.18978460133075714]]], [[[0.10151980817317963, 0.1467655599117279, 0.03108186647295952, 0.36902281641960144, 0.10504651069641113, 0.046767063438892365, 0.22290754318237305, 0.08800002187490463], [0.12655159831047058, 0.06845779716968536, 0.0, 0.12306803464889526, 0.024352120235562325, 0.05566344037652016, 0.28125879168510437, 0.3956366181373596], [0.053952042013406754, 0.038946107029914856, 0.055119410157203674, 0.07837636768817902, 0.020869357511401176, 0.0417560450732708, 0.11735770851373672, 0.7047341465950012], [0.1449897140264511, 0.07000482082366943, 0.0, 0.36770501732826233, 0.02273879013955593, 0.09095339477062225, 0.20208697021007538, 0.16383656859397888], [0.06509041041135788, 0.029322564601898193, 0.02320297807455063, 0.13884466886520386, 0.017409134656190872, 0.04423007741570473, 0.0, 0.5911862254142761], [0.05106993019580841, 0.017934510484337807, 0.013022578321397305, 0.10504581779241562, 0.009501425549387932, 0.053746964782476425, 0.0, 0.5269568562507629], [0.05477997288107872, 0.09722355008125305, 0.02164161205291748, 0.05422419309616089, 0.01117740385234356, 0.032027389854192734, 0.0, 0.6873335838317871], [0.0, 0.02851736545562744, 0.06722009181976318, 0.04870666190981865, 0.03309211879968643, 0.05402979254722595, 0.07070224732160568, 0.7853180766105652]], [[0.020848138257861137, 0.04851839318871498, 0.037603709846735, 0.050798043608665466, 0.012719112448394299, 0.009805930778384209, 0.0, 0.9253008961677551], [0.02046813815832138, 0.03859866410493851, 0.06245134025812149, 0.015556559897959232, 0.0027692406438291073, 0.0014626372139900923, 0.007495156489312649, 0.9623094201087952], [0.0032895696349442005, 0.004683801904320717, 0.3161444365978241, 0.004321728833019733, 0.0009775214130058885, 0.0, 0.003256559604778886, 0.7772222757339478], [0.005186688154935837, 0.004431846085935831, 0.011019764468073845, 0.5517401099205017, 0.023180706426501274, 0.002101438818499446, 0.015479088760912418, 0.4979715943336487], [0.004183601588010788, 0.0037101772613823414, 0.006120661739259958, 0.016295621171593666, 0.01173130702227354, 0.0035343607887625694, 0.007322067394852638, 1.058213472366333], [0.002320801606401801, 0.0015024719759821892, 0.01724158227443695, 0.006345357745885849, 0.0019600100349634886, 0.005540057085454464, 0.010960880666971207, 1.0652399063110352], [0.0034698580857366323, 0.0, 0.013622554019093513, 0.004740789532661438, 0.002896109828725457, 0.0, 0.023392966017127037, 1.0529811382293701], [0.006948878988623619, 0.003353889100253582, 0.004974741954356432, 0.004834799095988274, 0.0012932668905705214, 0.002687050262466073, 0.005955166183412075, 1.0810635089874268]], [[0.0, 0.03968799486756325, 0.03987773135304451, 0.2121715396642685, 0.10361460596323013, 0.03067261353135109, 0.07992522418498993, 0.5766513347625732], [0.040911540389060974, 0.0, 0.0, 0.06901317089796066, 0.03716209530830383, 0.010872974060475826, 0.02322361245751381, 0.8338833451271057], [0.033900804817676544, 0.022843705490231514, 0.20510078966617584, 0.048493411391973495, 0.0, 0.009612337686121464, 0.03570350259542465, 0.6820154786109924], [0.09411252290010452, 0.08933023363351822, 0.0869356170296669, 0.21899451315402985, 0.13677671551704407, 0.02760360762476921, 0.031927041709423065, 0.42543089389801025], [0.09258022904396057, 0.019859103485941887, 0.020452406257390976, 0.08537164330482483, 0.1359860897064209, 0.031307656317949295, 0.0, 0.6764661073684692], [0.10308529436588287, 0.019772404804825783, 0.02232133410871029, 0.07036316394805908, 0.1537381410598755, 0.07503963261842728, 0.0, 0.43727657198905945], [0.1402900665998459, 0.0, 0.005514741409569979, 0.03135810047388077, 0.08261636644601822, 0.03251882269978523, 0.1761133223772049, 0.6350395679473877], [0.0, 0.02170059271156788, 0.024656251072883606, 0.027477780357003212, 0.014317914843559265, 0.015088453888893127, 0.028230851516127586, 0.9420329928398132]], [[0.09715823829174042, 0.02352950908243656, 0.022233473137021065, 0.014412588439881802, 0.0, 0.019435584545135498, 0.2831779420375824, 0.613949179649353], [0.06744764000177383, 8.400016668019816e-05, 0.00019754248205572367, 0.0010342373279854655, 0.0017315740697085857, 0.0008920106920413673, 0.13884319365024567, 0.9008809924125671], [0.0, 0.000363346392987296, 0.0005410495214164257, 0.001625334145501256, 0.004377858247607946, 0.00393572635948658, 0.10913625359535217, 0.8966608643531799], [0.05125107988715172, 0.0012734219199046493, 0.0021018858533352613, 0.0, 0.0076292105950415134, 0.0016013337299227715, 0.0, 0.9873656630516052], [0.07673072814941406, 0.00897448230534792, 0.015727229416370392, 0.014288762584328651, 0.010719372890889645, 0.023562420159578323, 0.15501314401626587, 0.8060951232910156], [0.06594555079936981, 0.0006065868074074388, 0.0, 0.0014823123347014189, 0.004608669318258762, 0.003635984379798174, 0.08591635525226593, 0.9473595023155212], [0.0697246566414833, 0.005667936988174915, 0.012881405651569366, 0.007413156796246767, 0.022504843771457672, 0.0, 0.007852967828512192, 0.9644083380699158], [0.19932927191257477, 0.09365244954824448, 0.0952373817563057, 0.08608738332986832, 0.09168122708797455, 0.12361802160739899, 0.2846202850341797, 0.13688519597053528]], [[0.027135128155350685, 0.04329273849725723, 0.007562763057649136, 0.1892722249031067, 0.10449470579624176, 0.0, 0.6349932551383972, 0.03825492411851883], [0.28204959630966187, 0.014244449324905872, 0.005091301631182432, 0.011162713170051575, 0.004830190446227789, 0.019252069294452667, 0.005713624879717827, 0.7687672972679138], [0.0, 0.016548847779631615, 0.027039194479584694, 0.00796123594045639, 0.004834954161196947, 0.03114650771021843, 0.0038502581883221865, 0.8912539482116699], [0.4650680720806122, 0.03382277861237526, 0.019498661160469055, 0.01956251636147499, 0.0075929537415504456, 0.017648279666900635, 0.004930311348289251, 0.5429875254631042], [0.42715007066726685, 0.07997298240661621, 0.08919297903776169, 0.0460394024848938, 0.021242434158921242, 0.05552971735596657, 0.005619061179459095, 0.38636451959609985], [0.2552146911621094, 0.03189357742667198, 0.0, 0.022893279790878296, 0.017349425703287125, 0.09687642753124237, 0.017854148522019386, 0.6554720997810364], [0.24064670503139496, 0.028554797172546387, 0.03739980235695839, 0.0, 0.021958792582154274, 0.08498359471559525, 0.03651684150099754, 0.6331527829170227], [0.006849703844636679, 0.0064867958426475525, 0.00866726040840149, 0.008878065273165703, 0.002608271548524499, 0.005125385243445635, 0.004153249319642782, 1.0683425664901733]], [[0.014982822351157665, 0.1347266584634781, 0.0, 0.1533096581697464, 0.0, 0.010482285171747208, 0.008914635516703129, 0.7729302048683167], [0.0, 0.20661568641662598, 0.01002517994493246, 0.02684459276497364, 0.0012371918419376016, 0.010289371013641357, 0.004875821992754936, 0.842516303062439], [0.002421615645289421, 0.010957659222185612, 0.05469491705298424, 0.007847352884709835, 0.0006265609408728778, 0.003991477657109499, 0.002779613947495818, 1.027791976928711], [0.008070764131844044, 0.01886405609548092, 0.005945597309619188, 0.4097212553024292, 0.011008420027792454, 0.010715451091527939, 0.007400930393487215, 0.6393847465515137], [0.004226955585181713, 0.008118893019855022, 0.003520360914990306, 0.04851767420768738, 0.01833016611635685, 0.007082476746290922, 0.0067602102644741535, 1.0145543813705444], [0.0019184411503374577, 0.011868477798998356, 0.0, 0.008353106677532196, 0.0010342628229409456, 0.026790998876094818, 0.0125478096306324, 1.04459810256958], [0.004223300609737635, 0.015888400375843048, 0.00584748899564147, 0.0084995711222291, 0.0019431572873145342, 0.021161001175642014, 0.0, 1.0228811502456665], [0.003145296359434724, 0.017944592982530594, 0.01044987142086029, 0.01559409499168396, 0.0018983865156769753, 0.0, 0.005415583029389381, 0.0]], [[0.06261426210403442, 0.07188553363084793, 0.030206218361854553, 0.03343948721885681, 0.02930433861911297, 0.03600515052676201, 0.5273030400276184, 0.3203531503677368], [0.08850476890802383, 0.009698429144918919, 0.022973554208874702, 0.005557539872825146, 0.004241534508764744, 0.003952806815505028, 0.27275657653808594, 0.7034258842468262], [0.017959915101528168, 0.003002242650836706, 0.09158393740653992, 0.010583296418190002, 0.02116282843053341, 0.0025166457053273916, 0.0, 0.8634121417999268], [0.10900788754224777, 0.012157753109931946, 0.09869384765625, 0.026223784312605858, 0.0, 0.0, 0.23386649787425995, 0.5933022499084473], [0.034837014973163605, 0.006258012726902962, 0.10343606024980545, 0.02356005646288395, 0.0763135552406311, 0.015183951705694199, 0.6331140398979187, 0.21840862929821014], [0.14050032198429108, 0.013053059577941895, 0.037502776831388474, 0.012593495659530163, 0.006585163529962301, 0.01796582154929638, 0.5545684099197388, 0.32834216952323914], [0.1420515775680542, 0.005385733675211668, 0.021118491888046265, 0.0, 0.006136531941592693, 0.015926118940114975, 0.11335718631744385, 0.8003427386283875], [0.009705867618322372, 0.0026725362986326218, 0.004360883496701717, 0.0036459879484027624, 0.0025669215247035027, 0.0028516454622149467, 0.013419196009635925, 1.0718880891799927]], [[0.0, 0.07484152913093567, 0.0, 0.07554689794778824, 0.12539851665496826, 0.04990474134683609, 0.08051813393831253, 0.4894546866416931], [0.17163614928722382, 0.007300792261958122, 0.00290439510717988, 0.19425389170646667, 0.023433716967701912, 0.01049470528960228, 0.058761660009622574, 0.6423258185386658], [0.03933241590857506, 0.0037048328667879105, 0.0, 0.009323257952928543, 0.016156179830431938, 0.009289397858083248, 0.08937054872512817, 0.9397420883178711], [0.05376669391989708, 0.007356626912951469, 0.0035136572550982237, 0.057673897594213486, 0.02142076939344406, 0.006000994239002466, 0.049544282257556915, 0.9118342995643616], [0.11933939158916473, 0.02190607227385044, 0.01909884437918663, 0.04500025138258934, 0.022799408063292503, 0.02545342966914177, 0.18812736868858337, 0.6693863272666931], [0.20157179236412048, 0.0128133250400424, 0.023479865863919258, 0.025144243612885475, 0.0, 0.022841403260827065, 0.31514984369277954, 0.4864550828933716], [0.03547343611717224, 0.017915641888976097, 0.01420709490776062, 0.02795863337814808, 0.019947540014982224, 0.0, 0.029121313244104385, 0.9443106055259705], [0.013103953562676907, 0.018174028024077415, 0.019143445417284966, 0.035519421100616455, 0.016019199043512344, 0.019734932109713554, 0.009615753777325153, 0.9798005223274231]], [[0.011111288331449032, 0.023042498156428337, 0.004852765705436468, 0.0, 0.015995057299733162, 0.033447835594415665, 0.6861357092857361, 0.31312379240989685], [0.007949203252792358, 0.0, 0.0, 0.026048265397548676, 0.007732223253697157, 0.027421416714787483, 0.20204409956932068, 0.6490423679351807], [0.016524022445082664, 0.10405068099498749, 0.07191216200590134, 0.0341278500854969, 0.015328149311244488, 0.06629481166601181, 0.13158616423606873, 0.6712873578071594], [0.009689721278846264, 0.04735807329416275, 0.03497205302119255, 0.08975987881422043, 0.04288123920559883, 0.05072152987122536, 0.3131815493106842, 0.52254718542099], [0.0023444618564099073, 0.02708982303738594, 0.011765857227146626, 0.034078411757946014, 0.007171486038714647, 0.025409502908587456, 0.08161803334951401, 0.9216336011886597], [0.02974231354892254, 0.0911596491932869, 0.045608822256326675, 0.05798159912228584, 0.031179899349808693, 0.14567631483078003, 0.24123883247375488, 0.46852371096611023], [0.00900748185813427, 0.019920045509934425, 0.05815953388810158, 0.012517725117504597, 0.00757767166942358, 0.04940381273627281, 0.06569122523069382, 0.8888336420059204], [0.06468116492033005, 0.0, 0.025067970156669617, 0.06820446997880936, 0.04975224658846855, 0.06038660556077957, 0.0590001605451107, 0.735530436038971]], [[0.03466174751520157, 0.016899116337299347, 0.020536083728075027, 0.0, 0.0, 0.013435748405754566, 0.0173635371029377, 0.9884741902351379], [0.0015173052670434117, 0.1874261200428009, 0.0, 0.0324709452688694, 0.0009513445547781885, 0.009320823475718498, 0.002784628653898835, 0.8668418526649475], [0.0004693505179602653, 0.007192893885076046, 0.5099974274635315, 0.0058164456859230995, 0.00020869665604550391, 0.0015121737960726023, 0.0055734217166900635, 0.5803406238555908], [0.000723739736713469, 0.020478060469031334, 0.0, 0.9005682468414307, 0.004948786459863186, 0.008154314942657948, 0.0018702484667301178, 0.16926811635494232], [0.0008593693492002785, 0.003132294397801161, 0.0009534339769743383, 0.026203718036413193, 0.013927730731666088, 0.00511997239664197, 0.002254738938063383, 1.0586599111557007], [0.0, 0.008695603348314762, 0.0035701231099665165, 0.015622907318174839, 0.0014732457930222154, 0.021413711830973625, 0.00658231507986784, 0.0], [0.0009696229826658964, 0.009800690226256847, 0.009428536519408226, 0.008266761898994446, 0.002317714272066951, 0.013656562194228172, 0.0377437099814415, 1.0289275646209717], [0.0006628750124946237, 0.0038707361090928316, 0.004912178032100201, 0.006657216232270002, 0.0007557467906735837, 0.003160369349643588, 0.0033793640322983265, 1.0877127647399902]], [[0.023451022803783417, 0.03659384325146675, 0.0, 0.6403586268424988, 0.16944687068462372, 0.004641145002096891, 0.06882339715957642, 0.13699054718017578], [0.5885353684425354, 0.2270643413066864, 0.05237984284758568, 0.21742771565914154, 0.004197900649160147, 0.0054861390963196754, 0.013902991078794003, 0.0021168554667383432], [0.3584901988506317, 0.02939870022237301, 0.0, 0.06529323011636734, 0.013384442776441574, 0.00416702963411808, 0.04899458587169647, 0.0034198840148746967], [0.3082597851753235, 0.02552982047200203, 0.006814556196331978, 0.0, 0.031566064804792404, 0.011646072380244732, 0.016215505078434944, 0.0], [0.5087610483169556, 0.00955899991095066, 0.007804523687809706, 0.11038731038570404, 0.4119958281517029, 0.011941596865653992, 0.04743972048163414, 0.0032221092842519283], [0.6764202117919922, 0.014667321927845478, 0.017462540417909622, 0.10840184986591339, 0.026334282010793686, 0.14219968020915985, 0.1216958537697792, 0.003929475322365761], [0.5606166124343872, 0.05674362555146217, 0.04615214094519615, 0.08697021752595901, 0.03570753335952759, 0.06714309751987457, 0.24539580941200256, 0.0], [0.11706042289733887, 0.1098252534866333, 0.1383134126663208, 0.1445048749446869, 0.08192720264196396, 0.0, 0.1620277613401413, 0.24452030658721924]], [[0.07854701578617096, 0.09968777000904083, 0.1173461303114891, 0.24727439880371094, 0.2421056181192398, 0.040623437613248825, 0.03942462056875229, 0.2461022287607193], [0.009811406955122948, 0.10604719817638397, 0.021740375086665154, 0.32329753041267395, 0.08845885097980499, 0.03357881307601929, 0.1764705628156662, 0.3517063558101654], [0.014697040431201458, 0.0270735751837492, 0.007676191162317991, 0.0, 0.03074672631919384, 0.019908713176846504, 0.0, 0.8297442197799683], [0.0, 0.03728789836168289, 0.0, 0.041825179010629654, 0.027294311672449112, 0.016074957326054573, 0.13895344734191895, 0.8184826970100403], [0.003676992142572999, 0.0638815313577652, 0.03496856987476349, 0.0, 0.012728427536785603, 0.013488532975316048, 0.11747938394546509, 0.8137558698654175], [0.0, 0.0, 0.0, 0.27844396233558655, 0.0402248352766037, 0.010674634948372841, 0.16534554958343506, 0.3689897358417511], [0.0101836659014225, 0.2329774647951126, 0.17727290093898773, 0.1662171185016632, 0.09864626824855804, 0.05107635259628296, 0.09527375549077988, 0.27946361899375916], [0.08831892162561417, 0.0, 0.007337513379752636, 0.031406842172145844, 0.007855482399463654, 0.013944798149168491, 0.028752418234944344, 0.0]]], [[[0.3567546010017395, 0.015135196968913078, 0.03632673993706703, 0.0, 0.010603109374642372, 0.0035739787854254246, 0.0750720426440239, 0.5920146107673645], [0.03254380449652672, 0.012738925404846668, 0.019348353147506714, 0.004277699161320925, 0.0033113081008195877, 0.005877309013158083, 0.015990035608410835, 1.0170238018035889], [0.0, 0.004832305014133453, 0.010427938774228096, 0.002310799900442362, 0.002928456524387002, 0.0020747447852045298, 0.0038407279644161463, 0.0], [0.002841792069375515, 0.001487022265791893, 0.0055151283740997314, 0.0006853417144156992, 0.0006966557702980936, 0.000805875810328871, 0.0015471266815438867, 1.0975322723388672], [0.008376264944672585, 0.0018342402763664722, 0.01324935257434845, 0.0018788868328556418, 0.0019083386287093163, 0.002098809229210019, 0.003943637479096651, 1.0778216123580933], [0.019801804795861244, 0.006815256085246801, 0.0, 0.004604090005159378, 0.0047378442250192165, 0.004830675199627876, 0.007004864513874054, 0.0], [0.021781854331493378, 0.0, 0.031351108103990555, 0.004157071467489004, 0.004505564924329519, 0.009047150611877441, 0.023529259487986565, 0.9946131110191345], [0.009074060246348381, 0.008171246387064457, 0.008626631461083889, 0.0, 0.004928303882479668, 0.005150557961314917, 0.006476094480603933, 1.0636004209518433]], [[0.37073126435279846, 0.03996708244085312, 0.026087649166584015, 0.04579011723399162, 0.08008001744747162, 0.09889719635248184, 0.1277153491973877, 0.32184258103370667], [0.037143949419260025, 0.01843801885843277, 0.009172758087515831, 0.014251642860472202, 0.0, 0.018506955355405807, 0.07387753576040268, 0.0], [0.038534991443157196, 0.024697137996554375, 0.004057222045958042, 0.014432057738304138, 0.016500312834978104, 0.0, 0.0, 0.9280948042869568], [0.020295238122344017, 0.016615573316812515, 0.00241983775049448, 0.004877780098468065, 0.007736593950539827, 0.012374366633594036, 0.020567430183291435, 1.0262242555618286], [0.0, 0.008636953309178352, 0.0028312711510807276, 0.006603206507861614, 0.003829175839200616, 0.008399596437811852, 0.028793569654226303, 1.0332340002059937], [0.014789747074246407, 0.010447963140904903, 0.0045171743258833885, 0.007342166267335415, 0.007575675845146179, 0.01146210078150034, 0.017234809696674347, 1.0377414226531982], [0.08787119388580322, 0.0, 0.06057531014084816, 0.06585649400949478, 0.08882617950439453, 0.11399560421705246, 0.07386486977338791, 0.4956792891025543], [0.006285632494837046, 0.009807759895920753, 0.0060905637219548225, 0.0052089933305978775, 0.005964989773929119, 0.016162479296326637, 0.015670213848352432, 1.0459206104278564]], [[0.19023464620113373, 0.1265801638364792, 0.05094793066382408, 0.11404166370630264, 0.11108402907848358, 0.0696406289935112, 0.11694523692131042, 0.0], [0.042404357343912125, 0.0, 0.05458161607384682, 0.07087437063455582, 0.05303318426012993, 0.06184595450758934, 0.038941625505685806, 0.684299111366272], [0.023015635088086128, 0.018971500918269157, 0.026290180161595345, 0.016138317063450813, 0.013336322270333767, 0.01832713559269905, 0.0, 0.9654605984687805], [0.07521846890449524, 0.03499351441860199, 0.034293584525585175, 0.06317424774169922, 0.0, 0.05124964937567711, 0.051810406148433685, 0.7667097449302673], [0.05402109771966934, 0.0, 0.007079227827489376, 0.025012459605932236, 0.039000578224658966, 0.03078269772231579, 0.0, 0.8263777494430542], [0.05968240275979042, 0.06537915766239166, 0.02336505614221096, 0.0625593438744545, 0.0, 0.0, 0.11220856010913849, 0.5789026021957397], [0.03477175906300545, 0.013407532125711441, 0.005469207651913166, 0.0, 0.0, 0.016677314415574074, 0.0, 0.9577676057815552], [0.025477534160017967, 0.016987526789307594, 0.021052991971373558, 0.01679125800728798, 0.0, 0.02462419494986534, 0.04548566788434982, 0.9420174360275269]], [[0.12139449268579483, 0.1480732262134552, 0.061679646372795105, 0.09388025104999542, 0.06358764320611954, 0.16380222141742706, 0.1148836612701416, 0.3438100814819336], [0.0, 0.09443595260381699, 0.0495581179857254, 0.017810195684432983, 0.008832825347781181, 0.04022232070565224, 0.026360593736171722, 0.8228585720062256], [0.030308593064546585, 0.07283041626214981, 0.07189309597015381, 0.017172856256365776, 0.011638704687356949, 0.02278982661664486, 0.0, 0.8710176348686218], [0.0, 0.013601377606391907, 0.008365816436707973, 0.006181912962347269, 0.0, 0.015772895887494087, 0.005087758880108595, 1.0461231470108032], [0.01991710625588894, 0.032590512186288834, 0.02078901045024395, 0.0, 0.010325641371309757, 0.02538863942027092, 0.01502186432480812, 0.9757619500160217], [0.0, 0.047954123467206955, 0.01737414486706257, 0.02132461778819561, 0.013924702070653439, 0.10902013629674911, 0.08567870408296585, 0.7640769481658936], [0.0, 0.0062403082847595215, 0.0, 0.007304660975933075, 0.009852370247244835, 0.02839762158691883, 0.031299810856580734, 0.9627166390419006], [0.012606303207576275, 0.006839784327894449, 0.009559119120240211, 0.004363002255558968, 0.0033809461165219545, 0.006518133915960789, 0.004603144712746143, 1.0632407665252686]], [[0.1267842799425125, 0.11902790516614914, 0.07996124774217606, 0.06781893223524094, 0.1508702039718628, 0.01645519956946373, 0.4105413556098938, 0.13965202867984772], [0.04856480285525322, 0.0, 0.0, 0.021005526185035706, 0.010654781013727188, 0.01618734933435917, 0.09216509014368057, 0.8672828078269958], [0.01952217146754265, 0.016947656869888306, 0.03200152888894081, 0.0, 0.0, 0.011799770407378674, 0.05338290333747864, 0.9537460803985596], [0.008233015425503254, 0.00787990354001522, 0.012526856735348701, 0.008699020370841026, 0.005513279233127832, 0.007352640386670828, 0.030904075130820274, 1.030002474784851], [0.0, 0.013111086562275887, 0.0, 0.01510651782155037, 0.017700497061014175, 0.008954009972512722, 0.09939603507518768, 0.9050319194793701], [0.009314366616308689, 0.0, 0.00604739785194397, 0.008275597356259823, 0.008132478222250938, 0.00791230984032154, 0.07499565929174423, 0.9895690679550171], [0.3668261468410492, 0.019550558179616928, 0.010341375134885311, 0.0, 0.01794687658548355, 0.0032816356979310513, 0.012674756348133087, 0.6698043346405029], [0.013834838755428791, 0.0028323004953563213, 0.004259089007973671, 0.0038214384112507105, 0.0036418610252439976, 0.00197698175907135, 0.0047598243691027164, 1.0759848356246948]], [[0.04654941335320473, 0.07419026643037796, 0.23372700810432434, 0.03409930691123009, 0.07130499184131622, 0.06079772859811783, 0.4346882104873657, 0.1557541936635971], [0.015506432391703129, 0.011467414908111095, 0.02416386641561985, 0.016789667308330536, 0.013196736574172974, 0.0, 0.029447972774505615, 0.991675615310669], [0.014871595427393913, 0.019015464931726456, 0.23631031811237335, 0.05033957213163376, 0.037353187799453735, 0.0, 0.06396228820085526, 0.6768700480461121], [0.036665380001068115, 0.017631907016038895, 0.06824555993080139, 0.3037319481372833, 0.08752425014972687, 0.03524547070264816, 0.13847707211971283, 0.4235895276069641], [0.02048593759536743, 0.004507447127252817, 0.0, 0.0, 0.037266869097948074, 0.023600665852427483, 0.08788219839334488, 0.8734932541847229], [0.021649669855833054, 0.006839745212346315, 0.017333872616291046, 0.020201759412884712, 0.022679200395941734, 0.04584081843495369, 0.1009354293346405, 0.8756306767463684], [0.03278401494026184, 0.0213785357773304, 0.041703056544065475, 0.04443060979247093, 0.09187530726194382, 0.05264001339673996, 0.3760649859905243, 0.0], [0.012089195661246777, 0.00677983183413744, 0.010036452673375607, 0.008792084641754627, 0.009733074344694614, 0.010381116531789303, 0.012812589295208454, 1.0404866933822632]], [[0.31810835003852844, 0.058698318898677826, 0.07969912886619568, 0.09288448095321655, 0.17482195794582367, 0.015228834003210068, 0.2539829611778259, 0.11768725514411926], [0.11118632555007935, 0.02244972437620163, 0.02961897663772106, 0.019467225298285484, 0.04181341826915741, 0.015451931394636631, 0.0363447368144989, 0.8347787857055664], [0.13564752042293549, 0.024521570652723312, 0.06575722247362137, 0.0, 0.0410856232047081, 0.021541474387049675, 0.0, 0.7487260103225708], [0.0, 0.014035588130354881, 0.010552231222391129, 0.011780837550759315, 0.038770001381635666, 0.007980059832334518, 0.025446714833378792, 0.955923855304718], [0.0983787328004837, 0.03994176909327507, 0.02742176502943039, 0.02446080930531025, 0.05019804462790489, 0.02212870493531227, 0.0558629110455513, 0.7927184104919434], [0.0659262090921402, 0.029118284583091736, 0.033097073435783386, 0.021832015365362167, 0.053342945873737335, 0.029386168345808983, 0.036220353096723557, 0.8421881198883057], [0.1533336490392685, 0.06670011579990387, 0.041947707533836365, 0.06464306265115738, 0.1337973177433014, 0.0905960202217102, 0.08660461008548737, 0.4734886586666107], [0.02676655538380146, 0.026618149131536484, 0.015251263044774532, 0.013316990807652473, 0.010906911455094814, 0.01435240637511015, 0.014166035689413548, 0.9897329211235046]], [[0.053055912256240845, 0.02423166111111641, 0.04095460847020149, 0.023466946557164192, 0.045720379799604416, 0.0, 0.09926372766494751, 0.0], [0.0031257213559001684, 0.0032535619102418423, 0.0, 0.003465900896117091, 0.0038140614051371813, 0.00225975108332932, 0.008137061260640621, 1.0718439817428589], [0.018634550273418427, 0.01606343686580658, 0.042841486632823944, 0.008193335495889187, 0.011703941971063614, 0.012399403378367424, 0.039043527096509933, 0.9622315168380737], [0.002273383317515254, 0.0017197373090311885, 0.01775078848004341, 0.0, 0.006816304754465818, 0.0021520673763006926, 0.006330251228064299, 1.069948673248291], [0.007300304714590311, 0.0068204365670681, 0.037885528057813644, 0.0, 0.014557833783328533, 0.0, 0.031828686594963074, 0.9925016164779663], [0.009265713393688202, 0.005951869301497936, 0.03596372902393341, 0.009262759238481522, 0.009555610828101635, 0.008322818204760551, 0.029804741963744164, 1.0029839277267456], [0.02471974678337574, 0.017596667632460594, 0.05507119372487068, 0.020852841436862946, 0.03259172663092613, 0.042156580835580826, 0.14984673261642456, 0.7682756781578064], [0.004002094734460115, 0.0, 0.012713024392724037, 0.003877313109114766, 0.003473765216767788, 0.002711816690862179, 0.006334297824651003, 1.0726760625839233]], [[0.3713509142398834, 0.03810473904013634, 0.045635584741830826, 0.3329487144947052, 0.12676991522312164, 0.016207385808229446, 0.0, 0.07914228737354279], [0.0, 0.0, 0.04508529603481293, 0.0, 0.0, 0.08924487978219986, 0.017743250355124474, 0.13667532801628113], [0.017267853021621704, 0.03263353928923607, 0.8361947536468506, 0.0, 0.023851023986935616, 0.011083822697401047, 0.014991731382906437, 0.11865784227848053], [0.006233207881450653, 0.019459033384919167, 0.022428562864661217, 0.9394726753234863, 0.09438346326351166, 0.008662642911076546, 0.005641415249556303, 0.014830104075372219], [0.0077132573351264, 0.0, 0.022951843217015266, 0.15254154801368713, 0.8047612905502319, 0.026674816384911537, 0.010617833584547043, 0.05277813598513603], [0.02664039470255375, 0.0, 0.06411662697792053, 0.17003419995307922, 0.2883281409740448, 0.285660982131958, 0.07150854915380478, 0.0], [0.017457999289035797, 0.008384870365262032, 0.0, 0.016658343374729156, 0.024189725518226624, 0.0, 0.1284729242324829, 0.877987265586853], [0.004073438700288534, 0.0028356066904962063, 0.008183715865015984, 0.007372674066573381, 0.006760504096746445, 0.005610179156064987, 0.006105572916567326, 1.0701695680618286]], [[0.22093084454536438, 0.0993858054280281, 0.057325106114149094, 0.22034142911434174, 0.27503517270088196, 0.10679995268583298, 0.10557965934276581, 0.025713160634040833], [0.12284751981496811, 0.17580154538154602, 0.08528179675340652, 0.07173563539981842, 0.12221845239400864, 0.12256214767694473, 0.030429784208536148, 0.3802342712879181], [0.06133463606238365, 0.069945327937603, 0.18937015533447266, 0.014754773117601871, 0.018125316128134727, 0.04323611408472061, 0.031204845756292343, 0.683139979839325], [0.1301550269126892, 0.13740453124046326, 0.04759741201996803, 0.0850636437535286, 0.15002378821372986, 0.10649961233139038, 0.05763380602002144, 0.3967333137989044], [0.12595362961292267, 0.0, 0.06255181133747101, 0.08399418741464615, 0.0, 0.0, 0.09110874682664871, 0.3559247553348541], [0.13873352110385895, 0.10038959980010986, 0.027719758450984955, 0.053777195513248444, 0.13220946490764618, 0.0, 0.13833782076835632, 0.21809443831443787], [0.03272180259227753, 0.02188691683113575, 0.07286211848258972, 0.03145243227481842, 0.02764076180756092, 0.04175253584980965, 0.17586649954319, 0.7069281935691833], [0.03340854495763779, 0.01560627669095993, 0.026273611932992935, 0.018657464534044266, 0.01589660532772541, 0.01829690858721733, 0.03252854570746422, 0.9504432082176208]], [[0.019447505474090576, 0.13027068972587585, 0.03023025020956993, 0.03270238637924194, 0.044270552694797516, 0.049795299768447876, 0.36040952801704407, 0.4439849853515625], [0.019490662962198257, 0.10259318351745605, 0.025703640654683113, 0.021860752254724503, 0.019533684477210045, 0.0, 0.03769977390766144, 0.840522050857544], [0.006328217685222626, 0.026395956054329872, 0.013234267942607403, 0.0, 0.010728094726800919, 0.024205997586250305, 0.01573963463306427, 1.009892225265503], [0.07465796172618866, 0.1301470845937729, 0.01755967177450657, 0.130211740732193, 0.04859021678566933, 0.07807103544473648, 0.03956935927271843, 0.5923041105270386], [0.03410576656460762, 0.08328558504581451, 0.029219945892691612, 0.0, 0.03238632529973984, 0.03536749631166458, 0.03761221840977669, 0.8180117607116699], [0.007123712450265884, 0.02727496065199375, 0.012199918739497662, 0.00915084220468998, 0.009826772846281528, 0.0, 0.02726505510509014, 0.9855722784996033], [0.009558291174471378, 0.026116279885172844, 0.029920266941189766, 0.015477790497243404, 0.01545738335698843, 0.06516250222921371, 0.04254579916596413, 0.9068728685379028], [0.006661789957433939, 0.02155374549329281, 0.0, 0.014672142453491688, 0.009024471044540405, 0.008995994925498962, 0.004854225087910891, 1.0386996269226074]], [[0.012473060749471188, 0.10268284380435944, 0.0895078033208847, 0.02773534692823887, 0.0, 0.0401306226849556, 0.0, 0.7374035120010376], [0.007485084235668182, 0.009893720038235188, 0.0, 0.016837697476148605, 0.01824573427438736, 0.006110989488661289, 0.008966010063886642, 1.0351269245147705], [0.007569299079477787, 0.010440370067954063, 0.02548062801361084, 0.022292012348771095, 0.03823080658912659, 0.007361294701695442, 0.02019858919084072, 0.9795382022857666], [0.005724247079342604, 0.021526960656046867, 0.025167256593704224, 0.05519856885075569, 0.08150725811719894, 0.015498974360525608, 0.015674196183681488, 0.8908135890960693], [0.008330184035003185, 0.011143452487885952, 0.03754835203289986, 0.022570885717868805, 0.017772648483514786, 0.010900513269007206, 0.021526597440242767, 0.9813184142112732], [0.01675979234278202, 0.012590324506163597, 0.018801717087626457, 0.013046236708760262, 0.009868253022432327, 0.0, 0.027452198788523674, 0.9930421710014343], [0.07673021405935287, 0.057211536914110184, 0.0644487738609314, 0.09258946776390076, 0.10932350903749466, 0.0687398761510849, 0.11775799095630646, 0.5243098139762878], [0.003648775164037943, 0.007207097020000219, 0.012950208969414234, 0.009223759174346924, 0.00683898339048028, 0.005224940832704306, 0.005890667904168367, 1.0601266622543335]]]], \"left_text\": [\"[CLS]\", \"the\", \"cat\", \"sat\", \"on\", \"the\", \"mat\", \"[SEP]\"], \"right_text\": [\"[CLS]\", \"the\", \"cat\", \"sat\", \"on\", \"the\", \"mat\", \"[SEP]\"]}], \"default_filter\": \"0\", \"root_div_id\": \"bertviz-52379d474f474d0dad513dedfa91494b\", \"layer\": null, \"heads\": null, \"include_layers\": [0, 1, 2, 3, 4, 5, 6, 7, 8, 9, 10, 11]}; // HACK: {\"attention\": [{\"name\": null, \"attn\": [[[[0.08360593765974045, 0.15054702758789062, 0.062036678194999695, 0.05964788421988487, 0.136638343334198, 0.14048507809638977, 0.15047316253185272, 0.32767707109451294], [0.0, 0.17461077868938446, 0.09698797762393951, 0.11986201256513596, 0.11578305810689926, 0.2071886956691742, 0.1397026628255844, 0.14649313688278198], [0.15190760791301727, 0.0834633931517601, 0.16059410572052002, 0.0, 0.0, 0.0902724340558052, 0.1963585913181305, 0.15021196007728577], [0.06713995337486267, 0.18366849422454834, 0.21067163348197937, 0.07246986031532288, 0.07058823108673096, 0.0, 0.09821724146604538, 0.2238914519548416], [0.15408410131931305, 0.12337455153465271, 0.12298686057329178, 0.10086522996425629, 0.23933938145637512, 0.11303266137838364, 0.11887434124946594, 0.13855406641960144], [0.08113845437765121, 0.19167731702327728, 0.0, 0.11003759503364563, 0.10860423743724823, 0.17114318907260895, 0.1811313033103943, 0.15283676981925964], [0.04263724014163017, 0.04974108561873436, 0.29652202129364014, 0.281318336725235, 0.0352080799639225, 0.047330304980278015, 0.09850861877202988, 0.259845495223999], [0.08001866191625595, 0.2175314873456955, 0.05201370641589165, 0.045129287987947464, 0.06905709207057953, 0.23309241235256195, 0.19510707259178162, 0.21916146576404572]], [[0.9798688292503357, 0.015208112075924873, 0.027407705783843994, 0.0014927363954484463, 0.06279825419187546, 0.0, 0.00403459882363677, 0.005405355244874954], [0.0, 0.1436428427696228, 0.09980091452598572, 0.13856913149356842, 0.17346663773059845, 0.0, 0.14810287952423096, 0.11935606598854065], [0.45546939969062805, 0.1255161613225937, 0.04296015575528145, 0.05483178049325943, 0.09682171046733856, 0.15642759203910828, 0.06784430146217346, 0.11124008148908615], [0.14015570282936096, 0.040384441614151, 0.15622442960739136, 0.08334250003099442, 0.0635564923286438, 0.03172663226723671, 0.3229601979255676, 0.272760808467865], [0.013430372811853886, 0.07370279729366302, 0.21794430911540985, 0.3446243405342102, 0.039191361516714096, 0.08535043895244598, 0.21008051931858063, 0.12678706645965576], [0.13141274452209473, 0.13909925520420074, 0.0, 0.15861687064170837, 0.14442846179008484, 0.1271955519914627, 0.13195939362049103, 0.15403276681900024], [0.5737846493721008, 0.03902195766568184, 0.09290359169244766, 0.02124095894396305, 0.09389350563287735, 0.037957821041345596, 0.03748597577214241, 0.2148226648569107], [0.271633505821228, 0.19283252954483032, 0.0, 0.033927589654922485, 0.0, 0.17903360724449158, 0.05923909321427345, 0.06592945754528046]], [[0.788337230682373, 0.07283079624176025, 0.02207471989095211, 0.0, 0.04838509112596512, 0.02966229058802128, 0.04811897873878479, 0.09286703169345856], [0.8006682395935059, 0.19122834503650665, 0.020225826650857925, 0.029252786189317703, 0.02360059879720211, 0.03435221686959267, 0.00534299248829484, 0.006440105382353067], [0.3645724356174469, 0.5622857213020325, 0.013122253119945526, 0.0, 0.053340114653110504, 0.0, 0.0, 0.011028897948563099], [0.7583982944488525, 0.04919520020484924, 0.21394126117229462, 0.001449307193979621, 0.01563982479274273, 0.010898841544985771, 0.003666528267785907, 0.0], [0.07742588222026825, 0.0724068284034729, 0.030861349776387215, 0.7292301654815674, 0.09431544691324234, 0.049663957208395004, 0.005969609133899212, 0.051237959414720535], [0.44415873289108276, 0.0351218581199646, 0.011141922324895859, 0.0, 0.38462164998054504, 0.09315819293260574, 0.015646444633603096, 0.1079411581158638], [0.38124823570251465, 0.013421738520264626, 0.022343631833791733, 0.040819890797138214, 0.16391967236995697, 0.4157675802707672, 0.021411579102277756, 0.05217883735895157], [0.4513692855834961, 0.01657642424106598, 0.0019812018144875765, 0.005113854072988033, 0.01501947920769453, 0.06327017396688461, 0.3786754310131073, 0.17910534143447876]], [[0.6551442742347717, 0.048115383833646774, 0.05615865811705589, 0.0480743870139122, 0.0, 0.03397674113512039, 0.0, 0.06969801336526871], [0.24531559646129608, 0.26750892400741577, 0.25048360228538513, 0.2750299870967865, 0.022132908925414085, 0.017211174592375755, 0.024874314665794373, 0.008554666303098202], [0.42812973260879517, 0.5137022733688354, 0.12785476446151733, 0.012218582443892956, 0.004277179948985577, 0.004293871112167835, 0.01832396723330021, 0.0023108082823455334], [0.24021729826927185, 0.16819384694099426, 0.0, 0.05536535754799843, 0.006237936671823263, 0.004041244275867939, 0.006879100576043129, 0.009006937965750694], [0.002080668695271015, 0.056309111416339874, 0.17178304493427277, 0.0, 0.0, 0.009520894847810268, 0.0065050311386585236, 0.0026337681338191032], [0.007828154601156712, 0.021521849557757378, 0.08402761071920395, 0.7940396666526794, 0.14799173176288605, 0.036468490958213806, 0.012611343525350094, 0.0066222925670444965], [0.32716846466064453, 0.01318355556577444, 0.041718319058418274, 0.058553580194711685, 0.301911324262619, 0.28091663122177124, 0.06600156426429749, 0.021657830104231834], [0.22026093304157257, 0.017092596739530563, 0.026463903486728668, 0.03410324454307556, 0.04209550470113754, 0.3502444922924042, 0.34603726863861084, 0.07481325417757034]], [[0.4456714391708374, 0.048810869455337524, 0.09760193526744843, 0.08017995953559875, 0.15684042870998383, 0.05129728838801384, 0.08034222573041916, 0.15036706626415253], [0.06478758156299591, 0.0, 0.0543895922601223, 0.0, 0.0955226793885231, 0.2282603681087494, 0.10797084867954254, 0.0], [0.22130316495895386, 0.0869939997792244, 0.0, 0.28853943943977356, 0.19558806717395782, 0.07716372609138489, 0.15524788200855255, 0.04457148164510727], [0.25761809945106506, 0.05692216008901596, 0.08973664790391922, 0.060417212545871735, 0.27071934938430786, 0.05206167697906494, 0.0, 0.1997019648551941], [0.06488972157239914, 0.22497136890888214, 0.09391915053129196, 0.20277145504951477, 0.060423437505960464, 0.16194215416908264, 0.12274299561977386, 0.17945091426372528], [0.0724901482462883, 0.2667897641658783, 0.0, 0.1391042023897171, 0.09898366779088974, 0.21287530660629272, 0.12220396846532822, 0.15164805948734283], [0.723919153213501, 0.06453931331634521, 0.09124571830034256, 0.06067180633544922, 0.062121570110321045, 0.05362452566623688, 0.023401159793138504, 0.0315878689289093], [0.06129646301269531, 0.004551530349999666, 0.0, 0.021183213219046593, 0.015704192221164703, 0.01172061450779438, 0.01224496029317379, 0.979197084903717]], [[0.6262102723121643, 0.12868016958236694, 0.04590747132897377, 0.008278987370431423, 0.0, 0.10438019782304764, 0.10855624824762344, 0.042601753026247025], [0.47467541694641113, 0.08918555080890656, 0.053343527019023895, 0.06529084593057632, 0.14223314821720123, 0.0780225545167923, 0.05890359729528427, 0.14945654571056366], [0.0, 0.0594961903989315, 0.030430259183049202, 0.34629788994789124, 0.04142780229449272, 0.1039307564496994, 0.08613013476133347, 0.06699427962303162], [0.12362036854028702, 0.11144642531871796, 0.0781252384185791, 0.08467535674571991, 0.06409724056720734, 0.10396773368120193, 0.4602826237678528, 0.08489619195461273], [0.0555323101580143, 0.05456536263227463, 0.2634766697883606, 0.12726448476314545, 0.07124575227499008, 0.03756006062030792, 0.3350529670715332, 0.1664135754108429], [0.5349240899085999, 0.06981893628835678, 0.06358460336923599, 0.04831772670149803, 0.11636380106210709, 0.0425267368555069, 0.05057845264673233, 0.18499667942523956], [0.19210855662822723, 0.056822728365659714, 0.2233308106660843, 0.1294577568769455, 0.1332254707813263, 0.09029221534729004, 0.139227494597435, 0.1466461420059204], [0.0, 0.07183393090963364, 0.03018857352435589, 0.008706746622920036, 0.07110397517681122, 0.06383722275495529, 0.034302983433008194, 0.09118285775184631]], [[0.0, 0.5267074704170227, 0.005699042696505785, 0.0, 0.002657631877809763, 0.0, 0.010059117339551449, 0.0028759564738720655], [0.08828943222761154, 0.07561095058917999, 0.136051744222641, 0.32667088508605957, 0.17367689311504364, 0.08888823539018631, 0.12778066098690033, 0.09414232522249222], [0.17199820280075073, 0.019169161096215248, 0.3665558993816376, 0.18985052406787872, 0.06466302275657654, 0.019017396494746208, 0.177676260471344, 0.0], [0.052180878818035126, 0.018982913345098495, 0.07304032891988754, 0.48094621300697327, 0.10662350803613663, 0.025598229840397835, 0.2503996789455414, 0.10333940386772156], [0.04715382680296898, 0.06778272986412048, 0.09648530185222626, 0.33932018280029297, 0.16757582128047943, 0.06978629529476166, 0.14958705008029938, 0.17341996729373932], [0.11737795174121857, 0.06336477398872375, 0.12389788031578064, 0.0, 0.11615525186061859, 0.07975780218839645, 0.0, 0.0], [0.021597815677523613, 0.01654200069606304, 0.09041298180818558, 0.29819220304489136, 0.0, 0.01977146975696087, 0.4855312705039978, 0.0670866072177887], [0.2555500864982605, 0.048604950308799744, 0.09479217976331711, 0.26720207929611206, 0.08743758499622345, 0.04219742491841316, 0.0, 0.22353753447532654]], [[0.7275248169898987, 0.0, 0.013727575540542603, 0.004139124881476164, 0.004842051770538092, 0.0001415926672052592, 0.023192988708615303, 0.3374113142490387], [0.6416152715682983, 0.04145989939570427, 0.05282360315322876, 0.020880170166492462, 0.0, 0.042224373668432236, 0.11212031543254852, 0.14998728036880493], [0.23250186443328857, 0.01527185644954443, 0.0, 0.13733556866645813, 0.084971122443676, 0.020146634429693222, 0.19900785386562347, 0.16173414885997772], [0.07884864509105682, 0.01812148466706276, 0.18206080794334412, 0.049336690455675125, 0.11287007480859756, 0.0294285137206316, 0.11962194740772247, 0.0], [0.13186632096767426, 0.345655620098114, 0.032581862062215805, 0.05253423750400543, 0.0878576710820198, 0.3052075207233429, 0.08416140824556351, 0.0712464302778244], [0.577150821685791, 0.0328877829015255, 0.057674068957567215, 0.021044570952653885, 0.0373983196914196, 0.027471046894788742, 0.09759221225976944, 0.25989246368408203], [0.19481460750102997, 0.02227780595421791, 0.1704825758934021, 0.0, 0.0653706043958664, 0.026380270719528198, 0.0762546956539154, 0.4657021760940552], [0.4438451826572418, 0.14717663824558258, 0.04538432136178017, 0.046017006039619446, 0.03650536760687828, 0.0, 0.16889682412147522, 0.0803351104259491]], [[0.48708099126815796, 0.21111319959163666, 0.057849932461977005, 0.031066320836544037, 0.016133848577737808, 0.17252402007579803, 0.1185871884226799, 0.016755681484937668], [0.008994264528155327, 0.09089352190494537, 0.09375554323196411, 0.27579936385154724, 0.24840697646141052, 0.16196878254413605, 0.07272139191627502, 0.1585712730884552], [0.07061278820037842, 0.08262646943330765, 0.087040476500988, 0.19763782620429993, 0.13222938776016235, 0.14543242752552032, 0.24101947247982025, 0.15451237559318542], [0.04430761560797691, 0.04157594218850136, 0.1502675712108612, 0.14541365206241608, 0.1162104532122612, 0.076487235724926, 0.23890987038612366, 0.29793882369995117], [0.007558187935501337, 0.04037760570645332, 0.13026677072048187, 0.30213117599487305, 0.04685217887163162, 0.06402044743299484, 0.0, 0.3031938374042511], [0.006952402647584677, 0.0, 0.09810750186443329, 0.14933103322982788, 0.13159728050231934, 0.0, 0.08843791484832764, 0.45163941383361816], [0.10639550536870956, 0.15544603765010834, 0.1487041860818863, 0.16173776984214783, 0.0, 0.0, 0.09122417867183685, 0.15057556331157684], [0.20525601506233215, 0.30343306064605713, 0.04493292048573494, 0.03784230351448059, 0.050104908645153046, 0.3541563153266907, 0.0, 0.04299682378768921]], [[0.28073152899742126, 0.08020688593387604, 0.0, 0.21148312091827393, 0.11714206635951996, 0.07616578042507172, 0.1090756431221962, 0.0], [0.5430837869644165, 0.0, 0.09364815801382065, 0.09200558811426163, 0.05183032155036926, 0.07374937832355499, 0.0618455708026886, 0.14611142873764038], [0.07962625473737717, 0.013257533311843872, 0.8153469562530518, 0.0, 0.034169070422649384, 0.029248496517539024, 0.02294476516544819, 0.10586855560541153], [0.2518693208694458, 0.03527712821960449, 0.016715601086616516, 0.0, 0.02547639049589634, 0.05144377797842026, 0.2655811309814453, 0.122571662068367], [0.3376370072364807, 0.059948571026325226, 0.20582053065299988, 0.11639472097158432, 0.04669041931629181, 0.04348348081111908, 0.11834236979484558, 0.1827940195798874], [0.0, 0.12187202274799347, 0.0, 0.0, 0.05378025770187378, 0.05535286292433739, 0.06725533306598663, 0.13875442743301392], [0.0, 0.11905111372470856, 0.09389811009168625, 0.22837506234645844, 0.030586743727326393, 0.07487936317920685, 0.4257670044898987, 0.03385669365525246], [0.6955131888389587, 0.04196758568286896, 0.07675714790821075, 0.09237801283597946, 0.05431072786450386, 0.04188841953873634, 0.07498003542423248, 0.03331603482365608]], [[0.7062903046607971, 0.07978719472885132, 0.0868731215596199, 0.044193875044584274, 0.03558092936873436, 0.04470698907971382, 0.06698399782180786, 0.04669475555419922], [0.004582599271088839, 0.07595709711313248, 0.7817226648330688, 0.16717128455638885, 0.0552537702023983, 0.009543636813759804, 0.006810824852436781, 0.0], [0.040330227464437485, 0.1666790395975113, 0.05918097868561745, 0.4410310685634613, 0.0, 0.09285794198513031, 0.02465146780014038, 0.01801687851548195], [0.0037345446180552244, 0.0, 0.04011891037225723, 0.03799186646938324, 0.8264963626861572, 0.12697096168994904, 0.012990286573767662, 0.03335286304354668], [0.008668140508234501, 0.012047505006194115, 0.06636404991149902, 0.10596030205488205, 0.07484392821788788, 0.3745550811290741, 0.40613818168640137, 0.06253401935100555], [0.00449019018560648, 0.0026340940967202187, 0.009003779850900173, 0.0, 0.033207979053258896, 0.052289556711912155, 0.728208065032959, 0.26721516251564026], [0.0, 0.0025782871525734663, 0.0894361361861229, 0.0038263623137027025, 0.013914627023041248, 0.03284084051847458, 0.00937263946980238, 0.9330140948295593], [0.4249690771102905, 0.0, 0.007680105045437813, 0.016607407480478287, 0.016647944226861, 0.0, 0.07537791132926941, 0.5151631832122803]], [[0.9509786367416382, 0.09567614644765854, 0.0008281132322736084, 0.002697075717151165, 0.0034989207051694393, 0.04173629730939865, 0.005494187586009502, 0.010201779194176197], [0.8822218775749207, 0.07396943867206573, 0.0, 0.021952413022518158, 0.039368320256471634, 0.03159119933843613, 0.01664806716144085, 0.03359611704945564], [0.14943668246269226, 0.29997092485427856, 0.014099360443651676, 0.023359334096312523, 0.15057484805583954, 0.11197563260793686, 0.0, 0.28924012184143066], [0.4489588141441345, 0.07746569812297821, 0.06838474422693253, 0.014044019393622875, 0.041498906910419464, 0.03588997572660446, 0.11359494179487228, 0.31127411127090454], [0.030728962272405624, 0.08251044154167175, 0.36338624358177185, 0.1196659505367279, 0.11733376234769821, 0.13943280279636383, 0.06179249286651611, 0.19626042246818542], [0.7519896030426025, 0.06588267534971237, 0.003665273543447256, 0.019608372822403908, 0.04901117458939552, 0.04459566995501518, 0.027843361720442772, 0.14851514995098114], [0.20120671391487122, 0.053338050842285156, 0.038831304758787155, 0.02676391415297985, 0.03391355276107788, 0.12986335158348083, 0.00806593056768179, 0.6191284656524658], [0.8157002925872803, 0.0387016236782074, 0.0, 0.012317739427089691, 0.0, 0.10459841042757034, 0.0, 0.09536806493997574]]], [[[0.3321011960506439, 0.07587987184524536, 0.10801899433135986, 0.020606713369488716, 0.0, 0.09192338585853577, 0.21248067915439606, 0.11396763473749161], [0.16998326778411865, 0.0932965874671936, 0.19898511469364166, 0.07649917155504227, 0.11601920425891876, 0.08287661522626877, 0.21483294665813446, 0.0], [0.24812544882297516, 0.13237608969211578, 0.051094360649585724, 0.02482166513800621, 0.06097564473748207, 0.0944536104798317, 0.018694208934903145, 0.48057007789611816], [0.37013566493988037, 0.06328582763671875, 0.015121638774871826, 0.017948966473340988, 0.0, 0.05821041762828827, 0.018761083483695984, 0.23301522433757782], [0.4260824918746948, 0.16969387233257294, 0.027094559744000435, 0.028591962531208992, 0.04085255041718483, 0.07569219917058945, 0.046574126929044724, 0.2965294420719147], [0.2798813283443451, 0.08732887357473373, 0.0, 0.0190468467772007, 0.04217570275068283, 0.0, 0.16805709898471832, 0.32136428356170654], [0.17881134152412415, 0.12946905195713043, 0.042092710733413696, 0.015780579298734665, 0.0, 0.13785181939601898, 0.024814125150442123, 0.5171108245849609], [0.3798047602176666, 0.053151749074459076, 0.07254070043563843, 0.05294528976082802, 0.3208017945289612, 0.0, 0.13070328533649445, 0.0]], [[0.8110078573226929, 0.06024211272597313, 0.0, 0.017831845209002495, 0.018314875662326813, 0.04046125337481499, 0.020493071526288986, 0.1292179822921753], [0.22673314809799194, 0.049558814615011215, 0.7338168621063232, 0.0668739378452301, 0.00340905855409801, 0.0, 0.005836127325892448, 0.0], [0.5104020237922668, 0.0, 0.041221778839826584, 0.2674018144607544, 0.01970607042312622, 0.08211145550012589, 0.009685557335615158, 0.060934461653232574], [0.22769662737846375, 0.026790538802742958, 0.004007484298199415, 0.02927953563630581, 0.69413822889328, 0.09577561914920807, 0.0036942411679774523, 0.029728952795267105], [0.3244176208972931, 0.01875101588666439, 0.015521125867962837, 0.008129299618303776, 0.02778167650103569, 0.6566641926765442, 0.03227170184254646, 0.02757447399199009], [0.3091486692428589, 0.008775743655860424, 0.0, 0.014169041067361832, 0.008995048701763153, 0.08060964941978455, 0.4815215766429901, 0.20092818140983582], [0.3757706582546234, 0.016607480123639107, 0.01902977004647255, 0.0007891131099313498, 0.0020845653489232063, 0.011520858854055405, 0.0, 0.668969452381134], [0.946313738822937, 0.00028797000413760543, 0.0013496479950845242, 0.003880441887304187, 0.0026547734159976244, 0.0, 0.004171715117990971, 0.148115336894989]], [[0.8610717058181763, 0.0, 0.02754421904683113, 0.018931178376078606, 0.018902942538261414, 0.04328436776995659, 0.020116951316595078, 0.08380904048681259], [0.30659598112106323, 0.04043712094426155, 0.0, 0.05121955648064613, 0.0290174949914217, 0.05526813119649887, 0.022541755810379982, 0.5874283909797668], [0.1683458387851715, 0.07715748250484467, 0.015361905097961426, 0.0924641415476799, 0.02745157852768898, 0.09208905696868896, 0.07870542258024216, 0.5595358610153198], [0.12258783727884293, 0.0049420315772295, 0.0038678369019180536, 0.009646818973124027, 0.006492641754448414, 0.016781549900770187, 0.0019155391491949558, 0.9448769092559814], [0.5631005764007568, 0.03025832585990429, 0.0070391506887972355, 0.01245569996535778, 0.013866613619029522, 0.04148607701063156, 0.014055225998163223, 0.4288495182991028], [0.3888186812400818, 0.07518628239631653, 0.02570470981299877, 0.13094483315944672, 0.04689517617225647, 0.08341582864522934, 0.01576256938278675, 0.344383180141449], [0.2969001531600952, 0.0, 0.017489422112703323, 0.0405462421476841, 0.031051823869347572, 0.12425841391086578, 0.019029997289180756, 0.5033534169197083], [0.469657301902771, 0.022924501448869705, 0.05465329810976982, 0.11397231370210648, 0.015106000937521458, 0.04417568817734718, 0.009419936686754227, 0.3812021315097809]], [[0.8778953552246094, 0.0, 0.0034062969498336315, 0.0, 0.0215778611600399, 0.08176223933696747, 0.017314601689577103, 0.04652021825313568], [0.6986979246139526, 0.05177343636751175, 0.029343964532017708, 0.058418262749910355, 0.06158008053898811, 0.05581893026828766, 0.11015826463699341, 0.04532039910554886], [0.0, 0.03696359321475029, 0.13592399656772614, 0.0, 0.04446830227971077, 0.017091454938054085, 0.47828546166419983, 0.12813246250152588], [0.2949725389480591, 0.06321881711483002, 0.16045384109020233, 0.04381907358765602, 0.03296433761715889, 0.047740545123815536, 0.4242183566093445, 0.04372361674904823], [0.6189851760864258, 0.05714869499206543, 0.04481564462184906, 0.08458888530731201, 0.02267340011894703, 0.04600023478269577, 0.175028994679451, 0.06187015771865845], [0.8297351002693176, 0.05701234191656113, 0.016647549346089363, 0.03839606046676636, 0.023701872676610947, 0.0, 0.0, 0.059162355959415436], [0.29064372181892395, 0.0, 0.25476008653640747, 0.1458076536655426, 0.12711095809936523, 0.01706109009683132, 0.2345493882894516, 0.015895003452897072], [0.9443122148513794, 0.022505082190036774, 0.0047091273590922356, 0.011126847937703133, 0.04722587391734123, 0.03725188598036766, 0.025753403082489967, 0.01822667010128498]], [[0.8004788160324097, 0.06088150665163994, 0.014819769188761711, 0.018344508484005928, 0.05631135776638985, 0.0709381178021431, 0.024649886414408684, 0.06468725949525833], [1.065313696861267, 0.03620707243680954, 0.0009033319656737149, 0.0016316684195771813, 0.005622836295515299, 0.0007785019115544856, 0.000637649733107537, 1.6426474758191034e-05], [0.6560710072517395, 0.43827834725379944, 0.0031901695765554905, 0.000754169886931777, 0.001196547644212842, 0.0009180321358144283, 0.00716353626921773, 0.003539394587278366], [0.5378198623657227, 0.24637643992900848, 0.1188126727938652, 0.058476772159338, 0.008274603635072708, 0.015341521240770817, 0.0019061127677559853, 0.0], [0.0, 0.014077960513532162, 0.0031812305096536875, 0.0, 0.014546570368111134, 0.022683558985590935, 0.00024571589892730117, 0.00788865052163601], [0.30060669779777527, 0.007832617498934269, 0.002746537560597062, 0.0384027436375618, 0.6415974497795105, 0.10417778789997101, 0.0, 0.01235110778361559], [0.8959951400756836, 0.0, 0.000575970159843564, 0.002307598013430834, 0.0, 0.13042452931404114, 0.01704665832221508, 0.01419511903077364], [0.8342796564102173, 0.0023554665967822075, 0.00017048424342647195, 0.0006997670279815793, 0.006041860673576593, 0.038653239607810974, 0.022650469094514847, 0.2062603086233139]], [[0.8961157202720642, 0.0, 0.008976276032626629, 0.017474230378866196, 0.008382569067180157, 0.017266469076275826, 0.0, 0.13604383170604706], [0.13833637535572052, 0.0, 0.03296748548746109, 0.07326415926218033, 0.03481309115886688, 0.10681235790252686, 0.055612605065107346, 0.5782744288444519], [0.7552042007446289, 0.08096634596586227, 0.008932719938457012, 0.007518039550632238, 0.010881095193326473, 0.06340637803077698, 0.020013397559523582, 0.16418899595737457], [0.2582308053970337, 0.04555200785398483, 0.01241872739046812, 0.0, 0.05536344274878502, 0.06514235585927963, 0.100853331387043, 0.554085373878479], [0.5234040021896362, 0.061635952442884445, 0.0068574221804738045, 0.02408059686422348, 0.018607551231980324, 0.0759715735912323, 0.0625639408826828, 0.3379901349544525], [0.26451003551483154, 0.16265957057476044, 0.03763851895928383, 0.07944868505001068, 0.04358770325779915, 0.1425865739583969, 0.0468105785548687, 0.3338695466518402], [0.3219008147716522, 0.0, 0.05258985608816147, 0.0648779645562172, 0.09377632290124893, 0.0, 0.025599315762519836, 0.17604316771030426], [0.6516667008399963, 0.04750964790582657, 0.0, 0.040452487766742706, 0.02035861276090145, 0.045588359236717224, 0.0, 0.24560321867465973]], [[0.9218379855155945, 0.012152490206062794, 0.012682393193244934, 0.010335392318665981, 0.012039417400956154, 0.016777655109763145, 0.03468136116862297, 0.09060452878475189], [0.855278730392456, 0.04041849449276924, 0.04921620339155197, 0.10026338696479797, 0.028683079406619072, 0.0012271860614418983, 0.0, 0.03419392183423042], [0.9564790725708008, 0.0654366984963417, 0.0052930861711502075, 0.007883929647505283, 0.023877985775470734, 0.03274178504943848, 0.007179140113294125, 0.012219558469951153], [0.9570918083190918, 0.02379903942346573, 0.003243566956371069, 0.005917578935623169, 0.006658054422587156, 0.042067911475896835, 0.037464436143636703, 0.0], [0.0, 0.014208631590008736, 0.007934204302728176, 0.02009546011686325, 0.0046319132670760155, 0.01912236027419567, 0.0526442751288414, 0.0], [0.3066125214099884, 0.0001215374722960405, 0.008336062543094158, 0.06335446238517761, 0.008703951723873615, 0.0065704830922186375, 0.015550339594483376, 0.7018618583679199], [0.0, 0.00024488114286214113, 0.0020412164740264416, 0.01860222965478897, 0.027384892106056213, 0.011046242900192738, 0.009989846497774124, 0.10984445363283157], [0.821290910243988, 0.0009797773091122508, 0.0, 0.00306070689111948, 0.02963973581790924, 0.051145900040864944, 0.06641802936792374, 0.13769447803497314]], [[0.9877899289131165, 0.018032388761639595, 0.008813660591840744, 0.009935222566127777, 0.008759818971157074, 0.016615796834230423, 0.0, 0.05584987998008728], [0.46670374274253845, 0.1271374523639679, 0.04919135570526123, 0.04118390753865242, 0.0, 0.0, 0.06096085533499718, 0.21296755969524384], [0.23221321403980255, 0.13519984483718872, 0.0, 0.16860128939151764, 0.04385482147336006, 0.09891778230667114, 0.12915955483913422, 0.2287234365940094], [0.39483383297920227, 0.1848670393228531, 0.0733330100774765, 0.018550027161836624, 0.036581456661224365, 0.14794912934303284, 0.05439583957195282, 0.20060092210769653], [0.5648287534713745, 0.12684504687786102, 0.047085151076316833, 0.02833601087331772, 0.012710543349385262, 0.0796273872256279, 0.046712540090084076, 0.20496578514575958], [0.380037397146225, 0.14629563689231873, 0.0525277778506279, 0.08678560703992844, 0.041538845747709274, 0.09131480008363724, 0.07187797874212265, 0.2407331019639969], [0.311676025390625, 0.0, 0.03016071766614914, 0.07353662699460983, 0.03756195306777954, 0.15261700749397278, 0.03208307549357414, 0.28423991799354553], [0.8375117182731628, 0.05606364831328392, 0.0, 0.02534450590610504, 0.03358622267842293, 0.0, 0.021467475220561028, 0.07285813242197037]], [[0.49793532490730286, 0.09874431043863297, 0.05636950582265854, 0.06196869537234306, 0.07113880664110184, 0.05951916426420212, 0.05060255900025368, 0.2148328423500061], [0.23386910557746887, 0.13919313251972198, 0.08351149410009384, 0.0, 0.028539173305034637, 0.06572968512773514, 0.06900495290756226, 0.43941637873649597], [0.28300800919532776, 0.1026800349354744, 0.002275202190503478, 0.2756430208683014, 0.07950259000062943, 0.088328517973423, 0.19144780933856964, 0.08822596073150635], [0.6435406804084778, 0.06122121214866638, 0.012454495765268803, 0.004263508133590221, 0.008639504201710224, 0.053676992654800415, 0.032338835299015045, 0.2949759066104889], [0.5810544490814209, 0.04357433319091797, 0.011870934627950191, 0.13513031601905823, 0.011284985579550266, 0.030974745750427246, 0.06713990867137909, 0.2300814688205719], [0.5738363265991211, 0.06827174872159958, 0.04056979715824127, 0.05721518397331238, 0.017540035769343376, 0.03362652659416199, 0.02807854861021042, 0.2919729948043823], [0.0, 0.12356904149055481, 0.09600222110748291, 0.12141969799995422, 0.040128424763679504, 0.09498179703950882, 0.014773105271160603, 0.10691578686237335], [0.17912448942661285, 0.1605663299560547, 0.07313603907823563, 0.12960638105869293, 0.1718832403421402, 0.12691375613212585, 0.07337383925914764, 0.19650714099407196]], [[0.4459751844406128, 0.1228339895606041, 0.0615503303706646, 0.0591200552880764, 0.07104683667421341, 0.08593519032001495, 0.06298664212226868, 0.20166295766830444], [0.4055212438106537, 0.10251352190971375, 0.07460303604602814, 0.06528957188129425, 0.03925659507513046, 0.0815536305308342, 0.09273677319288254, 0.24963675439357758], [0.3919354975223541, 0.06328359246253967, 0.005456882994621992, 0.09711615741252899, 0.041827086359262466, 0.06559733301401138, 0.061631880700588226, 0.38426268100738525], [0.0, 0.043898824602365494, 0.16376817226409912, 0.0012912156525999308, 0.027363227680325508, 0.0, 0.02254807949066162, 0.158989816904068], [0.631937563419342, 0.0709695890545845, 0.0, 0.023133818060159683, 0.012489245273172855, 0.05136186629533768, 0.07426489144563675, 0.158919557929039], [0.5102744698524475, 0.09212223440408707, 0.04473225027322769, 0.09240130335092545, 0.03520912677049637, 0.05037715658545494, 0.04714588448405266, 0.0], [0.4807083010673523, 0.043141722679138184, 0.1666577011346817, 0.04788024351000786, 0.03184865042567253, 0.03156125172972679, 0.007244356442242861, 0.30206894874572754], [0.17926421761512756, 0.126299649477005, 0.0, 0.08311889320611954, 0.14461055397987366, 0.0, 0.1455404907464981, 0.1976735144853592]], [[0.8904160261154175, 0.028803527355194092, 0.010453885421156883, 0.01319928839802742, 0.02310464344918728, 0.0, 0.01315784826874733, 0.09817497432231903], [0.9013006687164307, 0.043144967406988144, 0.02753080055117607, 0.014905030839145184, 0.024784481152892113, 0.0, 0.007362553384155035, 0.044384390115737915], [0.0, 0.14304663240909576, 0.01277044229209423, 0.028841199353337288, 0.045729272067546844, 0.12349560111761093, 0.04801928997039795, 0.03446025028824806], [0.0, 0.39988964796066284, 0.05751686543226242, 0.015958525240421295, 0.09155648946762085, 0.21451938152313232, 0.04595773667097092, 0.12230920791625977], [0.1593964844942093, 0.19919754564762115, 0.1613251119852066, 0.13384296000003815, 0.0, 0.0709371417760849, 0.1899205595254898, 0.16818371415138245], [0.3872748017311096, 0.0, 0.06282908469438553, 0.0639653354883194, 0.043246179819107056, 0.09670597314834595, 0.022044116631150246, 0.18181851506233215], [0.3806116282939911, 0.11989434063434601, 0.0, 0.1742137372493744, 0.17790359258651733, 0.15161357820034027, 0.011562468484044075, 0.04987594857811928], [0.9498259425163269, 0.017025014385581017, 0.004030770622193813, 0.01156981848180294, 0.011703397147357464, 0.03530236333608627, 0.008307010866701603, 0.07334686070680618]], [[0.6479260921478271, 0.1002911627292633, 0.012465037405490875, 0.027399498969316483, 0.044010307639837265, 0.0, 0.011439350433647633, 0.0], [0.341278076171875, 0.06488189846277237, 0.020541490986943245, 0.042973026633262634, 0.0, 0.20394788682460785, 0.0222686268389225, 0.2361321598291397], [0.38582509756088257, 0.03953973948955536, 0.5277588963508606, 0.0023657556157559156, 0.0, 0.027318941429257393, 0.0, 0.11712291836738586], [0.10907961428165436, 0.047707121819257736, 0.005705952178686857, 0.7949250936508179, 0.016312530264258385, 0.0069458517245948315, 0.037494510412216187, 0.09294049441814423], [0.25442618131637573, 0.12065383791923523, 0.005875452887266874, 0.019494473934173584, 0.5330731868743896, 0.017775140702724457, 0.0, 0.14934319257736206], [0.43022358417510986, 0.0, 0.011823342181742191, 0.023790594190359116, 0.03650756925344467, 0.024390600621700287, 0.005371644627302885, 0.13553474843502045], [0.2047356516122818, 0.0, 0.015413518063724041, 0.2117607146501541, 0.015481119975447655, 0.01019815169274807, 0.5085386633872986, 0.052863288670778275], [0.45749610662460327, 0.148177370429039, 0.07122468948364258, 0.1900905966758728, 0.059459809213876724, 0.061052944511175156, 0.02906210906803608, 0.09454748034477234]]], [[[1.0824497938156128, 0.0010056415339931846, 0.0005113818915560842, 0.0016936144093051553, 0.0009150804835371673, 0.001303392113186419, 0.00019642655388452113, 0.02303585223853588], [6.600870983675122e-05, 0.0002170940861105919, 1.1107131242752075, 0.00010853369894903153, 8.743236179498126e-08, 3.505701613448764e-07, 4.772593001689529e-06, 1.1850019063786021e-06], [0.00014210653898771852, 5.828667326568393e-07, 7.79813781264238e-05, 1.1108553409576416, 3.299420131952502e-05, 1.1894201179529773e-07, 1.2654680858759093e-08, 2.1359162474254845e-06], [0.00657456973567605, 0.00021044000459369272, 0.00017105595907196403, 0.005042493809014559, 1.0987833738327026, 0.00022986951807979494, 0.0, 9.89059844869189e-05], [0.0017396172042936087, 0.0, 8.768367479206063e-06, 4.5098145164956804e-06, 9.527237853035331e-05, 1.1086944341659546, 0.0, 9.539988241158426e-05], [0.0024862312711775303, 3.60113176611776e-06, 1.8666314645088278e-06, 1.2023781891912222e-05, 4.540305781119969e-06, 0.0011505763977766037, 1.1061348915100098, 0.0013175130588933825], [0.022687574848532677, 9.166291420115158e-06, 0.00023498102382291108, 1.5907253327895887e-05, 8.218945595217519e-07, 2.0509501155174803e-06, 8.444867125945166e-05, 1.088076114654541], [1.0898348093032837, 2.0728001004499674e-07, 0.00012676107871811837, 0.0008386139525100589, 4.441139753907919e-05, 1.042818621499464e-05, 5.60285002393357e-07, 0.02025531977415085]], [[0.7483757734298706, 0.06006685644388199, 0.015437324531376362, 0.02551736682653427, 0.028725435957312584, 0.05120144039392471, 0.012784677557647228, 0.0], [0.0, 0.043416500091552734, 0.019815504550933838, 0.00909853633493185, 0.009039032272994518, 0.006642111577093601, 0.003921964671462774, 0.049868058413267136], [0.34641754627227783, 0.5264638066291809, 0.008365013636648655, 0.006391247734427452, 0.024866858497262, 0.03936683014035225, 0.00847929809242487, 0.15076054632663727], [0.7786487340927124, 0.15195538103580475, 0.00229532434605062, 0.0, 0.0783921331167221, 0.0, 0.003144659800454974, 0.07743414491415024], [0.4627940356731415, 0.14731799066066742, 0.007015477865934372, 0.2920786440372467, 0.0, 0.0, 0.002867679810151458, 0.13467712700366974], [0.773463249206543, 0.034476835280656815, 0.017800800502300262, 0.032915614545345306, 0.027408553287386894, 0.052987027913331985, 0.019374940544366837, 0.15268424153327942], [0.6207945942878723, 0.10078013688325882, 0.0, 0.001288130646571517, 0.07078301906585693, 0.20391985774040222, 0.0004991772584617138, 0.10738389194011688], [0.9102020859718323, 0.007491336204111576, 0.0020730860996991396, 0.0, 0.002432693727314472, 0.00924624316394329, 0.003232806921005249, 0.17413708567619324]], [[0.7239909172058105, 0.030518583953380585, 0.036528080701828, 0.0, 0.01943551003932953, 0.030052928254008293, 0.11375903338193893, 0.09584825485944748], [0.9323334693908691, 0.013763675466179848, 0.05084839463233948, 0.01339587103575468, 0.006086814682930708, 0.00926942564547062, 0.03386203199625015, 0.05155154690146446], [0.6234313249588013, 0.08340905606746674, 0.0026454415637999773, 0.018081942573189735, 0.0, 0.09541964530944824, 0.018634958192706108, 0.24087046086788177], [0.0, 0.01608433946967125, 0.007382350042462349, 0.004091213922947645, 0.005659850779920816, 0.015571187250316143, 0.007168764714151621, 0.0], [1.0653420686721802, 0.004191407933831215, 0.00858247745782137, 0.003295082366093993, 0.0009913814719766378, 0.003237187396734953, 0.004475701134651899, 0.020996056497097015], [0.8383012413978577, 0.0, 0.05821157991886139, 0.03915133327245712, 0.010587302036583424, 0.013742602430284023, 0.052483998239040375, 0.0812300592660904], [0.6932570934295654, 0.03323840722441673, 0.0647808313369751, 0.13301831483840942, 0.052321482449769974, 0.03144920989871025, 0.008827708661556244, 0.09421814233064651], [0.6119877099990845, 0.04528219252824783, 0.04372647404670715, 0.05526968091726303, 0.028211262077093124, 0.04208244010806084, 0.09071414172649384, 0.19383728504180908]], [[0.6960198879241943, 0.05066332593560219, 0.04553714394569397, 0.0463879257440567, 0.025840964168310165, 0.04255986586213112, 0.03546028584241867, 0.16864171624183655], [0.0, 0.0790703147649765, 0.044555094093084335, 0.09779075533151627, 0.04577598348259926, 0.08563228696584702, 0.11114263534545898, 0.2778316140174866], [0.5850973725318909, 0.08605124056339264, 0.005504440050572157, 0.08426545560359955, 0.015157272107899189, 0.0, 0.035518329590559006, 0.2361806184053421], [0.6707350015640259, 0.0, 0.00803946889936924, 0.018726233392953873, 0.01570376195013523, 0.024908283725380898, 0.0, 0.32079386711120605], [0.7295259833335876, 0.03926226124167442, 0.015190145932137966, 0.06626935303211212, 0.0, 0.035623885691165924, 0.04857713729143143, 0.16635607182979584], [0.36407068371772766, 0.06347346305847168, 0.06194653734564781, 0.12341751903295517, 0.0405040979385376, 0.060917723923921585, 0.15359827876091003, 0.24318288266658783], [0.5058928728103638, 0.11701985448598862, 0.025552542880177498, 0.040822915732860565, 0.0416099950671196, 0.10974903404712677, 0.006309720687568188, 0.264154314994812], [0.8682457804679871, 0.027425503358244896, 0.02108880691230297, 0.02202722057700157, 0.008807986043393612, 0.02148437313735485, 0.030427992343902588, 0.11160340160131454]], [[0.7823021411895752, 0.044158823788166046, 0.014803961850702763, 0.018420478329062462, 0.018622394651174545, 0.0494246706366539, 0.0, 0.15889312326908112], [0.4810510277748108, 0.17886614799499512, 0.018318286165595055, 0.04645587131381035, 0.024085571989417076, 0.09031231701374054, 0.017195656895637512, 0.2548263370990753], [0.8442266583442688, 0.05060024932026863, 0.0, 0.029668400064110756, 0.012559046968817711, 0.021624786779284477, 0.01354474201798439, 0.0], [0.8812968134880066, 0.01095446664839983, 0.026151882484555244, 0.03943438455462456, 0.020204899832606316, 0.010440933518111706, 0.026969242841005325, 0.09565865248441696], [0.0, 0.018221883103251457, 0.010507369413971901, 0.22846673429012299, 0.07961274683475494, 0.02559882588684559, 0.07800806313753128, 0.1208643987774849], [0.4239843785762787, 0.1713426560163498, 0.029761821031570435, 0.08306144922971725, 0.03312040865421295, 0.12593050301074982, 0.02287249267101288, 0.22103752195835114], [0.5922450423240662, 0.07287649065256119, 0.014202393591403961, 0.02613472193479538, 0.0641709715127945, 0.08496175706386566, 0.06939904391765594, 0.18712082505226135], [0.655154824256897, 0.10743286460638046, 0.0, 0.004039672669023275, 0.005556817632168531, 0.09637501090765, 0.009890442714095116, 0.22401826083660126]], [[0.5572175979614258, 0.029420945793390274, 0.1370815634727478, 0.019350290298461914, 0.017509974539279938, 0.0, 0.20618118345737457, 0.0], [0.12235122174024582, 0.0925867035984993, 0.3856606185436249, 0.09353315085172653, 0.05683515593409538, 0.0736023336648941, 0.23119308054447174, 0.055349044501781464], [0.5247923135757446, 0.0, 0.00958971306681633, 0.042903315275907516, 0.027914712205529213, 0.12365029007196426, 0.00500578572973609, 0.0], [0.6638320684432983, 0.06715525686740875, 0.018072552978992462, 0.03936568647623062, 0.023740803822875023, 0.08212842792272568, 0.036746878176927567, 0.18006952106952667], [0.0, 0.14726676046848297, 0.05933518335223198, 0.0, 0.12261033058166504, 0.1203019991517067, 0.05526909604668617, 0.168021559715271], [0.0, 0.032958392053842545, 0.17470481991767883, 0.027280151844024658, 0.036074232310056686, 0.07670201361179352, 0.5059100985527039, 0.10025095194578171], [0.4961962401866913, 0.042573947459459305, 0.06207287311553955, 0.017163798213005066, 0.00801508966833353, 0.05666600167751312, 0.2308768630027771, 0.1975463330745697], [0.0, 0.026747971773147583, 0.16203108429908752, 0.0, 0.022109339013695717, 0.04893580824136734, 0.15838982164859772, 0.07626554369926453]], [[0.2126944214105606, 0.12288389354944229, 0.04171277955174446, 0.0917930081486702, 0.13312485814094543, 0.11553327739238739, 0.09387566894292831, 0.29949328303337097], [0.12093061208724976, 0.46663030982017517, 0.008407744579017162, 0.02497672289609909, 0.0, 0.33051982522010803, 0.0036727716214954853, 0.14500583708286285], [0.2721477746963501, 0.03738538548350334, 0.5006401538848877, 0.0020560689736157656, 0.00643830094486475, 0.049275223165750504, 0.011006292887032032, 0.2321620136499405], [0.33032840490341187, 0.06088278815150261, 0.0031022110488265753, 0.3597509562969208, 0.01549316756427288, 0.06788428872823715, 0.06835018843412399, 0.20531915128231049], [0.12149662524461746, 0.015744095668196678, 0.0014437088975682855, 0.0, 0.8565530776977539, 0.010232526808977127, 0.0007211905322037637, 0.10106486827135086], [0.1297139823436737, 0.581941545009613, 0.0029167747125029564, 0.017354849725961685, 0.008172874338924885, 0.2057979702949524, 0.0034358068369328976, 0.16177725791931152], [0.31954827904701233, 0.01826501078903675, 0.0023233150132000446, 0.0857662484049797, 0.001958298496901989, 0.02102237567305565, 0.41530030965805054, 0.2469273805618286], [0.3615134656429291, 0.0779142677783966, 0.031023697927594185, 0.05070250481367111, 0.0422145314514637, 0.07324148714542389, 0.10258804261684418, 0.37191319465637207]], [[0.8901054263114929, 0.029337501153349876, 0.012085742317140102, 0.033768296241760254, 0.013885742984712124, 0.017463652417063713, 0.020776359364390373, 0.0936884731054306], [0.48677361011505127, 0.20109419524669647, 0.05407486483454704, 0.048032309859991074, 0.033278267830610275, 0.0, 0.060509078204631805, 0.1412498652935028], [0.34462296962738037, 0.21850258111953735, 0.008664514869451523, 0.07419474422931671, 0.04188920557498932, 0.12350832670927048, 0.10423300415277481, 0.19549579918384552], [0.595928966999054, 0.0686822459101677, 0.04738239198923111, 0.052429042756557465, 0.011924363672733307, 0.05259865149855614, 0.19615928828716278, 0.08600620925426483], [0.7861832976341248, 0.03492559865117073, 0.01945999637246132, 0.08279202878475189, 0.00903734378516674, 0.019201533868908882, 0.09894954413175583, 0.06056182458996773], [0.0, 0.16525587439537048, 0.05740475282073021, 0.0953371673822403, 0.033372439444065094, 0.08411925286054611, 0.11500487476587296, 0.0], [0.39501309394836426, 0.08389542996883392, 0.11587949097156525, 0.20458269119262695, 0.06286545842885971, 0.0, 0.02904357761144638, 0.1588306576013565], [1.0261341333389282, 0.011869043111801147, 0.00217828550375998, 0.0032547451555728912, 0.004635603167116642, 0.004100415855646133, 0.002754911547526717, 0.05618398264050484]], [[0.818852424621582, 0.0, 0.00963168777525425, 0.01697920449078083, 0.014026736840605736, 0.037312086671590805, 0.024933885782957077, 0.1500358134508133], [0.3934307396411896, 0.20336204767227173, 0.01751347817480564, 0.0437912791967392, 0.06198003888130188, 0.19620129466056824, 0.06994107365608215, 0.12489127367734909], [0.5656622648239136, 0.06823383271694183, 0.009924410842359066, 0.016903214156627655, 0.06748339533805847, 0.09598404169082642, 0.1010526567697525, 0.1858673393726349], [0.5718226432800293, 0.12230098992586136, 0.00540704233571887, 0.09097519516944885, 0.023379985243082047, 0.06442022323608398, 0.009041784331202507, 0.2237633764743805], [0.8936929702758789, 0.03449774533510208, 0.0005911479820497334, 0.0026178518310189247, 0.013836387544870377, 0.037483878433704376, 0.005592728033661842, 0.0], [0.5323962569236755, 0.1719973087310791, 0.004339412786066532, 0.025653915479779243, 0.05163447931408882, 0.15814414620399475, 0.03959623724222183, 0.12734942138195038], [0.7947401404380798, 0.08900315314531326, 0.01000483613461256, 0.018922559916973114, 0.024784957990050316, 0.0, 0.016661042347550392, 0.08478545397520065], [0.8139081001281738, 0.04466303437948227, 0.010413002222776413, 0.013415375724434853, 0.011316616088151932, 0.038124822080135345, 0.010454629547894001, 0.16881556808948517]], [[0.0, 0.03277021646499634, 0.012149705551564693, 0.007850411348044872, 0.011953826062381268, 0.011253958567976952, 0.005715734325349331, 0.2420634925365448], [4.622268534149043e-05, 0.0004916596226394176, 1.1104965209960938, 6.726237188559026e-05, 1.1056493320893424e-07, 4.341882231528871e-07, 5.774528744950658e-06, 3.140054104733281e-06], [0.0, 0.0, 2.743810364336241e-05, 0.0, 8.644824265502393e-05, 3.324441024687985e-07, 2.405371368752185e-08, 5.34051969225402e-06], [0.006487338803708553, 0.00018885955796577036, 6.970472895773128e-05, 0.002923238556832075, 1.1007260084152222, 0.0006002826848998666, 1.3404146557149943e-06, 0.00011437816283432767], [0.0012918865540996194, 3.645454489742406e-05, 8.2385704445187e-06, 1.5281491414498305e-06, 4.846629235544242e-05, 1.1095391511917114, 0.00011640974116744474, 6.896093691466376e-05], [0.003790697082877159, 3.5999971714772983e-06, 1.8672130863706116e-06, 3.0609417080995627e-06, 0.0, 0.0005963409203104675, 1.1050527095794678, 0.0016606502467766404], [0.009920784272253513, 9.688761565485038e-06, 0.00010477442992851138, 7.336742555708042e-07, 7.111570710094384e-08, 1.0003863053498208e-06, 9.840809070738032e-05, 1.1009756326675415], [1.102583646774292, 8.63444782339684e-08, 2.218204281234648e-05, 0.0017447432037442923, 6.819940608693287e-05, 4.617651029548142e-06, 1.1340471246512607e-06, 0.006686602719128132]], [[0.7975144386291504, 0.0, 0.038540471345186234, 0.014210003428161144, 0.01626517064869404, 0.02690732479095459, 0.01893088035285473, 0.1675962656736374], [0.6060886383056641, 0.057316914200782776, 0.05869051814079285, 0.017661141231656075, 0.03186185285449028, 0.05279020592570305, 0.0436609722673893, 0.24304097890853882], [0.07525759190320969, 0.0, 0.0, 0.039341047406196594, 0.054184842854738235, 0.07337124645709991, 0.49526599049568176, 0.06968659162521362], [0.45066121220588684, 0.10132070630788803, 0.11111496388912201, 0.05969124287366867, 0.028459582477808, 0.11406053602695465, 0.1450505256652832, 0.1007523387670517], [0.7644674777984619, 0.05000728368759155, 0.04807904362678528, 0.04135264456272125, 0.0116455452516675, 0.04697570204734802, 0.07002826780080795, 0.0], [0.0, 0.06790520995855331, 0.07277173548936844, 0.03132401034235954, 0.05258052796125412, 0.06324874609708786, 0.0, 0.15924933552742004], [0.34699028730392456, 0.09424547106027603, 0.04055142030119896, 0.11940549314022064, 0.04285763204097748, 0.12493465095758438, 0.10814105719327927, 0.2339850813150406], [0.9552380442619324, 0.026627562940120697, 0.020514648407697678, 0.007301670033484697, 0.0, 0.019018497318029404, 0.007910354062914848, 0.06033237650990486]], [[1.0371325016021729, 0.010141701437532902, 0.001420366344973445, 0.004509655758738518, 0.0019629362504929304, 0.009097435511648655, 0.0020180323626846075, 0.044828493148088455], [0.0, 0.0754631906747818, 0.11013530194759369, 0.22681502997875214, 0.05628051608800888, 0.08733955025672913, 0.05349260941147804, 0.12635542452335358], [0.6869009137153625, 0.10667486488819122, 0.02593512274324894, 0.0703698918223381, 0.05516686663031578, 0.0, 0.04484289139509201, 0.0518338643014431], [0.43329885601997375, 0.07294035702943802, 0.025132901966571808, 0.07554711401462555, 0.019956402480602264, 0.1001671701669693, 0.0, 0.19625474512577057], [0.0, 0.04518411308526993, 0.05886027216911316, 0.09276226907968521, 0.018886884674429893, 0.06408599764108658, 0.14318564534187317, 0.17977775633335114], [0.464503675699234, 0.0, 0.06627102196216583, 0.13411489129066467, 0.0402216911315918, 0.06608229130506516, 0.08415514975786209, 0.20380444824695587], [0.9148638844490051, 0.05167783796787262, 0.005991322919726372, 0.03513859957456589, 0.010538718663156033, 0.03374044969677925, 0.004600761458277702, 0.05455968156456947], [1.0978913307189941, 0.002598628867417574, 0.0003326239238958806, 0.00042584448237903416, 0.00035804943763650954, 0.002545333933085203, 0.00024828151799738407, 0.0067110187374055386]]], [[[0.42832842469215393, 0.013213034719228745, 0.0015244833193719387, 0.0033068647608160973, 0.0024783725384622812, 0.013212650083005428, 0.0, 0.6454630494117737], [0.13381269574165344, 0.4291224777698517, 2.0287719962652773e-05, 0.0005150727811269462, 0.0013934433227404952, 0.0, 0.0003690134035423398, 0.22166545689105988], [0.4023529291152954, 0.00269126333296299, 0.0, 0.0002480011899024248, 0.00016103035886771977, 0.002590880496427417, 0.001925259013660252, 0.4946765601634979], [0.3527606129646301, 0.008423267863690853, 0.0, 0.253902792930603, 0.0, 0.0, 0.0013387642102316022, 0.49140605330467224], [0.5026758909225464, 0.0, 5.961794522590935e-05, 0.00018899804854299873, 0.08250788599252701, 0.0022345599718391895, 3.4412038075970486e-05, 0.513562023639679], [0.3184562027454376, 0.35424119234085083, 1.2762839105562307e-05, 0.00021284710965119302, 0.0004383909108582884, 0.061148665845394135, 5.74603327549994e-05, 0.37654373049736023], [0.27260956168174744, 0.00025994464522227645, 9.709776350064203e-05, 0.0, 9.50358844420407e-06, 8.202053140848875e-05, 0.0, 0.3199297785758972], [0.3439071476459503, 0.008237497881054878, 0.0024248119443655014, 0.004208841826766729, 0.005711471661925316, 0.01033893320709467, 0.003468295792117715, 0.7328141331672668]], [[0.40155380964279175, 0.028011547401547432, 0.04015504941344261, 0.033072371035814285, 0.011361172422766685, 0.0, 0.06225580349564552, 0.5033356547355652], [0.2660246193408966, 0.13421444594860077, 0.09343356639146805, 0.035958461463451385, 0.0343436673283577, 0.10882576555013657, 0.0748865157365799, 0.3634241819381714], [0.5342053771018982, 0.1361021101474762, 0.019404888153076172, 0.05040133744478226, 0.02053944207727909, 0.08374308049678802, 0.0829448401927948, 0.18377016484737396], [0.4034684896469116, 0.07899032533168793, 0.11622528731822968, 0.05281741917133331, 0.06493979692459106, 0.08526602387428284, 0.060676563531160355, 0.24872729182243347], [0.19697925448417664, 0.03914107382297516, 0.08084143698215485, 0.1663496494293213, 0.08007610589265823, 0.045822445303201675, 0.24287629127502441, 0.25902482867240906], [0.19529271125793457, 0.06523366272449493, 0.08442762494087219, 0.045617468655109406, 0.0, 0.06531025469303131, 0.1282157599925995, 0.472464919090271], [0.02995072305202484, 0.007371858693659306, 0.0, 0.008156922645866871, 0.002668525092303753, 0.010482660494744778, 0.005921844393014908, 1.0358518362045288], [0.4914117157459259, 0.009418832138180733, 0.0, 0.0012956307036802173, 0.0029555002693086863, 0.008475796319544315, 0.02104375883936882, 0.5724058747291565]], [[0.07986142486333847, 0.14556977152824402, 0.238068088889122, 0.1116928979754448, 0.1036558672785759, 0.0, 0.14947958290576935, 0.16189885139465332], [0.21130035817623138, 0.439713716506958, 0.006780063733458519, 0.011503207497298717, 0.027046827599406242, 0.24654705822467804, 0.0, 0.15919725596904755], [0.5441867709159851, 0.11338715255260468, 0.01875855028629303, 0.026310697197914124, 0.01807282119989395, 0.11725494265556335, 0.010107814334332943, 0.2630324363708496], [0.47252777218818665, 0.1184312254190445, 0.0, 0.0, 0.02190275490283966, 0.10113518685102463, 0.0, 0.372599720954895], [0.3558923006057739, 0.05775606632232666, 0.0, 0.008868434466421604, 0.2909393608570099, 0.13961200416088104, 0.003988189622759819, 0.2503634989261627], [0.19061279296875, 0.4551317095756531, 0.004013353027403355, 0.006120119709521532, 0.014983794651925564, 0.26193466782569885, 0.004873126745223999, 0.1734415590763092], [0.44149014353752136, 0.09772450476884842, 0.0350806750357151, 0.0, 0.03285722807049751, 0.0, 0.007899015210568905, 0.3990621566772461], [0.15633524954319, 0.0231463760137558, 0.023894216865301132, 0.01249254122376442, 0.019546005874872208, 0.021245431154966354, 0.0, 0.8345533609390259]], [[0.43113815784454346, 0.01790890283882618, 0.023568548262119293, 0.03404754772782326, 0.022031687200069427, 0.0, 0.03358924761414528, 0.5210999846458435], [0.06940589845180511, 0.0, 0.20399460196495056, 0.3967075049877167, 0.1742059737443924, 0.09231268614530563, 0.07177066057920456, 0.05605895072221756], [0.14552155137062073, 0.08405981212854385, 0.015381528064608574, 0.2857690751552582, 0.0980621874332428, 0.2603539526462555, 0.06654299795627594, 0.15542003512382507], [0.05055953189730644, 0.019958753138780594, 0.032566070556640625, 0.038364287465810776, 0.0854756161570549, 0.5549949407577515, 0.20717017352581024, 0.12202173471450806], [0.0, 0.0, 0.029533524066209793, 0.041956473141908646, 0.041463274508714676, 0.140358105301857, 0.3656320571899414, 0.22308558225631714], [0.2949744462966919, 0.011734269559383392, 0.023317284882068634, 0.048704326152801514, 0.039997950196266174, 0.07108958065509796, 0.2911790907382965, 0.3301142156124115], [0.3860074579715729, 0.005828255321830511, 0.018723081797361374, 0.0080612413585186, 0.008730369620025158, 0.016978373751044273, 0.0018319517839699984, 0.6649503707885742], [0.29853692650794983, 0.004300667904317379, 0.0024488624185323715, 0.0017742929048836231, 0.0016250957269221544, 0.002866113558411598, 0.0012067996431142092, 0.7983524799346924]], [[0.12058980762958527, 0.021727219223976135, 0.08153258264064789, 0.0325782485306263, 0.02951226383447647, 0.02010021172463894, 0.06724715977907181, 0.7378236651420593], [0.10422725975513458, 0.08012627065181732, 0.1675427407026291, 0.13496550917625427, 0.0493563748896122, 0.0, 0.1271459013223648, 0.0], [0.03829357028007507, 0.049900077283382416, 0.11385589092969894, 0.1530415117740631, 0.09316857159137726, 0.033619560301303864, 0.20674799382686615, 0.42248404026031494], [0.23178279399871826, 0.037881627678871155, 0.0, 0.034189239144325256, 0.04087435454130173, 0.05314895138144493, 0.24813491106033325, 0.4302864074707031], [0.12890200316905975, 0.07643198221921921, 0.0, 0.0, 0.017896750941872597, 0.045218680053949356, 0.03747330233454704, 0.6627054214477539], [0.1060565933585167, 0.0, 0.12301833927631378, 0.19633859395980835, 0.04195098951458931, 0.04153377562761307, 0.21269375085830688, 0.3157701790332794], [0.02158515341579914, 0.12962330877780914, 0.0, 0.0, 0.06449463218450546, 0.11133058369159698, 0.12144321948289871, 0.07778526842594147], [0.7781292200088501, 0.002867670962586999, 0.0, 0.00036870388430543244, 0.0019676517695188522, 0.006640601437538862, 0.0309616606682539, 0.2875458598136902]], [[0.8112622499465942, 0.03855425864458084, 0.01678379252552986, 0.010070448741316795, 0.02983652986586094, 0.04190954566001892, 0.12329266220331192, 0.0], [0.9685662388801575, 0.07326958328485489, 0.00142670888453722, 0.00017291231779381633, 0.007563232909888029, 0.0017903679981827736, 0.015662090852856636, 0.04265999794006348], [0.3657720386981964, 0.7208117246627808, 0.0010553700849413872, 0.00037200810038484633, 0.0036683815997093916, 0.0005109187914058566, 0.01324906200170517, 0.0056717609986662865], [0.20940053462982178, 0.0, 0.7134068608283997, 0.019749196246266365, 0.0015095812268555164, 0.009904719889163971, 0.002174016321077943, 0.05057171359658241], [0.0013223449932411313, 4.70885461254511e-05, 0.001921935472637415, 1.1061846017837524, 0.00014194505638442934, 0.00045230332762002945, 5.0941703193529975e-06, 0.0010358747094869614], [0.21007098257541656, 0.0005696280859410763, 0.0009333553025498986, 0.003121555782854557, 0.839798629283905, 0.039488986134529114, 0.010441469959914684, 0.0], [0.264217734336853, 0.0016431306721642613, 0.0018507641507312655, 0.002244757255539298, 0.01470027957111597, 0.8032946586608887, 0.009692543186247349, 0.013467332348227501], [0.9841650724411011, 0.0, 0.009045190177857876, 0.00711869029328227, 0.00830165110528469, 0.028425147756934166, 0.032820750027894974, 0.01970762014389038]], [[0.11381689459085464, 0.082962267100811, 0.3039495646953583, 0.12948527932167053, 0.03338659927248955, 0.07540925592184067, 0.11233062297105789, 0.2597707211971283], [0.33203116059303284, 0.21891991794109344, 0.03183221444487572, 0.01986066997051239, 0.0, 0.1102384552359581, 0.04363207891583443, 0.33309611678123474], [0.5272504091262817, 0.07134240865707397, 0.03567187115550041, 0.01322169043123722, 0.024264346808195114, 0.04896383732557297, 0.01673762872815132, 0.37365907430648804], [0.4888075590133667, 0.09092052280902863, 0.01191221084445715, 0.013211177662014961, 0.03949792683124542, 0.05982328951358795, 0.01570521853864193, 0.39123326539993286], [0.5013214349746704, 0.08961817622184753, 0.0, 0.01298697479069233, 0.058354150503873825, 0.061835143715143204, 0.012657326646149158, 0.0], [0.3641268014907837, 0.14282289147377014, 0.018916670233011246, 0.019810663536190987, 0.0, 0.08723506331443787, 0.05170755460858345, 0.3898507356643677], [0.5052745342254639, 0.06305913627147675, 0.0, 0.010648992843925953, 0.05540678650140762, 0.025708414614200592, 0.0033753737807273865, 0.406757116317749], [0.32282137870788574, 0.013135125860571861, 0.01862156018614769, 0.011218179017305374, 0.02420063130557537, 0.0, 0.04587656632065773, 0.6571462750434875]], [[0.0, 0.07062895596027374, 0.06188305467367172, 0.09624157845973969, 0.03910739719867706, 0.0381690189242363, 0.021831104531884193, 0.24594852328300476], [0.2821815609931946, 0.0, 0.09702861309051514, 0.0, 0.11469954997301102, 0.0647323727607727, 0.17980225384235382, 0.17886687815189362], [0.6070157289505005, 0.012578483670949936, 0.00613461434841156, 0.06424552947282791, 0.029086364433169365, 0.0, 0.042346686124801636, 0.33747342228889465], [0.5682015419006348, 0.04951006546616554, 0.026686979457736015, 0.06937094777822495, 0.07454246282577515, 0.04654523357748985, 0.03123139776289463, 0.24502253532409668], [0.4008265435695648, 0.08536825329065323, 0.0, 0.06933923810720444, 0.11567899584770203, 0.08909358084201813, 0.048130668699741364, 0.2868480980396271], [0.3661714196205139, 0.0861157551407814, 0.0848708376288414, 0.09365978091955185, 0.12018692493438721, 0.11144718527793884, 0.07135576754808426, 0.1773035079240799], [0.5300869345664978, 0.08315084874629974, 0.02434886246919632, 0.052431002259254456, 0.10537458956241608, 0.03910258039832115, 0.025808893144130707, 0.25080743432044983], [0.4836746156215668, 0.0, 0.007385353557765484, 0.022818738594651222, 0.0, 0.01593322865664959, 0.00854240171611309, 0.5497577786445618]], [[0.6408531069755554, 0.012829775922000408, 0.021315911784768105, 0.03667520359158516, 0.006824450567364693, 0.01266712136566639, 0.021077962592244148, 0.35886773467063904], [0.3099018335342407, 0.0, 0.05491965264081955, 0.23277981579303741, 0.06214740127325058, 0.06721623241901398, 0.051180992275476456, 0.2828802168369293], [0.08795175701379776, 0.03460414707660675, 0.4670989513397217, 0.08610326051712036, 0.03750890493392944, 0.01856318861246109, 0.08529345691204071, 0.29398754239082336], [0.137004554271698, 0.055125877261161804, 0.09399699419736862, 0.06884156167507172, 0.053176067769527435, 0.0, 0.10056659579277039, 0.5572225451469421], [0.3054559826850891, 0.03471033275127411, 0.022566167637705803, 0.18504607677459717, 0.0, 0.030010055750608444, 0.08746591210365295, 0.42254021763801575], [0.22029425203800201, 0.05014597624540329, 0.0, 0.3055158853530884, 0.06374352425336838, 0.04512421041727066, 0.0788053423166275, 0.3248923122882843], [0.20379935204982758, 0.0, 0.0316133089363575, 0.13047920167446136, 0.063481904566288, 0.03724013268947601, 0.08662361651659012, 0.5189510583877563], [0.7615800499916077, 0.00599284702911973, 0.03454018384218216, 0.0, 0.0, 0.006672507151961327, 0.006903780158609152, 0.28773415088653564]], [[0.7896692752838135, 0.01571119762957096, 0.015586803667247295, 0.02490190416574478, 0.0, 0.013124310411512852, 0.028914684429764748, 0.20520228147506714], [0.0064162942580878735, 0.0, 0.0, 0.004705157596617937, 0.00020096515072509646, 0.0005407901480793953, 0.0038806528318673372, 0.016798969358205795], [0.45553821325302124, 0.024749867618083954, 0.0559573769569397, 0.24950949847698212, 0.012796862982213497, 0.03080524317920208, 0.0, 0.2767258584499359], [0.0, 0.003666514763608575, 0.020611219108104706, 0.006563269533216953, 0.180675208568573, 0.1646984964609146, 0.026888340711593628, 0.3005135953426361], [0.0, 0.001413528574630618, 0.03875270485877991, 0.0018486729823052883, 0.0009142054477706552, 0.4854358732700348, 0.0, 0.0], [0.18485715985298157, 0.00228738016448915, 0.04091964289546013, 0.002586025046184659, 0.0042813727632164955, 0.04761140048503876, 0.7160281538963318, 0.0], [1.0810997486114502, 6.302967813098803e-05, 4.137721043662168e-05, 2.2266523956204765e-05, 5.55117912881542e-06, 4.3315751099726185e-05, 0.00017005552945192903, 0.029665878042578697], [1.0270529985427856, 0.008489521220326424, 0.001517520984634757, 0.0035777452867478132, 0.007272572256624699, 0.007605699356645346, 0.003018335672095418, 0.05257689580321312]], [[0.0, 0.0192533191293478, 0.02597728930413723, 0.01673387736082077, 0.0, 0.017419977113604546, 0.024867551401257515, 0.6675211787223816], [0.10835570842027664, 0.036026790738105774, 0.423689603805542, 0.0818706527352333, 0.03528115898370743, 0.035664428025484085, 0.15501146018505096, 0.23521138727664948], [0.2643994987010956, 0.0, 0.08334612101316452, 0.04834960401058197, 0.0022709949407726526, 0.0, 0.13173812627792358, 0.5596668720245361], [0.2246415764093399, 0.024925706908106804, 0.19305431842803955, 0.0, 0.023141883313655853, 0.02694622427225113, 0.44129300117492676, 0.1109171137213707], [0.056774452328681946, 0.028418434783816338, 0.047369442880153656, 0.0, 0.0039701699279248714, 0.022739790380001068, 0.8603893518447876, 0.023507025092840195], [0.11027336120605469, 0.03962871804833412, 0.15768347680568695, 0.09335529804229736, 0.02916826121509075, 0.05794050171971321, 0.4333406090736389, 0.18972086906433105], [0.23222887516021729, 0.04012276977300644, 0.04271480813622475, 0.145613893866539, 0.023761870339512825, 0.02661929838359356, 0.01764971762895584, 0.5823999047279358], [0.29739344120025635, 0.0028964541852474213, 0.00050429004477337, 0.0019501515198498964, 0.0019255809020251036, 0.002472011372447014, 0.002462050411850214, 0.8015072345733643]], [[0.6579221487045288, 0.02478019706904888, 0.013841000385582447, 0.03208216652274132, 0.017031550407409668, 0.024142909795045853, 0.03494488075375557, 0.30636635422706604], [0.5891499519348145, 0.0, 0.0, 0.060859598219394684, 0.024688690900802612, 0.020244460552930832, 0.00820737611502409, 0.32680442929267883], [0.35747241973876953, 0.2704746723175049, 0.02251807227730751, 0.027496691793203354, 0.02318763919174671, 0.009695274755358696, 0.055397436022758484, 0.34486904740333557], [0.20355910062789917, 0.16728805005550385, 0.19497032463550568, 0.08868654072284698, 0.0139248576015234, 0.01777929626405239, 0.08256833255290985, 0.34233465790748596], [0.10544802248477936, 0.15035676956176758, 0.1520300656557083, 0.531804084777832, 0.009216900914907455, 0.024332787841558456, 0.02311648055911064, 0.11480606347322464], [0.015713421627879143, 0.015127059072256088, 0.06172292307019234, 0.8183075785636902, 0.07884342223405838, 0.02836373820900917, 0.015253271907567978, 0.0777798593044281], [0.13133464753627777, 0.00995033048093319, 0.11228027939796448, 0.18637247383594513, 0.0, 0.07823849469423294, 0.05679725110530853, 0.4586808383464813], [0.8387285470962524, 0.009821096435189247, 0.003736441256478429, 0.005492506083101034, 0.003243011888116598, 0.0076573374681174755, 0.010992687195539474, 0.2314395010471344]]], [[[0.16866114735603333, 0.0, 0.005290097091346979, 0.0013467303942888975, 0.0026180336717516184, 0.00911332480609417, 0.018750717863440514, 0.9014321565628052], [0.0, 0.027140317484736443, 0.334408164024353, 0.0, 0.019702279940247536, 0.038160182535648346, 0.0, 0.3441942036151886], [0.006368051283061504, 0.0, 0.07717549800872803, 0.027980586513876915, 0.007145908661186695, 0.016764983534812927, 0.3858262896537781, 0.5798464417457581], [0.02101881615817547, 0.042474374175071716, 0.11458901315927505, 0.04689941182732582, 0.05640533193945885, 0.08673546463251114, 0.09049233049154282, 0.6524965167045593], [0.005848221015185118, 0.009219755418598652, 0.09266865998506546, 0.762161374092102, 0.003582228673622012, 0.012977633625268936, 0.06706167012453079, 0.1575915813446045], [0.008504579775035381, 0.015323862433433533, 0.5060452818870544, 0.14244523644447327, 0.047839440405368805, 0.03469773381948471, 0.1419091522693634, 0.21434591710567474], [0.06845222413539886, 0.11691685765981674, 0.05368952825665474, 0.036843717098236084, 0.04175141081213951, 0.1457565575838089, 0.030933324247598648, 0.6167675852775574], [0.12957501411437988, 0.0029028512071818113, 0.0003698508662637323, 0.0009436809341423213, 0.00033369718585163355, 0.0029704810585826635, 0.025457115843892097, 0.9485585689544678]], [[0.7011572122573853, 0.013270668685436249, 0.14139148592948914, 0.04433555528521538, 0.006725509651005268, 0.041076187044382095, 0.0, 0.0016475534066557884], [0.0030483498703688383, 0.3520953357219696, 0.10565812885761261, 0.1167643740773201, 0.0, 0.14897722005844116, 0.17544355988502502, 0.14609235525131226], [0.0035934438928961754, 0.34435614943504333, 0.04215285927057266, 0.10815124958753586, 0.055588170886039734, 0.2545468509197235, 0.007334064692258835, 0.2953883409500122], [0.0004490006249397993, 0.35665857791900635, 0.060672320425510406, 0.06873635202646255, 0.07406661659479141, 0.1470814049243927, 0.01596646197140217, 0.38748037815093994], [0.005932689644396305, 0.5895274877548218, 0.0, 0.04330563545227051, 0.07153767347335815, 0.0, 0.01740831695497036, 0.17169466614723206], [0.002591923112049699, 0.5040575861930847, 0.09019316732883453, 0.0727415457367897, 0.0, 0.1444537192583084, 0.027289457619190216, 0.17756889760494232], [0.0, 0.08961865305900574, 0.20599614083766937, 0.2267376333475113, 0.09817297011613846, 0.17044608294963837, 0.0, 0.24379666149616241], [0.07677202671766281, 0.04632763937115669, 0.03543170541524887, 0.11686690896749496, 0.034741099923849106, 0.05494881421327591, 0.026447005569934845, 0.7195760607719421]], [[0.03695973753929138, 0.0, 0.1526675522327423, 0.0, 0.0445873886346817, 0.09511026740074158, 0.30257448554039, 0.05523743852972984], [0.3944321274757385, 0.0669889822602272, 0.03281431272625923, 0.03913009911775589, 0.058613333851099014, 0.06458738446235657, 0.0, 0.33791518211364746], [0.08852483332157135, 0.02506001852452755, 0.001186617068015039, 0.006648798938840628, 0.03997347503900528, 0.02273620292544365, 0.017153574153780937, 0.9098275899887085], [0.06692266464233398, 0.036891281604766846, 0.037405289709568024, 0.04097607359290123, 0.07613815367221832, 0.030134281143546104, 0.010629610158503056, 0.8120138049125671], [0.0, 0.03815436735749245, 0.01565537042915821, 0.010378881357610226, 0.06629624962806702, 0.03249436989426613, 0.011529390700161457, 0.8521720767021179], [0.3132810890674591, 0.04738721624016762, 0.022280683740973473, 0.013434967957437038, 0.061611101031303406, 0.0, 0.04239228367805481, 0.5773518681526184], [0.1280975490808487, 0.0, 0.05018185079097748, 0.011541583575308323, 0.04576690122485161, 0.0, 0.002000326057896018, 0.8475863933563232], [0.1051982194185257, 0.015151260420680046, 0.016042083501815796, 0.0036022874992340803, 0.01003654021769762, 0.016108034178614616, 0.0, 0.9384929537773132]], [[0.031058628112077713, 0.011462290771305561, 0.035806797444820404, 0.019426636397838593, 0.012188605964183807, 0.03358466178178787, 0.07341399043798447, 0.8941695690155029], [0.05610528588294983, 0.6112414002418518, 0.003184530884027481, 0.0006168477702885866, 0.0016857277369126678, 0.07807104289531708, 0.002233666367828846, 0.35797274112701416], [0.011204899288713932, 6.656258483417332e-05, 0.4743708074092865, 0.0010063970694318414, 1.962016904144548e-05, 0.0003380811831448227, 0.0007505866815336049, 0.6233542561531067], [0.0194878950715065, 8.07725518825464e-05, 0.0008798951166681945, 0.4376039206981659, 0.0005178339197300375, 0.0, 0.0031355784740298986, 0.6490370631217957], [0.0, 0.00025081250350922346, 3.594510781113058e-05, 0.0012569332029670477, 0.6425840854644775, 0.00020451776799745858, 9.303921979153529e-05, 0.437576562166214], [0.07160903513431549, 0.09321653842926025, 0.008991319686174393, 0.008098548278212547, 0.0, 0.1253831535577774, 0.001669874181970954, 0.7993386387825012], [0.03714492544531822, 0.0008793282322585583, 0.024071145802736282, 0.0022446680814027786, 4.8323145165340975e-05, 0.0004684340092353523, 0.5358105301856995, 0.5104438066482544], [0.006375371944159269, 0.0009703673422336578, 0.0014919161330908537, 0.0020081112161278725, 0.0004966399865224957, 0.0009106738143600523, 0.0008074138895608485, 1.0980507135391235]], [[0.0, 0.019739670678973198, 0.008662744425237179, 0.06033777818083763, 0.013412662781774998, 0.024884013459086418, 0.032758548855781555, 0.5869936943054199], [0.05326145887374878, 0.058291155844926834, 0.23343095183372498, 0.33835750818252563, 0.0881430134177208, 0.04195280000567436, 0.07233830541372299, 0.22533604502677917], [0.06704086810350418, 0.05492466315627098, 0.018466070294380188, 0.17262588441371918, 0.09221360832452774, 0.0, 0.03779909759759903, 0.5907422304153442], [0.018726510927081108, 0.06125526875257492, 0.010825303383171558, 0.08682111650705338, 0.18268634378910065, 0.0, 0.012920268811285496, 0.5698764324188232], [0.011416122317314148, 0.04889627918601036, 0.018876858055591583, 0.33090895414352417, 0.07675091177225113, 0.07720237970352173, 0.03322884067893028, 0.5138307213783264], [0.019207945093512535, 0.044011760503053665, 0.09932462871074677, 0.36572927236557007, 0.09840872138738632, 0.07343399524688721, 0.06658380478620529, 0.3444110155105591], [0.018355775624513626, 0.03418224677443504, 0.030893485993146896, 0.10384828597307205, 0.06539168953895569, 0.054670851677656174, 0.01718158647418022, 0.7865873575210571], [0.0012827444588765502, 0.00037796510150656104, 0.0005813276511617005, 0.002218532608821988, 0.0006179711781442165, 0.0005513096693903208, 0.0, 1.1042685508728027]], [[0.04043864831328392, 0.003691112855449319, 0.009224586188793182, 0.011227263137698174, 0.008227521553635597, 0.0037063476629555225, 0.012944655492901802, 1.021651029586792], [0.02628936991095543, 0.011761194095015526, 0.63937908411026, 0.22924134135246277, 0.0653437152504921, 0.013427527621388435, 0.03599485382437706, 0.08967410773038864], [0.0, 0.006232967600226402, 0.06196673586964607, 0.027740895748138428, 0.10153628885746002, 0.07206486910581589, 0.04905330389738083, 0.767322838306427], [0.036269236356019974, 0.0, 0.005843936465680599, 0.040868427604436874, 0.35866838693618774, 0.16198691725730896, 0.2456692010164261, 0.0], [0.17930608987808228, 0.002728012390434742, 0.0, 0.011820788495242596, 0.007992742583155632, 0.0, 0.7464528679847717, 0.09683500230312347], [0.0, 0.002074524527415633, 0.015411424450576305, 0.009967774152755737, 0.03506442904472351, 0.0, 0.2057574987411499, 0.6482490301132202], [0.011562362313270569, 0.0, 0.00014961458509787917, 0.0019487730460241437, 0.0049968138337135315, 0.0, 0.0006230907165445387, 1.0904115438461304], [0.0070754773914813995, 0.0004056763427797705, 0.0009011838119477034, 0.001371315331198275, 0.0015781739493831992, 0.0008059026440605521, 0.0018958195578306913, 1.0970776081085205]], [[0.028924256563186646, 0.003421788802370429, 0.007084385026246309, 0.012009596452116966, 0.0036964972969144583, 0.007355451118201017, 0.03398223966360092, 1.0146369934082031], [0.01246646512299776, 0.026569155976176262, 0.04391928389668465, 0.06583300977945328, 0.03457356244325638, 0.04294249787926674, 0.16704897582530975, 0.0], [0.017774254083633423, 0.0, 0.06720093637704849, 0.159634068608284, 0.05273763835430145, 0.07371215522289276, 0.22363121807575226, 0.4301724433898926], [0.029967840760946274, 0.13071294128894806, 0.031429145485162735, 0.03266499191522598, 0.03735563904047012, 0.18044966459274292, 0.11616696417331696, 0.5523639917373657], [0.04246767982840538, 0.06406980752944946, 0.0615103505551815, 0.20994818210601807, 0.014901732094585896, 0.0622461773455143, 0.10798964649438858, 0.5479776263237], [0.0, 0.032229892909526825, 0.02571015991270542, 0.05928179621696472, 0.06434699147939682, 0.049786198884248734, 0.02804107964038849, 0.8410927057266235], [0.0, 0.08639773726463318, 0.016276489943265915, 0.1515582948923111, 0.07818454504013062, 0.19734379649162292, 0.009767291136085987, 0.5452720522880554], [0.004297227133065462, 0.0014205826446413994, 0.0021497905254364014, 0.0014733202988281846, 0.00048421407700516284, 0.0, 0.0, 1.0977646112442017]], [[0.04784918203949928, 0.005513072945177555, 0.007919729687273502, 0.0, 0.011831040494143963, 0.021519677713513374, 0.015236343257129192, 0.9906492233276367], [0.0527399443089962, 0.02960212342441082, 0.06613616645336151, 0.06770212203264236, 0.07907340675592422, 0.002522533293813467, 0.038443051278591156, 0.7748917937278748], [0.03194599226117134, 0.0, 0.019581502303481102, 0.0, 0.007125763688236475, 0.001633556210435927, 0.004842711612582207, 0.9596282243728638], [0.03071376122534275, 0.0, 0.05608881637454033, 0.02579442784190178, 0.006156750023365021, 0.0, 0.019288528710603714, 0.9670116305351257], [0.07398766279220581, 0.0024387259036302567, 0.020778167992830276, 0.0, 0.004792568273842335, 0.0, 0.07792285084724426, 0.23362046480178833], [0.05328737199306488, 0.0013387325452640653, 0.022635215893387794, 0.09408742934465408, 0.17867253720760345, 0.023379895836114883, 0.07608799636363983, 0.6616220474243164], [0.13861677050590515, 0.024235349148511887, 0.002003028988838196, 0.0163296889513731, 0.032396163791418076, 0.2881816625595093, 0.0, 0.5693026185035706], [0.0073952148668468, 0.0024125827476382256, 0.0, 0.0017111116321757436, 0.003188992151990533, 0.0, 0.001647505909204483, 1.089280128479004]], [[0.18639224767684937, 0.008834500797092915, 0.01783447153866291, 0.012186715379357338, 0.01682352088391781, 0.008519007824361324, 0.007892308756709099, 0.8526284098625183], [0.12541455030441284, 0.0, 0.0, 0.10004440695047379, 0.12647084891796112, 0.22184723615646362, 0.17456001043319702, 0.0], [0.07128147780895233, 0.08720780909061432, 0.01690526120364666, 0.049327701330184937, 0.015570863150060177, 0.08142995834350586, 0.010092555545270443, 0.7792954444885254], [0.0934072732925415, 0.0, 0.021353665739297867, 0.08943315595388412, 0.0, 0.03730593994259834, 0.09837435185909271, 0.6977547407150269], [0.11132983863353729, 0.022048400714993477, 0.006592221092432737, 0.11179035156965256, 0.014404909685254097, 0.04273479804396629, 0.031264957040548325, 0.7709456086158752], [0.06312105804681778, 0.020515697076916695, 0.0, 0.033173445612192154, 0.01935948245227337, 0.05958054959774017, 0.030589427798986435, 0.8767483830451965], [0.01897512562572956, 0.014595418237149715, 0.005497323349118233, 0.006620870437473059, 0.00741924624890089, 0.006316539831459522, 0.0003571407578419894, 0.0], [0.010282270610332489, 0.004610506352037191, 0.016255149617791176, 0.005891272332519293, 0.003973247949033976, 0.004623928107321262, 0.011914308182895184, 1.053560495376587]], [[0.05325213074684143, 0.04792162403464317, 0.05827627703547478, 0.05759964510798454, 0.08653750270605087, 0.05072132125496864, 0.011177794076502323, 0.745624840259552], [0.29488348960876465, 0.11738268285989761, 0.015995971858501434, 0.0347878560423851, 0.006371650379151106, 0.11643902212381363, 0.03650376573204994, 0.48874664306640625], [0.2106236219406128, 0.007799352053552866, 0.0024955125991255045, 0.034777507185935974, 0.015636412426829338, 0.013877327553927898, 0.034522175788879395, 0.0], [0.2279864251613617, 0.02456185221672058, 0.11480610817670822, 0.11834564059972763, 0.03539520502090454, 0.07078734040260315, 0.0, 0.41421958804130554], [0.12939755618572235, 0.011742650531232357, 0.02633879892528057, 0.04999806359410286, 0.12449406832456589, 0.08671853691339493, 0.15222817659378052, 0.5301933288574219], [0.0, 0.09544957429170609, 0.011505215428769588, 0.10224051773548126, 0.06115352734923363, 0.12715506553649902, 0.0, 0.46539556980133057], [0.11170598119497299, 0.09963066130876541, 0.04556047171354294, 0.06685546785593033, 0.04290967062115669, 0.02497631497681141, 0.015210086479783058, 0.7042624950408936], [0.03347165510058403, 0.0, 0.004786862060427666, 0.005586393643170595, 0.010405144654214382, 0.005234813783317804, 0.010845751501619816, 1.0367116928100586]], [[0.0349101684987545, 0.0, 0.0, 0.01834287866950035, 0.011742684058845043, 0.018981244415044785, 0.027115149423480034, 0.0], [0.08907760679721832, 0.0716388151049614, 0.06386745721101761, 0.049730006605386734, 0.009987767785787582, 0.007062308490276337, 0.041185975074768066, 0.7785612940788269], [0.08609307557344437, 0.08334456384181976, 0.028222139924764633, 0.013998787850141525, 0.009359882213175297, 0.001885459292680025, 0.036389634013175964, 0.8518176078796387], [0.05927494540810585, 0.18999101221561432, 0.466837614774704, 0.07614155858755112, 0.025664206594228745, 0.0027547269128262997, 0.02241673693060875, 0.26803046464920044], [0.05206512659788132, 0.07444740831851959, 0.47742316126823425, 0.3173101246356964, 0.02437315508723259, 0.011017068289220333, 0.050674211233854294, 0.10380090773105621], [0.1292065531015396, 0.09441564977169037, 0.1415778547525406, 0.36411336064338684, 0.05053357407450676, 0.026938721537590027, 0.06751716136932373, 0.23680825531482697], [0.0412127822637558, 0.0773094892501831, 0.16888730227947235, 0.40306538343429565, 0.056690335273742676, 0.06424345076084137, 0.008093578740954399, 0.29160892963409424], [0.0114324064925313, 0.004444463178515434, 0.003704229835420847, 0.002442082390189171, 0.002435103990137577, 0.00625665532425046, 0.0, 0.0]], [[0.1995191127061844, 0.13959893584251404, 0.031752798706293106, 0.033318910747766495, 0.009771857410669327, 0.004925943445414305, 0.06465166807174683, 0.6275720596313477], [0.13163994252681732, 0.021860435605049133, 0.6516090631484985, 0.013141267001628876, 0.0011426853016018867, 0.00048511780914850533, 0.0521991103887558, 0.239033505320549], [0.04403240233659744, 0.005698030348867178, 0.007846041582524776, 0.0, 0.02322588674724102, 0.008151903748512268, 0.01635672338306904, 0.7804604768753052], [0.017227862030267715, 0.0015061466256156564, 0.0018768480513244867, 0.006888912990689278, 0.0, 0.06743545085191727, 0.0016567811835557222, 0.0], [0.013443400152027607, 0.0009678639471530914, 0.003973788116127253, 0.00025667715817689896, 0.0, 0.7179543972015381, 0.1806797832250595, 0.18742994964122772], [0.049858130514621735, 0.000807152537163347, 0.003190090646967292, 0.00027828142629005015, 0.0, 0.019791198894381523, 0.816778302192688, 0.2152831256389618], [0.005307940766215324, 0.008214367553591728, 0.0009500231826677918, 0.0004467065155040473, 0.0001140744352596812, 0.002286647679284215, 0.0, 1.0926144123077393], [0.019769007340073586, 0.01259659230709076, 0.006271149031817913, 0.011376742273569107, 0.006848551332950592, 0.00985697191208601, 0.007859093137085438, 1.0365331172943115]]], [[[0.06750671565532684, 0.09089003503322601, 0.06768175959587097, 0.0684664249420166, 0.0, 0.01936911605298519, 0.03757846727967262, 0.730368971824646], [0.06653077155351639, 0.03565323352813721, 0.36726799607276917, 0.15895558893680573, 0.0, 0.011407383717596531, 0.0, 0.37025022506713867], [0.043277960270643234, 0.01744312420487404, 0.03534310311079025, 0.06028229743242264, 0.08132171630859375, 0.05434639751911163, 0.06977055221796036, 0.0], [0.027649495750665665, 0.004111488349735737, 0.0448409803211689, 0.016447558999061584, 0.033829860389232635, 0.4153023958206177, 0.06821831315755844, 0.0], [0.006658707745373249, 0.000488867808599025, 0.012951528653502464, 0.005936228204518557, 0.029701659455895424, 0.7132600545883179, 0.15834729373455048, 0.18376675248146057], [0.03024972788989544, 0.0020961479749530554, 0.010345176793634892, 0.00901525653898716, 0.07274191826581955, 0.11327414959669113, 0.4441215991973877, 0.42926719784736633], [0.061417292803525925, 0.030966851860284805, 0.012012828141450882, 0.03669058904051781, 0.05503317713737488, 0.06240854039788246, 0.033388640731573105, 0.8191933035850525], [0.02488795854151249, 0.004251862410455942, 0.010088136419653893, 0.007252820767462254, 0.0046714795753359795, 0.005941631272435188, 0.01615832932293415, 0.0]], [[0.027889108285307884, 0.0027468784246593714, 0.004996886942535639, 0.005348279606550932, 0.0021655315067619085, 0.048841651529073715, 0.016929209232330322, 1.002193570137024], [0.0, 0.01679961569607258, 0.007430561818182468, 0.0, 0.001959298737347126, 0.007014432922005653, 0.007564912550151348, 1.0505226850509644], [0.007535863202065229, 0.05209130421280861, 0.006065303925424814, 0.008804688230156898, 0.044267166405916214, 0.0035749811213463545, 0.0015577333979308605, 0.9872140884399414], [0.013166926801204681, 0.004631860181689262, 0.02647121623158455, 0.009544960223138332, 0.001707698218524456, 0.007645987439900637, 0.0, 1.0459237098693848], [0.06011105701327324, 0.005678877700120211, 0.004710827954113483, 0.0, 0.02044522576034069, 0.13141973316669464, 0.0045942035503685474, 0.1611611396074295], [0.024620862677693367, 0.001483420142903924, 0.006799002643674612, 0.07059362530708313, 0.32679682970046997, 0.02261611819267273, 0.0, 0.0], [0.021419888362288475, 0.0017898653168231249, 0.005943835247308016, 0.017867721617221832, 0.0046638320200145245, 0.5014678835868835, 0.07038353383541107, 0.48757460713386536], [0.0, 0.0008170352084562182, 0.0, 0.0018526067724451423, 0.0013100149808451533, 0.005380570888519287, 0.0009080150630325079, 1.0923349857330322]], [[0.10130685567855835, 0.05250097066164017, 0.012172400020062923, 0.009817183949053288, 0.02102603018283844, 0.01112294476479292, 0.03455672040581703, 0.8686080574989319], [0.10538125783205032, 0.0, 0.11932709068059921, 0.0910930410027504, 0.07852741330862045, 0.10711604356765747, 0.17555563151836395, 0.23862086236476898], [0.05741991475224495, 0.09061125665903091, 0.024576373398303986, 0.02443045750260353, 0.03263447433710098, 0.028115078806877136, 0.023755092173814774, 0.82956862449646], [0.03456892445683479, 0.2095206081867218, 0.07413473725318909, 0.0609179250895977, 0.0, 0.09088855981826782, 0.06033266335725784, 0.5303264260292053], [0.0, 0.09998509287834167, 0.10829070210456848, 0.1042373776435852, 0.0, 0.06610332429409027, 0.06920954585075378, 0.5819804668426514], [0.0, 0.1936151683330536, 0.08679287880659103, 0.07706819474697113, 0.06044294685125351, 0.1753147691488266, 0.050242770463228226, 0.4306607246398926], [0.22731994092464447, 0.33353471755981445, 0.053407784551382065, 0.0, 0.03336324542760849, 0.07800616323947906, 0.007586425635963678, 0.36218029260635376], [0.045178499072790146, 0.008804644457995892, 0.0019118312047794461, 0.0007776826387271285, 0.0024385422002524137, 0.0, 0.001199058722704649, 1.0488616228103638]], [[0.014554452151060104, 0.11876720935106277, 0.1665920466184616, 0.0, 0.05142028257250786, 0.0, 0.060352157801389694, 0.39458948373794556], [0.030281325802206993, 0.047111038118600845, 0.05389929562807083, 0.0700555369257927, 0.01847052201628685, 0.027628662064671516, 0.03228987380862236, 0.8313749432563782], [0.060395412147045135, 0.05626240745186806, 0.03027925454080105, 0.05155787989497185, 0.008569377474486828, 0.006806846708059311, 0.019486673176288605, 0.8777532577514648], [0.029171891510486603, 0.14147686958312988, 0.08904674649238586, 0.054735392332077026, 0.02558060735464096, 0.03251936286687851, 0.0, 0.6559486985206604], [0.07819616794586182, 0.11289733648300171, 0.12117280811071396, 0.2998078763484955, 0.008858194574713707, 0.07712151110172272, 0.11855758726596832, 0.2944997549057007], [0.12602460384368896, 0.12636414170265198, 0.09332647919654846, 0.04237464442849159, 0.02085116133093834, 0.03657974302768707, 0.10931727290153503, 0.5562731623649597], [0.11072190850973129, 0.16163815557956696, 0.08353544026613235, 0.17050214111804962, 0.0979476198554039, 0.07959054410457611, 0.05158069357275963, 0.3555946350097656], [0.009544545784592628, 0.0, 0.005010668188333511, 0.004027163609862328, 0.0022184259723871946, 0.003937838599085808, 0.00878889299929142, 1.075282335281372]], [[0.03484685719013214, 0.13794919848442078, 0.13427262008190155, 0.14015555381774902, 0.05312547832727432, 0.025897745043039322, 0.06048488989472389, 0.5243789553642273], [0.2429424673318863, 0.18519914150238037, 0.08220416307449341, 0.0552690252661705, 0.013847792521119118, 0.0, 0.11948701739311218, 0.37162426114082336], [0.09293410927057266, 0.15012367069721222, 0.011539247818291187, 0.020723404362797737, 0.0, 0.01882164366543293, 0.21677613258361816, 0.5942825078964233], [0.16257506608963013, 0.03387448564171791, 0.019396822899580002, 0.04197423905134201, 0.025245314463973045, 0.048708003014326096, 0.08177360147237778, 0.6975635886192322], [0.06404869258403778, 0.0, 0.0302140973508358, 0.13115359842777252, 0.0, 0.07377956062555313, 0.30851760506629944, 0.4431917667388916], [0.0, 0.04829893633723259, 0.021637577563524246, 0.03526589274406433, 0.0, 0.0, 0.20389816164970398, 0.5258223414421082], [0.048040661960840225, 0.052421968430280685, 0.05837271735072136, 0.11360358446836472, 0.12641257047653198, 0.06530001759529114, 0.012094860896468163, 0.6348648071289062], [0.016167884692549706, 0.0037954829167574644, 0.008936437778174877, 0.0, 0.00852420087903738, 0.008764210157096386, 0.030450688675045967, 1.0256167650222778]], [[0.03791998326778412, 0.012920007109642029, 0.005465108435600996, 0.009854542091488838, 0.0037001047749072313, 0.019951142370700836, 0.037561483681201935, 0.0], [0.06667245924472809, 0.4117766320705414, 0.04553930461406708, 0.016832267865538597, 0.012744778767228127, 0.06534399837255478, 0.019060730934143066, 0.4731409251689911], [0.05009913071990013, 0.029530350118875504, 0.0, 0.0029291987884789705, 0.0008895341889001429, 0.00583637086674571, 0.0035861770156770945, 1.0042670965194702], [0.04432355612516403, 0.0014691840624436736, 0.004831475671380758, 0.0255524180829525, 0.010651128366589546, 0.012524668127298355, 0.06093405559659004, 0.9508247375488281], [0.07647705078125, 0.0015625727828592062, 0.005097388289868832, 0.0, 0.05923272296786308, 0.027101358398795128, 0.029944315552711487, 0.9039431810379028], [0.04719516634941101, 0.0076768044382333755, 0.010875179432332516, 0.008193143643438816, 0.01990625262260437, 0.13156923651695251, 0.02156970091164112, 0.8641257286071777], [0.03533409535884857, 0.011335431598126888, 0.002954646944999695, 0.018158458173274994, 0.00825490802526474, 0.0840873047709465, 0.20520761609077454, 0.7457787990570068], [0.009631351567804813, 0.0008300363551825285, 0.002248733537271619, 0.00262460601516068, 0.0005498885875567794, 0.001937752473168075, 0.004214313812553883, 1.0890744924545288]], [[0.027582870796322823, 0.0074981991201639175, 0.006657959893345833, 0.009049253538250923, 0.011421243660151958, 0.06858909130096436, 0.0, 0.9696837663650513], [0.019877344369888306, 0.007304769475013018, 0.0039122262969613075, 0.007409754209220409, 0.005278094671666622, 0.004681902937591076, 0.0009702231036499143, 1.0616767406463623], [0.0160466767847538, 0.10446465015411377, 0.0, 0.004489379469305277, 0.0022030137479305267, 0.003262071404606104, 0.0008982428698800504, 0.9759716391563416], [0.020915981382131577, 0.009000131860375404, 0.10006164759397507, 0.02721799910068512, 0.005134600680321455, 0.009015250951051712, 0.004323710221797228, 0.9354418516159058], [0.016189957037568092, 0.0023253215476870537, 0.013592854142189026, 0.0, 0.00026380704366602004, 0.0, 0.003975601401180029, 0.03982241079211235], [0.06440944969654083, 0.004847113508731127, 0.014591830782592297, 0.0, 0.01506589725613594, 0.0398724265396595, 0.007475891150534153, 0.8847178816795349], [0.02667597122490406, 0.0017783072544261813, 0.0016188040608540177, 0.00841171108186245, 0.07606443762779236, 0.5339773893356323, 0.0, 0.4558221399784088], [0.02578255720436573, 0.0, 0.0047335135750472546, 0.003362152725458145, 0.007892808876931667, 0.03583044558763504, 0.008290501311421394, 1.0090315341949463]], [[0.05773011967539787, 0.012106245383620262, 0.038704920560121536, 0.1508575975894928, 0.01432562805712223, 0.04095268249511719, 0.1323777139186859, 0.6640563011169434], [0.027882616966962814, 0.005996251478791237, 0.1333402842283249, 0.16615860164165497, 0.01675467938184738, 0.02722322940826416, 0.03447876498103142, 0.0], [0.005290810018777847, 0.0006778172682970762, 0.0025937657337635756, 0.0033344090916216373, 0.0, 0.00359541573561728, 0.0026582947466522455, 1.0915899276733398], [0.036361489444971085, 0.0033893578220158815, 0.02546088397502899, 0.0, 0.03683462738990784, 0.035241056233644485, 0.0, 0.0], [0.12637652456760406, 0.001112867845222354, 0.011300135403871536, 0.032235633581876755, 0.06495603919029236, 0.04766059294342995, 0.5903976559638977, 0.23707181215286255], [0.057300083339214325, 0.0, 0.015421709977090359, 0.014359072782099247, 0.01483870204538107, 0.04828011244535446, 0.303933709859848, 0.0], [0.00870197732001543, 0.0002678445598576218, 0.0, 0.014433621428906918, 0.0, 0.008988280780613422, 0.004674660973250866, 1.0728899240493774], [0.0049364580772817135, 0.0003015991242136806, 0.0007976575288921595, 0.002290284726768732, 0.0006880928413011134, 0.0, 0.002813653787598014, 0.0]], [[0.07582049816846848, 0.036958251148462296, 0.06243477389216423, 0.08338845521211624, 0.06231425330042839, 0.10101965069770813, 0.043565113097429276, 0.6456101536750793], [0.03518972173333168, 0.06704668700695038, 0.13227498531341553, 0.12673279643058777, 0.06977741420269012, 0.2800079882144928, 0.2747141420841217, 0.12536753714084625], [0.0422394759953022, 0.04563691094517708, 0.08251075446605682, 0.07062701135873795, 0.07542295008897781, 0.2329654097557068, 0.19471979141235352, 0.3669888377189636], [0.02752239629626274, 0.02168574184179306, 0.0599401518702507, 0.02805618941783905, 0.056398168206214905, 0.19769375026226044, 0.38133761286735535, 0.338477224111557], [0.04039490222930908, 0.006798109970986843, 0.02141948603093624, 0.018995439633727074, 0.016273507848381996, 0.030002331361174583, 0.08882948756217957, 0.8883978128433228], [0.019815891981124878, 0.005433513317257166, 0.014083639718592167, 0.016100430861115456, 0.012337105348706245, 0.021316254511475563, 0.04622354358434677, 0.9758007526397705], [0.02798491157591343, 0.006164046004414558, 0.01029231771826744, 0.026916267350316048, 0.042231485247612, 0.0, 0.022463468834757805, 0.0], [0.0, 0.00039429275784641504, 0.0012056113919243217, 0.0008770064450800419, 0.0009578799363225698, 0.0020781224593520164, 0.004612383432686329, 1.0877739191055298]], [[0.0, 0.08955369144678116, 0.09987520426511765, 0.006561443209648132, 0.014181654900312424, 0.0075634075328707695, 0.1658654808998108, 0.0], [0.0, 0.0, 0.9858617186546326, 0.01928888075053692, 0.001116680447012186, 0.0009509220835752785, 0.008050444535911083, 0.07617606222629547], [0.010033356957137585, 0.0014582006260752678, 0.011018247343599796, 0.8544755578041077, 0.0, 0.0020787103567272425, 0.010478860698640347, 0.21331441402435303], [0.024347469210624695, 0.0008352302247658372, 0.0046306634321808815, 0.0, 0.0, 0.05110793933272362, 0.03499086946249008, 0.702183723449707], [0.0012723533436655998, 0.0014245838392525911, 0.09743894636631012, 0.0, 0.008179363794624805, 0.9069554209709167, 0.062240395694971085, 0.03175333887338638], [0.009419497102499008, 0.000421060249209404, 0.0, 0.002573086880147457, 0.0, 0.019887210801243782, 0.9340648055076599, 0.09886057674884796], [0.014501151628792286, 0.000138670060550794, 0.0005101013230159879, 6.50432994007133e-05, 6.753984052920714e-05, 0.0003265563864260912, 0.0007421347545459867, 1.0947599411010742], [0.399928480386734, 0.006563998758792877, 0.01601479761302471, 0.0, 0.008846251294016838, 0.012651443481445312, 0.01665680482983589, 0.6471283435821533]], [[0.028818178921937943, 0.023364601656794548, 0.09641136229038239, 0.055166568607091904, 0.06797022372484207, 0.1284749060869217, 0.19285717606544495, 0.5180481672286987], [0.2707339823246002, 0.046365849673748016, 0.056130632758140564, 0.031484924256801605, 0.011840869672596455, 0.004466669168323278, 0.024391967803239822, 0.6656962037086487], [0.1295703947544098, 0.28955626487731934, 0.0772753655910492, 0.08935873210430145, 0.0, 0.016418015584349632, 0.006116453558206558, 0.4689715802669525], [0.02952711470425129, 0.14696447551250458, 0.4904811382293701, 0.04999871179461479, 0.0, 0.005455185193568468, 0.007952363230288029, 0.0], [0.09241549670696259, 0.030278807505965233, 0.34086090326309204, 0.40825340151786804, 0.013867497444152832, 0.040449321269989014, 0.04304160922765732, 0.1419442594051361], [0.0, 0.003993505146354437, 0.054056622087955475, 0.3240053951740265, 0.2151549905538559, 0.026134870946407318, 0.042121607810258865, 0.4300384521484375], [0.03166479989886284, 0.006542968098074198, 0.011069362051784992, 0.10525327920913696, 0.22193990647792816, 0.6071856021881104, 0.0, 0.11682724207639694], [0.01624288409948349, 0.008085116744041443, 0.0052900309674441814, 0.003955962136387825, 0.01082752738147974, 0.00924235675483942, 0.0, 1.0473062992095947]], [[0.03809477761387825, 0.01024070754647255, 0.00402301037684083, 0.061374712735414505, 0.009539762511849403, 0.011320545338094234, 0.0, 0.8999036550521851], [0.0429886095225811, 0.023415561765432358, 0.018996326252818108, 0.8142083883285522, 0.028672417625784874, 0.04515561833977699, 0.0513358972966671, 0.08633840829133987], [0.06994008272886276, 0.02455817721784115, 0.03690421208739281, 0.30093035101890564, 0.014594364911317825, 0.03328585997223854, 0.04276213422417641, 0.5881360173225403], [0.027762459591031075, 0.0, 0.0022032943088561296, 0.012077266350388527, 0.22654153406620026, 0.0073441737331449986, 0.03930554538965225, 0.7881021499633789], [0.011363212950527668, 0.0029483051039278507, 0.0021626718807965517, 0.0, 0.002319646766409278, 0.0, 0.02069695107638836, 1.060935139656067], [0.01604117453098297, 0.005148901138454676, 0.002224645344540477, 0.002251537051051855, 0.013403530232608318, 0.008691621944308281, 0.030255047604441643, 1.0330947637557983], [0.023463720455765724, 0.005843923892825842, 0.0, 0.0, 0.038343288004398346, 0.007674472872167826, 0.02012757956981659, 1.0018240213394165], [0.014174828305840492, 0.0069814748130738735, 0.0, 0.007643542718142271, 0.010177792981266975, 0.004258177243173122, 0.011605772189795971, 1.0496891736984253]]], [[[0.004936080891638994, 0.7643686532974243, 0.05390902981162071, 0.13176767528057098, 0.023027842864394188, 0.06021792069077492, 0.05809836834669113, 0.014785620383918285], [0.005889741703867912, 0.19874757528305054, 0.07271607220172882, 0.010862324386835098, 0.0019276731181889772, 0.006693665869534016, 0.003774059936404228, 0.8105000853538513], [0.0017811966827139258, 0.05467056483030319, 0.05204181373119354, 0.0, 0.0018575676949694753, 0.008779801428318024, 0.0036652295384556055, 0.9852870106697083], [0.0020600883290171623, 0.017525624483823776, 0.0, 0.04058756306767464, 0.060570817440748215, 0.03693849965929985, 0.01630243845283985, 0.9219750761985779], [0.0, 0.008834651671350002, 0.007074941415339708, 0.011422291398048401, 0.04201526567339897, 0.03160401061177254, 0.0, 0.9942795634269714], [0.004178056959062815, 0.024727385491132736, 0.011394883506000042, 0.00568855507299304, 0.016155622899532318, 0.15234196186065674, 0.05104554072022438, 0.8455790877342224], [0.001977217383682728, 0.0, 0.007432956714183092, 0.012210843153297901, 0.011825948022305965, 0.05557969957590103, 0.0, 0.9326335191726685], [0.004813623148947954, 0.002050838666036725, 0.0028577980119735003, 0.0, 0.0009138399036601186, 0.0025683364365249872, 0.0, 1.0906230211257935]], [[0.04747118055820465, 0.09091852605342865, 0.057320524007081985, 0.1565939038991928, 0.06572885811328888, 0.09650135785341263, 0.44750168919563293, 0.14907513558864594], [0.03784656152129173, 0.03915698453783989, 0.019434722140431404, 0.0, 0.11691676080226898, 0.18340443074703217, 0.4747457504272461, 0.21246379613876343], [0.014765482395887375, 0.0, 0.011673451401293278, 0.01985677145421505, 0.0704093649983406, 0.08479862660169601, 0.08686169236898422, 0.7969552278518677], [0.09001988172531128, 0.14535348117351532, 0.0914061963558197, 0.019926993176341057, 0.026409072801470757, 0.053066693246364594, 0.0847792699933052, 0.6001495718955994], [0.0439513735473156, 0.2155992090702057, 0.11387860029935837, 0.01624210737645626, 0.02515549026429653, 0.03926851972937584, 0.04694727808237076, 0.6100686192512512], [0.06793799996376038, 0.3210931122303009, 0.11516616493463516, 0.030421869829297066, 0.022813769057393074, 0.03970532491803169, 0.04839698597788811, 0.4655758738517761], [0.022503066807985306, 0.3426501750946045, 0.06950254738330841, 0.12675832211971283, 0.06646458059549332, 0.0797041580080986, 0.027150047942996025, 0.3763783872127533], [0.00981273502111435, 0.005779307335615158, 0.006203433033078909, 0.008035932667553425, 0.004501168616116047, 0.007159009110182524, 0.0023575634695589542, 1.067262053489685]], [[0.00841796025633812, 0.1278553158044815, 0.0, 0.12854556739330292, 0.12415051460266113, 0.0918247327208519, 0.2045448124408722, 0.11561868339776993], [0.11495994031429291, 0.05558939278125763, 0.02284425124526024, 0.011869991198182106, 0.00450063357129693, 0.007537013851106167, 0.019053975120186806, 0.8747560381889343], [0.02919449470937252, 0.050991240888834, 0.06503213196992874, 0.02225290611386299, 0.04822181165218353, 0.009541095234453678, 0.007829939015209675, 0.878047525882721], [0.0, 0.026897426694631577, 0.019596967846155167, 0.022953476756811142, 0.03284090757369995, 0.011393769644200802, 0.014917563647031784, 0.0], [0.10593511164188385, 0.14044877886772156, 0.09173830598592758, 0.07536796480417252, 0.04011312499642372, 0.02768254466354847, 0.0, 0.5983343124389648], [0.1868317723274231, 0.18195635080337524, 0.19335494935512543, 0.025150340050458908, 0.013075487688183784, 0.05291515961289406, 0.05802131071686745, 0.3998057544231415], [0.0, 0.017882389947772026, 0.02675054967403412, 0.03798392415046692, 0.01826466992497444, 0.04794837161898613, 0.01670411229133606, 0.0], [0.026323875412344933, 0.0, 0.006331371609121561, 0.010235883295536041, 0.0, 0.012786529958248138, 0.028778493404388428, 1.0049325227737427]], [[0.025479165837168694, 0.002011817181482911, 0.0017153426306322217, 0.003680442227050662, 0.0022559701465070248, 0.020879775285720825, 0.0005916120717301965, 1.0544971227645874], [0.0626101940870285, 0.027659468352794647, 0.016741005703806877, 0.018815111368894577, 0.002283797599375248, 0.002085254527628422, 0.004222240298986435, 0.0], [0.01622152328491211, 0.03875546157360077, 0.026042502373456955, 0.004553449340164661, 0.0, 0.0004530860169325024, 0.0038660727441310883, 1.0102607011795044], [0.003675365587696433, 0.002332885516807437, 0.010725150816142559, 0.019657813012599945, 0.022820554673671722, 0.0, 0.0, 1.0272449254989624], [0.0016217310912907124, 0.002205252181738615, 0.008377602323889732, 0.8091643452644348, 0.03582024201750755, 0.046356044709682465, 0.0026601976715028286, 0.0], [0.002174920402467251, 0.0010326032061129808, 0.012317614629864693, 0.08487585932016373, 0.0, 0.013003538362681866, 0.040075864642858505, 0.29108625650405884], [0.061545390635728836, 0.002931544790044427, 0.021035896614193916, 0.01620393805205822, 0.08535723388195038, 0.035725466907024384, 0.04582197964191437, 0.8424897193908691], [0.07507675886154175, 0.005501085426658392, 0.003696613246574998, 0.007646666839718819, 0.00922137126326561, 0.016225023195147514, 0.004605667199939489, 0.9891380071640015]], [[0.01339767873287201, 0.0, 0.1301930695772171, 0.0632626861333847, 0.1948947161436081, 0.0, 0.017702369019389153, 0.0], [0.010400868952274323, 0.02392352744936943, 0.0775054544210434, 0.039668917655944824, 0.015492366626858711, 0.009102821350097656, 0.0, 0.9188225865364075], [0.0023875494953244925, 0.0, 0.007767207454890013, 0.007476399652659893, 0.004399192985147238, 0.0010410236427560449, 0.0035803501959890127, 1.0745655298233032], [0.0, 0.11342647671699524, 0.25183287262916565, 0.026609180495142937, 0.05883857235312462, 0.005479839630424976, 0.0008175976690836251, 0.0], [0.006563330069184303, 0.06649191677570343, 0.0, 0.6299986839294434, 0.013065454550087452, 0.0, 0.0204872265458107, 0.24374409019947052], [0.015227561816573143, 0.0090888487175107, 0.0, 0.24004897475242615, 0.0829387828707695, 0.03265836462378502, 0.05160675570368767, 0.540566623210907], [0.007838073186576366, 0.04201599955558777, 0.0571712963283062, 0.15446250140666962, 0.1683211773633957, 0.031338613480329514, 0.0038720553275197744, 0.6460914611816406], [0.0031204274855554104, 0.0024022990837693214, 0.007941708900034428, 0.0043940357863903046, 0.007595026399940252, 0.0022421274334192276, 0.0010590155143290758, 1.0823564529418945]], [[0.14215867221355438, 0.059491921216249466, 0.025779113173484802, 0.043766431510448456, 0.0986996442079544, 0.23928652703762054, 0.18637967109680176, 0.31554916501045227], [0.020901838317513466, 0.03146257996559143, 0.2855457365512848, 0.2053665816783905, 0.05795484781265259, 0.0293156448751688, 0.024320559576153755, 0.45624348521232605], [0.008852660655975342, 0.0064443619921803474, 0.005341182462871075, 0.10272248089313507, 0.050103917717933655, 0.017088355496525764, 0.025738311931490898, 0.8948198556900024], [0.023161642253398895, 0.03003750927746296, 0.04322534799575806, 0.05814395472407341, 0.2226732075214386, 0.0, 0.10451717674732208, 0.5589650273323059], [0.02013363502919674, 0.002654958050698042, 0.04249117150902748, 0.5809329152107239, 0.019282527267932892, 0.015417058020830154, 0.22941537201404572, 0.2007836103439331], [0.03057972900569439, 0.0018552446272224188, 0.07767753303050995, 0.15866948664188385, 0.07738758623600006, 0.019762877374887466, 0.41574859619140625, 0.32943016290664673], [0.009348610416054726, 0.001366034266538918, 0.0, 0.00673750089481473, 0.0, 0.0055207847617566586, 0.006862130481749773, 1.051300048828125], [0.0026984941214323044, 0.0007616694201715291, 0.0012263278476893902, 0.0, 0.0020429971627891064, 0.0011717976303771138, 0.0021763015538454056, 1.0988574028015137]], [[0.033192943781614304, 0.3300144672393799, 0.09327252954244614, 0.017096271738409996, 0.010041061788797379, 0.018238617107272148, 0.014677328988909721, 0.5945780277252197], [0.006573177408427, 0.10061328858137131, 0.2494167685508728, 0.09152501076459885, 0.03533566743135452, 0.02114509418606758, 0.0, 0.0], [0.0467953234910965, 0.010550224222242832, 0.007403775118291378, 0.12122976779937744, 0.0, 0.012673137709498405, 0.014454042539000511, 0.8630992770195007], [0.027801288291811943, 0.03617183491587639, 0.0, 0.01429278589785099, 0.20364445447921753, 0.14406821131706238, 0.031579840928316116, 0.0], [0.011311568319797516, 0.0037368827033787966, 0.015125993639230728, 0.007910065352916718, 0.0, 0.22126610577106476, 0.23821941018104553, 0.5743862390518188], [0.0, 0.002463417826220393, 0.004927822854369879, 0.011762600392103195, 0.010229967534542084, 0.013088483363389969, 0.5219666957855225, 0.2879706919193268], [0.014945976436138153, 0.0071533601731061935, 0.0007465279195457697, 0.0015880080172792077, 0.0006562999915331602, 0.004171391483396292, 0.0, 1.075058937072754], [0.011322658509016037, 0.0, 0.00550310080870986, 0.005447917152196169, 0.008847471326589584, 0.0, 0.009376654401421547, 1.0465723276138306]], [[0.03530488908290863, 0.021744070574641228, 0.03939887508749962, 0.0, 0.008492931723594666, 0.018669912591576576, 0.16460496187210083, 0.8075209259986877], [0.012006673030555248, 0.02926633693277836, 0.10971713811159134, 0.03891642019152641, 0.13472546637058258, 0.11699150502681732, 0.5374045372009277, 0.13208311796188354], [0.006010471843183041, 0.013181736692786217, 0.08479147404432297, 0.03776143118739128, 0.06186049431562424, 0.033749792724847794, 0.15489338338375092, 0.7188623547554016], [0.00788778718560934, 0.0, 0.061134546995162964, 0.033297669142484665, 0.06378474831581116, 0.0, 0.18198080360889435, 0.6909973621368408], [0.014888938516378403, 0.030454250052571297, 0.09080711752176285, 0.03268475830554962, 0.07321047782897949, 0.042504820972681046, 0.18215493857860565, 0.6444058418273926], [0.0258181169629097, 0.06817793101072311, 0.2592063546180725, 0.0, 0.0481615848839283, 0.03273937106132507, 0.3939584493637085, 0.0], [0.006055302452296019, 0.026546448469161987, 0.23361672461032867, 0.018635736778378487, 0.03199106454849243, 0.014810535125434399, 0.01930118538439274, 0.7601541876792908], [0.008515546098351479, 0.00674023013561964, 0.00820840522646904, 0.006450548302382231, 0.0, 0.005040585529059172, 0.014353670179843903, 1.055290937423706]], [[0.047238755971193314, 0.05123363807797432, 0.004980392288416624, 0.018115676939487457, 0.029932744801044464, 0.04101298376917839, 0.057776037603616714, 0.8608210682868958], [0.5836673974990845, 0.06016179546713829, 0.020632456988096237, 0.023038484156131744, 0.0, 0.012870353646576405, 0.012299580499529839, 0.3901638984680176], [0.1680411994457245, 0.0897330567240715, 0.056744497269392014, 0.023314403370022774, 0.011664527468383312, 0.018512224778532982, 0.0, 0.7297281622886658], [0.17400075495243073, 0.03539024665951729, 0.008167642168700695, 0.025682760402560234, 0.01256000529974699, 0.0, 0.009352774359285831, 0.8278552293777466], [0.1702444702386856, 0.01913795992732048, 0.0, 0.05133270472288132, 0.1507422924041748, 0.0, 0.03837032616138458, 0.5820934176445007], [0.0, 0.03659328445792198, 0.003948122728615999, 0.01829862967133522, 0.11072326451539993, 0.2292453497648239, 0.038904041051864624, 0.3568630516529083], [0.4363865256309509, 0.0, 0.0020251544192433357, 0.002415027702227235, 0.009431140497326851, 0.03362838178873062, 0.0, 0.5867417454719543], [0.04827561229467392, 0.02527138777077198, 0.04231526330113411, 0.017170686274766922, 0.0, 0.021643538028001785, 0.0, 0.916610062122345]], [[0.03353654965758324, 0.0, 0.00995437428355217, 0.009328887797892094, 0.045210376381874084, 0.02331216260790825, 0.06269654631614685, 0.9051877856254578], [0.21392740309238434, 0.043872982263565063, 0.01664951629936695, 0.009563511237502098, 0.0018525189952924848, 0.0015154907014220953, 0.0332987941801548, 0.7904309630393982], [0.1515280157327652, 0.2699073851108551, 0.06774631887674332, 0.047472890466451645, 0.021087050437927246, 0.009508884511888027, 0.038396067917346954, 0.5054646730422974], [0.11854634433984756, 0.11394816637039185, 0.03422604501247406, 0.029376545920968056, 0.009272068738937378, 0.0, 0.043694205582141876, 0.0], [0.15224768221378326, 0.12690138816833496, 0.07480662316083908, 0.23567701876163483, 0.10469655692577362, 0.05773400515317917, 0.07285277545452118, 0.0], [0.009425757452845573, 0.004191751591861248, 0.018102893605828285, 0.19686013460159302, 0.695774495601654, 0.04433524236083031, 0.09869427978992462, 0.04372652247548103], [0.005057597532868385, 0.004109100438654423, 0.0, 0.08010991662740707, 0.6578766703605652, 0.09295748174190521, 0.1100066602230072, 0.11510239541530609], [0.023618139326572418, 0.017178351059556007, 0.0038075188640505075, 0.012668260373175144, 0.01315443404018879, 0.009150913916528225, 0.017440490424633026, 1.0140931606292725]], [[0.013245608657598495, 0.03209060803055763, 0.0584900863468647, 0.16331754624843597, 0.042420271784067154, 0.04844357818365097, 0.010794054716825485, 0.7423093914985657], [0.004431209061294794, 0.010712596587836742, 0.06293423473834991, 0.0032011219300329685, 0.000521194888278842, 0.0019353596726432443, 0.0026824739761650562, 1.0246930122375488], [0.004329425282776356, 0.017893780022859573, 0.048440102487802505, 0.0073483907617628574, 0.001351017621345818, 0.0, 0.0024149962700903416, 1.0275523662567139], [0.02322123572230339, 0.09197408705949783, 0.05771517753601074, 0.01524487417191267, 0.005937894340604544, 0.0, 0.014923789538443089, 0.8944329619407654], [0.06340920180082321, 0.07412205636501312, 0.1652691513299942, 0.4144055247306824, 0.03335028141736984, 0.05494657903909683, 0.14088697731494904, 0.16472139954566956], [0.054109666496515274, 0.05247114971280098, 0.3147507309913635, 0.0701562687754631, 0.07955332845449448, 0.032655756920576096, 0.14020173251628876, 0.3672124743461609], [0.010699894279241562, 0.0031285493168979883, 0.02511899173259735, 0.024198921397328377, 0.08604197204113007, 0.029339434579014778, 0.024205464869737625, 0.908378005027771], [0.007886046543717384, 0.00966713111847639, 0.009652984328567982, 0.008383655920624733, 0.0059339446015655994, 0.012685630470514297, 0.010529524646699429, 1.0463721752166748]], [[0.007529362570494413, 0.03395593538880348, 0.08753514289855957, 0.054587870836257935, 0.09439525753259659, 0.0, 0.0, 0.23218251764774323], [0.6586962342262268, 0.04136962816119194, 0.0, 0.0028917209710925817, 0.0006934611592441797, 0.0004726404440589249, 0.005376251880079508, 0.3988713324069977], [0.06903587281703949, 0.8018301725387573, 0.02360295131802559, 0.0054618376307189465, 0.00082239048788324, 0.0029887082055211067, 0.0, 0.1933230757713318], [0.01699231006205082, 0.006660211365669966, 0.915538489818573, 0.029369937255978584, 0.004178147297352552, 0.0027098264545202255, 0.003410780569538474, 0.13225151598453522], [0.006080111488699913, 0.0012552740518003702, 0.037714891135692596, 1.0422980785369873, 0.004592488054186106, 0.004340858664363623, 0.003617749083787203, 0.011211610399186611], [0.04088262841105461, 0.008494089357554913, 0.008459524251520634, 0.01363164372742176, 0.3435688316822052, 0.04730667546391487, 0.0, 0.6171925663948059], [0.0046563902869820595, 0.004612274933606386, 0.0014354611048474908, 0.009167615324258804, 0.014937875792384148, 0.6533169150352478, 0.020075084641575813, 0.0], [0.0, 0.0, 0.009292904287576675, 0.006860840599983931, 0.0, 0.02844281867146492, 0.01369166374206543, 1.0194692611694336]]], [[[0.0017612747615203261, 0.25845304131507874, 0.014729844406247139, 0.16707812249660492, 0.03045506961643696, 0.04693305864930153, 0.018691401928663254, 0.5730093717575073], [0.010487365536391735, 0.0, 0.007195852696895599, 0.0, 0.01907784305512905, 0.03779451176524162, 0.0, 0.8738520741462708], [0.017178315669298172, 0.0, 0.017424456775188446, 0.0, 0.013088129460811615, 0.02289322391152382, 0.018670879304409027, 0.6463461518287659], [0.03140443563461304, 0.3198310434818268, 0.012041635811328888, 0.018190938979387283, 0.013817962259054184, 0.027271095663309097, 0.04438791796565056, 0.6441662311553955], [0.031169846653938293, 0.6776411533355713, 0.02236034907400608, 0.11266864836215973, 0.0, 0.01923852041363716, 0.050096750259399414, 0.18606460094451904], [0.01789538562297821, 0.5044969320297241, 0.009492063894867897, 0.22452031075954437, 0.018519088625907898, 0.018994150683283806, 0.06438937038183212, 0.2528039515018463], [0.006724142003804445, 0.23015446960926056, 0.0029518939554691315, 0.06826828420162201, 0.015515363775193691, 0.026678042486310005, 0.009572622366249561, 0.7512463927268982], [0.01438314188271761, 0.021484430879354477, 0.0, 0.008615905418992043, 0.004559173248708248, 0.008585920557379723, 0.012458490207791328, 1.0393450260162354]], [[0.11098472028970718, 0.12118224799633026, 0.05840034782886505, 0.19599099457263947, 0.03348055109381676, 0.055844735354185104, 0.058901187032461166, 0.4763263761997223], [0.024653062224388123, 0.11574236303567886, 0.04129757359623909, 0.4067370891571045, 0.12861540913581848, 0.1706668883562088, 0.07464005798101425, 0.14875882863998413], [0.027123989537358284, 0.044133711606264114, 0.013819309882819653, 0.1614193469285965, 0.1207863837480545, 0.06361011415719986, 0.024156169965863228, 0.6560620665550232], [0.02071949653327465, 0.03806927055120468, 0.015104422345757484, 0.06287785619497299, 0.15404973924160004, 0.0, 0.18391801416873932, 0.5167739987373352], [0.005544055253267288, 0.006019344553351402, 0.018066365271806717, 0.01354860421270132, 0.0, 0.0565670020878315, 0.4783638119697571, 0.5132474303245544], [0.0069855316542088985, 0.009333519265055656, 0.007783735636621714, 0.008512280881404877, 0.006264010909944773, 0.017845889553427696, 0.15595704317092896, 0.8984291553497314], [0.019421882927417755, 0.0, 0.005863856989890337, 0.02341277524828911, 0.016363374888896942, 0.018692314624786377, 0.024331487715244293, 0.977266252040863], [0.006027371622622013, 0.00496124429628253, 0.0016584331169724464, 0.008909197524189949, 0.0050005982629954815, 0.005000036209821701, 0.006002695765346289, 1.0735517740249634]], [[0.05630882456898689, 0.3230934143066406, 0.0, 0.013965437188744545, 0.0, 0.032347992062568665, 0.009443789720535278, 0.6379159092903137], [0.021196680143475533, 0.12810198962688446, 0.24959729611873627, 0.34383323788642883, 0.0519825741648674, 0.02585926465690136, 0.01430219504982233, 0.27623793482780457], [0.04298979416489601, 0.04908101633191109, 0.01956494152545929, 0.4779109060764313, 0.0, 0.05758680775761604, 0.04526010900735855, 0.33065512776374817], [0.02366616390645504, 0.04567672312259674, 0.013713953085243702, 0.053002968430519104, 0.18713738024234772, 0.0, 0.016634466126561165, 0.6136294603347778], [0.012698533944785595, 0.010018127970397472, 0.0013354604598134756, 0.007598413620144129, 0.029521020129323006, 0.1836952120065689, 0.0, 0.825639009475708], [0.017365282401442528, 0.008337956853210926, 0.009420633316040039, 0.02065962925553322, 0.024960894137620926, 0.014302540570497513, 0.6689885258674622, 0.34707579016685486], [0.03388972207903862, 0.0, 0.0022514304146170616, 0.021435223519802094, 0.0, 0.056503571569919586, 0.0, 0.7938417196273804], [0.0, 0.0, 0.0, 0.017325513064861298, 0.0, 0.019544243812561035, 0.015039016492664814, 1.0010528564453125]], [[0.029411738738417625, 0.005084414966404438, 0.0007532922318205237, 0.002142991404980421, 0.0029161558486521244, 0.00652692886069417, 0.005938665941357613, 1.0583369731903076], [0.0234838780015707, 0.014929582364857197, 0.00959031656384468, 0.03380642086267471, 0.0028009985107928514, 0.003800461068749428, 0.009117401205003262, 1.0135819911956787], [0.00928354449570179, 0.008602160029113293, 0.0030030403286218643, 0.0, 0.0, 0.0002697901800274849, 0.006082209292799234, 1.0583895444869995], [0.010069211944937706, 0.040442246943712234, 0.0068811457604169846, 0.022433508187532425, 0.0013661265838891268, 0.004151816479861736, 0.005206755828112364, 1.0205602645874023], [0.0059759533032774925, 0.022765032947063446, 0.00883404165506363, 0.0, 0.009930838830769062, 0.011678404174745083, 0.018823187798261642, 0.532121479511261], [0.00828174501657486, 0.009747211821377277, 0.0, 0.0, 0.049369338899850845, 0.02500196360051632, 0.0891161561012268, 0.0], [0.024515915662050247, 0.0, 0.0064294529147446156, 0.021616768091917038, 0.0, 0.010794525034725666, 0.025640398263931274, 0.9882432222366333], [0.08088316768407822, 0.012763133272528648, 0.0034547001123428345, 0.015422663651406765, 0.005492398049682379, 0.005633399356156588, 0.02408617176115513, 0.0]], [[0.0009363783174194396, 0.03824903815984726, 0.004283323884010315, 0.010196634568274021, 0.03127337247133255, 0.04026868939399719, 0.0034384196624159813, 0.0], [0.10626405477523804, 0.009366510435938835, 0.0015102169709280133, 0.0025977843906730413, 0.0024360930547118187, 0.001006626756861806, 0.13268713653087616, 0.8552428483963013], [0.008879048749804497, 0.645419716835022, 0.002411054912954569, 0.0033337438944727182, 0.008256145752966404, 0.010779292322695255, 0.016604876145720482, 0.41542723774909973], [0.012570168823003769, 0.049641817808151245, 0.4702017903327942, 0.05202015861868858, 0.0018628706457093358, 0.0071951355785131454, 0.014196693897247314, 0.5034225583076477], [0.0, 0.04057956859469414, 0.02418724074959755, 0.6065157055854797, 0.021634556353092194, 0.012424709275364876, 0.11329928785562515, 0.25375622510910034], [0.0019808944780379534, 0.0017490496393293142, 0.0003168610273860395, 0.006369251292198896, 1.0723464488983154, 0.00946958176791668, 0.00666464539244771, 0.01221432350575924], [0.0037143195513635874, 0.006926931440830231, 0.0021866904571652412, 0.0033943490125238895, 0.035656630992889404, 0.8799901604652405, 0.011610753834247589, 0.1676313281059265], [0.007898430339992046, 0.0, 0.0027324010152369738, 0.005946668796241283, 0.006442432291805744, 0.0, 0.012426793575286865, 1.0398401021957397]], [[0.1044849157333374, 0.02591225877404213, 0.024729814380407333, 0.09617428481578827, 0.025103650987148285, 0.03136425465345383, 0.0582084022462368, 0.7451335787773132], [0.04493619501590729, 0.0870429128408432, 0.1527550220489502, 0.0, 0.06383027136325836, 0.12390463799238205, 0.23106707632541656, 0.2241562306880951], [0.0, 0.03335512429475784, 0.05855360999703407, 0.03148675709962845, 0.0, 0.057796694338321686, 0.3654424846172333, 0.5061804056167603], [0.07971729338169098, 0.0493580624461174, 0.15567626059055328, 0.0, 0.05310492217540741, 0.08986490964889526, 0.0, 0.5400769114494324], [0.075523242354393, 0.029072247445583344, 0.3123917281627655, 0.1257835328578949, 0.02057502791285515, 0.018661823123693466, 0.3232317864894867, 0.20587173104286194], [0.02338920533657074, 0.046690333634614944, 0.24166667461395264, 0.1478486955165863, 0.0, 0.035455550998449326, 0.47030067443847656, 0.0911717489361763], [0.04747971147298813, 0.026337267830967903, 0.09203674644231796, 0.05816318467259407, 0.023137204349040985, 0.01886250264942646, 0.28804832696914673, 0.5570462346076965], [0.009948454797267914, 0.0022618223447352648, 0.003266956191509962, 0.004915640223771334, 0.0015072006499394774, 0.0, 0.013968734070658684, 1.0740044116973877]], [[0.06372464448213577, 0.016097955405712128, 0.005676570348441601, 0.025312194600701332, 0.03219479322433472, 0.0530051663517952, 0.07001087069511414, 0.8450890183448792], [0.0346098430454731, 0.027485020458698273, 0.005834100302308798, 0.04150742292404175, 0.05545071139931679, 0.0, 0.009748050011694431, 0.8930124640464783], [0.024416523054242134, 0.0, 0.0, 0.033416956663131714, 0.029031410813331604, 0.0, 0.010868319310247898, 0.9807024002075195], [0.0200953409075737, 0.016353147104382515, 0.006994324270635843, 0.032878343015909195, 0.07583242654800415, 0.039122361689805984, 0.009938000701367855, 0.9098972678184509], [0.006439296994358301, 0.00041408970719203353, 0.001567165250889957, 0.010502360761165619, 0.02312430925667286, 0.018319714814424515, 0.09664954990148544, 0.9540947079658508], [0.007145802490413189, 0.002457119058817625, 0.0020730546675622463, 0.0, 0.033889275044202805, 0.04169666767120361, 0.13191938400268555, 0.8798612356185913], [0.016820155084133148, 0.0023572826758027077, 0.00162589515093714, 0.004293268546462059, 0.0037747102323919535, 0.008961583487689495, 0.05140053108334541, 1.0218777656555176], [0.08426667004823685, 0.0, 0.004119809716939926, 0.007526072207838297, 0.007440059911459684, 0.009449445642530918, 0.028555216267704964, 0.9602195620536804]], [[0.01949000358581543, 0.008931363001465797, 0.006553635001182556, 0.0021530576050281525, 0.007495142985135317, 0.015931375324726105, 0.8047351837158203, 0.24582143127918243], [0.034273967146873474, 0.026469318196177483, 0.0011435773922130466, 0.01301957480609417, 0.009751327335834503, 0.01300442311912775, 0.0018993347184732556, 1.0115495920181274], [0.006928115617483854, 0.09112496674060822, 0.0, 0.013480393216013908, 0.013565829023718834, 0.0035664106253534555, 0.0006096450961194932, 0.9803241491317749], [0.0038335765711963177, 0.006036743056029081, 0.004009787458926439, 0.002631339943036437, 0.0019888661336153746, 0.014635961502790451, 0.001528589054942131, 1.076446294784546], [0.005739234387874603, 0.004136268515139818, 0.0005055492511019111, 0.0, 0.014062919653952122, 0.0, 0.003333244239911437, 0.0], [0.015151902101933956, 0.01723380573093891, 0.01837836019694805, 0.05906767025589943, 0.16116665303707123, 0.016380615532398224, 0.1492859125137329, 0.6744464039802551], [0.01581915095448494, 0.0050431061536073685, 0.0018690215656533837, 0.007036300376057625, 0.023377861827611923, 0.04826350510120392, 0.061148177832365036, 0.9485540390014648], [0.014609466306865215, 0.009641104377806187, 0.004691026639193296, 0.007876445539295673, 0.006353787146508694, 0.014298385940492153, 0.010696337558329105, 0.0]], [[0.1513931155204773, 0.0, 0.012019823305308819, 0.05787661299109459, 0.03337034210562706, 0.05149499326944351, 0.3914121687412262, 0.3342269957065582], [0.3298340141773224, 0.1013282760977745, 0.013387085869908333, 0.1676148921251297, 0.1635826826095581, 0.0506022684276104, 0.20905357599258423, 0.07570832222700119], [0.27732065320014954, 0.071989506483078, 0.022746166214346886, 0.21148274838924408, 0.20415057241916656, 0.07663363963365555, 0.08183508366346359, 0.16495290398597717], [0.4308021664619446, 0.06299076229333878, 0.005956363398581743, 0.047821637243032455, 0.03876597806811333, 0.04572403430938721, 0.19253107905387878, 0.2865191698074341], [0.2885063886642456, 0.0423610620200634, 0.007110659498721361, 0.024501435458660126, 0.019110074266791344, 0.0, 0.1637129783630371, 0.5394271016120911], [0.07092784345149994, 0.03644423931837082, 0.0022555089090019464, 0.010848834179341793, 0.00838881079107523, 0.03577043488621712, 0.208376944065094, 0.7380985617637634], [0.015742134302854538, 0.027025269344449043, 0.00730132358148694, 0.006213929038494825, 0.01331410463899374, 0.051876168698072433, 0.0, 0.9289706349372864], [0.01783149689435959, 0.008271546103060246, 0.002596284495666623, 0.00943826325237751, 0.006321591325104237, 0.009173610247671604, 0.01695871725678444, 1.0405195951461792]], [[0.009785119444131851, 0.008628267794847488, 0.003973782528191805, 0.02075570449233055, 0.004537494387477636, 0.010063252411782742, 0.017532825469970703, 1.035834550857544], [0.09180713444948196, 0.07174019515514374, 0.00553534273058176, 0.02832775190472603, 0.012140708975493908, 0.0038732648827135563, 0.03943004086613655, 0.8582568168640137], [0.06061482056975365, 0.13656435906887054, 0.030968232080340385, 0.03134110942482948, 0.014629609882831573, 0.006118799559772015, 0.03203526884317398, 0.7988389134407043], [0.0, 0.09482230246067047, 0.0038000247441232204, 0.017953600734472275, 0.003532103728502989, 0.005382872652262449, 0.04322535917162895, 0.0], [0.058808229863643646, 0.03517622500658035, 0.01815429888665676, 0.1951981633901596, 0.05287853255867958, 0.012462828308343887, 0.09506729990243912, 0.6433655619621277], [0.01667194440960884, 0.0053023393265903, 0.014612519182264805, 0.2321106344461441, 0.5666753649711609, 0.038420408964157104, 0.08194329589605331, 0.0], [0.01647902838885784, 0.008292159996926785, 0.015502200461924076, 0.06794766336679459, 0.2512885332107544, 0.0, 0.0299519170075655, 0.0], [0.01848725415766239, 0.015522397123277187, 0.004446840845048428, 0.014658906497061253, 0.006693436298519373, 0.011890276335179806, 0.019317544996738434, 1.0200945138931274]], [[0.02197388745844364, 0.09409115463495255, 0.12289419770240784, 0.03000548481941223, 0.11789833754301071, 0.0612545944750309, 0.008061962202191353, 0.6549314856529236], [0.024639641866087914, 0.01479498390108347, 0.7971475124359131, 0.04368529096245766, 0.0, 0.03934250771999359, 0.016431033611297607, 0.12755563855171204], [0.009367710910737514, 0.008288106881082058, 0.0, 0.039196379482746124, 0.08818273991346359, 0.04970211908221245, 0.007949448190629482, 0.8938739895820618], [0.016924623399972916, 0.02076997607946396, 0.0, 0.028742019087076187, 0.24275358021259308, 0.0, 0.06874220818281174, 0.3644314110279083], [0.006518981885164976, 0.001917748712003231, 0.048966601490974426, 0.011526874266564846, 0.0, 0.17927485704421997, 0.7622056007385254, 0.07066109776496887], [0.012025193311274052, 0.0023246717173606157, 0.028861675411462784, 0.005499355960637331, 0.009037450887262821, 0.07066848874092102, 0.7591953873634338, 0.22349898517131805], [0.0197855643928051, 0.005243998486548662, 0.010084240697324276, 0.01253063790500164, 0.013609190471470356, 0.026292331516742706, 0.0, 1.000954508781433], [0.016128383576869965, 0.009759821929037571, 0.006985185667872429, 0.006546385586261749, 0.006270264741033316, 0.01454685814678669, 0.01595352590084076, 1.0349208116531372]], [[0.018197940662503242, 0.006896939594298601, 0.0023214539978653193, 0.002032259479165077, 0.0, 0.0, 0.9881672263145447, 0.05577750504016876], [0.029165534302592278, 0.020372046157717705, 0.02941492386162281, 0.005621111486107111, 0.0030594917479902506, 0.003156499471515417, 0.0, 1.0143541097640991], [0.0, 0.07841064035892487, 0.0, 0.0048136720433831215, 0.00027726878761313856, 0.0018044437747448683, 0.008379125967621803, 0.0], [0.0, 0.03451179340481758, 0.04833603277802467, 0.03718843683600426, 0.0021963990293443203, 0.00781737919896841, 0.0025443234480917454, 0.9748696684837341], [0.004946778528392315, 0.011839020065963268, 0.14602500200271606, 0.27215898036956787, 0.014261938631534576, 0.010545734316110611, 0.001328792655840516, 0.6500049829483032], [0.008902065455913544, 0.01727205514907837, 0.029178548604249954, 0.01861790008842945, 0.02201063372194767, 0.015581178478896618, 0.01774701289832592, 0.9818017482757568], [0.0009584311628714204, 0.003488624468445778, 0.0033532921224832535, 0.004826081916689873, 0.001571881934069097, 0.036242637783288956, 0.028467761352658272, 1.0322024822235107], [0.011501681990921497, 0.007095348555594683, 0.004261259455233812, 0.007686540950089693, 0.0, 0.011991739273071289, 0.02473563328385353, 1.0411715507507324]]], [[[0.12653908133506775, 0.04013197496533394, 0.041912518441677094, 0.21603108942508698, 0.016755901277065277, 0.017401956021785736, 0.0, 0.6190648674964905], [0.19770580530166626, 0.1481962949037552, 0.10438425838947296, 0.10866250842809677, 0.06824567914009094, 0.07155109941959381, 0.011252235621213913, 0.40111327171325684], [0.27554890513420105, 0.04409419000148773, 0.10756023228168488, 0.010983298532664776, 0.012971299700438976, 0.030386412516236305, 0.013138322159647942, 0.616428554058075], [0.2974991798400879, 0.05589454248547554, 0.0171814002096653, 0.06941763311624527, 0.07980504631996155, 0.12719768285751343, 0.08636102825403214, 0.37775465846061707], [0.08919885009527206, 0.01244064699858427, 0.02045625075697899, 0.0, 0.08036557585000992, 0.07440592348575592, 0.20494939386844635, 0.5958494544029236], [0.02771533653140068, 0.002647866029292345, 0.0023243273608386517, 0.015706026926636696, 0.01723933033645153, 0.046845801174640656, 0.04778289049863815, 0.9508496522903442], [0.04051446542143822, 0.0012393830111250281, 0.0018025542376562953, 0.011290314607322216, 0.006987733766436577, 0.009707518853247166, 0.00861603394150734, 1.030953288078308], [0.02931024879217148, 0.004946306347846985, 0.005723117850720882, 0.0050743212923407555, 0.003434434300288558, 0.005206358153373003, 0.005691035650670528, 1.0517253875732422]], [[0.04789814352989197, 0.046421777456998825, 0.0, 0.05389126017689705, 0.03303491696715355, 0.07761634141206741, 0.013537731021642685, 0.7544288039207458], [0.13153257966041565, 0.0, 0.014283712953329086, 0.004452642519026995, 0.0, 0.0, 0.02041180059313774, 0.8987579941749573], [0.04701438173651695, 0.0374138243496418, 0.06140798330307007, 0.012014440260827541, 0.0071647511795163155, 0.018400797620415688, 0.037527669221162796, 0.8901673555374146], [0.04514719918370247, 0.009927826002240181, 0.007039426825940609, 0.0, 0.009050274267792702, 0.012644254602491856, 0.03472186252474785, 0.9858081340789795], [0.017216410487890244, 0.02012702263891697, 0.0, 0.010252376087009907, 0.032307449728250504, 0.0, 0.06007072702050209, 0.9009388089179993], [0.06943196058273315, 0.014287763275206089, 0.00868212804198265, 0.00423857569694519, 0.012817765586078167, 0.06996376067399979, 0.12385231256484985, 0.8078368306159973], [0.055567122995853424, 0.01760311983525753, 0.04150695726275444, 0.013324976898729801, 0.009775098413228989, 0.048502445220947266, 0.029525959864258766, 0.8953055739402771], [0.031569864600896835, 0.02446618676185608, 0.026485634967684746, 0.02380220964550972, 0.02087881974875927, 0.046202126890420914, 0.09698932617902756, 0.8407170176506042]], [[0.0, 0.9742295145988464, 0.0069176023826003075, 0.003338816575706005, 0.007837683893740177, 0.004788883030414581, 0.0, 0.10325784236192703], [0.006130626425147057, 0.046972207725048065, 0.6060032248497009, 0.013959452509880066, 0.002495904453098774, 0.001497383345849812, 0.00084677804261446, 0.43320557475090027], [0.0238837618380785, 0.013487122021615505, 0.010927007533609867, 0.03691684454679489, 0.0029427886474877596, 0.00234605954028666, 0.0012150302063673735, 1.019392490386963], [0.013168403878808022, 0.06977947056293488, 0.0014033515471965075, 0.02125225029885769, 0.18256521224975586, 0.0, 0.008534419350326061, 0.759449303150177], [0.0035093147307634354, 0.03049844317138195, 0.0006030424265190959, 0.0040722740814089775, 0.02403176575899124, 0.15734721720218658, 0.003514693584293127, 0.0], [0.012090918608009815, 0.012096974067389965, 0.01464519090950489, 0.010599048808217049, 0.0, 0.03188825398683548, 0.3933697044849396, 0.6302627921104431], [0.05623443052172661, 0.0, 0.01603732258081436, 0.00924621894955635, 0.0071717300452291965, 0.01791257970035076, 0.09173911064863205, 0.8436243534088135], [0.0, 0.018262285739183426, 0.0068695442751049995, 0.01049038115888834, 0.00788273848593235, 0.0, 0.014106497168540955, 1.0223826169967651]], [[0.0, 0.024269767105579376, 0.010674414224922657, 0.04715094715356827, 0.01713772676885128, 0.011419177986681461, 0.0, 0.0], [0.02113095298409462, 0.0878870040178299, 0.021199094131588936, 0.0, 0.011051556095480919, 0.03833697736263275, 0.05611398443579674, 0.7596483826637268], [0.0, 0.0306546613574028, 0.4798201620578766, 0.019665846601128578, 0.002641181694343686, 0.011547683738172054, 0.026383591815829277, 0.5222761631011963], [0.03534141182899475, 0.04642290249466896, 0.04042883962392807, 0.0, 0.011130734346807003, 0.01998673938214779, 0.21506236493587494, 0.6772997379302979], [0.015627944841980934, 0.024161215871572495, 0.0, 0.043757468461990356, 0.02486344613134861, 0.02923530526459217, 0.1969515085220337, 0.766557514667511], [0.03235533460974693, 0.022081075236201286, 0.013234333135187626, 0.04933728650212288, 0.014359040185809135, 0.06185748055577278, 0.5730159878730774, 0.34487074613571167], [0.009470478631556034, 0.0188139621168375, 0.12074088305234909, 0.12377862632274628, 0.026055356487631798, 0.04482211917638779, 0.021293364465236664, 0.7461364269256592], [0.0, 0.01231619156897068, 0.008202435448765755, 0.006621038541197777, 0.004576965235173702, 0.007030834909528494, 0.021181296557188034, 1.0244659185409546]], [[0.0, 0.16901345551013947, 0.08080587536096573, 0.29685744643211365, 0.15132957696914673, 0.04873974621295929, 0.0372697189450264, 0.3225627839565277], [0.004469172563403845, 0.0, 0.10022733360528946, 0.04229149967432022, 0.015290109440684319, 0.008810726925730705, 0.0020495771896094084, 0.6617048978805542], [0.003561298595741391, 0.017252635210752487, 0.04621928185224533, 0.008197170682251453, 0.006848960183560848, 0.007126145996153355, 0.005633338820189238, 1.0162723064422607], [0.0, 0.10743547976016998, 0.0, 0.03249937668442726, 0.011502849869430065, 0.019021695479750633, 0.007447447162121534, 0.8868408799171448], [0.00855966005474329, 0.07141551375389099, 0.1607520431280136, 0.10253646969795227, 0.019692817702889442, 0.01922718994319439, 0.035959139466285706, 0.6929682493209839], [0.014560123905539513, 0.08490847051143646, 0.0, 0.04983878508210182, 0.008920113556087017, 0.07283499091863632, 0.04227592796087265, 0.7871538400650024], [0.0, 0.1006813794374466, 0.0, 0.19643369317054749, 0.06907906383275986, 0.10162690281867981, 0.014577948488295078, 0.5612408518791199], [0.01718713343143463, 0.014101092703640461, 0.010474255308508873, 0.0, 0.004699466750025749, 0.013815921731293201, 0.023085249587893486, 1.0169517993927002]], [[0.03661094605922699, 0.6135048866271973, 0.02562156692147255, 0.2260921448469162, 0.0049142721109092236, 0.0030068717896938324, 0.011103912256658077, 0.19025658071041107], [0.0079522505402565, 0.17480485141277313, 0.14264388382434845, 0.2732588052749634, 0.005749856121838093, 0.003947146236896515, 0.005336298607289791, 0.4974181056022644], [0.005468450486660004, 0.0245064590126276, 0.013029246591031551, 0.027228251099586487, 0.002190080238506198, 0.0033149849623441696, 0.005320993717759848, 1.030052661895752], [0.014491367153823376, 0.10047609359025955, 0.0, 0.170524001121521, 0.07086435705423355, 0.014536493457853794, 0.0, 0.6651448607444763], [0.0073890783824026585, 0.0044325063936412334, 0.06164534389972687, 0.015195408836007118, 0.0, 0.10089056938886642, 0.47836530208587646, 0.42564284801483154], [0.007210188079625368, 0.008723613806068897, 0.037257879972457886, 0.015744822099804878, 0.005548278801143169, 0.06734287738800049, 0.24477411806583405, 0.7245094180107117], [0.0, 0.05643993243575096, 0.04153302311897278, 0.03544950857758522, 0.002824223367497325, 0.026715904474258423, 0.017973192036151886, 0.9029173851013184], [0.013997127301990986, 0.0, 0.012070110999047756, 0.016846545040607452, 0.0, 0.008027971722185612, 0.015164515003561974, 1.021605372428894]], [[0.008146509528160095, 0.03940374776721001, 0.0012629543198272586, 0.01627102494239807, 0.038641851395368576, 0.035635195672512054, 0.039598893374204636, 0.9321510791778564], [0.11876752227544785, 0.06583679467439651, 0.0074776760302484035, 0.0, 0.004335743375122547, 0.0014747664099559188, 0.024813003838062286, 0.8715702295303345], [0.02127629518508911, 0.11308638006448746, 0.0034855473786592484, 0.005618273746222258, 0.004614236764609814, 0.004478069022297859, 0.010698683559894562, 0.947853684425354], [0.010643735527992249, 0.05990453064441681, 0.0, 0.0235992893576622, 0.0015989223029464483, 0.004420412704348564, 0.0038266617339104414, 0.9927606582641602], [0.009278791956603527, 0.04223693534731865, 0.006927694194018841, 0.10458160191774368, 0.007408106233924627, 0.0056222123093903065, 0.0015300814993679523, 0.9335256814956665], [0.03682195395231247, 0.0253961943089962, 0.005285532679408789, 0.040672849863767624, 0.13117162883281708, 0.03547896817326546, 0.07332246750593185, 0.7629615664482117], [0.006315980106592178, 0.0, 0.0014771873829886317, 0.04794472083449364, 0.31355294585227966, 0.0, 0.06120987609028816, 0.5865618586540222], [0.012967155314981937, 0.0245035532861948, 0.003934742417186499, 0.013859216123819351, 0.01338257547467947, 0.015904109925031662, 0.009015503339469433, 1.0175442695617676]], [[0.04855769872665405, 0.21540537476539612, 0.0, 0.15733811259269714, 0.055745191872119904, 0.047533415257930756, 0.07235216349363327, 0.0], [0.030755329877138138, 0.04238718003034592, 0.15215305984020233, 0.04836800694465637, 0.04277970269322395, 0.0, 0.05376441404223442, 0.6493821740150452], [0.0, 0.012301908805966377, 0.0, 0.00648608710616827, 0.003105759620666504, 0.0201424453407526, 0.011529222130775452, 1.019288420677185], [0.02215401642024517, 0.06895263493061066, 0.10015178471803665, 0.04915372654795647, 0.04541105777025223, 0.05445345491170883, 0.05108362436294556, 0.7197508215904236], [0.015176413580775261, 0.0, 0.06895953416824341, 0.047131601721048355, 0.05488167330622673, 0.03454810753464699, 0.0, 0.8259496688842773], [0.013084952719509602, 0.13423112034797668, 0.1690317541360855, 0.11442237347364426, 0.07087767124176025, 0.06663811951875687, 0.051683031022548676, 0.49114224314689636], [0.02670379914343357, 0.03969261422753334, 0.07458112388849258, 0.054401151835918427, 0.0, 0.03346329182386398, 0.034876056015491486, 0.8197263479232788], [0.010949309915304184, 0.0, 0.03076758049428463, 0.023688947781920433, 0.010877967812120914, 0.017384370788931847, 0.006285347510129213, 0.9901679158210754]], [[0.03350279480218887, 0.07096985727548599, 0.0214995127171278, 0.07413606345653534, 0.04779898375272751, 0.04285978153347969, 0.16419608891010284, 0.6561480164527893], [0.027541764080524445, 0.3225196897983551, 0.08318182826042175, 0.0, 0.11542558670043945, 0.17112170159816742, 0.09912323951721191, 0.0], [0.052749186754226685, 0.12216945737600327, 0.07399531453847885, 0.053433049470186234, 0.07795459032058716, 0.06774768233299255, 0.06484639644622803, 0.598215639591217], [0.03577400743961334, 0.15105769038200378, 0.0, 0.1813889592885971, 0.1918562948703766, 0.13019128143787384, 0.07193552702665329, 0.2621408998966217], [0.01989387907087803, 0.05287311226129532, 0.0, 0.05690702423453331, 0.1346580982208252, 0.1223912239074707, 0.053321655839681625, 0.6341155171394348], [0.027539417147636414, 0.07182493060827255, 0.03003198653459549, 0.07132750749588013, 0.09461211413145065, 0.14336879551410675, 0.1695113629102707, 0.5028949975967407], [0.007087583187967539, 0.02335222251713276, 0.022535201162099838, 0.015130847692489624, 0.042170606553554535, 0.04038787633180618, 0.041924428194761276, 0.0], [0.015055705793201923, 0.006857613101601601, 0.003935231361538172, 0.006258965935558081, 0.0026181889697909355, 0.007151402533054352, 0.011132284067571163, 0.0]], [[0.041039180010557175, 0.029052188619971275, 0.013826514594256878, 0.034932445734739304, 0.04583669453859329, 0.04407745972275734, 0.018328770995140076, 0.8840180039405823], [0.08425237983465195, 0.05688096210360527, 0.028821313753724098, 0.24924056231975555, 0.0, 0.041281815618276596, 0.08321454375982285, 0.40568047761917114], [0.08383674919605255, 0.07058386504650116, 0.07072018086910248, 0.28348904848098755, 0.36374324560165405, 0.046990230679512024, 0.06582552939653397, 0.12592245638370514], [0.19382497668266296, 0.06836347281932831, 0.08913924545049667, 0.1277070790529251, 0.13920262455940247, 0.03352872654795647, 0.1335885375738144, 0.3257565200328827], [0.16979160904884338, 0.07532590627670288, 0.07920133322477341, 0.07122263312339783, 0.022155018523335457, 0.10835530608892441, 0.20996208488941193, 0.37509727478027344], [0.05302773788571358, 0.051657117903232574, 0.0, 0.025278428569436073, 0.006551331840455532, 0.05505812540650368, 0.16806049644947052, 0.7232381701469421], [0.0, 0.011153699830174446, 0.004864056594669819, 0.005723572801798582, 0.004985992796719074, 0.027854762971401215, 0.0028586669359356165, 1.0452576875686646], [0.018897851929068565, 0.01574973203241825, 0.010704888962209225, 0.014919624663889408, 0.0, 0.01586821675300598, 0.02066253125667572, 0.999592125415802]], [[0.034046731889247894, 0.0, 0.002665651263669133, 0.013569812290370464, 0.010018828324973583, 0.003253140253946185, 0.0, 1.0239237546920776], [0.026774676516652107, 0.2509024441242218, 0.3390060365200043, 0.16813869774341583, 0.08898501098155975, 0.0036128561478108168, 0.02154344879090786, 0.21214808523654938], [0.013544999994337559, 0.03938692808151245, 0.0, 0.11281510442495346, 0.0299100112169981, 0.002578876679763198, 0.0052810898050665855, 0.8713523745536804], [0.018214022740721703, 0.19302567839622498, 0.6244629621505737, 0.0, 0.05090121552348137, 0.0050360653549432755, 0.011014933697879314, 0.12691695988178253], [0.019331619143486023, 0.2055196762084961, 0.7192073464393616, 0.10014211386442184, 0.011800999753177166, 0.0009663908858783543, 0.01378400344401598, 0.04035908356308937], [0.04487353563308716, 0.011795525439083576, 0.0265777800232172, 0.02889415994286537, 0.01434791088104248, 0.005226204637438059, 0.027721427381038666, 0.9516745805740356], [0.03278883919119835, 0.037079885601997375, 0.02515547350049019, 0.05619415268301964, 0.0, 0.03100176528096199, 0.042314138263463974, 0.8286440968513489], [0.0, 0.01170293614268303, 0.008227610029280186, 0.014915271662175655, 0.005978092551231384, 0.0, 0.0056265732273459435, 1.052950382232666]], [[0.07618097215890884, 0.0018746163696050644, 0.002154631307348609, 0.0071822525933384895, 0.0, 0.007363945711404085, 0.012320649810135365, 0.999596893787384], [0.059877052903175354, 0.07551388442516327, 0.043572571128606796, 0.085085429251194, 0.01003963127732277, 0.02728334255516529, 0.07326317578554153, 0.7364760637283325], [0.09232978522777557, 0.16624155640602112, 0.04800720512866974, 0.0798259824514389, 0.01752936840057373, 0.045058511197566986, 0.10827047377824783, 0.5538482666015625], [0.1362827867269516, 0.07559026777744293, 0.03925778716802597, 0.03967325761914253, 0.007833166979253292, 0.030353514477610588, 0.10404936969280243, 0.6780709624290466], [0.17842742800712585, 0.10316462814807892, 0.03353111073374748, 0.4034004807472229, 0.01137508824467659, 0.024525530636310577, 0.12736402451992035, 0.2293228656053543], [0.05884533375501633, 0.03594096004962921, 0.01730009913444519, 0.21953795850276947, 0.1158282682299614, 0.05403726547956467, 0.10839209705591202, 0.5012291669845581], [0.02395336888730526, 0.006146405357867479, 0.01317556481808424, 0.0782933235168457, 0.17809011042118073, 0.07862421870231628, 0.04754677787423134, 0.6852814555168152], [0.020116029307246208, 0.008764964528381824, 0.012173831462860107, 0.016606394201517105, 0.011578272096812725, 0.02398316189646721, 0.024912530556321144, 0.9929760694503784]]], [[[0.054010551422834396, 0.058326516300439835, 0.030297229066491127, 0.0, 0.02740103006362915, 0.0327090322971344, 0.04319502040743828, 0.8047890663146973], [0.01037668064236641, 0.07918708771467209, 0.42948293685913086, 0.0, 0.005223427899181843, 0.003710848977789283, 0.01064214762300253, 0.5561806559562683], [0.003787317778915167, 0.01179217454046011, 0.444905161857605, 0.00680554797872901, 0.0015216321917250752, 0.0007279875571839511, 0.008467966690659523, 0.6331034898757935], [0.005356554873287678, 0.019332299008965492, 0.19699451327323914, 0.08541414141654968, 0.0, 0.0039020150434225798, 0.008505518548190594, 0.781764030456543], [0.007664547301828861, 0.007212875876575708, 0.405511736869812, 0.06257269531488419, 0.0, 0.007400564383715391, 0.0, 0.5310114622116089], [0.002848733216524124, 0.0, 0.05382721126079559, 0.005124042741954327, 0.004101092461496592, 0.04623587802052498, 0.14553603529930115, 0.8495497703552246], [0.019388873130083084, 0.009579505771398544, 0.08198364078998566, 0.01057631429284811, 0.007070652674883604, 0.014510479755699635, 0.0626763179898262, 0.9053254127502441], [0.00131935381796211, 0.04449240118265152, 0.057666175067424774, 0.0, 0.00457202922552824, 0.017872394993901253, 0.005529077723622322, 0.9617264866828918]], [[0.18428994715213776, 0.04564671963453293, 0.020124828442931175, 0.026124177500605583, 0.02255779504776001, 0.027006644755601883, 0.038957733660936356, 0.7464032769203186], [0.0, 0.07680060714483261, 0.04866928607225418, 0.014768590219318867, 0.0048601338639855385, 0.03234555572271347, 0.006998470518738031, 0.6095412969589233], [0.04654167965054512, 0.05496621131896973, 0.04461732506752014, 0.00834362581372261, 0.0032424437813460827, 0.020490169525146484, 0.007373162545263767, 0.9255364537239075], [0.15477891266345978, 0.0, 0.0, 0.0, 0.035363174974918365, 0.08496300876140594, 0.0538201779127121, 0.5223565697669983], [0.10784204304218292, 0.10947838425636292, 0.16386541724205017, 0.06105046719312668, 0.04321444034576416, 0.14206521213054657, 0.2806072533130646, 0.2029879093170166], [0.0, 0.0336323007941246, 0.012106174603104591, 0.004485779441893101, 0.0016970676369965076, 0.0, 0.0, 0.9128168225288391], [0.3085861802101135, 0.046596821397542953, 0.04452032968401909, 0.01625189371407032, 0.005986379459500313, 0.06966927647590637, 0.003826011437922716, 0.6156741976737976], [0.07707386463880539, 0.04760398343205452, 0.01797451078891754, 0.013742097653448582, 0.005280984099954367, 0.031717367470264435, 0.019384324550628662, 0.8983340263366699]], [[0.09344977140426636, 0.02810620702803135, 0.006524563301354647, 0.0, 0.02158457785844803, 0.015913015231490135, 0.03779919818043709, 0.7715315222740173], [0.06522631645202637, 0.15335571765899658, 0.02405458688735962, 0.0, 0.015225731767714024, 0.08359429985284805, 0.06377072632312775, 0.5537533760070801], [0.0387897714972496, 0.0340891070663929, 0.01695692352950573, 0.024741236120462418, 0.015070807188749313, 0.05540461838245392, 0.0, 0.8504031896591187], [0.2939208745956421, 0.07447490096092224, 0.029757386073470116, 0.025732016190886497, 0.010434371419250965, 0.07832659035921097, 0.0764572024345398, 0.5220078229904175], [0.28085434436798096, 0.11465732008218765, 0.048972755670547485, 0.10041932016611099, 0.02573559060692787, 0.0682809129357338, 0.04489600285887718, 0.0], [0.138894721865654, 0.22098590433597565, 0.046114932745695114, 0.17363722622394562, 0.012006651610136032, 0.030492575839161873, 0.04765981435775757, 0.4413192868232727], [0.10492491722106934, 0.06580917537212372, 0.12269478291273117, 0.12035097926855087, 0.06398775428533554, 0.1684206873178482, 0.05853673070669174, 0.4063860774040222], [0.014829933643341064, 0.07928991317749023, 0.05821273848414421, 0.23643742501735687, 0.012558254413306713, 0.03477359935641289, 0.087808758020401, 0.5872005224227905]], [[0.04369773343205452, 0.01265686471015215, 0.004075187724083662, 0.07267460227012634, 0.0, 0.050361424684524536, 0.18407279253005981, 0.7044975757598877], [0.09330269694328308, 0.011274456977844238, 0.0, 0.07735396176576614, 0.020244484767317772, 0.004123292863368988, 0.018023692071437836, 0.8817970752716064], [0.07768596708774567, 0.24780426919460297, 0.042587462812662125, 0.34563449025154114, 0.031831614673137665, 0.0, 0.009494475089013577, 0.33868932723999023], [0.10083099454641342, 0.024251047521829605, 0.003177289618179202, 0.0, 0.011971947737038136, 0.01402666512876749, 0.015814021229743958, 0.0], [0.20000608265399933, 0.0483504943549633, 0.002710033440962434, 0.29886215925216675, 0.11075831949710846, 0.024759775027632713, 0.032160259783267975, 0.3935040533542633], [0.05726613104343414, 0.008850314654409885, 0.0, 0.08906050771474838, 0.25845834612846375, 0.030756769701838493, 0.18354928493499756, 0.47997891902923584], [0.03190742805600166, 0.015958430245518684, 0.012986864894628525, 0.06263142824172974, 0.2946445345878601, 0.1496855765581131, 0.07766108214855194, 0.4656357765197754], [0.11685748398303986, 0.05133313685655594, 0.0, 0.0526992492377758, 0.028360849246382713, 0.05600906163454056, 0.0, 0.671075701713562]], [[0.0, 0.0, 0.012003603391349316, 0.04535780847072601, 0.025244152173399925, 0.031751327216625214, 0.013810666278004646, 0.8379913568496704], [0.018064042553305626, 0.27645358443260193, 0.10592816770076752, 0.11048787832260132, 0.008121654391288757, 0.04517628997564316, 0.019604533910751343, 0.5272751450538635], [0.0019139032810926437, 0.03868238255381584, 0.02337254211306572, 0.03082285076379776, 0.008745959959924221, 0.011840149760246277, 0.0017772226128727198, 0.0], [0.014881146140396595, 0.17906150221824646, 0.05583931878209114, 0.062191642820835114, 0.014631999656558037, 0.07337480783462524, 0.0, 0.0], [0.0, 0.09189986437559128, 0.0, 0.07667624950408936, 0.036045171320438385, 0.07452322542667389, 0.007578224875032902, 0.794281005859375], [0.009799930267035961, 0.11609039455652237, 0.028949568048119545, 0.17494267225265503, 0.019302355125546455, 0.04486173763871193, 0.01584787666797638, 0.7013166546821594], [0.027559302747249603, 0.028394635766744614, 0.03625398874282837, 0.16056589782238007, 0.061028193682432175, 0.07028841972351074, 0.03620344400405884, 0.6908172965049744], [0.05142967030405998, 0.0848478376865387, 0.0, 0.07361046224832535, 0.018466636538505554, 0.0, 0.05943623185157776, 0.7628132700920105]], [[0.010551073588430882, 0.005870644934475422, 0.0059135411866009235, 0.02131696417927742, 0.031549014151096344, 0.004088745918124914, 0.0, 1.0129867792129517], [0.004098773468285799, 0.08891064673662186, 0.4079252779483795, 0.20515823364257812, 0.0776647999882698, 0.05313326045870781, 0.06993260234594345, 0.20428764820098877], [0.0033755283802747726, 0.011855828575789928, 0.06723146885633469, 0.0, 0.026817072182893753, 0.015591694973409176, 0.1056608259677887, 0.864140510559082], [0.005558901000767946, 0.04030977934598923, 0.11812925338745117, 0.06069520488381386, 0.044549066573381424, 0.027610987424850464, 0.11434268951416016, 0.6999154090881348], [0.0044930255971848965, 0.059333380311727524, 0.21645081043243408, 0.09455322474241257, 0.0, 0.05023340880870819, 0.0, 0.34444841742515564], [0.00566801568493247, 0.04209500923752785, 0.3468146324157715, 0.04528851434588432, 0.03146817162632942, 0.05597652122378349, 0.35534459352493286, 0.22845567762851715], [0.003985346294939518, 0.022100530564785004, 0.12961333990097046, 0.05458623543381691, 0.07811862975358963, 0.06904013454914093, 0.07532434910535812, 0.6783427000045776], [0.014996265061199665, 0.17951051890850067, 0.17053435742855072, 0.0, 0.025402134284377098, 0.06547203660011292, 0.0, 0.0]], [[0.36321863532066345, 0.043152399361133575, 0.008195685222744942, 0.008935859426856041, 0.007778475992381573, 0.0, 0.0, 0.6268486380577087], [0.6208633780479431, 0.0, 0.006446732673794031, 0.007308474276214838, 0.0024274911265820265, 0.004847228527069092, 0.015035939402878284, 0.29368412494659424], [0.06559459865093231, 0.0, 0.22951865196228027, 0.0345594547688961, 0.026570169255137444, 0.018473666161298752, 0.036667708307504654, 0.6519338488578796], [0.34971678256988525, 0.006536866072565317, 0.007319759111851454, 0.23519134521484375, 0.0, 0.012764154933393002, 0.00894173327833414, 0.44244199991226196], [0.16900590062141418, 0.002125890925526619, 0.0, 0.06724586337804794, 0.3307948112487793, 0.015490644611418247, 0.01623936928808689, 0.0], [0.1867954283952713, 0.004659946076571941, 0.0, 0.0, 0.013516625389456749, 0.2063819020986557, 0.0, 0.6480391621589661], [0.021496744826436043, 0.007266666274517775, 0.00444789370521903, 0.008440852165222168, 0.02070458047091961, 0.08386590331792831, 0.08122216165065765, 0.8836663365364075], [0.08333791047334671, 0.025781556963920593, 0.011956669390201569, 0.019146544858813286, 0.013511663302779198, 0.026874426752328873, 0.034078244119882584, 0.8964241743087769]], [[0.0, 0.027238477021455765, 0.0, 0.0, 0.04344964772462845, 0.0, 0.007424808572977781, 0.8268569707870483], [0.011405556462705135, 0.05008310452103615, 0.17446187138557434, 0.23296768963336945, 0.05153258144855499, 0.008638660423457623, 0.026377210393548012, 0.5556445121765137], [0.004218793474137783, 0.009978687390685081, 0.0, 0.056874945759773254, 0.010887901298701763, 0.003737487131729722, 0.016012834385037422, 0.952164351940155], [0.009968852624297142, 0.022605348378419876, 0.10930584371089935, 0.18450795114040375, 0.05062445253133774, 0.030404221266508102, 0.05603307858109474, 0.6476614475250244], [0.004064860753715038, 0.005920982453972101, 0.03879404813051224, 0.11817996203899384, 0.048896994441747665, 0.029949698597192764, 0.7078953385353088, 0.15740923583507538], [0.005326267797499895, 0.01083403266966343, 0.2316882163286209, 0.19004175066947937, 0.10118378698825836, 0.014944691210985184, 0.0, 0.3465140461921692], [0.008834459818899632, 0.0, 0.15587811172008514, 0.17289844155311584, 0.04102370887994766, 0.023797757923603058, 0.03873607888817787, 0.6000694632530212], [0.006409619003534317, 0.011327225714921951, 0.026215072721242905, 0.02071414887905121, 0.006221490912139416, 0.006725290324538946, 0.01840965822339058, 0.0]], [[0.0348842479288578, 0.0, 0.08730494230985641, 0.13796131312847137, 0.15947099030017853, 0.06914985924959183, 0.24681498110294342, 0.2640601396560669], [0.04312388226389885, 0.2060871571302414, 0.23740804195404053, 0.08659429103136063, 0.07719370722770691, 0.029984015971422195, 0.097153440117836, 0.33356669545173645], [0.027030330151319504, 0.04090190678834915, 0.48154860734939575, 0.08272359520196915, 0.15664798021316528, 0.022901393473148346, 0.0, 0.0], [0.0, 0.05898077040910721, 0.0, 0.0, 0.1324794739484787, 0.028287548571825027, 0.0, 0.4873351752758026], [0.024308212101459503, 0.029801560565829277, 0.2152269184589386, 0.08364091068506241, 0.26585203409194946, 0.02340681105852127, 0.0, 0.26581400632858276], [0.1355072408914566, 0.025473156943917274, 0.030778972432017326, 0.0, 0.06756618618965149, 0.07871855795383453, 0.39689236879348755, 0.32222065329551697], [0.0, 0.0, 0.13907690346240997, 0.044975586235523224, 0.06365752220153809, 0.02475191280245781, 0.08331713080406189, 0.6645062565803528], [0.17991234362125397, 0.11442892998456955, 0.0690794512629509, 0.10548902302980423, 0.05170551687479019, 0.11403394490480423, 0.1626911610364914, 0.3137708008289337]], [[0.0668635442852974, 0.01495896466076374, 0.013238077983260155, 0.04636542871594429, 0.029678212478756905, 0.03709189221262932, 0.07350507378578186, 0.8294100761413574], [0.12127368897199631, 0.010564853437244892, 0.009217586368322372, 0.05092040076851845, 0.027663005515933037, 0.0, 0.07983249425888062, 0.7999669313430786], [0.0, 0.07919251173734665, 0.019595667719841003, 0.032279789447784424, 0.020936423912644386, 0.034452762454748154, 0.008830315433442593, 0.8697941899299622], [0.03910111263394356, 0.0222978126257658, 0.03979816287755966, 0.056365516036748886, 0.05006370693445206, 0.019319072365760803, 0.011112040840089321, 0.8730537295341492], [0.0, 0.007929808460175991, 0.004927769303321838, 0.05882954224944115, 0.04065307229757309, 0.011995144188404083, 0.0046695442870259285, 0.9605080485343933], [0.0278688482940197, 0.02183598279953003, 0.0023703156039118767, 0.03278808295726776, 0.08053267747163773, 0.048175960779190063, 0.029397105798125267, 0.8681422472000122], [0.026642320677638054, 0.009763957932591438, 0.01198915857821703, 0.025752617046236992, 0.03541167452931404, 0.07985891401767731, 0.0469900444149971, 0.0], [0.04727203771471977, 0.040702421218156815, 0.021067602559924126, 0.0, 0.02088165283203125, 0.040154919028282166, 0.03042779304087162, 0.8809564113616943]], [[0.06420554965734482, 0.05134081840515137, 0.034272678196430206, 0.11261837184429169, 0.14625917375087738, 0.0, 0.04269598424434662, 0.6358858942985535], [0.13260100781917572, 0.262099027633667, 0.14427830278873444, 0.0996207669377327, 0.032406285405159, 0.06496619433164597, 0.09782490879297256, 0.2773147225379944], [0.041400741785764694, 0.04255865514278412, 0.016733285039663315, 0.02465772069990635, 0.01611371897161007, 0.0324639193713665, 0.0325261689722538, 0.9046569466590881], [0.05576212331652641, 0.0, 0.0749519020318985, 0.0653814896941185, 0.03186869993805885, 0.055591881275177, 0.053401801735162735, 0.6589831709861755], [0.0, 0.09437167644500732, 0.11545213311910629, 0.0518631748855114, 0.03389076888561249, 0.052844904363155365, 0.03785471245646477, 0.5647767782211304], [0.08168015629053116, 0.09637536853551865, 0.13915754854679108, 0.05246834084391594, 0.01164207048714161, 0.03615473210811615, 0.07445935904979706, 0.619173526763916], [0.013357861898839474, 0.029506944119930267, 0.008292355574667454, 0.038597479462623596, 0.0077664959244430065, 0.017771326005458832, 0.009424111805856228, 0.9863945841789246], [0.047262292355298996, 0.08106967061758041, 0.1090521365404129, 0.09218155592679977, 0.028468269854784012, 0.045912597328424454, 0.05589732900261879, 0.6512673497200012]], [[0.20257461071014404, 0.05458623543381691, 0.033610694110393524, 0.09524296224117279, 0.06195373833179474, 0.05311200022697449, 0.06329157203435898, 0.5467393398284912], [0.16860240697860718, 0.0081165237352252, 0.00808838289231062, 0.023893944919109344, 0.056588176637887955, 0.04052809998393059, 0.10274010896682739, 0.7025535106658936], [0.05281951278448105, 0.0034212989266961813, 0.00027447525644674897, 0.0028337242547422647, 0.009841707535088062, 0.013041251339018345, 0.022686410695314407, 1.0061928033828735], [0.0, 0.02210029400885105, 0.003195042023435235, 0.0033307988196611404, 0.01986951194703579, 0.022646140307188034, 0.052461035549640656, 0.8389266133308411], [0.11951051652431488, 0.018123937770724297, 0.00622141407802701, 0.00981310848146677, 0.005087700206786394, 0.05024275183677673, 0.10726172477006912, 0.7948500514030457], [0.3768253028392792, 0.0, 0.009276109747588634, 0.01680045947432518, 0.047101084142923355, 0.042534634470939636, 0.15984000265598297, 0.43070006370544434], [0.0809195414185524, 0.010066984221339226, 0.0054415808990597725, 0.009060461074113846, 0.01349457073956728, 0.03793763369321823, 0.004258131142705679, 0.9499322772026062], [0.18495531380176544, 0.15064232051372528, 0.09873125702142715, 0.1315029412508011, 0.0705236941576004, 0.10263073444366455, 0.18234027922153473, 0.18978460133075714]]], [[[0.10151980817317963, 0.1467655599117279, 0.03108186647295952, 0.36902281641960144, 0.10504651069641113, 0.046767063438892365, 0.22290754318237305, 0.08800002187490463], [0.12655159831047058, 0.06845779716968536, 0.0, 0.12306803464889526, 0.024352120235562325, 0.05566344037652016, 0.28125879168510437, 0.3956366181373596], [0.053952042013406754, 0.038946107029914856, 0.055119410157203674, 0.07837636768817902, 0.020869357511401176, 0.0417560450732708, 0.11735770851373672, 0.7047341465950012], [0.1449897140264511, 0.07000482082366943, 0.0, 0.36770501732826233, 0.02273879013955593, 0.09095339477062225, 0.20208697021007538, 0.16383656859397888], [0.06509041041135788, 0.029322564601898193, 0.02320297807455063, 0.13884466886520386, 0.017409134656190872, 0.04423007741570473, 0.0, 0.5911862254142761], [0.05106993019580841, 0.017934510484337807, 0.013022578321397305, 0.10504581779241562, 0.009501425549387932, 0.053746964782476425, 0.0, 0.5269568562507629], [0.05477997288107872, 0.09722355008125305, 0.02164161205291748, 0.05422419309616089, 0.01117740385234356, 0.032027389854192734, 0.0, 0.6873335838317871], [0.0, 0.02851736545562744, 0.06722009181976318, 0.04870666190981865, 0.03309211879968643, 0.05402979254722595, 0.07070224732160568, 0.7853180766105652]], [[0.020848138257861137, 0.04851839318871498, 0.037603709846735, 0.050798043608665466, 0.012719112448394299, 0.009805930778384209, 0.0, 0.9253008961677551], [0.02046813815832138, 0.03859866410493851, 0.06245134025812149, 0.015556559897959232, 0.0027692406438291073, 0.0014626372139900923, 0.007495156489312649, 0.9623094201087952], [0.0032895696349442005, 0.004683801904320717, 0.3161444365978241, 0.004321728833019733, 0.0009775214130058885, 0.0, 0.003256559604778886, 0.7772222757339478], [0.005186688154935837, 0.004431846085935831, 0.011019764468073845, 0.5517401099205017, 0.023180706426501274, 0.002101438818499446, 0.015479088760912418, 0.4979715943336487], [0.004183601588010788, 0.0037101772613823414, 0.006120661739259958, 0.016295621171593666, 0.01173130702227354, 0.0035343607887625694, 0.007322067394852638, 1.058213472366333], [0.002320801606401801, 0.0015024719759821892, 0.01724158227443695, 0.006345357745885849, 0.0019600100349634886, 0.005540057085454464, 0.010960880666971207, 1.0652399063110352], [0.0034698580857366323, 0.0, 0.013622554019093513, 0.004740789532661438, 0.002896109828725457, 0.0, 0.023392966017127037, 1.0529811382293701], [0.006948878988623619, 0.003353889100253582, 0.004974741954356432, 0.004834799095988274, 0.0012932668905705214, 0.002687050262466073, 0.005955166183412075, 1.0810635089874268]], [[0.0, 0.03968799486756325, 0.03987773135304451, 0.2121715396642685, 0.10361460596323013, 0.03067261353135109, 0.07992522418498993, 0.5766513347625732], [0.040911540389060974, 0.0, 0.0, 0.06901317089796066, 0.03716209530830383, 0.010872974060475826, 0.02322361245751381, 0.8338833451271057], [0.033900804817676544, 0.022843705490231514, 0.20510078966617584, 0.048493411391973495, 0.0, 0.009612337686121464, 0.03570350259542465, 0.6820154786109924], [0.09411252290010452, 0.08933023363351822, 0.0869356170296669, 0.21899451315402985, 0.13677671551704407, 0.02760360762476921, 0.031927041709423065, 0.42543089389801025], [0.09258022904396057, 0.019859103485941887, 0.020452406257390976, 0.08537164330482483, 0.1359860897064209, 0.031307656317949295, 0.0, 0.6764661073684692], [0.10308529436588287, 0.019772404804825783, 0.02232133410871029, 0.07036316394805908, 0.1537381410598755, 0.07503963261842728, 0.0, 0.43727657198905945], [0.1402900665998459, 0.0, 0.005514741409569979, 0.03135810047388077, 0.08261636644601822, 0.03251882269978523, 0.1761133223772049, 0.6350395679473877], [0.0, 0.02170059271156788, 0.024656251072883606, 0.027477780357003212, 0.014317914843559265, 0.015088453888893127, 0.028230851516127586, 0.9420329928398132]], [[0.09715823829174042, 0.02352950908243656, 0.022233473137021065, 0.014412588439881802, 0.0, 0.019435584545135498, 0.2831779420375824, 0.613949179649353], [0.06744764000177383, 8.400016668019816e-05, 0.00019754248205572367, 0.0010342373279854655, 0.0017315740697085857, 0.0008920106920413673, 0.13884319365024567, 0.9008809924125671], [0.0, 0.000363346392987296, 0.0005410495214164257, 0.001625334145501256, 0.004377858247607946, 0.00393572635948658, 0.10913625359535217, 0.8966608643531799], [0.05125107988715172, 0.0012734219199046493, 0.0021018858533352613, 0.0, 0.0076292105950415134, 0.0016013337299227715, 0.0, 0.9873656630516052], [0.07673072814941406, 0.00897448230534792, 0.015727229416370392, 0.014288762584328651, 0.010719372890889645, 0.023562420159578323, 0.15501314401626587, 0.8060951232910156], [0.06594555079936981, 0.0006065868074074388, 0.0, 0.0014823123347014189, 0.004608669318258762, 0.003635984379798174, 0.08591635525226593, 0.9473595023155212], [0.0697246566414833, 0.005667936988174915, 0.012881405651569366, 0.007413156796246767, 0.022504843771457672, 0.0, 0.007852967828512192, 0.9644083380699158], [0.19932927191257477, 0.09365244954824448, 0.0952373817563057, 0.08608738332986832, 0.09168122708797455, 0.12361802160739899, 0.2846202850341797, 0.13688519597053528]], [[0.027135128155350685, 0.04329273849725723, 0.007562763057649136, 0.1892722249031067, 0.10449470579624176, 0.0, 0.6349932551383972, 0.03825492411851883], [0.28204959630966187, 0.014244449324905872, 0.005091301631182432, 0.011162713170051575, 0.004830190446227789, 0.019252069294452667, 0.005713624879717827, 0.7687672972679138], [0.0, 0.016548847779631615, 0.027039194479584694, 0.00796123594045639, 0.004834954161196947, 0.03114650771021843, 0.0038502581883221865, 0.8912539482116699], [0.4650680720806122, 0.03382277861237526, 0.019498661160469055, 0.01956251636147499, 0.0075929537415504456, 0.017648279666900635, 0.004930311348289251, 0.5429875254631042], [0.42715007066726685, 0.07997298240661621, 0.08919297903776169, 0.0460394024848938, 0.021242434158921242, 0.05552971735596657, 0.005619061179459095, 0.38636451959609985], [0.2552146911621094, 0.03189357742667198, 0.0, 0.022893279790878296, 0.017349425703287125, 0.09687642753124237, 0.017854148522019386, 0.6554720997810364], [0.24064670503139496, 0.028554797172546387, 0.03739980235695839, 0.0, 0.021958792582154274, 0.08498359471559525, 0.03651684150099754, 0.6331527829170227], [0.006849703844636679, 0.0064867958426475525, 0.00866726040840149, 0.008878065273165703, 0.002608271548524499, 0.005125385243445635, 0.004153249319642782, 1.0683425664901733]], [[0.014982822351157665, 0.1347266584634781, 0.0, 0.1533096581697464, 0.0, 0.010482285171747208, 0.008914635516703129, 0.7729302048683167], [0.0, 0.20661568641662598, 0.01002517994493246, 0.02684459276497364, 0.0012371918419376016, 0.010289371013641357, 0.004875821992754936, 0.842516303062439], [0.002421615645289421, 0.010957659222185612, 0.05469491705298424, 0.007847352884709835, 0.0006265609408728778, 0.003991477657109499, 0.002779613947495818, 1.027791976928711], [0.008070764131844044, 0.01886405609548092, 0.005945597309619188, 0.4097212553024292, 0.011008420027792454, 0.010715451091527939, 0.007400930393487215, 0.6393847465515137], [0.004226955585181713, 0.008118893019855022, 0.003520360914990306, 0.04851767420768738, 0.01833016611635685, 0.007082476746290922, 0.0067602102644741535, 1.0145543813705444], [0.0019184411503374577, 0.011868477798998356, 0.0, 0.008353106677532196, 0.0010342628229409456, 0.026790998876094818, 0.0125478096306324, 1.04459810256958], [0.004223300609737635, 0.015888400375843048, 0.00584748899564147, 0.0084995711222291, 0.0019431572873145342, 0.021161001175642014, 0.0, 1.0228811502456665], [0.003145296359434724, 0.017944592982530594, 0.01044987142086029, 0.01559409499168396, 0.0018983865156769753, 0.0, 0.005415583029389381, 0.0]], [[0.06261426210403442, 0.07188553363084793, 0.030206218361854553, 0.03343948721885681, 0.02930433861911297, 0.03600515052676201, 0.5273030400276184, 0.3203531503677368], [0.08850476890802383, 0.009698429144918919, 0.022973554208874702, 0.005557539872825146, 0.004241534508764744, 0.003952806815505028, 0.27275657653808594, 0.7034258842468262], [0.017959915101528168, 0.003002242650836706, 0.09158393740653992, 0.010583296418190002, 0.02116282843053341, 0.0025166457053273916, 0.0, 0.8634121417999268], [0.10900788754224777, 0.012157753109931946, 0.09869384765625, 0.026223784312605858, 0.0, 0.0, 0.23386649787425995, 0.5933022499084473], [0.034837014973163605, 0.006258012726902962, 0.10343606024980545, 0.02356005646288395, 0.0763135552406311, 0.015183951705694199, 0.6331140398979187, 0.21840862929821014], [0.14050032198429108, 0.013053059577941895, 0.037502776831388474, 0.012593495659530163, 0.006585163529962301, 0.01796582154929638, 0.5545684099197388, 0.32834216952323914], [0.1420515775680542, 0.005385733675211668, 0.021118491888046265, 0.0, 0.006136531941592693, 0.015926118940114975, 0.11335718631744385, 0.8003427386283875], [0.009705867618322372, 0.0026725362986326218, 0.004360883496701717, 0.0036459879484027624, 0.0025669215247035027, 0.0028516454622149467, 0.013419196009635925, 1.0718880891799927]], [[0.0, 0.07484152913093567, 0.0, 0.07554689794778824, 0.12539851665496826, 0.04990474134683609, 0.08051813393831253, 0.4894546866416931], [0.17163614928722382, 0.007300792261958122, 0.00290439510717988, 0.19425389170646667, 0.023433716967701912, 0.01049470528960228, 0.058761660009622574, 0.6423258185386658], [0.03933241590857506, 0.0037048328667879105, 0.0, 0.009323257952928543, 0.016156179830431938, 0.009289397858083248, 0.08937054872512817, 0.9397420883178711], [0.05376669391989708, 0.007356626912951469, 0.0035136572550982237, 0.057673897594213486, 0.02142076939344406, 0.006000994239002466, 0.049544282257556915, 0.9118342995643616], [0.11933939158916473, 0.02190607227385044, 0.01909884437918663, 0.04500025138258934, 0.022799408063292503, 0.02545342966914177, 0.18812736868858337, 0.6693863272666931], [0.20157179236412048, 0.0128133250400424, 0.023479865863919258, 0.025144243612885475, 0.0, 0.022841403260827065, 0.31514984369277954, 0.4864550828933716], [0.03547343611717224, 0.017915641888976097, 0.01420709490776062, 0.02795863337814808, 0.019947540014982224, 0.0, 0.029121313244104385, 0.9443106055259705], [0.013103953562676907, 0.018174028024077415, 0.019143445417284966, 0.035519421100616455, 0.016019199043512344, 0.019734932109713554, 0.009615753777325153, 0.9798005223274231]], [[0.011111288331449032, 0.023042498156428337, 0.004852765705436468, 0.0, 0.015995057299733162, 0.033447835594415665, 0.6861357092857361, 0.31312379240989685], [0.007949203252792358, 0.0, 0.0, 0.026048265397548676, 0.007732223253697157, 0.027421416714787483, 0.20204409956932068, 0.6490423679351807], [0.016524022445082664, 0.10405068099498749, 0.07191216200590134, 0.0341278500854969, 0.015328149311244488, 0.06629481166601181, 0.13158616423606873, 0.6712873578071594], [0.009689721278846264, 0.04735807329416275, 0.03497205302119255, 0.08975987881422043, 0.04288123920559883, 0.05072152987122536, 0.3131815493106842, 0.52254718542099], [0.0023444618564099073, 0.02708982303738594, 0.011765857227146626, 0.034078411757946014, 0.007171486038714647, 0.025409502908587456, 0.08161803334951401, 0.9216336011886597], [0.02974231354892254, 0.0911596491932869, 0.045608822256326675, 0.05798159912228584, 0.031179899349808693, 0.14567631483078003, 0.24123883247375488, 0.46852371096611023], [0.00900748185813427, 0.019920045509934425, 0.05815953388810158, 0.012517725117504597, 0.00757767166942358, 0.04940381273627281, 0.06569122523069382, 0.8888336420059204], [0.06468116492033005, 0.0, 0.025067970156669617, 0.06820446997880936, 0.04975224658846855, 0.06038660556077957, 0.0590001605451107, 0.735530436038971]], [[0.03466174751520157, 0.016899116337299347, 0.020536083728075027, 0.0, 0.0, 0.013435748405754566, 0.0173635371029377, 0.9884741902351379], [0.0015173052670434117, 0.1874261200428009, 0.0, 0.0324709452688694, 0.0009513445547781885, 0.009320823475718498, 0.002784628653898835, 0.8668418526649475], [0.0004693505179602653, 0.007192893885076046, 0.5099974274635315, 0.0058164456859230995, 0.00020869665604550391, 0.0015121737960726023, 0.0055734217166900635, 0.5803406238555908], [0.000723739736713469, 0.020478060469031334, 0.0, 0.9005682468414307, 0.004948786459863186, 0.008154314942657948, 0.0018702484667301178, 0.16926811635494232], [0.0008593693492002785, 0.003132294397801161, 0.0009534339769743383, 0.026203718036413193, 0.013927730731666088, 0.00511997239664197, 0.002254738938063383, 1.0586599111557007], [0.0, 0.008695603348314762, 0.0035701231099665165, 0.015622907318174839, 0.0014732457930222154, 0.021413711830973625, 0.00658231507986784, 0.0], [0.0009696229826658964, 0.009800690226256847, 0.009428536519408226, 0.008266761898994446, 0.002317714272066951, 0.013656562194228172, 0.0377437099814415, 1.0289275646209717], [0.0006628750124946237, 0.0038707361090928316, 0.004912178032100201, 0.006657216232270002, 0.0007557467906735837, 0.003160369349643588, 0.0033793640322983265, 1.0877127647399902]], [[0.023451022803783417, 0.03659384325146675, 0.0, 0.6403586268424988, 0.16944687068462372, 0.004641145002096891, 0.06882339715957642, 0.13699054718017578], [0.5885353684425354, 0.2270643413066864, 0.05237984284758568, 0.21742771565914154, 0.004197900649160147, 0.0054861390963196754, 0.013902991078794003, 0.0021168554667383432], [0.3584901988506317, 0.02939870022237301, 0.0, 0.06529323011636734, 0.013384442776441574, 0.00416702963411808, 0.04899458587169647, 0.0034198840148746967], [0.3082597851753235, 0.02552982047200203, 0.006814556196331978, 0.0, 0.031566064804792404, 0.011646072380244732, 0.016215505078434944, 0.0], [0.5087610483169556, 0.00955899991095066, 0.007804523687809706, 0.11038731038570404, 0.4119958281517029, 0.011941596865653992, 0.04743972048163414, 0.0032221092842519283], [0.6764202117919922, 0.014667321927845478, 0.017462540417909622, 0.10840184986591339, 0.026334282010793686, 0.14219968020915985, 0.1216958537697792, 0.003929475322365761], [0.5606166124343872, 0.05674362555146217, 0.04615214094519615, 0.08697021752595901, 0.03570753335952759, 0.06714309751987457, 0.24539580941200256, 0.0], [0.11706042289733887, 0.1098252534866333, 0.1383134126663208, 0.1445048749446869, 0.08192720264196396, 0.0, 0.1620277613401413, 0.24452030658721924]], [[0.07854701578617096, 0.09968777000904083, 0.1173461303114891, 0.24727439880371094, 0.2421056181192398, 0.040623437613248825, 0.03942462056875229, 0.2461022287607193], [0.009811406955122948, 0.10604719817638397, 0.021740375086665154, 0.32329753041267395, 0.08845885097980499, 0.03357881307601929, 0.1764705628156662, 0.3517063558101654], [0.014697040431201458, 0.0270735751837492, 0.007676191162317991, 0.0, 0.03074672631919384, 0.019908713176846504, 0.0, 0.8297442197799683], [0.0, 0.03728789836168289, 0.0, 0.041825179010629654, 0.027294311672449112, 0.016074957326054573, 0.13895344734191895, 0.8184826970100403], [0.003676992142572999, 0.0638815313577652, 0.03496856987476349, 0.0, 0.012728427536785603, 0.013488532975316048, 0.11747938394546509, 0.8137558698654175], [0.0, 0.0, 0.0, 0.27844396233558655, 0.0402248352766037, 0.010674634948372841, 0.16534554958343506, 0.3689897358417511], [0.0101836659014225, 0.2329774647951126, 0.17727290093898773, 0.1662171185016632, 0.09864626824855804, 0.05107635259628296, 0.09527375549077988, 0.27946361899375916], [0.08831892162561417, 0.0, 0.007337513379752636, 0.031406842172145844, 0.007855482399463654, 0.013944798149168491, 0.028752418234944344, 0.0]]], [[[0.3567546010017395, 0.015135196968913078, 0.03632673993706703, 0.0, 0.010603109374642372, 0.0035739787854254246, 0.0750720426440239, 0.5920146107673645], [0.03254380449652672, 0.012738925404846668, 0.019348353147506714, 0.004277699161320925, 0.0033113081008195877, 0.005877309013158083, 0.015990035608410835, 1.0170238018035889], [0.0, 0.004832305014133453, 0.010427938774228096, 0.002310799900442362, 0.002928456524387002, 0.0020747447852045298, 0.0038407279644161463, 0.0], [0.002841792069375515, 0.001487022265791893, 0.0055151283740997314, 0.0006853417144156992, 0.0006966557702980936, 0.000805875810328871, 0.0015471266815438867, 1.0975322723388672], [0.008376264944672585, 0.0018342402763664722, 0.01324935257434845, 0.0018788868328556418, 0.0019083386287093163, 0.002098809229210019, 0.003943637479096651, 1.0778216123580933], [0.019801804795861244, 0.006815256085246801, 0.0, 0.004604090005159378, 0.0047378442250192165, 0.004830675199627876, 0.007004864513874054, 0.0], [0.021781854331493378, 0.0, 0.031351108103990555, 0.004157071467489004, 0.004505564924329519, 0.009047150611877441, 0.023529259487986565, 0.9946131110191345], [0.009074060246348381, 0.008171246387064457, 0.008626631461083889, 0.0, 0.004928303882479668, 0.005150557961314917, 0.006476094480603933, 1.0636004209518433]], [[0.37073126435279846, 0.03996708244085312, 0.026087649166584015, 0.04579011723399162, 0.08008001744747162, 0.09889719635248184, 0.1277153491973877, 0.32184258103370667], [0.037143949419260025, 0.01843801885843277, 0.009172758087515831, 0.014251642860472202, 0.0, 0.018506955355405807, 0.07387753576040268, 0.0], [0.038534991443157196, 0.024697137996554375, 0.004057222045958042, 0.014432057738304138, 0.016500312834978104, 0.0, 0.0, 0.9280948042869568], [0.020295238122344017, 0.016615573316812515, 0.00241983775049448, 0.004877780098468065, 0.007736593950539827, 0.012374366633594036, 0.020567430183291435, 1.0262242555618286], [0.0, 0.008636953309178352, 0.0028312711510807276, 0.006603206507861614, 0.003829175839200616, 0.008399596437811852, 0.028793569654226303, 1.0332340002059937], [0.014789747074246407, 0.010447963140904903, 0.0045171743258833885, 0.007342166267335415, 0.007575675845146179, 0.01146210078150034, 0.017234809696674347, 1.0377414226531982], [0.08787119388580322, 0.0, 0.06057531014084816, 0.06585649400949478, 0.08882617950439453, 0.11399560421705246, 0.07386486977338791, 0.4956792891025543], [0.006285632494837046, 0.009807759895920753, 0.0060905637219548225, 0.0052089933305978775, 0.005964989773929119, 0.016162479296326637, 0.015670213848352432, 1.0459206104278564]], [[0.19023464620113373, 0.1265801638364792, 0.05094793066382408, 0.11404166370630264, 0.11108402907848358, 0.0696406289935112, 0.11694523692131042, 0.0], [0.042404357343912125, 0.0, 0.05458161607384682, 0.07087437063455582, 0.05303318426012993, 0.06184595450758934, 0.038941625505685806, 0.684299111366272], [0.023015635088086128, 0.018971500918269157, 0.026290180161595345, 0.016138317063450813, 0.013336322270333767, 0.01832713559269905, 0.0, 0.9654605984687805], [0.07521846890449524, 0.03499351441860199, 0.034293584525585175, 0.06317424774169922, 0.0, 0.05124964937567711, 0.051810406148433685, 0.7667097449302673], [0.05402109771966934, 0.0, 0.007079227827489376, 0.025012459605932236, 0.039000578224658966, 0.03078269772231579, 0.0, 0.8263777494430542], [0.05968240275979042, 0.06537915766239166, 0.02336505614221096, 0.0625593438744545, 0.0, 0.0, 0.11220856010913849, 0.5789026021957397], [0.03477175906300545, 0.013407532125711441, 0.005469207651913166, 0.0, 0.0, 0.016677314415574074, 0.0, 0.9577676057815552], [0.025477534160017967, 0.016987526789307594, 0.021052991971373558, 0.01679125800728798, 0.0, 0.02462419494986534, 0.04548566788434982, 0.9420174360275269]], [[0.12139449268579483, 0.1480732262134552, 0.061679646372795105, 0.09388025104999542, 0.06358764320611954, 0.16380222141742706, 0.1148836612701416, 0.3438100814819336], [0.0, 0.09443595260381699, 0.0495581179857254, 0.017810195684432983, 0.008832825347781181, 0.04022232070565224, 0.026360593736171722, 0.8228585720062256], [0.030308593064546585, 0.07283041626214981, 0.07189309597015381, 0.017172856256365776, 0.011638704687356949, 0.02278982661664486, 0.0, 0.8710176348686218], [0.0, 0.013601377606391907, 0.008365816436707973, 0.006181912962347269, 0.0, 0.015772895887494087, 0.005087758880108595, 1.0461231470108032], [0.01991710625588894, 0.032590512186288834, 0.02078901045024395, 0.0, 0.010325641371309757, 0.02538863942027092, 0.01502186432480812, 0.9757619500160217], [0.0, 0.047954123467206955, 0.01737414486706257, 0.02132461778819561, 0.013924702070653439, 0.10902013629674911, 0.08567870408296585, 0.7640769481658936], [0.0, 0.0062403082847595215, 0.0, 0.007304660975933075, 0.009852370247244835, 0.02839762158691883, 0.031299810856580734, 0.9627166390419006], [0.012606303207576275, 0.006839784327894449, 0.009559119120240211, 0.004363002255558968, 0.0033809461165219545, 0.006518133915960789, 0.004603144712746143, 1.0632407665252686]], [[0.1267842799425125, 0.11902790516614914, 0.07996124774217606, 0.06781893223524094, 0.1508702039718628, 0.01645519956946373, 0.4105413556098938, 0.13965202867984772], [0.04856480285525322, 0.0, 0.0, 0.021005526185035706, 0.010654781013727188, 0.01618734933435917, 0.09216509014368057, 0.8672828078269958], [0.01952217146754265, 0.016947656869888306, 0.03200152888894081, 0.0, 0.0, 0.011799770407378674, 0.05338290333747864, 0.9537460803985596], [0.008233015425503254, 0.00787990354001522, 0.012526856735348701, 0.008699020370841026, 0.005513279233127832, 0.007352640386670828, 0.030904075130820274, 1.030002474784851], [0.0, 0.013111086562275887, 0.0, 0.01510651782155037, 0.017700497061014175, 0.008954009972512722, 0.09939603507518768, 0.9050319194793701], [0.009314366616308689, 0.0, 0.00604739785194397, 0.008275597356259823, 0.008132478222250938, 0.00791230984032154, 0.07499565929174423, 0.9895690679550171], [0.3668261468410492, 0.019550558179616928, 0.010341375134885311, 0.0, 0.01794687658548355, 0.0032816356979310513, 0.012674756348133087, 0.6698043346405029], [0.013834838755428791, 0.0028323004953563213, 0.004259089007973671, 0.0038214384112507105, 0.0036418610252439976, 0.00197698175907135, 0.0047598243691027164, 1.0759848356246948]], [[0.04654941335320473, 0.07419026643037796, 0.23372700810432434, 0.03409930691123009, 0.07130499184131622, 0.06079772859811783, 0.4346882104873657, 0.1557541936635971], [0.015506432391703129, 0.011467414908111095, 0.02416386641561985, 0.016789667308330536, 0.013196736574172974, 0.0, 0.029447972774505615, 0.991675615310669], [0.014871595427393913, 0.019015464931726456, 0.23631031811237335, 0.05033957213163376, 0.037353187799453735, 0.0, 0.06396228820085526, 0.6768700480461121], [0.036665380001068115, 0.017631907016038895, 0.06824555993080139, 0.3037319481372833, 0.08752425014972687, 0.03524547070264816, 0.13847707211971283, 0.4235895276069641], [0.02048593759536743, 0.004507447127252817, 0.0, 0.0, 0.037266869097948074, 0.023600665852427483, 0.08788219839334488, 0.8734932541847229], [0.021649669855833054, 0.006839745212346315, 0.017333872616291046, 0.020201759412884712, 0.022679200395941734, 0.04584081843495369, 0.1009354293346405, 0.8756306767463684], [0.03278401494026184, 0.0213785357773304, 0.041703056544065475, 0.04443060979247093, 0.09187530726194382, 0.05264001339673996, 0.3760649859905243, 0.0], [0.012089195661246777, 0.00677983183413744, 0.010036452673375607, 0.008792084641754627, 0.009733074344694614, 0.010381116531789303, 0.012812589295208454, 1.0404866933822632]], [[0.31810835003852844, 0.058698318898677826, 0.07969912886619568, 0.09288448095321655, 0.17482195794582367, 0.015228834003210068, 0.2539829611778259, 0.11768725514411926], [0.11118632555007935, 0.02244972437620163, 0.02961897663772106, 0.019467225298285484, 0.04181341826915741, 0.015451931394636631, 0.0363447368144989, 0.8347787857055664], [0.13564752042293549, 0.024521570652723312, 0.06575722247362137, 0.0, 0.0410856232047081, 0.021541474387049675, 0.0, 0.7487260103225708], [0.0, 0.014035588130354881, 0.010552231222391129, 0.011780837550759315, 0.038770001381635666, 0.007980059832334518, 0.025446714833378792, 0.955923855304718], [0.0983787328004837, 0.03994176909327507, 0.02742176502943039, 0.02446080930531025, 0.05019804462790489, 0.02212870493531227, 0.0558629110455513, 0.7927184104919434], [0.0659262090921402, 0.029118284583091736, 0.033097073435783386, 0.021832015365362167, 0.053342945873737335, 0.029386168345808983, 0.036220353096723557, 0.8421881198883057], [0.1533336490392685, 0.06670011579990387, 0.041947707533836365, 0.06464306265115738, 0.1337973177433014, 0.0905960202217102, 0.08660461008548737, 0.4734886586666107], [0.02676655538380146, 0.026618149131536484, 0.015251263044774532, 0.013316990807652473, 0.010906911455094814, 0.01435240637511015, 0.014166035689413548, 0.9897329211235046]], [[0.053055912256240845, 0.02423166111111641, 0.04095460847020149, 0.023466946557164192, 0.045720379799604416, 0.0, 0.09926372766494751, 0.0], [0.0031257213559001684, 0.0032535619102418423, 0.0, 0.003465900896117091, 0.0038140614051371813, 0.00225975108332932, 0.008137061260640621, 1.0718439817428589], [0.018634550273418427, 0.01606343686580658, 0.042841486632823944, 0.008193335495889187, 0.011703941971063614, 0.012399403378367424, 0.039043527096509933, 0.9622315168380737], [0.002273383317515254, 0.0017197373090311885, 0.01775078848004341, 0.0, 0.006816304754465818, 0.0021520673763006926, 0.006330251228064299, 1.069948673248291], [0.007300304714590311, 0.0068204365670681, 0.037885528057813644, 0.0, 0.014557833783328533, 0.0, 0.031828686594963074, 0.9925016164779663], [0.009265713393688202, 0.005951869301497936, 0.03596372902393341, 0.009262759238481522, 0.009555610828101635, 0.008322818204760551, 0.029804741963744164, 1.0029839277267456], [0.02471974678337574, 0.017596667632460594, 0.05507119372487068, 0.020852841436862946, 0.03259172663092613, 0.042156580835580826, 0.14984673261642456, 0.7682756781578064], [0.004002094734460115, 0.0, 0.012713024392724037, 0.003877313109114766, 0.003473765216767788, 0.002711816690862179, 0.006334297824651003, 1.0726760625839233]], [[0.3713509142398834, 0.03810473904013634, 0.045635584741830826, 0.3329487144947052, 0.12676991522312164, 0.016207385808229446, 0.0, 0.07914228737354279], [0.0, 0.0, 0.04508529603481293, 0.0, 0.0, 0.08924487978219986, 0.017743250355124474, 0.13667532801628113], [0.017267853021621704, 0.03263353928923607, 0.8361947536468506, 0.0, 0.023851023986935616, 0.011083822697401047, 0.014991731382906437, 0.11865784227848053], [0.006233207881450653, 0.019459033384919167, 0.022428562864661217, 0.9394726753234863, 0.09438346326351166, 0.008662642911076546, 0.005641415249556303, 0.014830104075372219], [0.0077132573351264, 0.0, 0.022951843217015266, 0.15254154801368713, 0.8047612905502319, 0.026674816384911537, 0.010617833584547043, 0.05277813598513603], [0.02664039470255375, 0.0, 0.06411662697792053, 0.17003419995307922, 0.2883281409740448, 0.285660982131958, 0.07150854915380478, 0.0], [0.017457999289035797, 0.008384870365262032, 0.0, 0.016658343374729156, 0.024189725518226624, 0.0, 0.1284729242324829, 0.877987265586853], [0.004073438700288534, 0.0028356066904962063, 0.008183715865015984, 0.007372674066573381, 0.006760504096746445, 0.005610179156064987, 0.006105572916567326, 1.0701695680618286]], [[0.22093084454536438, 0.0993858054280281, 0.057325106114149094, 0.22034142911434174, 0.27503517270088196, 0.10679995268583298, 0.10557965934276581, 0.025713160634040833], [0.12284751981496811, 0.17580154538154602, 0.08528179675340652, 0.07173563539981842, 0.12221845239400864, 0.12256214767694473, 0.030429784208536148, 0.3802342712879181], [0.06133463606238365, 0.069945327937603, 0.18937015533447266, 0.014754773117601871, 0.018125316128134727, 0.04323611408472061, 0.031204845756292343, 0.683139979839325], [0.1301550269126892, 0.13740453124046326, 0.04759741201996803, 0.0850636437535286, 0.15002378821372986, 0.10649961233139038, 0.05763380602002144, 0.3967333137989044], [0.12595362961292267, 0.0, 0.06255181133747101, 0.08399418741464615, 0.0, 0.0, 0.09110874682664871, 0.3559247553348541], [0.13873352110385895, 0.10038959980010986, 0.027719758450984955, 0.053777195513248444, 0.13220946490764618, 0.0, 0.13833782076835632, 0.21809443831443787], [0.03272180259227753, 0.02188691683113575, 0.07286211848258972, 0.03145243227481842, 0.02764076180756092, 0.04175253584980965, 0.17586649954319, 0.7069281935691833], [0.03340854495763779, 0.01560627669095993, 0.026273611932992935, 0.018657464534044266, 0.01589660532772541, 0.01829690858721733, 0.03252854570746422, 0.9504432082176208]], [[0.019447505474090576, 0.13027068972587585, 0.03023025020956993, 0.03270238637924194, 0.044270552694797516, 0.049795299768447876, 0.36040952801704407, 0.4439849853515625], [0.019490662962198257, 0.10259318351745605, 0.025703640654683113, 0.021860752254724503, 0.019533684477210045, 0.0, 0.03769977390766144, 0.840522050857544], [0.006328217685222626, 0.026395956054329872, 0.013234267942607403, 0.0, 0.010728094726800919, 0.024205997586250305, 0.01573963463306427, 1.009892225265503], [0.07465796172618866, 0.1301470845937729, 0.01755967177450657, 0.130211740732193, 0.04859021678566933, 0.07807103544473648, 0.03956935927271843, 0.5923041105270386], [0.03410576656460762, 0.08328558504581451, 0.029219945892691612, 0.0, 0.03238632529973984, 0.03536749631166458, 0.03761221840977669, 0.8180117607116699], [0.007123712450265884, 0.02727496065199375, 0.012199918739497662, 0.00915084220468998, 0.009826772846281528, 0.0, 0.02726505510509014, 0.9855722784996033], [0.009558291174471378, 0.026116279885172844, 0.029920266941189766, 0.015477790497243404, 0.01545738335698843, 0.06516250222921371, 0.04254579916596413, 0.9068728685379028], [0.006661789957433939, 0.02155374549329281, 0.0, 0.014672142453491688, 0.009024471044540405, 0.008995994925498962, 0.004854225087910891, 1.0386996269226074]], [[0.012473060749471188, 0.10268284380435944, 0.0895078033208847, 0.02773534692823887, 0.0, 0.0401306226849556, 0.0, 0.7374035120010376], [0.007485084235668182, 0.009893720038235188, 0.0, 0.016837697476148605, 0.01824573427438736, 0.006110989488661289, 0.008966010063886642, 1.0351269245147705], [0.007569299079477787, 0.010440370067954063, 0.02548062801361084, 0.022292012348771095, 0.03823080658912659, 0.007361294701695442, 0.02019858919084072, 0.9795382022857666], [0.005724247079342604, 0.021526960656046867, 0.025167256593704224, 0.05519856885075569, 0.08150725811719894, 0.015498974360525608, 0.015674196183681488, 0.8908135890960693], [0.008330184035003185, 0.011143452487885952, 0.03754835203289986, 0.022570885717868805, 0.017772648483514786, 0.010900513269007206, 0.021526597440242767, 0.9813184142112732], [0.01675979234278202, 0.012590324506163597, 0.018801717087626457, 0.013046236708760262, 0.009868253022432327, 0.0, 0.027452198788523674, 0.9930421710014343], [0.07673021405935287, 0.057211536914110184, 0.0644487738609314, 0.09258946776390076, 0.10932350903749466, 0.0687398761510849, 0.11775799095630646, 0.5243098139762878], [0.003648775164037943, 0.007207097020000219, 0.012950208969414234, 0.009223759174346924, 0.00683898339048028, 0.005224940832704306, 0.005890667904168367, 1.0601266622543335]]]], \"left_text\": [\"[CLS]\", \"the\", \"cat\", \"sat\", \"on\", \"the\", \"mat\", \"[SEP]\"], \"right_text\": [\"[CLS]\", \"the\", \"cat\", \"sat\", \"on\", \"the\", \"mat\", \"[SEP]\"]}], \"default_filter\": \"0\", \"root_div_id\": \"bertviz-52379d474f474d0dad513dedfa91494b\", \"layer\": null, \"heads\": null, \"include_layers\": [0, 1, 2, 3, 4, 5, 6, 7, 8, 9, 10, 11]} is a template marker that is replaced by actual params.\n",
       "    const TEXT_SIZE = 15;\n",
       "    const BOXWIDTH = 110;\n",
       "    const BOXHEIGHT = 22.5;\n",
       "    const MATRIX_WIDTH = 115;\n",
       "    const CHECKBOX_SIZE = 20;\n",
       "    const TEXT_TOP = 30;\n",
       "\n",
       "    console.log(\"d3 version\", d3.version)\n",
       "    let headColors;\n",
       "    try {\n",
       "        headColors = d3.scaleOrdinal(d3.schemeCategory10);\n",
       "    } catch (err) {\n",
       "        console.log('Older d3 version')\n",
       "        headColors = d3.scale.category10();\n",
       "    }\n",
       "    let config = {};\n",
       "    initialize();\n",
       "    renderVis();\n",
       "\n",
       "    function initialize() {\n",
       "        config.attention = params['attention'];\n",
       "        config.filter = params['default_filter'];\n",
       "        config.rootDivId = params['root_div_id'];\n",
       "        config.nLayers = config.attention[config.filter]['attn'].length;\n",
       "        config.nHeads = config.attention[config.filter]['attn'][0].length;\n",
       "        config.layers = params['include_layers']\n",
       "\n",
       "        if (params['heads']) {\n",
       "            config.headVis = new Array(config.nHeads).fill(false);\n",
       "            params['heads'].forEach(x => config.headVis[x] = true);\n",
       "        } else {\n",
       "            config.headVis = new Array(config.nHeads).fill(true);\n",
       "        }\n",
       "        config.initialTextLength = config.attention[config.filter].right_text.length;\n",
       "        config.layer_seq = (params['layer'] == null ? 0 : config.layers.findIndex(layer => params['layer'] === layer));\n",
       "        config.layer = config.layers[config.layer_seq]\n",
       "\n",
       "        let layerEl = $(`#${config.rootDivId} #layer`);\n",
       "        for (const layer of config.layers) {\n",
       "            layerEl.append($(\"<option />\").val(layer).text(layer));\n",
       "        }\n",
       "        layerEl.val(config.layer).change();\n",
       "        layerEl.on('change', function (e) {\n",
       "            config.layer = +e.currentTarget.value;\n",
       "            config.layer_seq = config.layers.findIndex(layer => config.layer === layer);\n",
       "            renderVis();\n",
       "        });\n",
       "\n",
       "        $(`#${config.rootDivId} #filter`).on('change', function (e) {\n",
       "            config.filter = e.currentTarget.value;\n",
       "            renderVis();\n",
       "        });\n",
       "    }\n",
       "\n",
       "    function renderVis() {\n",
       "\n",
       "        // Load parameters\n",
       "        const attnData = config.attention[config.filter];\n",
       "        const leftText = attnData.left_text;\n",
       "        const rightText = attnData.right_text;\n",
       "\n",
       "        // Select attention for given layer\n",
       "        const layerAttention = attnData.attn[config.layer_seq];\n",
       "\n",
       "        // Clear vis\n",
       "        $(`#${config.rootDivId} #vis`).empty();\n",
       "\n",
       "        // Determine size of visualization\n",
       "        const height = Math.max(leftText.length, rightText.length) * BOXHEIGHT + TEXT_TOP;\n",
       "        const svg = d3.select(`#${config.rootDivId} #vis`)\n",
       "            .append('svg')\n",
       "            .attr(\"width\", \"100%\")\n",
       "            .attr(\"height\", height + \"px\");\n",
       "\n",
       "        // Display tokens on left and right side of visualization\n",
       "        renderText(svg, leftText, true, layerAttention, 0);\n",
       "        renderText(svg, rightText, false, layerAttention, MATRIX_WIDTH + BOXWIDTH);\n",
       "\n",
       "        // Render attention arcs\n",
       "        renderAttention(svg, layerAttention);\n",
       "\n",
       "        // Draw squares at top of visualization, one for each head\n",
       "        drawCheckboxes(0, svg, layerAttention);\n",
       "    }\n",
       "\n",
       "    function renderText(svg, text, isLeft, attention, leftPos) {\n",
       "\n",
       "        const textContainer = svg.append(\"svg:g\")\n",
       "            .attr(\"id\", isLeft ? \"left\" : \"right\");\n",
       "\n",
       "        // Add attention highlights superimposed over words\n",
       "        textContainer.append(\"g\")\n",
       "            .classed(\"attentionBoxes\", true)\n",
       "            .selectAll(\"g\")\n",
       "            .data(attention)\n",
       "            .enter()\n",
       "            .append(\"g\")\n",
       "            .attr(\"head-index\", (d, i) => i)\n",
       "            .selectAll(\"rect\")\n",
       "            .data(d => isLeft ? d : transpose(d)) // if right text, transpose attention to get right-to-left weights\n",
       "            .enter()\n",
       "            .append(\"rect\")\n",
       "            .attr(\"x\", function () {\n",
       "                var headIndex = +this.parentNode.getAttribute(\"head-index\");\n",
       "                return leftPos + boxOffsets(headIndex);\n",
       "            })\n",
       "            .attr(\"y\", (+1) * BOXHEIGHT)\n",
       "            .attr(\"width\", BOXWIDTH / activeHeads())\n",
       "            .attr(\"height\", BOXHEIGHT)\n",
       "            .attr(\"fill\", function () {\n",
       "                return headColors(+this.parentNode.getAttribute(\"head-index\"))\n",
       "            })\n",
       "            .style(\"opacity\", 0.0);\n",
       "\n",
       "        const tokenContainer = textContainer.append(\"g\").selectAll(\"g\")\n",
       "            .data(text)\n",
       "            .enter()\n",
       "            .append(\"g\");\n",
       "\n",
       "        // Add gray background that appears when hovering over text\n",
       "        tokenContainer.append(\"rect\")\n",
       "            .classed(\"background\", true)\n",
       "            .style(\"opacity\", 0.0)\n",
       "            .attr(\"fill\", \"lightgray\")\n",
       "            .attr(\"x\", leftPos)\n",
       "            .attr(\"y\", (d, i) => TEXT_TOP + i * BOXHEIGHT)\n",
       "            .attr(\"width\", BOXWIDTH)\n",
       "            .attr(\"height\", BOXHEIGHT);\n",
       "\n",
       "        // Add token text\n",
       "        const textEl = tokenContainer.append(\"text\")\n",
       "            .text(d => d)\n",
       "            .attr(\"font-size\", TEXT_SIZE + \"px\")\n",
       "            .style(\"cursor\", \"default\")\n",
       "            .style(\"-webkit-user-select\", \"none\")\n",
       "            .attr(\"x\", leftPos)\n",
       "            .attr(\"y\", (d, i) => TEXT_TOP + i * BOXHEIGHT);\n",
       "\n",
       "        if (isLeft) {\n",
       "            textEl.style(\"text-anchor\", \"end\")\n",
       "                .attr(\"dx\", BOXWIDTH - 0.5 * TEXT_SIZE)\n",
       "                .attr(\"dy\", TEXT_SIZE);\n",
       "        } else {\n",
       "            textEl.style(\"text-anchor\", \"start\")\n",
       "                .attr(\"dx\", +0.5 * TEXT_SIZE)\n",
       "                .attr(\"dy\", TEXT_SIZE);\n",
       "        }\n",
       "\n",
       "        tokenContainer.on(\"mouseover\", function (d, index) {\n",
       "\n",
       "            // Show gray background for moused-over token\n",
       "            textContainer.selectAll(\".background\")\n",
       "                .style(\"opacity\", (d, i) => i === index ? 1.0 : 0.0)\n",
       "\n",
       "            // Reset visibility attribute for any previously highlighted attention arcs\n",
       "            svg.select(\"#attention\")\n",
       "                .selectAll(\"line[visibility='visible']\")\n",
       "                .attr(\"visibility\", null)\n",
       "\n",
       "            // Hide group containing attention arcs\n",
       "            svg.select(\"#attention\").attr(\"visibility\", \"hidden\");\n",
       "\n",
       "            // Set to visible appropriate attention arcs to be highlighted\n",
       "            if (isLeft) {\n",
       "                svg.select(\"#attention\").selectAll(\"line[left-token-index='\" + index + \"']\").attr(\"visibility\", \"visible\");\n",
       "            } else {\n",
       "                svg.select(\"#attention\").selectAll(\"line[right-token-index='\" + index + \"']\").attr(\"visibility\", \"visible\");\n",
       "            }\n",
       "\n",
       "            // Update color boxes superimposed over tokens\n",
       "            const id = isLeft ? \"right\" : \"left\";\n",
       "            const leftPos = isLeft ? MATRIX_WIDTH + BOXWIDTH : 0;\n",
       "            svg.select(\"#\" + id)\n",
       "                .selectAll(\".attentionBoxes\")\n",
       "                .selectAll(\"g\")\n",
       "                .attr(\"head-index\", (d, i) => i)\n",
       "                .selectAll(\"rect\")\n",
       "                .attr(\"x\", function () {\n",
       "                    const headIndex = +this.parentNode.getAttribute(\"head-index\");\n",
       "                    return leftPos + boxOffsets(headIndex);\n",
       "                })\n",
       "                .attr(\"y\", (d, i) => TEXT_TOP + i * BOXHEIGHT)\n",
       "                .attr(\"width\", BOXWIDTH / activeHeads())\n",
       "                .attr(\"height\", BOXHEIGHT)\n",
       "                .style(\"opacity\", function (d) {\n",
       "                    const headIndex = +this.parentNode.getAttribute(\"head-index\");\n",
       "                    if (config.headVis[headIndex])\n",
       "                        if (d) {\n",
       "                            return d[index];\n",
       "                        } else {\n",
       "                            return 0.0;\n",
       "                        }\n",
       "                    else\n",
       "                        return 0.0;\n",
       "                });\n",
       "        });\n",
       "\n",
       "        textContainer.on(\"mouseleave\", function () {\n",
       "\n",
       "            // Unhighlight selected token\n",
       "            d3.select(this).selectAll(\".background\")\n",
       "                .style(\"opacity\", 0.0);\n",
       "\n",
       "            // Reset visibility attributes for previously selected lines\n",
       "            svg.select(\"#attention\")\n",
       "                .selectAll(\"line[visibility='visible']\")\n",
       "                .attr(\"visibility\", null) ;\n",
       "            svg.select(\"#attention\").attr(\"visibility\", \"visible\");\n",
       "\n",
       "            // Reset highlights superimposed over tokens\n",
       "            svg.selectAll(\".attentionBoxes\")\n",
       "                .selectAll(\"g\")\n",
       "                .selectAll(\"rect\")\n",
       "                .style(\"opacity\", 0.0);\n",
       "        });\n",
       "    }\n",
       "\n",
       "    function renderAttention(svg, attention) {\n",
       "\n",
       "        // Remove previous dom elements\n",
       "        svg.select(\"#attention\").remove();\n",
       "\n",
       "        // Add new elements\n",
       "        svg.append(\"g\")\n",
       "            .attr(\"id\", \"attention\") // Container for all attention arcs\n",
       "            .selectAll(\".headAttention\")\n",
       "            .data(attention)\n",
       "            .enter()\n",
       "            .append(\"g\")\n",
       "            .classed(\"headAttention\", true) // Group attention arcs by head\n",
       "            .attr(\"head-index\", (d, i) => i)\n",
       "            .selectAll(\".tokenAttention\")\n",
       "            .data(d => d)\n",
       "            .enter()\n",
       "            .append(\"g\")\n",
       "            .classed(\"tokenAttention\", true) // Group attention arcs by left token\n",
       "            .attr(\"left-token-index\", (d, i) => i)\n",
       "            .selectAll(\"line\")\n",
       "            .data(d => d)\n",
       "            .enter()\n",
       "            .append(\"line\")\n",
       "            .attr(\"x1\", BOXWIDTH)\n",
       "            .attr(\"y1\", function () {\n",
       "                const leftTokenIndex = +this.parentNode.getAttribute(\"left-token-index\")\n",
       "                return TEXT_TOP + leftTokenIndex * BOXHEIGHT + (BOXHEIGHT / 2)\n",
       "            })\n",
       "            .attr(\"x2\", BOXWIDTH + MATRIX_WIDTH)\n",
       "            .attr(\"y2\", (d, rightTokenIndex) => TEXT_TOP + rightTokenIndex * BOXHEIGHT + (BOXHEIGHT / 2))\n",
       "            .attr(\"stroke-width\", 2)\n",
       "            .attr(\"stroke\", function () {\n",
       "                const headIndex = +this.parentNode.parentNode.getAttribute(\"head-index\");\n",
       "                return headColors(headIndex)\n",
       "            })\n",
       "            .attr(\"left-token-index\", function () {\n",
       "                return +this.parentNode.getAttribute(\"left-token-index\")\n",
       "            })\n",
       "            .attr(\"right-token-index\", (d, i) => i)\n",
       "        ;\n",
       "        updateAttention(svg)\n",
       "    }\n",
       "\n",
       "    function updateAttention(svg) {\n",
       "        svg.select(\"#attention\")\n",
       "            .selectAll(\"line\")\n",
       "            .attr(\"stroke-opacity\", function (d) {\n",
       "                const headIndex = +this.parentNode.parentNode.getAttribute(\"head-index\");\n",
       "                // If head is selected\n",
       "                if (config.headVis[headIndex]) {\n",
       "                    // Set opacity to attention weight divided by number of active heads\n",
       "                    return d / activeHeads()\n",
       "                } else {\n",
       "                    return 0.0;\n",
       "                }\n",
       "            })\n",
       "    }\n",
       "\n",
       "    function boxOffsets(i) {\n",
       "        const numHeadsAbove = config.headVis.reduce(\n",
       "            function (acc, val, cur) {\n",
       "                return val && cur < i ? acc + 1 : acc;\n",
       "            }, 0);\n",
       "        return numHeadsAbove * (BOXWIDTH / activeHeads());\n",
       "    }\n",
       "\n",
       "    function activeHeads() {\n",
       "        return config.headVis.reduce(function (acc, val) {\n",
       "            return val ? acc + 1 : acc;\n",
       "        }, 0);\n",
       "    }\n",
       "\n",
       "    function drawCheckboxes(top, svg) {\n",
       "        const checkboxContainer = svg.append(\"g\");\n",
       "        const checkbox = checkboxContainer.selectAll(\"rect\")\n",
       "            .data(config.headVis)\n",
       "            .enter()\n",
       "            .append(\"rect\")\n",
       "            .attr(\"fill\", (d, i) => headColors(i))\n",
       "            .attr(\"x\", (d, i) => i * CHECKBOX_SIZE)\n",
       "            .attr(\"y\", top)\n",
       "            .attr(\"width\", CHECKBOX_SIZE)\n",
       "            .attr(\"height\", CHECKBOX_SIZE);\n",
       "\n",
       "        function updateCheckboxes() {\n",
       "            checkboxContainer.selectAll(\"rect\")\n",
       "                .data(config.headVis)\n",
       "                .attr(\"fill\", (d, i) => d ? headColors(i): lighten(headColors(i)));\n",
       "        }\n",
       "\n",
       "        updateCheckboxes();\n",
       "\n",
       "        checkbox.on(\"click\", function (d, i) {\n",
       "            if (config.headVis[i] && activeHeads() === 1) return;\n",
       "            config.headVis[i] = !config.headVis[i];\n",
       "            updateCheckboxes();\n",
       "            updateAttention(svg);\n",
       "        });\n",
       "\n",
       "        checkbox.on(\"dblclick\", function (d, i) {\n",
       "            // If we double click on the only active head then reset\n",
       "            if (config.headVis[i] && activeHeads() === 1) {\n",
       "                config.headVis = new Array(config.nHeads).fill(true);\n",
       "            } else {\n",
       "                config.headVis = new Array(config.nHeads).fill(false);\n",
       "                config.headVis[i] = true;\n",
       "            }\n",
       "            updateCheckboxes();\n",
       "            updateAttention(svg);\n",
       "        });\n",
       "    }\n",
       "\n",
       "    function lighten(color) {\n",
       "        const c = d3.hsl(color);\n",
       "        const increment = (1 - c.l) * 0.6;\n",
       "        c.l += increment;\n",
       "        c.s -= increment;\n",
       "        return c;\n",
       "    }\n",
       "\n",
       "    function transpose(mat) {\n",
       "        return mat[0].map(function (col, i) {\n",
       "            return mat.map(function (row) {\n",
       "                return row[i];\n",
       "            });\n",
       "        });\n",
       "    }\n",
       "\n",
       "});"
      ],
      "text/plain": [
       "<IPython.core.display.Javascript object>"
      ]
     },
     "metadata": {},
     "output_type": "display_data"
    }
   ],
   "source": [
    "from bertviz import head_view\n",
    "\n",
    "\n",
    "inputs = tokenizer.encode(\"The cat sat on the mat\", return_tensors='pt')\n",
    "inputs = inputs.to(mps_device)\n",
    "outputs = model(inputs)\n",
    "attention = outputs[-1]  # Output includes attention weights when output_attentions=True\n",
    "tokens = tokenizer.convert_ids_to_tokens(inputs[0])\n",
    "head_view(attention, tokens)"
   ]
  },
  {
   "cell_type": "code",
   "execution_count": null,
   "id": "11a3f3ba-fced-4cae-bb97-77d5fb0dbab8",
   "metadata": {},
   "outputs": [],
   "source": []
  }
 ],
 "metadata": {
  "kernelspec": {
   "display_name": "Python 3 (ipykernel)",
   "language": "python",
   "name": "python3"
  },
  "language_info": {
   "codemirror_mode": {
    "name": "ipython",
    "version": 3
   },
   "file_extension": ".py",
   "mimetype": "text/x-python",
   "name": "python",
   "nbconvert_exporter": "python",
   "pygments_lexer": "ipython3",
   "version": "3.9.5"
  }
 },
 "nbformat": 4,
 "nbformat_minor": 5
}
