{
 "cells": [
  {
   "cell_type": "markdown",
   "id": "49645c52-9c3c-4d52-a9fd-995057d4a086",
   "metadata": {},
   "source": [
    "# Application of BERT to Big-5 prediction from text\n",
    "\n",
    "In this notebook I am re-implementing BERT step by step just for the kicks (then download the pre-trained model from HugginFace). Then I add a head for classification of Big-5 categories.\n",
    "\n",
    "## References:\n",
    "* https://arxiv.org/pdf/1810.04805.pdf - original BERT paper\n",
    "* https://arxiv.org/pdf/1907.11692.pdf - RoBERTa paper\n",
    "* https://openreview.net/pdf?id=rJ4km2R5t7 - GLUE paper\n",
    "* https://neptune.ai/blog/how-to-code-bert-using-pytorch-tutorial - hands-on implementation of BERT in PyTorch step by step\n",
    "* https://pytorch.org/hub/huggingface_pytorch-transformers/ - PyTorch page on transformers\n",
    "* https://habr.com/ru/post/680986/ - review of flavours of BERT (in Russian)"
   ]
  },
  {
   "cell_type": "code",
   "execution_count": 3,
   "id": "57e5546f-54ac-410c-8dac-18dd1d7fbd4a",
   "metadata": {},
   "outputs": [
    {
     "name": "stdout",
     "output_type": "stream",
     "text": [
      "1.12.1\n"
     ]
    }
   ],
   "source": [
    "import torch\n",
    "\n",
    "print(torch.__version__)\n",
    "# print(torch.backends.mps.is_available())"
   ]
  },
  {
   "cell_type": "code",
   "execution_count": null,
   "id": "1c182d40-9b23-4734-ba33-742195c067be",
   "metadata": {},
   "outputs": [],
   "source": []
  }
 ],
 "metadata": {
  "kernelspec": {
   "display_name": "Python 3 (ipykernel)",
   "language": "python",
   "name": "python3"
  },
  "language_info": {
   "codemirror_mode": {
    "name": "ipython",
    "version": 3
   },
   "file_extension": ".py",
   "mimetype": "text/x-python",
   "name": "python",
   "nbconvert_exporter": "python",
   "pygments_lexer": "ipython3",
   "version": "3.9.5"
  }
 },
 "nbformat": 4,
 "nbformat_minor": 5
}
